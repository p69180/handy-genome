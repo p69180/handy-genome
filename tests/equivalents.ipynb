{
 "cells": [
  {
   "cell_type": "code",
   "execution_count": 17,
   "id": "968f0719-5e83-4158-91bf-fe194ae4fab6",
   "metadata": {},
   "outputs": [],
   "source": [
    "import sys\n",
    "sys.path.append('/home/users/pjh/scripts/python_genome_package/')\n",
    "from importlib import reload\n",
    "from pprint import pprint\n",
    "\n",
    "import pysam\n",
    "\n",
    "FASTA_PATH = '/home/users/data/01_reference/human_g1k_v37/human_g1k_v37.fasta'\n",
    "FASTA_PATH_38 = '/home/users/data/01_reference/human_g1k_v38/Homo_sapiens_assembly38.fasta'"
   ]
  },
  {
   "cell_type": "code",
   "execution_count": 18,
   "id": "cf9104f4-03ef-4ffa-96dd-c5a829c48dba",
   "metadata": {},
   "outputs": [],
   "source": [
    "fasta = pysam.FastaFile(FASTA_PATH_38)"
   ]
  },
  {
   "cell_type": "code",
   "execution_count": 24,
   "id": "8a9cbf63-3aa7-40b9-9c9a-5e4dc8f4b504",
   "metadata": {},
   "outputs": [],
   "source": [
    "from julib.variantplus import equivalents\n",
    "equivalents = reload(equivalents)\n",
    "\n",
    "from julib import common\n",
    "common = reload(common)"
   ]
  },
  {
   "cell_type": "code",
   "execution_count": null,
   "id": "b1af08cd-a000-49d2-9535-ad30892cfab0",
   "metadata": {},
   "outputs": [],
   "source": []
  },
  {
   "cell_type": "code",
   "execution_count": null,
   "id": "a3e32c47-c615-43b5-80c3-e90497d77d00",
   "metadata": {},
   "outputs": [],
   "source": []
  },
  {
   "cell_type": "code",
   "execution_count": 20,
   "id": "52490b08-765b-4045-b482-db70531a6f12",
   "metadata": {},
   "outputs": [
    {
     "name": "stdout",
     "output_type": "stream",
     "text": [
      "[Vcfspec(chrom='chr6', pos=57623385, ref='ATGTTAT', alt='A'),\n",
      " Vcfspec(chrom='chr6', pos=57623386, ref='TGTTATT', alt='T'),\n",
      " Vcfspec(chrom='chr6', pos=57623387, ref='GTTATTG', alt='G'),\n",
      " Vcfspec(chrom='chr6', pos=57623388, ref='TTATTGT', alt='T'),\n",
      " Vcfspec(chrom='chr6', pos=57623389, ref='TATTGTT', alt='T'),\n",
      " Vcfspec(chrom='chr6', pos=57623390, ref='ATTGTTA', alt='A')]\n",
      "Vcfspec(chrom='chr6', pos=57623385, ref='ATGTTAT', alt='A')\n",
      "Vcfspec(chrom='chr6', pos=57623390, ref='ATTGTTA', alt='A')\n"
     ]
    }
   ],
   "source": [
    "vcfspec = ('chr6', 57_623_386, 'TGTTATT', 'T')\n",
    "\n",
    "pprint( equivalents.indel_equivalents(vcfspec, fasta) )\n",
    "pprint( equivalents.leftmost(vcfspec, fasta) )\n",
    "pprint( equivalents.rightmost(vcfspec, fasta) )"
   ]
  },
  {
   "cell_type": "code",
   "execution_count": 26,
   "id": "a93716c3-ef40-4661-ad4c-ad89c12fe106",
   "metadata": {},
   "outputs": [
    {
     "data": {
      "text/plain": [
       "Vcfspec(chrom='chr6', pos=57623385, ref='ATGTTAT', alt='A')"
      ]
     },
     "execution_count": 26,
     "metadata": {},
     "output_type": "execute_result"
    }
   ],
   "source": [
    "common.hgvs_to_vcfspec('6:g.57623389_57623394del', fasta)"
   ]
  },
  {
   "cell_type": "code",
   "execution_count": null,
   "id": "422b5c22-7460-4178-87eb-0f1e351cb532",
   "metadata": {},
   "outputs": [],
   "source": []
  },
  {
   "cell_type": "code",
   "execution_count": 8,
   "id": "e3ef41ca-f200-4e1e-84fc-321ea4903b0c",
   "metadata": {},
   "outputs": [
    {
     "data": {
      "text/plain": [
       "[Vcfspec(chrom='chr6', pos=57623383, ref='A', alt='ATATGTTATTGTTAG'),\n",
       " Vcfspec(chrom='chr6', pos=57623384, ref='T', alt='TATGTTATTGTTAGT'),\n",
       " Vcfspec(chrom='chr6', pos=57623385, ref='A', alt='ATGTTATTGTTAGTA'),\n",
       " Vcfspec(chrom='chr6', pos=57623386, ref='T', alt='TGTTATTGTTAGTAT'),\n",
       " Vcfspec(chrom='chr6', pos=57623387, ref='G', alt='GTTATTGTTAGTATG'),\n",
       " Vcfspec(chrom='chr6', pos=57623388, ref='T', alt='TTATTGTTAGTATGT'),\n",
       " Vcfspec(chrom='chr6', pos=57623389, ref='T', alt='TATTGTTAGTATGTT'),\n",
       " Vcfspec(chrom='chr6', pos=57623390, ref='A', alt='ATTGTTAGTATGTTA'),\n",
       " Vcfspec(chrom='chr6', pos=57623391, ref='T', alt='TTGTTAGTATGTTAT'),\n",
       " Vcfspec(chrom='chr6', pos=57623392, ref='T', alt='TGTTAGTATGTTATT'),\n",
       " Vcfspec(chrom='chr6', pos=57623393, ref='G', alt='GTTAGTATGTTATTG'),\n",
       " Vcfspec(chrom='chr6', pos=57623394, ref='T', alt='TTAGTATGTTATTGT'),\n",
       " Vcfspec(chrom='chr6', pos=57623395, ref='T', alt='TAGTATGTTATTGTT'),\n",
       " Vcfspec(chrom='chr6', pos=57623396, ref='A', alt='AGTATGTTATTGTTA'),\n",
       " Vcfspec(chrom='chr6', pos=57623397, ref='G', alt='GTATGTTATTGTTAG')]"
      ]
     },
     "execution_count": 8,
     "metadata": {},
     "output_type": "execute_result"
    }
   ],
   "source": [
    "equivalents.indel_equivalents(\n",
    "    'chr6', 57_623_383, 'A', 'ATATGTTATTGTTAG', fasta\n",
    ")"
   ]
  },
  {
   "cell_type": "code",
   "execution_count": 45,
   "id": "64641d50-67cc-4149-9979-426984239822",
   "metadata": {},
   "outputs": [
    {
     "data": {
      "text/plain": [
       "[('chr6', 57623352, 'C', 'CAAAGAA'),\n",
       " ('chr6', 57623353, 'A', 'AAAGAAA'),\n",
       " ('chr6', 57623354, 'A', 'AAGAAAA'),\n",
       " ('chr6', 57623355, 'A', 'AGAAAAA'),\n",
       " ('chr6', 57623356, 'G', 'GAAAAAG'),\n",
       " ('chr6', 57623357, 'A', 'AAAAAGA'),\n",
       " ('chr6', 57623358, 'A', 'AAAAGAA'),\n",
       " ('chr6', 57623359, 'A', 'AAAGAAA'),\n",
       " ('chr6', 57623360, 'A', 'AAGAAAA'),\n",
       " ('chr6', 57623361, 'A', 'AGAAAAA')]"
      ]
     },
     "execution_count": 45,
     "metadata": {},
     "output_type": "execute_result"
    }
   ],
   "source": [
    "equivalents.get_equivalents_indel(\n",
    "    'chr6', 57_623_355, 'A', 'AGAAAAA', fasta\n",
    ")"
   ]
  },
  {
   "cell_type": "code",
   "execution_count": 46,
   "id": "30f2bb4b-3a73-4f19-8808-8d84d715a963",
   "metadata": {},
   "outputs": [
    {
     "data": {
      "text/plain": [
       "[('chr6', 57623390, 'A', 'ATTG'),\n",
       " ('chr6', 57623391, 'T', 'TTGT'),\n",
       " ('chr6', 57623392, 'T', 'TGTT'),\n",
       " ('chr6', 57623393, 'G', 'GTTG'),\n",
       " ('chr6', 57623394, 'T', 'TTGT'),\n",
       " ('chr6', 57623395, 'T', 'TGTT')]"
      ]
     },
     "execution_count": 46,
     "metadata": {},
     "output_type": "execute_result"
    }
   ],
   "source": [
    "equivalents.get_equivalents_indel(\n",
    "    'chr6', 57_623_392, 'T', 'TGTT', fasta\n",
    ")"
   ]
  },
  {
   "cell_type": "code",
   "execution_count": 5,
   "id": "fbe29cf6-ef00-4810-ac46-b6dafd4db381",
   "metadata": {},
   "outputs": [
    {
     "data": {
      "text/plain": [
       "[('chr17', 64026705, 'T', 'TAC'),\n",
       " ('chr17', 64026706, 'A', 'ACA'),\n",
       " ('chr17', 64026707, 'C', 'CAC'),\n",
       " ('chr17', 64026708, 'A', 'ACA'),\n",
       " ('chr17', 64026709, 'C', 'CAC'),\n",
       " ('chr17', 64026710, 'A', 'ACA')]"
      ]
     },
     "execution_count": 5,
     "metadata": {},
     "output_type": "execute_result"
    }
   ],
   "source": [
    "equivalents.get_equivalents_indel(\n",
    "    chrom = 'chr17', \n",
    "    pos = 64_026_705, \n",
    "    ref = 'T', \n",
    "    alt = 'TAC', \n",
    "    fasta = fasta,\n",
    ")"
   ]
  },
  {
   "cell_type": "code",
   "execution_count": null,
   "id": "9d12b738-45e8-458a-9f17-b62cf4009d7b",
   "metadata": {},
   "outputs": [],
   "source": []
  }
 ],
 "metadata": {
  "kernelspec": {
   "display_name": "genome_v4",
   "language": "python",
   "name": "genome_v4"
  },
  "language_info": {
   "codemirror_mode": {
    "name": "ipython",
    "version": 3
   },
   "file_extension": ".py",
   "mimetype": "text/x-python",
   "name": "python",
   "nbconvert_exporter": "python",
   "pygments_lexer": "ipython3",
   "version": "3.7.10"
  }
 },
 "nbformat": 4,
 "nbformat_minor": 5
}
