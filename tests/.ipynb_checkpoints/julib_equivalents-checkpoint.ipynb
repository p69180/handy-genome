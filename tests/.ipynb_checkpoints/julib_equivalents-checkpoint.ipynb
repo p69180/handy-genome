{
 "cells": [
  {
   "cell_type": "code",
   "execution_count": 3,
   "id": "968f0719-5e83-4158-91bf-fe194ae4fab6",
   "metadata": {},
   "outputs": [],
   "source": [
    "import sys\n",
    "sys.path.append('/home/users/pjh/scripts/python_genome_package/')\n",
    "from importlib import reload\n",
    "\n",
    "import pysam\n",
    "\n",
    "FASTA_PATH = '/home/users/data/01_reference/human_g1k_v37/human_g1k_v37.fasta'\n",
    "FASTA_PATH_38 = '/home/users/data/01_reference/human_g1k_v38/Homo_sapiens_assembly38.fasta'"
   ]
  },
  {
   "cell_type": "code",
   "execution_count": 4,
   "id": "cf9104f4-03ef-4ffa-96dd-c5a829c48dba",
   "metadata": {},
   "outputs": [],
   "source": [
    "fasta = pysam.FastaFile(FASTA_PATH_38)"
   ]
  },
  {
   "cell_type": "code",
   "execution_count": 38,
   "id": "8a9cbf63-3aa7-40b9-9c9a-5e4dc8f4b504",
   "metadata": {},
   "outputs": [],
   "source": [
    "from julib.variantplus import equivalents\n",
    "equivalents = reload(equivalents)"
   ]
  },
  {
   "cell_type": "code",
   "execution_count": 42,
   "id": "52490b08-765b-4045-b482-db70531a6f12",
   "metadata": {},
   "outputs": [
    {
     "data": {
      "text/plain": [
       "[('chr6', 57623385, 'ATGTTAT', 'A'),\n",
       " ('chr6', 57623386, 'TGTTATT', 'T'),\n",
       " ('chr6', 57623387, 'GTTATTG', 'G'),\n",
       " ('chr6', 57623388, 'TTATTGT', 'T'),\n",
       " ('chr6', 57623389, 'TATTGTT', 'T'),\n",
       " ('chr6', 57623390, 'ATTGTTA', 'A')]"
      ]
     },
     "execution_count": 42,
     "metadata": {},
     "output_type": "execute_result"
    }
   ],
   "source": [
    "equivalents.get_equivalents_indel(\n",
    "    'chr6', 57_623_386, 'TGTTATT', 'T', fasta\n",
    ")"
   ]
  },
  {
   "cell_type": "code",
   "execution_count": 43,
   "id": "e3ef41ca-f200-4e1e-84fc-321ea4903b0c",
   "metadata": {},
   "outputs": [
    {
     "data": {
      "text/plain": [
       "[('chr6', 57623383, 'A', 'ATATGTTATTGTTAG'),\n",
       " ('chr6', 57623384, 'T', 'TATGTTATTGTTAGT'),\n",
       " ('chr6', 57623385, 'A', 'ATGTTATTGTTAGTA'),\n",
       " ('chr6', 57623386, 'T', 'TGTTATTGTTAGTAT'),\n",
       " ('chr6', 57623387, 'G', 'GTTATTGTTAGTATG'),\n",
       " ('chr6', 57623388, 'T', 'TTATTGTTAGTATGT'),\n",
       " ('chr6', 57623389, 'T', 'TATTGTTAGTATGTT'),\n",
       " ('chr6', 57623390, 'A', 'ATTGTTAGTATGTTA'),\n",
       " ('chr6', 57623391, 'T', 'TTGTTAGTATGTTAT'),\n",
       " ('chr6', 57623392, 'T', 'TGTTAGTATGTTATT'),\n",
       " ('chr6', 57623393, 'G', 'GTTAGTATGTTATTG'),\n",
       " ('chr6', 57623394, 'T', 'TTAGTATGTTATTGT'),\n",
       " ('chr6', 57623395, 'T', 'TAGTATGTTATTGTT'),\n",
       " ('chr6', 57623396, 'A', 'AGTATGTTATTGTTA'),\n",
       " ('chr6', 57623397, 'G', 'GTATGTTATTGTTAG')]"
      ]
     },
     "execution_count": 43,
     "metadata": {},
     "output_type": "execute_result"
    }
   ],
   "source": [
    "equivalents.get_equivalents_indel(\n",
    "    'chr6', 57_623_383, 'A', 'ATATGTTATTGTTAG', fasta\n",
    ")"
   ]
  },
  {
   "cell_type": "code",
   "execution_count": 45,
   "id": "64641d50-67cc-4149-9979-426984239822",
   "metadata": {},
   "outputs": [
    {
     "data": {
      "text/plain": [
       "[('chr6', 57623352, 'C', 'CAAAGAA'),\n",
       " ('chr6', 57623353, 'A', 'AAAGAAA'),\n",
       " ('chr6', 57623354, 'A', 'AAGAAAA'),\n",
       " ('chr6', 57623355, 'A', 'AGAAAAA'),\n",
       " ('chr6', 57623356, 'G', 'GAAAAAG'),\n",
       " ('chr6', 57623357, 'A', 'AAAAAGA'),\n",
       " ('chr6', 57623358, 'A', 'AAAAGAA'),\n",
       " ('chr6', 57623359, 'A', 'AAAGAAA'),\n",
       " ('chr6', 57623360, 'A', 'AAGAAAA'),\n",
       " ('chr6', 57623361, 'A', 'AGAAAAA')]"
      ]
     },
     "execution_count": 45,
     "metadata": {},
     "output_type": "execute_result"
    }
   ],
   "source": [
    "equivalents.get_equivalents_indel(\n",
    "    'chr6', 57_623_355, 'A', 'AGAAAAA', fasta\n",
    ")"
   ]
  },
  {
   "cell_type": "code",
   "execution_count": 46,
   "id": "30f2bb4b-3a73-4f19-8808-8d84d715a963",
   "metadata": {},
   "outputs": [
    {
     "data": {
      "text/plain": [
       "[('chr6', 57623390, 'A', 'ATTG'),\n",
       " ('chr6', 57623391, 'T', 'TTGT'),\n",
       " ('chr6', 57623392, 'T', 'TGTT'),\n",
       " ('chr6', 57623393, 'G', 'GTTG'),\n",
       " ('chr6', 57623394, 'T', 'TTGT'),\n",
       " ('chr6', 57623395, 'T', 'TGTT')]"
      ]
     },
     "execution_count": 46,
     "metadata": {},
     "output_type": "execute_result"
    }
   ],
   "source": [
    "equivalents.get_equivalents_indel(\n",
    "    'chr6', 57_623_392, 'T', 'TGTT', fasta\n",
    ")"
   ]
  }
 ],
 "metadata": {
  "kernelspec": {
   "display_name": "genome_v4",
   "language": "python",
   "name": "genome_v4"
  },
  "language_info": {
   "codemirror_mode": {
    "name": "ipython",
    "version": 3
   },
   "file_extension": ".py",
   "mimetype": "text/x-python",
   "name": "python",
   "nbconvert_exporter": "python",
   "pygments_lexer": "ipython3",
   "version": "3.7.10"
  }
 },
 "nbformat": 4,
 "nbformat_minor": 5
}
