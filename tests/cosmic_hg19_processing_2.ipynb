{
 "cells": [
  {
   "cell_type": "code",
   "execution_count": 70,
   "id": "c3d27468-bc36-4667-b29c-a1979583df79",
   "metadata": {},
   "outputs": [],
   "source": [
    "import importlib\n",
    "from pprint import pprint\n",
    "\n",
    "import sys\n",
    "sys.path.append('/home/users/pjh/References/COSMIC/editing_scripts/make_vcf/')\n",
    "sys.path.append('/home/users/pjh/scripts/python_genome_packages/')\n",
    "\n",
    "import mutantexport\n",
    "import noncoding\n",
    "import common\n",
    "import julib.common as julib_common\n",
    "from julib.variantplus import equivalents\n",
    "\n",
    "mutantexport = importlib.reload(mutantexport)\n",
    "noncoding = importlib.reload(noncoding)\n",
    "common = importlib.reload(common)\n",
    "equivalents = importlib.reload(equivalents)\n",
    "#julib_common = importlib.reload(julib_common)\n",
    "julib.common = importlib.reload(julib.common)\n",
    "\n",
    "\n",
    "infile_path = '/home/users/pjh/References/COSMIC/hg38/original_files/v95/CosmicMutantExport.tsv.gz'\n",
    "outfile_path = '/home/users/pjh/References/COSMIC/hg38/modified_files/v95/CosmicMutantExport.vcf.gz'\n",
    "refver = 'hg38'\n",
    "is_hg19 = False\n",
    "INFILE_NAME_REQUIREMENT = 'CosmicMutantExport.tsv.gz'\n",
    "cosmicver = '95'\n",
    "\n",
    "\n",
    "infile_header = common.get_infile_header(infile_path)\n",
    "looper = common.get_infile_looper(infile_path, infile_header)"
   ]
  },
  {
   "cell_type": "code",
   "execution_count": 49,
   "id": "43f5e7b8-ebc4-44de-8cf4-a8ac861a1d38",
   "metadata": {},
   "outputs": [
    {
     "name": "stdout",
     "output_type": "stream",
     "text": [
      "[KST 2022-03-03 20:06:23] BEGINNING DATA LOADING\n",
      "[KST 2022-03-03 20:06:58] processing 1,000,000th line\n",
      "[KST 2022-03-03 20:07:36] processing 2,000,000th line\n",
      "[KST 2022-03-03 20:09:48] processing 3,000,000th line\n",
      "[KST 2022-03-03 20:10:21] processing 4,000,000th line\n",
      "[KST 2022-03-03 20:10:54] processing 5,000,000th line\n",
      "[KST 2022-03-03 20:11:27] processing 6,000,000th line\n",
      "[KST 2022-03-03 20:11:58] processing 7,000,000th line\n",
      "[KST 2022-03-03 20:12:22] processing 8,000,000th line\n",
      "[KST 2022-03-03 20:14:52] processing 9,000,000th line\n",
      "[KST 2022-03-03 20:15:21] processing 10,000,000th line\n",
      "[KST 2022-03-03 20:15:48] processing 11,000,000th line\n",
      "[KST 2022-03-03 20:16:18] processing 12,000,000th line\n",
      "[KST 2022-03-03 20:17:00] processing 13,000,000th line\n",
      "[KST 2022-03-03 20:17:32] processing 14,000,000th line\n",
      "[KST 2022-03-03 20:18:05] processing 15,000,000th line\n",
      "[KST 2022-03-03 20:18:39] processing 16,000,000th line\n",
      "[KST 2022-03-03 20:19:11] processing 17,000,000th line\n",
      "[KST 2022-03-03 20:19:42] processing 18,000,000th line\n",
      "[KST 2022-03-03 20:20:35] processing 19,000,000th line\n",
      "[KST 2022-03-03 20:21:10] processing 20,000,000th line\n",
      "[KST 2022-03-03 20:21:45] processing 21,000,000th line\n",
      "[KST 2022-03-03 20:22:23] processing 22,000,000th line\n",
      "[KST 2022-03-03 20:25:17] processing 23,000,000th line\n",
      "[KST 2022-03-03 20:25:48] processing 24,000,000th line\n",
      "[KST 2022-03-03 20:26:19] processing 25,000,000th line\n",
      "[KST 2022-03-03 20:27:12] processing 26,000,000th line\n",
      "[KST 2022-03-03 20:27:49] processing 27,000,000th line\n",
      "[KST 2022-03-03 20:28:23] processing 28,000,000th line\n",
      "[KST 2022-03-03 20:28:57] processing 29,000,000th line\n",
      "[KST 2022-03-03 20:30:03] processing 30,000,000th line\n",
      "[KST 2022-03-03 20:31:30] processing 31,000,000th line\n",
      "[KST 2022-03-03 20:32:05] processing 32,000,000th line\n",
      "[KST 2022-03-03 20:32:34] processing 33,000,000th line\n",
      "[KST 2022-03-03 20:33:04] processing 34,000,000th line\n",
      "[KST 2022-03-03 20:33:37] processing 35,000,000th line\n",
      "[KST 2022-03-03 20:34:13] processing 36,000,000th line\n",
      "[KST 2022-03-03 20:34:49] processing 37,000,000th line\n",
      "[KST 2022-03-03 20:35:20] processing 38,000,000th line\n",
      "[KST 2022-03-03 20:35:47] processing 39,000,000th line\n",
      "[KST 2022-03-03 20:36:18] processing 40,000,000th line\n",
      "[KST 2022-03-03 20:36:48] processing 41,000,000th line\n",
      "[KST 2022-03-03 20:37:19] processing 42,000,000th line\n",
      "[KST 2022-03-03 20:37:45] processing 43,000,000th line\n",
      "[KST 2022-03-03 20:38:09] processing 44,000,000th line\n",
      "[KST 2022-03-03 20:38:33] processing 45,000,000th line\n",
      "[KST 2022-03-03 20:38:59] processing 46,000,000th line\n",
      "[KST 2022-03-03 20:39:24] processing 47,000,000th line\n",
      "[KST 2022-03-03 20:39:49] processing 48,000,000th line\n",
      "[KST 2022-03-03 20:40:16] processing 49,000,000th line\n",
      "Length of \"summary\" : 12784646\n",
      "Length of \"summary_somatic\" : 11645165\n",
      "[KST 2022-03-03 20:40:23] FINISHED\n"
     ]
    }
   ],
   "source": [
    "\tsummary, summary_somatic, site_count = \\\n",
    "\t\tcommon.get_data_summary(\n",
    "\t\t\t\tinfile_path,\n",
    "\t\t\t\tmutantexport.line_filter, \n",
    "\t\t\t\tmutantexport.line_filter_somatic, \n",
    "\t\t\t\tmutantexport.line_sanity_check, \n",
    "\t\t\t\tmutantexport.add_data,\n",
    "\t\t\t\t)"
   ]
  },
  {
   "cell_type": "code",
   "execution_count": 53,
   "id": "1b079304-399c-4f36-a2ff-0a2e33d46ae7",
   "metadata": {},
   "outputs": [
    {
     "name": "stdout",
     "output_type": "stream",
     "text": [
      "[KST 2022-03-03 21:22:54] BEGINNING GETTING COSV TO VCFSPEC MAPPING\n",
      "[KST 2022-03-03 21:22:54] unpickling dict from /home/users/pjh/References/COSMIC/editing_scripts/make_vcf/cosv_vcfspec_map_hg38.pickle\n",
      "[KST 2022-03-03 21:25:13] unpickling finished\n",
      "[KST 2022-03-03 21:25:14] processing 1,000,000th cosv entry\n",
      "[KST 2022-03-03 21:25:15] processing 2,000,000th cosv entry\n",
      "[KST 2022-03-03 21:25:16] processing 3,000,000th cosv entry\n",
      "[KST 2022-03-03 21:25:17] processing 4,000,000th cosv entry\n",
      "[KST 2022-03-03 21:25:18] processing 5,000,000th cosv entry\n",
      "[KST 2022-03-03 21:25:20] processing 6,000,000th cosv entry\n",
      "[KST 2022-03-03 21:25:20] processing 7,000,000th cosv entry\n",
      "[KST 2022-03-03 21:25:21] processing 8,000,000th cosv entry\n",
      "[KST 2022-03-03 21:25:22] processing 9,000,000th cosv entry\n",
      "[KST 2022-03-03 21:25:23] processing 10,000,000th cosv entry\n",
      "[KST 2022-03-03 21:25:24] processing 11,000,000th cosv entry\n",
      "[KST 2022-03-03 21:25:25] processing 12,000,000th cosv entry\n",
      "[KST 2022-03-03 21:25:26] pickling dict to /home/users/pjh/References/COSMIC/editing_scripts/make_vcf/cosv_vcfspec_map_hg38.pickle\n",
      "[KST 2022-03-03 21:26:24] pickling finished\n",
      "[KST 2022-03-03 21:26:24] FINISHED\n"
     ]
    }
   ],
   "source": [
    "\tcosv_vcfspec_map = common.get_cosv_vcfspec_map(summary, refver, is_hg19)"
   ]
  },
  {
   "cell_type": "code",
   "execution_count": 54,
   "id": "63a75d47-14f0-4f0b-bcad-1e3c6d7583b0",
   "metadata": {},
   "outputs": [],
   "source": [
    "mutantexport.reduce_summaries(summary, summary_somatic)"
   ]
  },
  {
   "cell_type": "code",
   "execution_count": 66,
   "id": "503ea724-317c-4ae2-b980-e9f84f1bc80d",
   "metadata": {},
   "outputs": [],
   "source": [
    "chromdict = julib.common.ChromDict(refver = refver)"
   ]
  },
  {
   "cell_type": "code",
   "execution_count": 56,
   "id": "f70f19ec-e411-4b7b-9888-15e4f603afe7",
   "metadata": {},
   "outputs": [
    {
     "name": "stdout",
     "output_type": "stream",
     "text": [
      "[KST 2022-03-03 21:31:04] BEGINNING SORTING COSV\n",
      "[KST 2022-03-03 21:31:48] FINISHED\n"
     ]
    }
   ],
   "source": [
    "cosv_sorted = common.sort_cosv_with_coord_order(cosv_vcfspec_map, chromdict)"
   ]
  },
  {
   "cell_type": "code",
   "execution_count": 61,
   "id": "b617a1d9-cdcc-4c9e-b357-1c6261246033",
   "metadata": {},
   "outputs": [],
   "source": [
    "\theader = common.get_vcf_header(chromdict, site_count, INFILE_NAME_REQUIREMENT, cosmicver, is_hg19)"
   ]
  },
  {
   "cell_type": "code",
   "execution_count": 71,
   "id": "c4c1e4ba-8500-4d29-a026-791b199d07a6",
   "metadata": {},
   "outputs": [
    {
     "name": "stdout",
     "output_type": "stream",
     "text": [
      "[KST 2022-03-03 21:41:41] BEGINNING WRITING OUTPUT VCF\n",
      "[KST 2022-03-03 21:43:23] 1,000,000 cosv written\n",
      "[KST 2022-03-03 21:45:00] 2,000,000 cosv written\n",
      "[KST 2022-03-03 21:46:40] 3,000,000 cosv written\n",
      "[KST 2022-03-03 21:48:12] 4,000,000 cosv written\n",
      "[KST 2022-03-03 21:49:49] 5,000,000 cosv written\n",
      "[KST 2022-03-03 21:51:27] 6,000,000 cosv written\n",
      "[KST 2022-03-03 21:53:00] 7,000,000 cosv written\n",
      "[KST 2022-03-03 21:54:37] 8,000,000 cosv written\n",
      "[KST 2022-03-03 21:56:21] 9,000,000 cosv written\n",
      "[KST 2022-03-03 21:58:02] 10,000,000 cosv written\n",
      "[KST 2022-03-03 21:59:48] 11,000,000 cosv written\n",
      "[KST 2022-03-03 22:01:22] 12,000,000 cosv written\n",
      "[KST 2022-03-03 22:02:35] FINISHED\n"
     ]
    }
   ],
   "source": [
    "\tcommon.write_outfile(\n",
    "        outfile_path, summary, summary_somatic, site_count, header, cosv_sorted, cosv_vcfspec_map)"
   ]
  },
  {
   "cell_type": "code",
   "execution_count": null,
   "id": "1018febe-7f0f-4008-9b9a-992e42f5903e",
   "metadata": {},
   "outputs": [],
   "source": []
  },
  {
   "cell_type": "code",
   "execution_count": 29,
   "id": "9a487ffc-91ce-4004-ad9c-68b3892a7b68",
   "metadata": {},
   "outputs": [],
   "source": [
    "sites = dict()\n",
    "for linedict in looper:\n",
    "    sampleid = (int(linedict['ID_sample']), int(linedict['ID_tumour']))\n",
    "    site = linedict['Primary site']\n",
    "    sites[sampleid] = site"
   ]
  },
  {
   "cell_type": "code",
   "execution_count": 34,
   "id": "59046f56-753d-42de-aef4-54e1102865c1",
   "metadata": {},
   "outputs": [],
   "source": [
    "import collections\n",
    "site_count = collections.Counter(sites.values())"
   ]
  },
  {
   "cell_type": "code",
   "execution_count": 44,
   "id": "59cf1e34-3555-4d8c-9eca-f4cf2c9e2ef3",
   "metadata": {},
   "outputs": [
    {
     "data": {
      "text/plain": [
       "406395"
      ]
     },
     "execution_count": 44,
     "metadata": {},
     "output_type": "execute_result"
    }
   ],
   "source": [
    "sum(site_count.values())"
   ]
  },
  {
   "cell_type": "code",
   "execution_count": null,
   "id": "2da36f47-72c3-4c6b-af33-96f910c38d05",
   "metadata": {},
   "outputs": [],
   "source": []
  },
  {
   "cell_type": "code",
   "execution_count": null,
   "id": "18d59df9-2004-403e-81d6-9d2015d3c3f2",
   "metadata": {},
   "outputs": [],
   "source": []
  },
  {
   "cell_type": "code",
   "execution_count": 27,
   "id": "7952499d-b234-4c33-8ee6-e19617cc6e5d",
   "metadata": {},
   "outputs": [
    {
     "name": "stdout",
     "output_type": "stream",
     "text": [
      "{'Accession Number': 'ENST00000404621.5',\n",
      " 'Age': '',\n",
      " 'FATHMM prediction': 'PATHOGENIC',\n",
      " 'FATHMM score': '.99472',\n",
      " 'GENOMIC_MUTATION_ID': 'COSV100658142',\n",
      " 'GRCh': '38',\n",
      " 'Gene CDS length': '7377',\n",
      " 'Gene name': 'NCOR2_ENST00000404621',\n",
      " 'Genome-wide screen': 'n',\n",
      " 'HGNC ID': '7673',\n",
      " 'HGVSC': 'ENST00000404621.5:c.4757C>T',\n",
      " 'HGVSG': '12:g.124343154G>A',\n",
      " 'HGVSP': 'ENSP00000384202.1:p.Pro1586Leu',\n",
      " 'Histology subtype 1': 'ER-positive_carcinoma',\n",
      " 'Histology subtype 2': 'NS',\n",
      " 'Histology subtype 3': 'NS',\n",
      " 'ID_STUDY': '',\n",
      " 'ID_sample': '2768005',\n",
      " 'ID_tumour': '2626224',\n",
      " 'LEGACY_MUTATION_ID': 'COSM7344795',\n",
      " 'LOH': '',\n",
      " 'MUTATION_ID': '119141784',\n",
      " 'Mutation AA': 'p.P1586L',\n",
      " 'Mutation CDS': 'c.4757C>T',\n",
      " 'Mutation Description': 'Substitution - Missense',\n",
      " 'Mutation genome position': '12:124343154-124343154',\n",
      " 'Mutation somatic status': 'Variant of unknown origin',\n",
      " 'Mutation strand': '-',\n",
      " 'Mutation zygosity': '',\n",
      " 'Primary histology': 'carcinoma',\n",
      " 'Primary site': 'breast',\n",
      " 'Pubmed_PMID': '30181556',\n",
      " 'Resistance Mutation': '-',\n",
      " 'Sample Type': 'surgery-fixed',\n",
      " 'Sample name': 'H_LV-3191-1316068',\n",
      " 'Site subtype 1': 'NS',\n",
      " 'Site subtype 2': 'NS',\n",
      " 'Site subtype 3': 'NS',\n",
      " 'Tumour origin': 'NS'}\n"
     ]
    }
   ],
   "source": [
    "pprint(next(looper))"
   ]
  },
  {
   "cell_type": "code",
   "execution_count": null,
   "id": "9a60c0cf-8d63-4e65-8594-156be8c67903",
   "metadata": {},
   "outputs": [],
   "source": []
  },
  {
   "cell_type": "code",
   "execution_count": null,
   "id": "9bcec0a4-e836-4fb4-9407-84eccd7be178",
   "metadata": {},
   "outputs": [],
   "source": []
  },
  {
   "cell_type": "code",
   "execution_count": 25,
   "id": "8ad2f0d9-885c-4bd6-84db-96d9c028c679",
   "metadata": {},
   "outputs": [
    {
     "data": {
      "text/plain": [
       "{'breast': 1307252,\n",
       " 'haematopoietic_and_lymphoid_tissue': 1147206,\n",
       " 'lung': 1046935,\n",
       " 'liver': 2041200,\n",
       " 'endometrium': 638707,\n",
       " 'upper_aerodigestive_tract': 377652,\n",
       " 'large_intestine': 1567432,\n",
       " 'skin': 1520031,\n",
       " 'kidney': 327916,\n",
       " 'soft_tissue': 86640,\n",
       " 'ovary': 467959,\n",
       " 'central_nervous_system': 296975,\n",
       " 'biliary_tract': 434807,\n",
       " 'stomach': 808914,\n",
       " 'oesophagus': 880157,\n",
       " 'prostate': 903058,\n",
       " 'urinary_tract': 306436,\n",
       " 'bone': 30920,\n",
       " 'autonomic_ganglia': 8307,\n",
       " 'penis': 2094,\n",
       " 'uterine_adnexa': 43,\n",
       " 'cervix': 87177,\n",
       " 'pancreas': 1126881,\n",
       " 'NS': 93268,\n",
       " 'testis': 3269,\n",
       " 'thyroid': 202518,\n",
       " 'pleura': 5722,\n",
       " 'placenta': 11021,\n",
       " 'meninges': 102309,\n",
       " 'small_intestine': 20766,\n",
       " 'genital_tract': 2426,\n",
       " 'adrenal_gland': 8230,\n",
       " 'salivary_gland': 7908,\n",
       " 'thymus': 1543,\n",
       " 'peritoneum': 3280,\n",
       " 'eye': 2975,\n",
       " 'parathyroid': 2151,\n",
       " 'pituitary': 2072,\n",
       " 'gastrointestinal_tract_(site_indeterminate)': 886,\n",
       " 'female_genital_tract_(site_indeterminate)': 9,\n",
       " 'vulva': 317,\n",
       " 'fallopian_tube': 123,\n",
       " 'vagina': 16,\n",
       " 'paratesticular_tissues': 5,\n",
       " 'perineum': 1,\n",
       " 'retroperitoneum': 1}"
      ]
     },
     "execution_count": 25,
     "metadata": {},
     "output_type": "execute_result"
    }
   ],
   "source": []
  },
  {
   "cell_type": "code",
   "execution_count": null,
   "id": "64929ded-1bc2-4cb8-a8d7-9d8224b16f3d",
   "metadata": {},
   "outputs": [],
   "source": []
  },
  {
   "cell_type": "code",
   "execution_count": null,
   "id": "2837d531-4894-4044-a4ee-ac28ec6e0dc0",
   "metadata": {},
   "outputs": [],
   "source": []
  },
  {
   "cell_type": "code",
   "execution_count": null,
   "id": "24a51840-ad73-4580-9ca0-d477f6381327",
   "metadata": {},
   "outputs": [],
   "source": []
  },
  {
   "cell_type": "code",
   "execution_count": null,
   "id": "a811b178-808c-40c8-9e79-9fe11a94dd09",
   "metadata": {},
   "outputs": [],
   "source": []
  },
  {
   "cell_type": "code",
   "execution_count": 35,
   "id": "e73563df-a17a-4881-b3c5-2b3109fbc5f2",
   "metadata": {},
   "outputs": [
    {
     "name": "stdout",
     "output_type": "stream",
     "text": [
      "{'FATHMM_MKL_CODING_SCORE': {0.93105},\n",
      " 'cosv': 'COSV57988376',\n",
      " 'hgvs': {'16:g.71913844G>A'},\n",
      " 'primary_site': {'lung': 1},\n",
      " 'sampleID': [(1913998, 1802280)]}\n"
     ]
    }
   ],
   "source": [
    "for dic in summary.values():\n",
    "    pprint(dic)\n",
    "    break"
   ]
  },
  {
   "cell_type": "code",
   "execution_count": null,
   "id": "3da08e3b-fc01-4ee5-8327-3d37e81380d9",
   "metadata": {},
   "outputs": [],
   "source": []
  },
  {
   "cell_type": "code",
   "execution_count": 2,
   "id": "3959279b-7b97-437a-8bbe-eca8661a79b3",
   "metadata": {
    "collapsed": true,
    "jupyter": {
     "outputs_hidden": true
    },
    "tags": []
   },
   "outputs": [
    {
     "name": "stdout",
     "output_type": "stream",
     "text": [
      "[KST 2022-02-23 22:16:14] BEGINNING REMOVING COSV WITH MULTIPLE HGVS\n",
      "[KST 2022-02-23 22:16:19] FINISHED\n",
      "[KST 2022-02-23 22:16:19] BEGINNING GETTING VCFSPEC FROM HGVS\n",
      "[KST 2022-02-23 22:17:13] processing 100000th cosv entry\n",
      "[KST 2022-02-23 22:18:03] processing 200000th cosv entry\n",
      "[KST 2022-02-23 22:18:54] processing 300000th cosv entry\n",
      "[KST 2022-02-23 22:19:44] processing 400000th cosv entry\n",
      "[KST 2022-02-23 22:20:34] processing 500000th cosv entry\n",
      "[KST 2022-02-23 22:21:24] processing 600000th cosv entry\n",
      "[KST 2022-02-23 22:22:13] processing 700000th cosv entry\n",
      "[KST 2022-02-23 22:23:00] processing 800000th cosv entry\n",
      "[KST 2022-02-23 22:23:50] processing 900000th cosv entry\n",
      "[KST 2022-02-23 22:24:38] processing 1000000th cosv entry\n",
      "[KST 2022-02-23 22:25:26] processing 1100000th cosv entry\n",
      "[KST 2022-02-23 22:26:14] processing 1200000th cosv entry\n",
      "[KST 2022-02-23 22:27:02] processing 1300000th cosv entry\n",
      "[KST 2022-02-23 22:27:50] processing 1400000th cosv entry\n",
      "[KST 2022-02-23 22:28:38] processing 1500000th cosv entry\n",
      "[KST 2022-02-23 22:29:25] processing 1600000th cosv entry\n",
      "[KST 2022-02-23 22:30:14] processing 1700000th cosv entry\n",
      "[KST 2022-02-23 22:31:01] processing 1800000th cosv entry\n",
      "[KST 2022-02-23 22:31:48] processing 1900000th cosv entry\n",
      "[KST 2022-02-23 22:32:35] processing 2000000th cosv entry\n",
      "[KST 2022-02-23 22:33:23] processing 2100000th cosv entry\n",
      "[KST 2022-02-23 22:34:12] processing 2200000th cosv entry\n",
      "[KST 2022-02-23 22:34:59] processing 2300000th cosv entry\n",
      "[KST 2022-02-23 22:35:47] processing 2400000th cosv entry\n",
      "[KST 2022-02-23 22:36:35] processing 2500000th cosv entry\n",
      "[KST 2022-02-23 22:37:23] processing 2600000th cosv entry\n",
      "[KST 2022-02-23 22:38:11] processing 2700000th cosv entry\n",
      "[KST 2022-02-23 22:38:59] processing 2800000th cosv entry\n",
      "[KST 2022-02-23 22:39:46] processing 2900000th cosv entry\n",
      "[KST 2022-02-23 22:40:34] processing 3000000th cosv entry\n",
      "[KST 2022-02-23 22:41:21] processing 3100000th cosv entry\n",
      "[KST 2022-02-23 22:42:09] processing 3200000th cosv entry\n",
      "[KST 2022-02-23 22:42:55] processing 3300000th cosv entry\n",
      "[KST 2022-02-23 22:43:42] processing 3400000th cosv entry\n",
      "[KST 2022-02-23 22:44:30] processing 3500000th cosv entry\n",
      "[KST 2022-02-23 22:45:17] processing 3600000th cosv entry\n",
      "[KST 2022-02-23 22:46:03] processing 3700000th cosv entry\n",
      "[KST 2022-02-23 22:46:50] processing 3800000th cosv entry\n",
      "[KST 2022-02-23 22:47:37] processing 3900000th cosv entry\n",
      "[KST 2022-02-23 22:48:25] processing 4000000th cosv entry\n",
      "[KST 2022-02-23 22:49:12] processing 4100000th cosv entry\n",
      "[KST 2022-02-23 22:49:59] processing 4200000th cosv entry\n",
      "[KST 2022-02-23 22:50:46] processing 4300000th cosv entry\n",
      "[KST 2022-02-23 22:51:33] processing 4400000th cosv entry\n",
      "[KST 2022-02-23 22:52:19] processing 4500000th cosv entry\n",
      "[KST 2022-02-23 22:53:06] processing 4600000th cosv entry\n",
      "[KST 2022-02-23 22:53:52] processing 4700000th cosv entry\n",
      "[KST 2022-02-23 22:54:39] processing 4800000th cosv entry\n",
      "[KST 2022-02-23 22:55:26] processing 4900000th cosv entry\n",
      "[KST 2022-02-23 22:56:13] processing 5000000th cosv entry\n",
      "[KST 2022-02-23 22:57:00] processing 5100000th cosv entry\n",
      "[KST 2022-02-23 22:57:47] processing 5200000th cosv entry\n",
      "[KST 2022-02-23 22:58:35] processing 5300000th cosv entry\n",
      "[KST 2022-02-23 22:59:22] processing 5400000th cosv entry\n",
      "[KST 2022-02-23 23:00:08] processing 5500000th cosv entry\n",
      "[KST 2022-02-23 23:00:56] processing 5600000th cosv entry\n",
      "[KST 2022-02-23 23:01:42] processing 5700000th cosv entry\n",
      "[KST 2022-02-23 23:02:29] processing 5800000th cosv entry\n",
      "[KST 2022-02-23 23:03:15] processing 5900000th cosv entry\n",
      "[KST 2022-02-23 23:04:06] processing 6000000th cosv entry\n",
      "[KST 2022-02-23 23:05:00] processing 6100000th cosv entry\n",
      "[KST 2022-02-23 23:05:53] processing 6200000th cosv entry\n",
      "[KST 2022-02-23 23:06:41] processing 6300000th cosv entry\n",
      "[KST 2022-02-23 23:07:28] processing 6400000th cosv entry\n",
      "[KST 2022-02-23 23:08:16] processing 6500000th cosv entry\n",
      "[KST 2022-02-23 23:09:02] processing 6600000th cosv entry\n",
      "[KST 2022-02-23 23:09:49] processing 6700000th cosv entry\n",
      "[KST 2022-02-23 23:10:37] processing 6800000th cosv entry\n",
      "[KST 2022-02-23 23:11:23] processing 6900000th cosv entry\n",
      "[KST 2022-02-23 23:12:10] processing 7000000th cosv entry\n",
      "[KST 2022-02-23 23:12:56] processing 7100000th cosv entry\n",
      "[KST 2022-02-23 23:13:42] processing 7200000th cosv entry\n",
      "[KST 2022-02-23 23:14:29] processing 7300000th cosv entry\n",
      "[KST 2022-02-23 23:15:16] processing 7400000th cosv entry\n",
      "[KST 2022-02-23 23:16:02] processing 7500000th cosv entry\n",
      "[KST 2022-02-23 23:16:50] processing 7600000th cosv entry\n",
      "[KST 2022-02-23 23:17:36] processing 7700000th cosv entry\n",
      "[KST 2022-02-23 23:18:24] processing 7800000th cosv entry\n",
      "[KST 2022-02-23 23:19:10] processing 7900000th cosv entry\n",
      "[KST 2022-02-23 23:19:57] processing 8000000th cosv entry\n",
      "[KST 2022-02-23 23:20:45] processing 8100000th cosv entry\n",
      "[KST 2022-02-23 23:21:31] processing 8200000th cosv entry\n",
      "[KST 2022-02-23 23:22:18] processing 8300000th cosv entry\n",
      "[KST 2022-02-23 23:23:04] processing 8400000th cosv entry\n",
      "[KST 2022-02-23 23:23:50] processing 8500000th cosv entry\n",
      "[KST 2022-02-23 23:24:38] processing 8600000th cosv entry\n",
      "[KST 2022-02-23 23:25:25] processing 8700000th cosv entry\n",
      "[KST 2022-02-23 23:26:11] processing 8800000th cosv entry\n",
      "[KST 2022-02-23 23:26:58] processing 8900000th cosv entry\n",
      "[KST 2022-02-23 23:27:45] processing 9000000th cosv entry\n",
      "[KST 2022-02-23 23:28:32] processing 9100000th cosv entry\n",
      "[KST 2022-02-23 23:29:19] processing 9200000th cosv entry\n",
      "[KST 2022-02-23 23:30:05] processing 9300000th cosv entry\n",
      "[KST 2022-02-23 23:30:52] processing 9400000th cosv entry\n",
      "[KST 2022-02-23 23:31:39] processing 9500000th cosv entry\n",
      "[KST 2022-02-23 23:32:25] processing 9600000th cosv entry\n",
      "[KST 2022-02-23 23:33:11] processing 9700000th cosv entry\n",
      "[KST 2022-02-23 23:33:57] processing 9800000th cosv entry\n",
      "[KST 2022-02-23 23:34:44] processing 9900000th cosv entry\n",
      "[KST 2022-02-23 23:35:30] processing 10000000th cosv entry\n",
      "[KST 2022-02-23 23:36:16] processing 10100000th cosv entry\n",
      "[KST 2022-02-23 23:37:03] processing 10200000th cosv entry\n",
      "[KST 2022-02-23 23:37:49] processing 10300000th cosv entry\n",
      "[KST 2022-02-23 23:38:35] processing 10400000th cosv entry\n",
      "[KST 2022-02-23 23:39:21] processing 10500000th cosv entry\n",
      "[KST 2022-02-23 23:40:08] processing 10600000th cosv entry\n",
      "[KST 2022-02-23 23:40:55] processing 10700000th cosv entry\n",
      "[KST 2022-02-23 23:41:42] processing 10800000th cosv entry\n",
      "[KST 2022-02-23 23:42:28] processing 10900000th cosv entry\n",
      "[KST 2022-02-23 23:43:15] processing 11000000th cosv entry\n",
      "[KST 2022-02-23 23:44:01] processing 11100000th cosv entry\n",
      "[KST 2022-02-23 23:44:49] processing 11200000th cosv entry\n",
      "[KST 2022-02-23 23:45:35] processing 11300000th cosv entry\n",
      "[KST 2022-02-23 23:46:21] processing 11400000th cosv entry\n",
      "[KST 2022-02-23 23:47:08] processing 11500000th cosv entry\n",
      "[KST 2022-02-23 23:47:55] processing 11600000th cosv entry\n",
      "[KST 2022-02-23 23:48:42] processing 11700000th cosv entry\n",
      "[KST 2022-02-23 23:49:28] processing 11800000th cosv entry\n",
      "[KST 2022-02-23 23:50:15] processing 11900000th cosv entry\n",
      "[KST 2022-02-23 23:51:01] processing 12000000th cosv entry\n",
      "[KST 2022-02-23 23:51:47] processing 12100000th cosv entry\n",
      "[KST 2022-02-23 23:52:34] processing 12200000th cosv entry\n",
      "[KST 2022-02-23 23:53:20] processing 12300000th cosv entry\n",
      "[KST 2022-02-23 23:54:07] processing 12400000th cosv entry\n",
      "[KST 2022-02-23 23:54:53] processing 12500000th cosv entry\n",
      "[KST 2022-02-23 23:55:40] processing 12600000th cosv entry\n",
      "[KST 2022-02-23 23:56:27] processing 12700000th cosv entry\n",
      "[KST 2022-02-23 23:57:14] processing 12800000th cosv entry\n",
      "[KST 2022-02-23 23:58:00] processing 12900000th cosv entry\n",
      "[KST 2022-02-23 23:58:47] processing 13000000th cosv entry\n",
      "[KST 2022-02-23 23:59:33] processing 13100000th cosv entry\n",
      "[KST 2022-02-24 00:00:21] processing 13200000th cosv entry\n",
      "[KST 2022-02-24 00:01:07] processing 13300000th cosv entry\n",
      "[KST 2022-02-24 00:01:53] processing 13400000th cosv entry\n",
      "[KST 2022-02-24 00:02:39] processing 13500000th cosv entry\n",
      "[KST 2022-02-24 00:03:26] processing 13600000th cosv entry\n",
      "[KST 2022-02-24 00:04:13] processing 13700000th cosv entry\n",
      "[KST 2022-02-24 00:04:59] processing 13800000th cosv entry\n",
      "[KST 2022-02-24 00:05:45] processing 13900000th cosv entry\n",
      "[KST 2022-02-24 00:06:32] processing 14000000th cosv entry\n",
      "[KST 2022-02-24 00:07:20] processing 14100000th cosv entry\n",
      "[KST 2022-02-24 00:08:07] processing 14200000th cosv entry\n",
      "[KST 2022-02-24 00:08:54] processing 14300000th cosv entry\n",
      "[KST 2022-02-24 00:09:40] processing 14400000th cosv entry\n",
      "[KST 2022-02-24 00:10:27] processing 14500000th cosv entry\n",
      "[KST 2022-02-24 00:11:13] processing 14600000th cosv entry\n",
      "[KST 2022-02-24 00:11:59] processing 14700000th cosv entry\n",
      "[KST 2022-02-24 00:12:45] processing 14800000th cosv entry\n",
      "[KST 2022-02-24 00:13:32] processing 14900000th cosv entry\n",
      "[KST 2022-02-24 00:14:19] processing 15000000th cosv entry\n",
      "[KST 2022-02-24 00:15:05] processing 15100000th cosv entry\n",
      "[KST 2022-02-24 00:15:51] processing 15200000th cosv entry\n",
      "[KST 2022-02-24 00:16:38] processing 15300000th cosv entry\n",
      "[KST 2022-02-24 00:17:24] processing 15400000th cosv entry\n",
      "[KST 2022-02-24 00:18:10] processing 15500000th cosv entry\n",
      "[KST 2022-02-24 00:18:56] processing 15600000th cosv entry\n",
      "[KST 2022-02-24 00:19:41] processing 15700000th cosv entry\n",
      "[KST 2022-02-24 00:20:28] processing 15800000th cosv entry\n",
      "[KST 2022-02-24 00:21:14] processing 15900000th cosv entry\n",
      "[KST 2022-02-24 00:21:53] pickling dict to /home/users/pjh/References/COSMIC/editing_scripts/cosv_vcfspec_map_hg19.pickle\n",
      "[KST 2022-02-24 00:22:11] pickling finished\n",
      "[KST 2022-02-24 00:22:11] FINISHED\n"
     ]
    }
   ],
   "source": [
    "make_cosmic_vcf.exclude_cosv_with_multiple_hgvs(summary, summary_filtered)\n",
    "cosv_to_vcfspec = make_cosmic_vcf.get_cosv_vcfspec_map(summary, refver)"
   ]
  },
  {
   "cell_type": "code",
   "execution_count": null,
   "id": "7db8fbc9-9c3a-425d-812b-36b11e0a3e97",
   "metadata": {},
   "outputs": [],
   "source": []
  }
 ],
 "metadata": {
  "kernelspec": {
   "display_name": "genome_v4",
   "language": "python",
   "name": "genome_v4"
  },
  "language_info": {
   "codemirror_mode": {
    "name": "ipython",
    "version": 3
   },
   "file_extension": ".py",
   "mimetype": "text/x-python",
   "name": "python",
   "nbconvert_exporter": "python",
   "pygments_lexer": "ipython3",
   "version": "3.7.10"
  }
 },
 "nbformat": 4,
 "nbformat_minor": 5
}
