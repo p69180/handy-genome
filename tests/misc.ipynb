{
 "cells": [
  {
   "cell_type": "markdown",
   "metadata": {},
   "source": [
    "# Initiation"
   ]
  },
  {
   "cell_type": "code",
   "execution_count": 1,
   "metadata": {},
   "outputs": [],
   "source": [
    "%load_ext autoreload\n",
    "%autoreload 2\n",
    "\n",
    "import os\n",
    "import random\n",
    "import pprint\n",
    "\n",
    "import pysam\n",
    "import numpy as np\n",
    "import pandas as pd\n",
    "import matplotlib.pyplot as plt\n",
    "\n",
    "import sys\n",
    "sys.path.append('/home/users/pjh/scripts/python_genome_packages')"
   ]
  },
  {
   "cell_type": "code",
   "execution_count": 2,
   "metadata": {},
   "outputs": [],
   "source": [
    "from handygenome.common import ChromDict, Vcfspec, Interval\n",
    "from handygenome.variantplus.breakends import Breakends\n",
    "from handygenome.variantplus.variantplus import VariantPlus\n",
    "from handygenome.variantplus.vcfplus import VcfPlus\n",
    "from handygenome import igvhandle"
   ]
  },
  {
   "cell_type": "code",
   "execution_count": 3,
   "metadata": {},
   "outputs": [],
   "source": [
    "FASTA_PATH_HG19 = \"/home/users/data/01_reference/human_g1k_v37/human_g1k_v37.fasta\"\n",
    "FASTA_PATH_HG38 = \"/home/users/data/01_reference/human_g1k_v38/Homo_sapiens_assembly38.fasta\"\n",
    "\n",
    "FASTA_HG19 = pysam.FastaFile(FASTA_PATH_HG19)\n",
    "FASTA_HG38 = pysam.FastaFile(FASTA_PATH_HG38)\n",
    "CHROMDICT_HG19 = ChromDict(fasta_path=FASTA_PATH_HG19)\n",
    "CHROMDICT_HG38 = ChromDict(fasta_path=FASTA_PATH_HG38)"
   ]
  },
  {
   "cell_type": "code",
   "execution_count": 4,
   "metadata": {},
   "outputs": [],
   "source": [
    "igv = igvhandle.IGVHandle(60387)"
   ]
  },
  {
   "cell_type": "markdown",
   "metadata": {},
   "source": [
    "# Scratches"
   ]
  },
  {
   "cell_type": "code",
   "execution_count": 7,
   "metadata": {},
   "outputs": [],
   "source": [
    "arr = np.array([np.nan, 1, 2, 3])"
   ]
  },
  {
   "cell_type": "code",
   "execution_count": 16,
   "metadata": {},
   "outputs": [
    {
     "data": {
      "text/plain": [
       "2"
      ]
     },
     "execution_count": 16,
     "metadata": {},
     "output_type": "execute_result"
    }
   ],
   "source": [
    "(arr >= 2).sum()"
   ]
  },
  {
   "cell_type": "code",
   "execution_count": null,
   "metadata": {},
   "outputs": [],
   "source": []
  },
  {
   "cell_type": "code",
   "execution_count": 5,
   "metadata": {},
   "outputs": [],
   "source": [
    "from handygenome.annotation.readstats import get_readstats"
   ]
  },
  {
   "cell_type": "code",
   "execution_count": 6,
   "metadata": {},
   "outputs": [],
   "source": [
    "tbam_path = '/home/users/team_projects/Lung_Cancer_Panel_data/03_Data_from_YTKim/02_BAM/IO17/LU-IO17.tumor.bam'\n",
    "nbam_path = '/home/users/team_projects/Lung_Cancer_Panel_data/03_Data_from_YTKim/02_BAM/IO17/LU-IO17.normal.bam'"
   ]
  },
  {
   "cell_type": "code",
   "execution_count": 7,
   "metadata": {},
   "outputs": [],
   "source": [
    "tbam = pysam.AlignmentFile(tbam_path)\n",
    "nbam = pysam.AlignmentFile(nbam_path)"
   ]
  },
  {
   "cell_type": "code",
   "execution_count": 8,
   "metadata": {},
   "outputs": [],
   "source": [
    "vcfspec = Vcfspec('7', 158254690, 'C', ('A',))"
   ]
  },
  {
   "cell_type": "code",
   "execution_count": 26,
   "metadata": {},
   "outputs": [
    {
     "data": {
      "text/plain": [
       "<Vcfspec (7:158254690 C>A)>"
      ]
     },
     "execution_count": 26,
     "metadata": {},
     "output_type": "execute_result"
    }
   ],
   "source": [
    "vcfspec"
   ]
  },
  {
   "cell_type": "code",
   "execution_count": null,
   "metadata": {},
   "outputs": [],
   "source": []
  },
  {
   "cell_type": "code",
   "execution_count": 13,
   "metadata": {},
   "outputs": [
    {
     "name": "stdout",
     "output_type": "stream",
     "text": [
      "OK\n",
      "OK\n",
      "OK\n"
     ]
    }
   ],
   "source": [
    "igv.load([tbam_path, nbam_path])\n",
    "igv.goto([vcfspec])"
   ]
  },
  {
   "cell_type": "code",
   "execution_count": 33,
   "metadata": {},
   "outputs": [],
   "source": [
    "# for read in tbam.fetch(vcfspec.chrom, vcfspec.pos0, vcfspec.end0):\n",
    "for read in tbam.fetch('7', 158_254_656 - 4, 158_254_656 + 4):\n",
    "#     if read.query_name == 'A00125:179:HFVCKDSXX:1:1676:11794:4883' and read.reference_start == 158254690 - 1:\n",
    "#     if read.query_name == 'A00125:179:HFVCKDSXX:4:1534:14841:26349':\n",
    "    if (read.query_name == 'A00125:179:HFVCKDSXX:3:1343:3269:7842' and read.cigartuples[0][0] == 4 and read.cigartuples[-1][0] == 4):\n",
    "        break"
   ]
  },
  {
   "cell_type": "code",
   "execution_count": 35,
   "metadata": {},
   "outputs": [
    {
     "name": "stdout",
     "output_type": "stream",
     "text": [
      "A00125:179:HFVCKDSXX:3:1343:3269:7842\n",
      "158254655\n",
      "158254656\n",
      "23S108I20S\n"
     ]
    }
   ],
   "source": [
    "print(read.query_name)\n",
    "print(read.reference_start)\n",
    "print(read.reference_end)\n",
    "print(read.cigarstring)"
   ]
  },
  {
   "cell_type": "code",
   "execution_count": 74,
   "metadata": {},
   "outputs": [],
   "source": [
    "readstats = get_readstats(vcfspec, tbam, FASTA_HG19, CHROMDICT_HG19, no_matesearch=True)"
   ]
  },
  {
   "cell_type": "code",
   "execution_count": null,
   "metadata": {},
   "outputs": [],
   "source": []
  },
  {
   "cell_type": "code",
   "execution_count": 79,
   "metadata": {},
   "outputs": [],
   "source": [
    "vcf_path = '/home/users/team_projects/Lung_Cancer_Panel_data/03_Data_from_YTKim/09_short_variants_union/220707_indel/02_union/panel_indel_union.annot.readstats_again.vcf.gz'"
   ]
  },
  {
   "cell_type": "code",
   "execution_count": 80,
   "metadata": {},
   "outputs": [],
   "source": [
    "vcf = pysam.VariantFile(vcf_path)"
   ]
  },
  {
   "cell_type": "code",
   "execution_count": 81,
   "metadata": {},
   "outputs": [],
   "source": [
    "vr = next(vcf.fetch())"
   ]
  },
  {
   "cell_type": "code",
   "execution_count": 92,
   "metadata": {},
   "outputs": [],
   "source": [
    "vp = VariantPlus(vr)"
   ]
  },
  {
   "cell_type": "code",
   "execution_count": 93,
   "metadata": {},
   "outputs": [
    {
     "data": {
      "text/plain": [
       "{'mean_BQs': {\u001b[38;5;93mNone\u001b[0m: nan, -1: 28.75, 0: 27.678571428571427, 1: nan},\n",
       " 'mean_MQs': {\u001b[38;5;93mNone\u001b[0m: 40.142857142857146, -1: 48.5, 0: 36.25, 1: nan},\n",
       " 'mean_cliplens': {\u001b[38;5;93mNone\u001b[0m: 2.0, -1: 0.0, 0: 0.6530612244897959, 1: nan},\n",
       " 'mean_varpos_fractions': {\u001b[38;5;93mNone\u001b[0m: nan,\n",
       "                           -1: 0.6372185430463576,\n",
       "                           0: 0.29559487901533404,\n",
       "                           1: nan},\n",
       " 'median_BQs': {\u001b[38;5;93mNone\u001b[0m: nan, -1: 32.5, 0: 26.0, 1: nan},\n",
       " 'median_MQs': {\u001b[38;5;93mNone\u001b[0m: 50.0, -1: 48.5, 0: 27.0, 1: nan},\n",
       " 'median_cliplens': {\u001b[38;5;93mNone\u001b[0m: 0.0, -1: 0.0, 0: 0.0, 1: nan},\n",
       " 'median_varpos_fractions': {\u001b[38;5;93mNone\u001b[0m: nan,\n",
       "                             -1: 0.6372185430463576,\n",
       "                             0: 0.21593818984547464,\n",
       "                             1: nan},\n",
       " 'rppcounts': {\u001b[38;5;93mNone\u001b[0m: 7, -1: 2, 0: 98, 1: 0, 'softclip_overlap': 1},\n",
       " 'total_rppcount': 108,\n",
       " 'varpos_uniform_pvalues': {\u001b[38;5;93mNone\u001b[0m: nan,\n",
       "                            -1: 0.7112,\n",
       "                            0: 8.356399858482668e-14,\n",
       "                            1: nan}}"
      ]
     },
     "execution_count": 93,
     "metadata": {},
     "output_type": "execute_result"
    }
   ],
   "source": [
    "vp.readstats_dict['LU-14_panel']"
   ]
  },
  {
   "cell_type": "code",
   "execution_count": 103,
   "metadata": {},
   "outputs": [
    {
     "data": {
      "text/plain": [
       "{'1000Genomes': \u001b[38;5;93mNone\u001b[0m,\n",
       " 'ALSPAC': \u001b[38;5;93mNone\u001b[0m,\n",
       " 'Chileans': \u001b[38;5;93mNone\u001b[0m,\n",
       " 'ChromosomeY': \u001b[38;5;93mNone\u001b[0m,\n",
       " 'Daghestan': \u001b[38;5;93mNone\u001b[0m,\n",
       " 'Estonian': \u001b[38;5;93mNone\u001b[0m,\n",
       " 'ExAC': \u001b[38;5;93mNone\u001b[0m,\n",
       " 'FINRISK': \u001b[38;5;93mNone\u001b[0m,\n",
       " 'GENOME_DK': \u001b[38;5;93mNone\u001b[0m,\n",
       " 'GnomAD': \u001b[38;5;93mNone\u001b[0m,\n",
       " 'GnomAD_exomes': \u001b[38;5;93mNone\u001b[0m,\n",
       " 'GoESP': \u001b[38;5;93mNone\u001b[0m,\n",
       " 'GoNL': \u001b[38;5;93mNone\u001b[0m,\n",
       " 'HGDP_Stanford': \u001b[38;5;93mNone\u001b[0m,\n",
       " 'HapMap': \u001b[38;5;93mNone\u001b[0m,\n",
       " 'KOREAN': \u001b[38;5;93mNone\u001b[0m,\n",
       " 'Korea1K': \u001b[38;5;93mNone\u001b[0m,\n",
       " 'MGP': \u001b[38;5;93mNone\u001b[0m,\n",
       " 'NorthernSweden': \u001b[38;5;93mNone\u001b[0m,\n",
       " 'PAGE_STUDY': \u001b[38;5;93mNone\u001b[0m,\n",
       " 'PRJEB36033': \u001b[38;5;93mNone\u001b[0m,\n",
       " 'PRJEB37584': \u001b[38;5;93mNone\u001b[0m,\n",
       " 'PRJEB37766': \u001b[38;5;93mNone\u001b[0m,\n",
       " 'PharmGKB': \u001b[38;5;93mNone\u001b[0m,\n",
       " 'Qatari': \u001b[38;5;93mNone\u001b[0m,\n",
       " 'SGDP_PRJ': \u001b[38;5;93mNone\u001b[0m,\n",
       " 'Siberian': \u001b[38;5;93mNone\u001b[0m,\n",
       " 'TOMMO': \u001b[38;5;93mNone\u001b[0m,\n",
       " 'TOPMED': \u001b[38;5;93mNone\u001b[0m,\n",
       " 'TWINSUK': \u001b[38;5;93mNone\u001b[0m,\n",
       " 'Vietnamese': \u001b[38;5;93mNone\u001b[0m,\n",
       " 'dbGaP_PopFreq': \u001b[38;5;93mNone\u001b[0m}"
      ]
     },
     "execution_count": 103,
     "metadata": {},
     "output_type": "execute_result"
    }
   ],
   "source": [
    "vp.annotdb.popfreq"
   ]
  },
  {
   "cell_type": "code",
   "execution_count": 119,
   "metadata": {},
   "outputs": [],
   "source": [
    "from handygenome.variantplus.vpfilter import PopfreqFilter, ReadcountFilter"
   ]
  },
  {
   "cell_type": "code",
   "execution_count": 120,
   "metadata": {},
   "outputs": [],
   "source": [
    "fi1 = PopfreqFilter()\n",
    "fi2 = ReadcountFilter()\n",
    "fi3 = "
   ]
  },
  {
   "cell_type": "code",
   "execution_count": 117,
   "metadata": {},
   "outputs": [
    {
     "data": {
      "text/plain": [
       "True"
      ]
     },
     "execution_count": 117,
     "metadata": {},
     "output_type": "execute_result"
    }
   ],
   "source": [
    "fi1.check(vp)"
   ]
  },
  {
   "cell_type": "code",
   "execution_count": 125,
   "metadata": {},
   "outputs": [
    {
     "data": {
      "text/plain": [
       "False"
      ]
     },
     "execution_count": 125,
     "metadata": {},
     "output_type": "execute_result"
    }
   ],
   "source": [
    "fi2.check(vp, 'LU-14_panel')"
   ]
  },
  {
   "cell_type": "code",
   "execution_count": null,
   "metadata": {},
   "outputs": [],
   "source": []
  },
  {
   "cell_type": "code",
   "execution_count": null,
   "metadata": {},
   "outputs": [],
   "source": []
  },
  {
   "cell_type": "code",
   "execution_count": null,
   "metadata": {},
   "outputs": [],
   "source": []
  },
  {
   "cell_type": "code",
   "execution_count": 96,
   "metadata": {},
   "outputs": [
    {
     "name": "stdout",
     "output_type": "stream",
     "text": [
      "NDX550168:116:HH35KBGXC:4:13507:20047:10939\n"
     ]
    },
    {
     "name": "stderr",
     "output_type": "stream",
     "text": [
      "/home/users/pjh/tools/miniconda/210821/miniconda3/envs/genome_v5/lib/python3.9/site-packages/numpy/core/fromnumeric.py:3474: RuntimeWarning: Mean of empty slice.\n",
      "  return _methods._mean(a, axis=axis, dtype=dtype,\n",
      "/home/users/pjh/tools/miniconda/210821/miniconda3/envs/genome_v5/lib/python3.9/site-packages/numpy/core/_methods.py:189: RuntimeWarning: invalid value encountered in double_scalars\n",
      "  ret = ret.dtype.type(ret / rcount)\n"
     ]
    }
   ],
   "source": [
    "from handygenome.annotation.readstats import get_readstats\n",
    "bam = pysam.AlignmentFile('/home/users/team_projects/Lung_Cancer_Panel_data/03_Data_from_YTKim/02_BAM/14/LU-14.panel.bam')\n",
    "readstats = get_readstats(vp.vcfspec, bam, FASTA_HG19, CHROMDICT_HG19, no_matesearch=True)"
   ]
  },
  {
   "cell_type": "code",
   "execution_count": null,
   "metadata": {},
   "outputs": [],
   "source": []
  },
  {
   "cell_type": "code",
   "execution_count": 88,
   "metadata": {},
   "outputs": [
    {
     "name": "stdout",
     "output_type": "stream",
     "text": [
      "OK\n"
     ]
    }
   ],
   "source": [
    "igv.load(['/home/users/team_projects/Lung_Cancer_Panel_data/03_Data_from_YTKim/02_BAM/14/LU-14.panel.bam'])"
   ]
  },
  {
   "cell_type": "code",
   "execution_count": 89,
   "metadata": {},
   "outputs": [
    {
     "name": "stdout",
     "output_type": "stream",
     "text": [
      "OK\n"
     ]
    }
   ],
   "source": [
    "igv.goto([vp.vcfspec])"
   ]
  },
  {
   "cell_type": "code",
   "execution_count": 98,
   "metadata": {},
   "outputs": [
    {
     "data": {
      "text/plain": [
       "<Vcfspec (1:1580929 GA>G)>"
      ]
     },
     "execution_count": 98,
     "metadata": {},
     "output_type": "execute_result"
    }
   ],
   "source": [
    "vp.vcfspec"
   ]
  },
  {
   "cell_type": "code",
   "execution_count": 99,
   "metadata": {},
   "outputs": [
    {
     "name": "stdout",
     "output_type": "stream",
     "text": [
      "NDX550168:116:HH35KBGXC:4:13507:20047:10939\t83\t#0\t1580793\t27\t114M1I22M14S\t#0\t1580590\t-339\tCGGTGGCGCGATCTCGGCTCACTGCAACCTCCGCCTCCCGGGTTCGAGCGATTCTCCTGCCTCTGCCTCCCGAGTAGCTGGGATTACAGGCGTGCGCCCTGTACTCCCAGCTAATTTTTTGTATTTTTTGTAGAGACAAGGTTTTGCCATG\tarray('B', [8, 25, 25, 28, 31, 28, 26, 37, 26, 36, 28, 12, 33, 35, 26, 33, 37, 33, 26, 33, 34, 33, 36, 37, 32, 36, 13, 33, 30, 29, 32, 8, 36, 32, 30, 34, 30, 30, 22, 13, 35, 35, 34, 34, 25, 32, 35, 31, 24, 32, 26, 13, 12, 32, 28, 32, 28, 34, 22, 31, 29, 27, 29, 11, 36, 28, 31, 32, 32, 31, 25, 35, 34, 35, 30, 33, 11, 31, 34, 34, 34, 34, 34, 34, 27, 27, 28, 36, 24, 11, 9, 35, 12, 36, 21, 11, 32, 31, 31, 34, 34, 32, 32, 28, 33, 31, 29, 32, 31, 36, 29, 32, 15, 29, 33, 27, 34, 33, 33, 34, 34, 31, 35, 34, 15, 34, 33, 27, 35, 35, 32, 35, 35, 36, 35, 32, 32, 35, 35, 35, 35, 34, 35, 28, 35, 36, 34, 33, 30, 31, 31])\t[('BD', 'NNNNNNNNNNNNNNNNNNNNNNNNNNNNNNNNNNNNNNNNNNNNNNNNNNNNNNNNNNNNNNNNNNNNNNNNNNNNNNNNNNNNNNNNNNNNNNNNNNNNNNNNNNNNNNNNNNNNNNNNNNNNNNNNNNNNNNNNNNNNNNNNNNNNNNN'), ('MD', '63A63A8'), ('PG', 'MarkDuplicates.3'), ('RG', 'LCP400014_S32'), ('BI', 'NNNNNNNNNNNNNNNNNNNNNNNNNNNNNNNNNNNNNNNNNNNNNNNNNNNNNNNNNNNNNNNNNNNNNNNNNNNNNNNNNNNNNNNNNNNNNNNNNNNNNNNNNNNNNNNNNNNNNNNNNNNNNNNNNNNNNNNNNNNNNNNNNNNNNNN'), ('NM', 3), ('BQ', '@@@@@@@@@@@@@@@@@@@@@@@@@@@@@@@@@@@@@@@@@@@@@@@@@@@@@@@@@@@@@@@@@@@@@@@@@@@@@@@@@@@@@@@@@@@@@@@@@@@@@@@@@@@@@@@@@@@\\\\``_\\\\@@@@@@@@@@@@@@@@@@@@@@@@@@@@@@@'), ('MQ', 27), ('AS', 119), ('XS', 119)]\n"
     ]
    }
   ],
   "source": [
    "for read in bam.fetch('1', 1580929 - 100, 1580929 + 100):\n",
    "    if read.query_name == 'NDX550168:116:HH35KBGXC:4:13507:20047:10939':\n",
    "        print(read)"
   ]
  }
 ],
 "metadata": {
  "kernelspec": {
   "display_name": "genome_v5",
   "language": "python",
   "name": "genome_v5"
  },
  "language_info": {
   "codemirror_mode": {
    "name": "ipython",
    "version": 3
   },
   "file_extension": ".py",
   "mimetype": "text/x-python",
   "name": "python",
   "nbconvert_exporter": "python",
   "pygments_lexer": "ipython3",
   "version": "3.9.12"
  }
 },
 "nbformat": 4,
 "nbformat_minor": 5
}
