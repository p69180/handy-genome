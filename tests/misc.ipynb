{
 "cells": [
  {
   "cell_type": "code",
   "execution_count": null,
   "metadata": {},
   "outputs": [],
   "source": [
    "%load_ext autoreload\n",
    "%autoreload 2\n",
    "\n",
    "import sys\n",
    "sys.path.append('/home/users/pjh/scripts/python_genome_packages')\n",
    "from pprint import pprint\n",
    "import pysam"
   ]
  },
  {
   "cell_type": "code",
   "execution_count": null,
   "metadata": {},
   "outputs": [],
   "source": [
    "from handygenome import common\n",
    "from handygenome.common import ChromDict, Vcfspec, Interval\n",
    "from handygenome.variantplus.breakends import Breakends\n",
    "from handygenome.variantplus.vcfplus import VcfPlus\n",
    "from handygenome.common import cpprint\n",
    "from handygenome.variantplus import vpfilters\n",
    "\n",
    "import handygenome.annotation"
   ]
  },
  {
   "cell_type": "code",
   "execution_count": 3,
   "metadata": {},
   "outputs": [],
   "source": [
    "FASTA_PATH = \"/home/users/data/01_reference/human_g1k_v37/human_g1k_v37.fasta\"\n",
    "FASTA_PATH_38 = \"/home/users/data/01_reference/human_g1k_v38/Homo_sapiens_assembly38.fasta\"\n",
    "\n",
    "#VCF_PATH = \"/home/users/pjh/scripts/python_genome_packages/tests/vep_split.vcf.gz\"\n",
    "\n",
    "CHROMDICT = ChromDict(fasta_path = FASTA_PATH)\n",
    "CHROMDICT_38 = ChromDict(fasta_path = FASTA_PATH_38)\n",
    "FASTA = pysam.FastaFile(FASTA_PATH)\n",
    "FASTA_38 = pysam.FastaFile(FASTA_PATH_38)"
   ]
  },
  {
   "cell_type": "code",
   "execution_count": 4,
   "metadata": {},
   "outputs": [],
   "source": [
    "import time\n",
    "\n",
    "def timer(func):\n",
    "    def wrapper(*args, **kwargs):\n",
    "        ts1 = time.perf_counter()\n",
    "        result = func(*args, **kwargs)\n",
    "        ts2 = time.perf_counter()\n",
    "        print(f'elapsed time: {ts2 - ts1}')\n",
    "        return result\n",
    "    return wrapper"
   ]
  },
  {
   "cell_type": "code",
   "execution_count": null,
   "metadata": {},
   "outputs": [],
   "source": []
  },
  {
   "cell_type": "code",
   "execution_count": 5,
   "metadata": {},
   "outputs": [],
   "source": [
    "#vcf_path = '/home/users/pjh/tmp/zzz.bismark.head.annot.vcf.gz'\n",
    "#vcf_path = '/home/users/pjh/practice/pipeline_test/handygenome/filtered_mutect2_output/LU-87.snv.filtered.clean.annot.vcf.gz'\n",
    "vcf_path = '/home/users/pjh/practice/pipeline_test/handygenome/filtered_mutect2_output/LU-FF53.snv.filtered.clean.processed.annot.vcf.gz'"
   ]
  },
  {
   "cell_type": "code",
   "execution_count": 6,
   "metadata": {},
   "outputs": [
    {
     "name": "stderr",
     "output_type": "stream",
     "text": [
      "[KST 2022-04-22 01:50:16 INFO] LU-FF53.snv.filtered.clean.processed.annot.vcf.gz: 10000 variant records processed\n",
      "[KST 2022-04-22 01:50:33 INFO] LU-FF53.snv.filtered.clean.processed.annot.vcf.gz: 20000 variant records processed\n",
      "[KST 2022-04-22 01:50:52 INFO] LU-FF53.snv.filtered.clean.processed.annot.vcf.gz: 30000 variant records processed\n",
      "[KST 2022-04-22 01:51:08 INFO] LU-FF53.snv.filtered.clean.processed.annot.vcf.gz: 40000 variant records processed\n",
      "[KST 2022-04-22 01:51:24 INFO] LU-FF53.snv.filtered.clean.processed.annot.vcf.gz: 50000 variant records processed\n",
      "[KST 2022-04-22 01:51:43 INFO] LU-FF53.snv.filtered.clean.processed.annot.vcf.gz: 60000 variant records processed\n",
      "[KST 2022-04-22 01:51:59 INFO] LU-FF53.snv.filtered.clean.processed.annot.vcf.gz: 70000 variant records processed\n",
      "[KST 2022-04-22 01:52:17 INFO] LU-FF53.snv.filtered.clean.processed.annot.vcf.gz: 80000 variant records processed\n",
      "[KST 2022-04-22 01:52:34 INFO] LU-FF53.snv.filtered.clean.processed.annot.vcf.gz: 90000 variant records processed\n",
      "[KST 2022-04-22 01:52:56 INFO] LU-FF53.snv.filtered.clean.processed.annot.vcf.gz: 100000 variant records processed\n",
      "[KST 2022-04-22 01:53:11 INFO] LU-FF53.snv.filtered.clean.processed.annot.vcf.gz: 110000 variant records processed\n",
      "[KST 2022-04-22 01:53:35 INFO] LU-FF53.snv.filtered.clean.processed.annot.vcf.gz: 120000 variant records processed\n",
      "[KST 2022-04-22 01:53:52 INFO] LU-FF53.snv.filtered.clean.processed.annot.vcf.gz: 130000 variant records processed\n",
      "[KST 2022-04-22 01:54:09 INFO] LU-FF53.snv.filtered.clean.processed.annot.vcf.gz: 140000 variant records processed\n"
     ]
    }
   ],
   "source": [
    "vcfp = VcfPlus(vcf_path, set_annotdb=True)"
   ]
  },
  {
   "cell_type": "code",
   "execution_count": 9,
   "metadata": {},
   "outputs": [
    {
     "data": {
      "text/plain": [
       "{'coding_score': \u001b[38;5;93mNone\u001b[0m,\n",
       " 'id': \u001b[38;5;93mNone\u001b[0m,\n",
       " 'max_occur_count': \u001b[38;5;93mNone\u001b[0m,\n",
       " 'max_occur_count_somatic': \u001b[38;5;93mNone\u001b[0m,\n",
       " 'max_occur_portion': \u001b[38;5;93mNone\u001b[0m,\n",
       " 'max_occur_portion_somatic': \u001b[38;5;93mNone\u001b[0m,\n",
       " 'max_occur_site': \u001b[38;5;93mNone\u001b[0m,\n",
       " 'max_occur_site_somatic': \u001b[38;5;93mNone\u001b[0m,\n",
       " 'noncoding_score': \u001b[38;5;93mNone\u001b[0m,\n",
       " 'occurrence': \u001b[38;5;93mNone\u001b[0m,\n",
       " 'occurrence_somatic': \u001b[38;5;93mNone\u001b[0m,\n",
       " 'portion': \u001b[38;5;93mNone\u001b[0m,\n",
       " 'portion_somatic': \u001b[38;5;93mNone\u001b[0m,\n",
       " 'total_occurrence': \u001b[38;5;93mNone\u001b[0m,\n",
       " 'total_occurrence_somatic': \u001b[38;5;93mNone\u001b[0m,\n",
       " 'total_portion': \u001b[38;5;93mNone\u001b[0m,\n",
       " 'total_portion_somatic': \u001b[38;5;93mNone\u001b[0m}"
      ]
     },
     "execution_count": 9,
     "metadata": {},
     "output_type": "execute_result"
    }
   ],
   "source": [
    "vcfp.vplist[0].annotdb.cosmic"
   ]
  },
  {
   "cell_type": "code",
   "execution_count": 35,
   "metadata": {},
   "outputs": [],
   "source": [
    "def vpfilter(vp):\n",
    "    return (vp.annotdb.cosmic['total_occurrence'] is not None and \n",
    "            vp.annotdb.cosmic['total_occurrence'] > 5)"
   ]
  },
  {
   "cell_type": "code",
   "execution_count": 36,
   "metadata": {},
   "outputs": [],
   "source": [
    "vcfp.filter_vplist(vpfilter)"
   ]
  },
  {
   "cell_type": "code",
   "execution_count": 45,
   "metadata": {},
   "outputs": [],
   "source": [
    "vcfp.filter_vplist(vpfilters.get_genename_filter(['TP53', 'EGFR']))"
   ]
  },
  {
   "cell_type": "code",
   "execution_count": 54,
   "metadata": {},
   "outputs": [],
   "source": [
    "vcfp.filter_vplist(vpfilters.PROTEIN_ALTERING)"
   ]
  },
  {
   "cell_type": "code",
   "execution_count": 62,
   "metadata": {},
   "outputs": [
    {
     "data": {
      "text/plain": [
       "<VcfPlus object>\n",
       "- refver: hg19\n",
       "- vplist:\n",
       "    [<VariantPlus object (1\t719165\t1_719165_C_G\tC\tG)>,\n",
       "     <VariantPlus object (1\t755369\t1_755369_C_T\tC\tT)>,\n",
       "     <VariantPlus object (1\t769079\t1_769079_G_T\tG\tT)>,\n",
       "     <VariantPlus object (1\t828535\t1_828535_A_G\tA\tG)>,\n",
       "     <VariantPlus object (1\t875417\t1_875417_G_T\tG\tT)>,\n",
       "     <VariantPlus object (1\t896782\t1_896782_C_T\tC\tT)>,\n",
       "     <VariantPlus object (1\t974411\t1_974411_A_T\tA\tT)>,\n",
       "     <VariantPlus object (1\t1021592\t1_1021592_C_A\tC\tA)>,\n",
       "     <VariantPlus object (1\t1060732\t1_1060732_C_A\tC\tA)>,\n",
       "     <VariantPlus object (1\t1105516\t1_1105516_T_C\tT\tC)>,\n",
       "     <VariantPlus object (1\t1133668\t1_1133668_C_T\tC\tT)>,\n",
       "     <VariantPlus object (1\t1183039\t1_1183039_C_T\tC\tT)>,\n",
       "     <VariantPlus object (1\t1237051\t1_1237051_C_A\tC\tA)>,\n",
       "     <VariantPlus object (1\t1269197\t1_1269197_C_A\tC\tA)>,\n",
       "     <VariantPlus object (1\t1309846\t1_1309846_C_T\tC\tT)>,\n",
       "     <VariantPlus object (1\t1318853\t1_1318853_T_C\tT\tC)>,\n",
       "     <VariantPlus object (1\t1481618\t1_1481618_T_C\tT\tC)>,\n",
       "     <VariantPlus object (1\t1850440\t1_1850440_C_G\tC\tG)>,\n",
       "     <VariantPlus object (1\t1857116\t1_1857116_G_T\tG\tT)>,\n",
       "     <VariantPlus object (1\t1915288\t1_1915288_C_A\tC\tA)>,\n",
       "     <VariantPlus object (1\t1975724\t1_1975724_G_A\tG\tA)>,\n",
       "     <VariantPlus object (1\t2224439\t1_2224439_G_T\tG\tT)>,\n",
       "     <VariantPlus object (1\t2323811\t1_2323811_C_A\tC\tA)>,\n",
       "     <VariantPlus object (1\t2326277\t1_2326277_C_T\tC\tT)>,\n",
       "     <VariantPlus object (1\t2326283\t1_2326283_C_T\tC\tT)>,\n",
       "     <VariantPlus object (1\t2353659\t1_2353659_G_A\tG\tA)>,\n",
       "     <VariantPlus object (1\t2525239\t1_2525239_G_C\tG\tC)>,\n",
       "     <VariantPlus object (1\t2580349\t1_2580349_G_T\tG\tT)>,\n",
       "     <VariantPlus object (1\t2713299\t1_2713299_C_A\tC\tA)>,\n",
       "     <VariantPlus object (1\t2717189\t1_2717189_C_A\tC\tA)>]\n",
       "    ...\n",
       "    143877 VariantPlus objects\n",
       "- vplist_filtered:\n",
       "    [<VariantPlus object (1\t896782\t1_896782_C_T\tC\tT)>,\n",
       "     <VariantPlus object (1\t1269197\t1_1269197_C_A\tC\tA)>,\n",
       "     <VariantPlus object (1\t3599689\t1_3599689_G_T\tG\tT)>,\n",
       "     <VariantPlus object (1\t10511601\t1_10511601_C_G\tC\tG)>,\n",
       "     <VariantPlus object (1\t11826543\t1_11826543_C_A\tC\tA)>,\n",
       "     <VariantPlus object (1\t11827126\t1_11827126_C_A\tC\tA)>,\n",
       "     <VariantPlus object (1\t13910413\t1_13910413_C_T\tC\tT)>,\n",
       "     <VariantPlus object (1\t17739638\t1_17739638_C_T\tC\tT)>,\n",
       "     <VariantPlus object (1\t20827704\t1_20827704_T_A\tT\tA)>,\n",
       "     <VariantPlus object (1\t23285255\t1_23285255_A_G\tA\tG)>,\n",
       "     <VariantPlus object (1\t26488287\t1_26488287_T_A\tT\tA)>,\n",
       "     <VariantPlus object (1\t31532211\t1_31532211_G_C\tG\tC)>,\n",
       "     <VariantPlus object (1\t43316882\t1_43316882_A_G\tA\tG)>,\n",
       "     <VariantPlus object (1\t43783625\t1_43783625_T_C\tT\tC)>,\n",
       "     <VariantPlus object (1\t55069587\t1_55069587_G_T\tG\tT)>,\n",
       "     <VariantPlus object (1\t63008348\t1_63008348_C_A\tC\tA)>,\n",
       "     <VariantPlus object (1\t64240111\t1_64240111_G_T\tG\tT)>,\n",
       "     <VariantPlus object (1\t65775568\t1_65775568_C_A\tC\tA)>,\n",
       "     <VariantPlus object (1\t74507042\t1_74507042_G_T\tG\tT)>,\n",
       "     <VariantPlus object (1\t76378477\t1_76378477_C_T\tC\tT)>,\n",
       "     <VariantPlus object (1\t85930645\t1_85930645_G_T\tG\tT)>,\n",
       "     <VariantPlus object (1\t91403973\t1_91403973_T_G\tT\tG)>,\n",
       "     <VariantPlus object (1\t92181894\t1_92181894_C_T\tC\tT)>,\n",
       "     <VariantPlus object (1\t92442711\t1_92442711_C_T\tC\tT)>,\n",
       "     <VariantPlus object (1\t92647959\t1_92647959_G_C\tG\tC)>,\n",
       "     <VariantPlus object (1\t94002006\t1_94002006_G_T\tG\tT)>,\n",
       "     <VariantPlus object (1\t103355072\t1_103355072_C_A\tC\tA)>,\n",
       "     <VariantPlus object (1\t103356015\t1_103356015_C_A\tC\tA)>,\n",
       "     <VariantPlus object (1\t108160209\t1_108160209_C_A\tC\tA)>,\n",
       "     <VariantPlus object (1\t108299886\t1_108299886_C_A\tC\tA)>]\n",
       "    ...\n",
       "    792 VariantPlus objects"
      ]
     },
     "execution_count": 62,
     "metadata": {},
     "output_type": "execute_result"
    }
   ],
   "source": [
    "vcfp"
   ]
  },
  {
   "cell_type": "code",
   "execution_count": null,
   "metadata": {},
   "outputs": [],
   "source": []
  },
  {
   "cell_type": "code",
   "execution_count": 66,
   "metadata": {},
   "outputs": [],
   "source": [
    "vcfp.filter_vplist(vpfilters.NOT_PROTEIN_ALTERING)"
   ]
  },
  {
   "cell_type": "code",
   "execution_count": 67,
   "metadata": {},
   "outputs": [
    {
     "data": {
      "text/plain": [
       "<VcfPlus object>\n",
       "- refver: hg19\n",
       "- vplist:\n",
       "    [<VariantPlus object (1\t719165\t1_719165_C_G\tC\tG)>,\n",
       "     <VariantPlus object (1\t755369\t1_755369_C_T\tC\tT)>,\n",
       "     <VariantPlus object (1\t769079\t1_769079_G_T\tG\tT)>,\n",
       "     <VariantPlus object (1\t828535\t1_828535_A_G\tA\tG)>,\n",
       "     <VariantPlus object (1\t875417\t1_875417_G_T\tG\tT)>,\n",
       "     <VariantPlus object (1\t896782\t1_896782_C_T\tC\tT)>,\n",
       "     <VariantPlus object (1\t974411\t1_974411_A_T\tA\tT)>,\n",
       "     <VariantPlus object (1\t1021592\t1_1021592_C_A\tC\tA)>,\n",
       "     <VariantPlus object (1\t1060732\t1_1060732_C_A\tC\tA)>,\n",
       "     <VariantPlus object (1\t1105516\t1_1105516_T_C\tT\tC)>,\n",
       "     <VariantPlus object (1\t1133668\t1_1133668_C_T\tC\tT)>,\n",
       "     <VariantPlus object (1\t1183039\t1_1183039_C_T\tC\tT)>,\n",
       "     <VariantPlus object (1\t1237051\t1_1237051_C_A\tC\tA)>,\n",
       "     <VariantPlus object (1\t1269197\t1_1269197_C_A\tC\tA)>,\n",
       "     <VariantPlus object (1\t1309846\t1_1309846_C_T\tC\tT)>,\n",
       "     <VariantPlus object (1\t1318853\t1_1318853_T_C\tT\tC)>,\n",
       "     <VariantPlus object (1\t1481618\t1_1481618_T_C\tT\tC)>,\n",
       "     <VariantPlus object (1\t1850440\t1_1850440_C_G\tC\tG)>,\n",
       "     <VariantPlus object (1\t1857116\t1_1857116_G_T\tG\tT)>,\n",
       "     <VariantPlus object (1\t1915288\t1_1915288_C_A\tC\tA)>,\n",
       "     <VariantPlus object (1\t1975724\t1_1975724_G_A\tG\tA)>,\n",
       "     <VariantPlus object (1\t2224439\t1_2224439_G_T\tG\tT)>,\n",
       "     <VariantPlus object (1\t2323811\t1_2323811_C_A\tC\tA)>,\n",
       "     <VariantPlus object (1\t2326277\t1_2326277_C_T\tC\tT)>,\n",
       "     <VariantPlus object (1\t2326283\t1_2326283_C_T\tC\tT)>,\n",
       "     <VariantPlus object (1\t2353659\t1_2353659_G_A\tG\tA)>,\n",
       "     <VariantPlus object (1\t2525239\t1_2525239_G_C\tG\tC)>,\n",
       "     <VariantPlus object (1\t2580349\t1_2580349_G_T\tG\tT)>,\n",
       "     <VariantPlus object (1\t2713299\t1_2713299_C_A\tC\tA)>,\n",
       "     <VariantPlus object (1\t2717189\t1_2717189_C_A\tC\tA)>]\n",
       "    ...\n",
       "    143877 VariantPlus objects\n",
       "- vplist_filtered:\n",
       "    [<VariantPlus object (1\t719165\t1_719165_C_G\tC\tG)>,\n",
       "     <VariantPlus object (1\t755369\t1_755369_C_T\tC\tT)>,\n",
       "     <VariantPlus object (1\t769079\t1_769079_G_T\tG\tT)>,\n",
       "     <VariantPlus object (1\t875417\t1_875417_G_T\tG\tT)>,\n",
       "     <VariantPlus object (1\t896782\t1_896782_C_T\tC\tT)>,\n",
       "     <VariantPlus object (1\t974411\t1_974411_A_T\tA\tT)>,\n",
       "     <VariantPlus object (1\t1021592\t1_1021592_C_A\tC\tA)>,\n",
       "     <VariantPlus object (1\t1105516\t1_1105516_T_C\tT\tC)>,\n",
       "     <VariantPlus object (1\t1133668\t1_1133668_C_T\tC\tT)>,\n",
       "     <VariantPlus object (1\t1183039\t1_1183039_C_T\tC\tT)>,\n",
       "     <VariantPlus object (1\t1237051\t1_1237051_C_A\tC\tA)>,\n",
       "     <VariantPlus object (1\t1269197\t1_1269197_C_A\tC\tA)>,\n",
       "     <VariantPlus object (1\t1309846\t1_1309846_C_T\tC\tT)>,\n",
       "     <VariantPlus object (1\t1318853\t1_1318853_T_C\tT\tC)>,\n",
       "     <VariantPlus object (1\t1481618\t1_1481618_T_C\tT\tC)>,\n",
       "     <VariantPlus object (1\t1850440\t1_1850440_C_G\tC\tG)>,\n",
       "     <VariantPlus object (1\t1857116\t1_1857116_G_T\tG\tT)>,\n",
       "     <VariantPlus object (1\t2224439\t1_2224439_G_T\tG\tT)>,\n",
       "     <VariantPlus object (1\t2323811\t1_2323811_C_A\tC\tA)>,\n",
       "     <VariantPlus object (1\t2326277\t1_2326277_C_T\tC\tT)>,\n",
       "     <VariantPlus object (1\t2326283\t1_2326283_C_T\tC\tT)>,\n",
       "     <VariantPlus object (1\t2525239\t1_2525239_G_C\tG\tC)>,\n",
       "     <VariantPlus object (1\t2580349\t1_2580349_G_T\tG\tT)>,\n",
       "     <VariantPlus object (1\t2934864\t1_2934864_C_A\tC\tA)>,\n",
       "     <VariantPlus object (1\t2935395\t1_2935395_G_T\tG\tT)>,\n",
       "     <VariantPlus object (1\t3002550\t1_3002550_A_G\tA\tG)>,\n",
       "     <VariantPlus object (1\t3005716\t1_3005716_G_T\tG\tT)>,\n",
       "     <VariantPlus object (1\t3067979\t1_3067979_G_T\tG\tT)>,\n",
       "     <VariantPlus object (1\t3113597\t1_3113597_G_A\tG\tA)>,\n",
       "     <VariantPlus object (1\t3128031\t1_3128031_C_G\tC\tG)>]\n",
       "    ...\n",
       "    65399 VariantPlus objects"
      ]
     },
     "execution_count": 67,
     "metadata": {},
     "output_type": "execute_result"
    }
   ],
   "source": [
    "vcfp"
   ]
  },
  {
   "cell_type": "code",
   "execution_count": null,
   "metadata": {},
   "outputs": [],
   "source": []
  },
  {
   "cell_type": "code",
   "execution_count": 79,
   "metadata": {},
   "outputs": [],
   "source": [
    "def vpfilter(vp):\n",
    "    return vp.check_intergenic()"
   ]
  },
  {
   "cell_type": "code",
   "execution_count": 81,
   "metadata": {},
   "outputs": [],
   "source": [
    "vcfp.filter_vplist(vpfilter)"
   ]
  },
  {
   "cell_type": "code",
   "execution_count": null,
   "metadata": {},
   "outputs": [],
   "source": []
  },
  {
   "cell_type": "code",
   "execution_count": null,
   "metadata": {},
   "outputs": [],
   "source": []
  },
  {
   "cell_type": "code",
   "execution_count": 63,
   "metadata": {},
   "outputs": [],
   "source": [
    "import random"
   ]
  },
  {
   "cell_type": "code",
   "execution_count": 75,
   "metadata": {},
   "outputs": [],
   "source": [
    "vp = random.choice(vcfp.vplist_filtered)"
   ]
  },
  {
   "cell_type": "code",
   "execution_count": 76,
   "metadata": {},
   "outputs": [
    {
     "data": {
      "text/plain": [
       "{}"
      ]
     },
     "execution_count": 76,
     "metadata": {},
     "output_type": "execute_result"
    }
   ],
   "source": [
    "vp.annotdb.transcript"
   ]
  },
  {
   "cell_type": "code",
   "execution_count": 46,
   "metadata": {},
   "outputs": [
    {
     "name": "stdout",
     "output_type": "stream",
     "text": [
      "['EGFR']\n",
      "['EGFR']\n",
      "['EGFR', 'EGFR-AS1']\n",
      "['EGFR']\n",
      "['EGFR']\n",
      "['TP53']\n"
     ]
    }
   ],
   "source": [
    "for vp in vcfp.vplist_filtered:\n",
    "    print(vp.get_gene_names())"
   ]
  },
  {
   "cell_type": "code",
   "execution_count": null,
   "metadata": {},
   "outputs": [],
   "source": []
  },
  {
   "cell_type": "code",
   "execution_count": 13,
   "metadata": {},
   "outputs": [
    {
     "name": "stdout",
     "output_type": "stream",
     "text": [
      "2695\n",
      "2\n"
     ]
    }
   ],
   "source": [
    "print(len(vcfp.vplist))\n",
    "print(len(vcfp.vplist_filtered))"
   ]
  },
  {
   "cell_type": "code",
   "execution_count": 22,
   "metadata": {},
   "outputs": [
    {
     "name": "stdout",
     "output_type": "stream",
     "text": [
      "{'coding_score': \u001b[38;5;93mNone\u001b[0m,\n",
      " 'id': \u001b[38;5;93mNone\u001b[0m,\n",
      " 'max_occur_count': \u001b[38;5;93mNone\u001b[0m,\n",
      " 'max_occur_count_somatic': \u001b[38;5;93mNone\u001b[0m,\n",
      " 'max_occur_portion': \u001b[38;5;93mNone\u001b[0m,\n",
      " 'max_occur_portion_somatic': \u001b[38;5;93mNone\u001b[0m,\n",
      " 'max_occur_site': \u001b[38;5;93mNone\u001b[0m,\n",
      " 'max_occur_site_somatic': \u001b[38;5;93mNone\u001b[0m,\n",
      " 'noncoding_score': \u001b[38;5;93mNone\u001b[0m,\n",
      " 'occurrence': \u001b[38;5;93mNone\u001b[0m,\n",
      " 'occurrence_somatic': \u001b[38;5;93mNone\u001b[0m,\n",
      " 'portion': \u001b[38;5;93mNone\u001b[0m,\n",
      " 'portion_somatic': \u001b[38;5;93mNone\u001b[0m,\n",
      " 'total_occurrence': \u001b[38;5;93mNone\u001b[0m,\n",
      " 'total_occurrence_somatic': \u001b[38;5;93mNone\u001b[0m,\n",
      " 'total_portion': \u001b[38;5;93mNone\u001b[0m,\n",
      " 'total_portion_somatic': \u001b[38;5;93mNone\u001b[0m}\n"
     ]
    }
   ],
   "source": [
    "print(vcfp.vplist_filtered[0].annotdb.cosmic)"
   ]
  },
  {
   "cell_type": "code",
   "execution_count": null,
   "metadata": {},
   "outputs": [],
   "source": []
  },
  {
   "cell_type": "code",
   "execution_count": 14,
   "metadata": {},
   "outputs": [],
   "source": [
    "out_vcf_path = '/home/users/pjh/tmp/zzz.out.vcf.gz'"
   ]
  },
  {
   "cell_type": "code",
   "execution_count": 15,
   "metadata": {},
   "outputs": [
    {
     "name": "stderr",
     "output_type": "stream",
     "text": [
      "[KST 2022-04-21 22:00:14 INFO] LU-6.snv.annot.filtered.clean.annot.vcf.gz: Sorting self.vplist\n"
     ]
    }
   ],
   "source": [
    "vcfp.write(out_vcf_path)"
   ]
  },
  {
   "cell_type": "code",
   "execution_count": null,
   "metadata": {},
   "outputs": [],
   "source": []
  },
  {
   "cell_type": "code",
   "execution_count": 17,
   "metadata": {},
   "outputs": [
    {
     "data": {
      "text/plain": [
       "{'ENST00000337907': {'aa_change': \u001b[38;5;93mNone\u001b[0m,\n",
       "                     'biotype': 'protein_coding',\n",
       "                     'ccds_id': 'CCDS95.1',\n",
       "                     'chrom': 1,\n",
       "                     'codon_change': \u001b[38;5;93mNone\u001b[0m,\n",
       "                     'codon_frame0': \u001b[38;5;93mNone\u001b[0m,\n",
       "                     'consequence_flags': {'is_3pUTR_involved': \u001b[38;5;196mFalse\u001b[0m,\n",
       "                                           'is_5pUTR_involved': \u001b[38;5;196mFalse\u001b[0m,\n",
       "                                           'is_SV_consequence': \u001b[38;5;196mFalse\u001b[0m,\n",
       "                                           'is_frameshift': \u001b[38;5;196mFalse\u001b[0m,\n",
       "                                           'is_missense': \u001b[38;5;196mFalse\u001b[0m,\n",
       "                                           'is_not_protein_altering': \u001b[38;5;40mTrue\u001b[0m,\n",
       "                                           'is_protein_altering': \u001b[38;5;196mFalse\u001b[0m,\n",
       "                                           'is_splice_acceptor_involved': \u001b[38;5;196mFalse\u001b[0m,\n",
       "                                           'is_splice_donor_involved': \u001b[38;5;196mFalse\u001b[0m,\n",
       "                                           'is_splice_region_involved': \u001b[38;5;196mFalse\u001b[0m,\n",
       "                                           'is_startlost': \u001b[38;5;196mFalse\u001b[0m,\n",
       "                                           'is_stopgain': \u001b[38;5;196mFalse\u001b[0m,\n",
       "                                           'is_stoplost': \u001b[38;5;196mFalse\u001b[0m,\n",
       "                                           'is_synonymous': \u001b[38;5;196mFalse\u001b[0m,\n",
       "                                           'is_unclassified': \u001b[38;5;196mFalse\u001b[0m},\n",
       "                     'consequences': ['intron_variant'],\n",
       "                     'distance': \u001b[38;5;93mNone\u001b[0m,\n",
       "                     'end0': 8877524,\n",
       "                     'end1': 8877524,\n",
       "                     'feature_type': 'transcript',\n",
       "                     'feature_type_flags': {'is_motif': \u001b[38;5;196mFalse\u001b[0m,\n",
       "                                            'is_regulatory': \u001b[38;5;196mFalse\u001b[0m,\n",
       "                                            'is_repeat': \u001b[38;5;196mFalse\u001b[0m,\n",
       "                                            'is_transcript': \u001b[38;5;40mTrue\u001b[0m},\n",
       "                     'gene_id': 'ENSG00000142599',\n",
       "                     'gene_name': 'RERE',\n",
       "                     'hgvsc': 'ENST00000337907.3:c.726-5734T>C',\n",
       "                     'hgvsp': \u001b[38;5;93mNone\u001b[0m,\n",
       "                     'id': 'ENST00000337907',\n",
       "                     'involved_exons': \u001b[38;5;93mNone\u001b[0m,\n",
       "                     'involved_introns': [7],\n",
       "                     'is_canonical': \u001b[38;5;40mTrue\u001b[0m,\n",
       "                     'is_exon_involved': \u001b[38;5;196mFalse\u001b[0m,\n",
       "                     'is_forward': \u001b[38;5;196mFalse\u001b[0m,\n",
       "                     'is_intron_involved': \u001b[38;5;40mTrue\u001b[0m,\n",
       "                     'mane_select': \u001b[38;5;93mNone\u001b[0m,\n",
       "                     'polyphen_prediction': \u001b[38;5;93mNone\u001b[0m,\n",
       "                     'polyphen_score': \u001b[38;5;93mNone\u001b[0m,\n",
       "                     'protein_id': 'ENSP00000338629',\n",
       "                     'refseq_id': 'NM_012102.3',\n",
       "                     'sift_prediction': \u001b[38;5;93mNone\u001b[0m,\n",
       "                     'sift_score': \u001b[38;5;93mNone\u001b[0m,\n",
       "                     'start0': 8412456,\n",
       "                     'start1': 8412457,\n",
       "                     'transcript_name': 'RERE-001',\n",
       "                     'transcript_subtype_flags': {'is_IG': \u001b[38;5;196mFalse\u001b[0m,\n",
       "                                                  'is_IG_pseudogene': \u001b[38;5;196mFalse\u001b[0m,\n",
       "                                                  'is_NMD': \u001b[38;5;196mFalse\u001b[0m,\n",
       "                                                  'is_NSD': \u001b[38;5;196mFalse\u001b[0m,\n",
       "                                                  'is_TR': \u001b[38;5;196mFalse\u001b[0m,\n",
       "                                                  'is_TR_pseudogene': \u001b[38;5;196mFalse\u001b[0m,\n",
       "                                                  'is_antisense': \u001b[38;5;196mFalse\u001b[0m,\n",
       "                                                  'is_coding': \u001b[38;5;40mTrue\u001b[0m,\n",
       "                                                  'is_lncRNA': \u001b[38;5;196mFalse\u001b[0m,\n",
       "                                                  'is_miRNA': \u001b[38;5;196mFalse\u001b[0m,\n",
       "                                                  'is_noncoding': \u001b[38;5;196mFalse\u001b[0m,\n",
       "                                                  'is_processed_pseudogene': \u001b[38;5;196mFalse\u001b[0m,\n",
       "                                                  'is_pseudogene': \u001b[38;5;196mFalse\u001b[0m,\n",
       "                                                  'is_rRNA': \u001b[38;5;196mFalse\u001b[0m,\n",
       "                                                  'is_tRNA': \u001b[38;5;196mFalse\u001b[0m,\n",
       "                                                  'is_transcribed_pseudogene': \u001b[38;5;196mFalse\u001b[0m,\n",
       "                                                  'is_translated_pseudogene': \u001b[38;5;196mFalse\u001b[0m,\n",
       "                                                  'is_unitary_pseudogene': \u001b[38;5;196mFalse\u001b[0m,\n",
       "                                                  'is_unknown_type': \u001b[38;5;196mFalse\u001b[0m,\n",
       "                                                  'is_unprocessed_pseudogene': \u001b[38;5;196mFalse\u001b[0m},\n",
       "                     'variant_pos_cds': \u001b[38;5;93mNone\u001b[0m,\n",
       "                     'variant_pos_protein': \u001b[38;5;93mNone\u001b[0m,\n",
       "                     'variant_pos_transcript': \u001b[38;5;93mNone\u001b[0m},\n",
       " 'ENST00000400907': {'aa_change': \u001b[38;5;93mNone\u001b[0m,\n",
       "                     'biotype': 'protein_coding',\n",
       "                     'ccds_id': \u001b[38;5;93mNone\u001b[0m,\n",
       "                     'chrom': 1,\n",
       "                     'codon_change': \u001b[38;5;93mNone\u001b[0m,\n",
       "                     'codon_frame0': \u001b[38;5;93mNone\u001b[0m,\n",
       "                     'consequence_flags': {'is_3pUTR_involved': \u001b[38;5;196mFalse\u001b[0m,\n",
       "                                           'is_5pUTR_involved': \u001b[38;5;196mFalse\u001b[0m,\n",
       "                                           'is_SV_consequence': \u001b[38;5;196mFalse\u001b[0m,\n",
       "                                           'is_frameshift': \u001b[38;5;196mFalse\u001b[0m,\n",
       "                                           'is_missense': \u001b[38;5;196mFalse\u001b[0m,\n",
       "                                           'is_not_protein_altering': \u001b[38;5;40mTrue\u001b[0m,\n",
       "                                           'is_protein_altering': \u001b[38;5;196mFalse\u001b[0m,\n",
       "                                           'is_splice_acceptor_involved': \u001b[38;5;196mFalse\u001b[0m,\n",
       "                                           'is_splice_donor_involved': \u001b[38;5;196mFalse\u001b[0m,\n",
       "                                           'is_splice_region_involved': \u001b[38;5;196mFalse\u001b[0m,\n",
       "                                           'is_startlost': \u001b[38;5;196mFalse\u001b[0m,\n",
       "                                           'is_stopgain': \u001b[38;5;196mFalse\u001b[0m,\n",
       "                                           'is_stoplost': \u001b[38;5;196mFalse\u001b[0m,\n",
       "                                           'is_synonymous': \u001b[38;5;196mFalse\u001b[0m,\n",
       "                                           'is_unclassified': \u001b[38;5;196mFalse\u001b[0m},\n",
       "                     'consequences': ['intron_variant'],\n",
       "                     'distance': \u001b[38;5;93mNone\u001b[0m,\n",
       "                     'end0': 8716430,\n",
       "                     'end1': 8716430,\n",
       "                     'feature_type': 'transcript',\n",
       "                     'feature_type_flags': {'is_motif': \u001b[38;5;196mFalse\u001b[0m,\n",
       "                                            'is_regulatory': \u001b[38;5;196mFalse\u001b[0m,\n",
       "                                            'is_repeat': \u001b[38;5;196mFalse\u001b[0m,\n",
       "                                            'is_transcript': \u001b[38;5;40mTrue\u001b[0m},\n",
       "                     'gene_id': 'ENSG00000142599',\n",
       "                     'gene_name': 'RERE',\n",
       "                     'hgvsc': 'ENST00000400907.2:c.726-5734T>C',\n",
       "                     'hgvsp': \u001b[38;5;93mNone\u001b[0m,\n",
       "                     'id': 'ENST00000400907',\n",
       "                     'involved_exons': \u001b[38;5;93mNone\u001b[0m,\n",
       "                     'involved_introns': [5],\n",
       "                     'is_canonical': \u001b[38;5;196mFalse\u001b[0m,\n",
       "                     'is_exon_involved': \u001b[38;5;196mFalse\u001b[0m,\n",
       "                     'is_forward': \u001b[38;5;196mFalse\u001b[0m,\n",
       "                     'is_intron_involved': \u001b[38;5;40mTrue\u001b[0m,\n",
       "                     'mane_select': \u001b[38;5;93mNone\u001b[0m,\n",
       "                     'polyphen_prediction': \u001b[38;5;93mNone\u001b[0m,\n",
       "                     'polyphen_score': \u001b[38;5;93mNone\u001b[0m,\n",
       "                     'protein_id': 'ENSP00000383699',\n",
       "                     'refseq_id': \u001b[38;5;93mNone\u001b[0m,\n",
       "                     'sift_prediction': \u001b[38;5;93mNone\u001b[0m,\n",
       "                     'sift_score': \u001b[38;5;93mNone\u001b[0m,\n",
       "                     'start0': 8414002,\n",
       "                     'start1': 8414003,\n",
       "                     'transcript_name': 'RERE-015',\n",
       "                     'transcript_subtype_flags': {'is_IG': \u001b[38;5;196mFalse\u001b[0m,\n",
       "                                                  'is_IG_pseudogene': \u001b[38;5;196mFalse\u001b[0m,\n",
       "                                                  'is_NMD': \u001b[38;5;196mFalse\u001b[0m,\n",
       "                                                  'is_NSD': \u001b[38;5;196mFalse\u001b[0m,\n",
       "                                                  'is_TR': \u001b[38;5;196mFalse\u001b[0m,\n",
       "                                                  'is_TR_pseudogene': \u001b[38;5;196mFalse\u001b[0m,\n",
       "                                                  'is_antisense': \u001b[38;5;196mFalse\u001b[0m,\n",
       "                                                  'is_coding': \u001b[38;5;40mTrue\u001b[0m,\n",
       "                                                  'is_lncRNA': \u001b[38;5;196mFalse\u001b[0m,\n",
       "                                                  'is_miRNA': \u001b[38;5;196mFalse\u001b[0m,\n",
       "                                                  'is_noncoding': \u001b[38;5;196mFalse\u001b[0m,\n",
       "                                                  'is_processed_pseudogene': \u001b[38;5;196mFalse\u001b[0m,\n",
       "                                                  'is_pseudogene': \u001b[38;5;196mFalse\u001b[0m,\n",
       "                                                  'is_rRNA': \u001b[38;5;196mFalse\u001b[0m,\n",
       "                                                  'is_tRNA': \u001b[38;5;196mFalse\u001b[0m,\n",
       "                                                  'is_transcribed_pseudogene': \u001b[38;5;196mFalse\u001b[0m,\n",
       "                                                  'is_translated_pseudogene': \u001b[38;5;196mFalse\u001b[0m,\n",
       "                                                  'is_unitary_pseudogene': \u001b[38;5;196mFalse\u001b[0m,\n",
       "                                                  'is_unknown_type': \u001b[38;5;196mFalse\u001b[0m,\n",
       "                                                  'is_unprocessed_pseudogene': \u001b[38;5;196mFalse\u001b[0m},\n",
       "                     'variant_pos_cds': \u001b[38;5;93mNone\u001b[0m,\n",
       "                     'variant_pos_protein': \u001b[38;5;93mNone\u001b[0m,\n",
       "                     'variant_pos_transcript': \u001b[38;5;93mNone\u001b[0m},\n",
       " 'ENST00000400908': {'aa_change': \u001b[38;5;93mNone\u001b[0m,\n",
       "                     'biotype': 'protein_coding',\n",
       "                     'ccds_id': 'CCDS95.1',\n",
       "                     'chrom': 1,\n",
       "                     'codon_change': \u001b[38;5;93mNone\u001b[0m,\n",
       "                     'codon_frame0': \u001b[38;5;93mNone\u001b[0m,\n",
       "                     'consequence_flags': {'is_3pUTR_involved': \u001b[38;5;196mFalse\u001b[0m,\n",
       "                                           'is_5pUTR_involved': \u001b[38;5;196mFalse\u001b[0m,\n",
       "                                           'is_SV_consequence': \u001b[38;5;196mFalse\u001b[0m,\n",
       "                                           'is_frameshift': \u001b[38;5;196mFalse\u001b[0m,\n",
       "                                           'is_missense': \u001b[38;5;196mFalse\u001b[0m,\n",
       "                                           'is_not_protein_altering': \u001b[38;5;40mTrue\u001b[0m,\n",
       "                                           'is_protein_altering': \u001b[38;5;196mFalse\u001b[0m,\n",
       "                                           'is_splice_acceptor_involved': \u001b[38;5;196mFalse\u001b[0m,\n",
       "                                           'is_splice_donor_involved': \u001b[38;5;196mFalse\u001b[0m,\n",
       "                                           'is_splice_region_involved': \u001b[38;5;196mFalse\u001b[0m,\n",
       "                                           'is_startlost': \u001b[38;5;196mFalse\u001b[0m,\n",
       "                                           'is_stopgain': \u001b[38;5;196mFalse\u001b[0m,\n",
       "                                           'is_stoplost': \u001b[38;5;196mFalse\u001b[0m,\n",
       "                                           'is_synonymous': \u001b[38;5;196mFalse\u001b[0m,\n",
       "                                           'is_unclassified': \u001b[38;5;196mFalse\u001b[0m},\n",
       "                     'consequences': ['intron_variant'],\n",
       "                     'distance': \u001b[38;5;93mNone\u001b[0m,\n",
       "                     'end0': 8877702,\n",
       "                     'end1': 8877702,\n",
       "                     'feature_type': 'transcript',\n",
       "                     'feature_type_flags': {'is_motif': \u001b[38;5;196mFalse\u001b[0m,\n",
       "                                            'is_regulatory': \u001b[38;5;196mFalse\u001b[0m,\n",
       "                                            'is_repeat': \u001b[38;5;196mFalse\u001b[0m,\n",
       "                                            'is_transcript': \u001b[38;5;40mTrue\u001b[0m},\n",
       "                     'gene_id': 'ENSG00000142599',\n",
       "                     'gene_name': 'RERE',\n",
       "                     'hgvsc': 'ENST00000400908.2:c.726-5734T>C',\n",
       "                     'hgvsp': \u001b[38;5;93mNone\u001b[0m,\n",
       "                     'id': 'ENST00000400908',\n",
       "                     'involved_exons': \u001b[38;5;93mNone\u001b[0m,\n",
       "                     'involved_introns': [6],\n",
       "                     'is_canonical': \u001b[38;5;196mFalse\u001b[0m,\n",
       "                     'is_exon_involved': \u001b[38;5;196mFalse\u001b[0m,\n",
       "                     'is_forward': \u001b[38;5;196mFalse\u001b[0m,\n",
       "                     'is_intron_involved': \u001b[38;5;40mTrue\u001b[0m,\n",
       "                     'mane_select': \u001b[38;5;93mNone\u001b[0m,\n",
       "                     'polyphen_prediction': \u001b[38;5;93mNone\u001b[0m,\n",
       "                     'polyphen_score': \u001b[38;5;93mNone\u001b[0m,\n",
       "                     'protein_id': 'ENSP00000383700',\n",
       "                     'refseq_id': 'NM_001042681.1',\n",
       "                     'sift_prediction': \u001b[38;5;93mNone\u001b[0m,\n",
       "                     'sift_score': \u001b[38;5;93mNone\u001b[0m,\n",
       "                     'start0': 8414685,\n",
       "                     'start1': 8414686,\n",
       "                     'transcript_name': 'RERE-014',\n",
       "                     'transcript_subtype_flags': {'is_IG': \u001b[38;5;196mFalse\u001b[0m,\n",
       "                                                  'is_IG_pseudogene': \u001b[38;5;196mFalse\u001b[0m,\n",
       "                                                  'is_NMD': \u001b[38;5;196mFalse\u001b[0m,\n",
       "                                                  'is_NSD': \u001b[38;5;196mFalse\u001b[0m,\n",
       "                                                  'is_TR': \u001b[38;5;196mFalse\u001b[0m,\n",
       "                                                  'is_TR_pseudogene': \u001b[38;5;196mFalse\u001b[0m,\n",
       "                                                  'is_antisense': \u001b[38;5;196mFalse\u001b[0m,\n",
       "                                                  'is_coding': \u001b[38;5;40mTrue\u001b[0m,\n",
       "                                                  'is_lncRNA': \u001b[38;5;196mFalse\u001b[0m,\n",
       "                                                  'is_miRNA': \u001b[38;5;196mFalse\u001b[0m,\n",
       "                                                  'is_noncoding': \u001b[38;5;196mFalse\u001b[0m,\n",
       "                                                  'is_processed_pseudogene': \u001b[38;5;196mFalse\u001b[0m,\n",
       "                                                  'is_pseudogene': \u001b[38;5;196mFalse\u001b[0m,\n",
       "                                                  'is_rRNA': \u001b[38;5;196mFalse\u001b[0m,\n",
       "                                                  'is_tRNA': \u001b[38;5;196mFalse\u001b[0m,\n",
       "                                                  'is_transcribed_pseudogene': \u001b[38;5;196mFalse\u001b[0m,\n",
       "                                                  'is_translated_pseudogene': \u001b[38;5;196mFalse\u001b[0m,\n",
       "                                                  'is_unitary_pseudogene': \u001b[38;5;196mFalse\u001b[0m,\n",
       "                                                  'is_unknown_type': \u001b[38;5;196mFalse\u001b[0m,\n",
       "                                                  'is_unprocessed_pseudogene': \u001b[38;5;196mFalse\u001b[0m},\n",
       "                     'variant_pos_cds': \u001b[38;5;93mNone\u001b[0m,\n",
       "                     'variant_pos_protein': \u001b[38;5;93mNone\u001b[0m,\n",
       "                     'variant_pos_transcript': \u001b[38;5;93mNone\u001b[0m},\n",
       " 'ENST00000469251': {'aa_change': \u001b[38;5;93mNone\u001b[0m,\n",
       "                     'biotype': 'processed_transcript',\n",
       "                     'ccds_id': \u001b[38;5;93mNone\u001b[0m,\n",
       "                     'chrom': 1,\n",
       "                     'codon_change': \u001b[38;5;93mNone\u001b[0m,\n",
       "                     'codon_frame0': \u001b[38;5;93mNone\u001b[0m,\n",
       "                     'consequence_flags': {'is_3pUTR_involved': \u001b[38;5;196mFalse\u001b[0m,\n",
       "                                           'is_5pUTR_involved': \u001b[38;5;196mFalse\u001b[0m,\n",
       "                                           'is_SV_consequence': \u001b[38;5;196mFalse\u001b[0m,\n",
       "                                           'is_frameshift': \u001b[38;5;196mFalse\u001b[0m,\n",
       "                                           'is_missense': \u001b[38;5;196mFalse\u001b[0m,\n",
       "                                           'is_not_protein_altering': \u001b[38;5;40mTrue\u001b[0m,\n",
       "                                           'is_protein_altering': \u001b[38;5;196mFalse\u001b[0m,\n",
       "                                           'is_splice_acceptor_involved': \u001b[38;5;196mFalse\u001b[0m,\n",
       "                                           'is_splice_donor_involved': \u001b[38;5;196mFalse\u001b[0m,\n",
       "                                           'is_splice_region_involved': \u001b[38;5;196mFalse\u001b[0m,\n",
       "                                           'is_startlost': \u001b[38;5;196mFalse\u001b[0m,\n",
       "                                           'is_stopgain': \u001b[38;5;196mFalse\u001b[0m,\n",
       "                                           'is_stoplost': \u001b[38;5;196mFalse\u001b[0m,\n",
       "                                           'is_synonymous': \u001b[38;5;196mFalse\u001b[0m,\n",
       "                                           'is_unclassified': \u001b[38;5;196mFalse\u001b[0m},\n",
       "                     'consequences': ['intron_variant',\n",
       "                                      'non_coding_transcript_variant'],\n",
       "                     'distance': \u001b[38;5;93mNone\u001b[0m,\n",
       "                     'end0': 8650900,\n",
       "                     'end1': 8650900,\n",
       "                     'feature_type': 'transcript',\n",
       "                     'feature_type_flags': {'is_motif': \u001b[38;5;196mFalse\u001b[0m,\n",
       "                                            'is_regulatory': \u001b[38;5;196mFalse\u001b[0m,\n",
       "                                            'is_repeat': \u001b[38;5;196mFalse\u001b[0m,\n",
       "                                            'is_transcript': \u001b[38;5;40mTrue\u001b[0m},\n",
       "                     'gene_id': 'ENSG00000142599',\n",
       "                     'gene_name': 'RERE',\n",
       "                     'hgvsc': 'ENST00000469251.1:n.261-5734T>C',\n",
       "                     'hgvsp': \u001b[38;5;93mNone\u001b[0m,\n",
       "                     'id': 'ENST00000469251',\n",
       "                     'involved_exons': \u001b[38;5;93mNone\u001b[0m,\n",
       "                     'involved_introns': [3],\n",
       "                     'is_canonical': \u001b[38;5;196mFalse\u001b[0m,\n",
       "                     'is_exon_involved': \u001b[38;5;196mFalse\u001b[0m,\n",
       "                     'is_forward': \u001b[38;5;196mFalse\u001b[0m,\n",
       "                     'is_intron_involved': \u001b[38;5;40mTrue\u001b[0m,\n",
       "                     'mane_select': \u001b[38;5;93mNone\u001b[0m,\n",
       "                     'polyphen_prediction': \u001b[38;5;93mNone\u001b[0m,\n",
       "                     'polyphen_score': \u001b[38;5;93mNone\u001b[0m,\n",
       "                     'protein_id': \u001b[38;5;93mNone\u001b[0m,\n",
       "                     'refseq_id': \u001b[38;5;93mNone\u001b[0m,\n",
       "                     'sift_prediction': \u001b[38;5;93mNone\u001b[0m,\n",
       "                     'sift_score': \u001b[38;5;93mNone\u001b[0m,\n",
       "                     'start0': 8601282,\n",
       "                     'start1': 8601283,\n",
       "                     'transcript_name': 'RERE-008',\n",
       "                     'transcript_subtype_flags': {'is_IG': \u001b[38;5;196mFalse\u001b[0m,\n",
       "                                                  'is_IG_pseudogene': \u001b[38;5;196mFalse\u001b[0m,\n",
       "                                                  'is_NMD': \u001b[38;5;196mFalse\u001b[0m,\n",
       "                                                  'is_NSD': \u001b[38;5;196mFalse\u001b[0m,\n",
       "                                                  'is_TR': \u001b[38;5;196mFalse\u001b[0m,\n",
       "                                                  'is_TR_pseudogene': \u001b[38;5;196mFalse\u001b[0m,\n",
       "                                                  'is_antisense': \u001b[38;5;196mFalse\u001b[0m,\n",
       "                                                  'is_coding': \u001b[38;5;196mFalse\u001b[0m,\n",
       "                                                  'is_lncRNA': \u001b[38;5;196mFalse\u001b[0m,\n",
       "                                                  'is_miRNA': \u001b[38;5;196mFalse\u001b[0m,\n",
       "                                                  'is_noncoding': \u001b[38;5;40mTrue\u001b[0m,\n",
       "                                                  'is_processed_pseudogene': \u001b[38;5;196mFalse\u001b[0m,\n",
       "                                                  'is_pseudogene': \u001b[38;5;196mFalse\u001b[0m,\n",
       "                                                  'is_rRNA': \u001b[38;5;196mFalse\u001b[0m,\n",
       "                                                  'is_tRNA': \u001b[38;5;196mFalse\u001b[0m,\n",
       "                                                  'is_transcribed_pseudogene': \u001b[38;5;196mFalse\u001b[0m,\n",
       "                                                  'is_translated_pseudogene': \u001b[38;5;196mFalse\u001b[0m,\n",
       "                                                  'is_unitary_pseudogene': \u001b[38;5;196mFalse\u001b[0m,\n",
       "                                                  'is_unknown_type': \u001b[38;5;196mFalse\u001b[0m,\n",
       "                                                  'is_unprocessed_pseudogene': \u001b[38;5;196mFalse\u001b[0m},\n",
       "                     'variant_pos_cds': \u001b[38;5;93mNone\u001b[0m,\n",
       "                     'variant_pos_protein': \u001b[38;5;93mNone\u001b[0m,\n",
       "                     'variant_pos_transcript': \u001b[38;5;93mNone\u001b[0m},\n",
       " 'ENST00000480342': {'aa_change': \u001b[38;5;93mNone\u001b[0m,\n",
       "                     'biotype': 'retained_intron',\n",
       "                     'ccds_id': \u001b[38;5;93mNone\u001b[0m,\n",
       "                     'chrom': 1,\n",
       "                     'codon_change': \u001b[38;5;93mNone\u001b[0m,\n",
       "                     'codon_frame0': \u001b[38;5;93mNone\u001b[0m,\n",
       "                     'consequence_flags': {'is_3pUTR_involved': \u001b[38;5;196mFalse\u001b[0m,\n",
       "                                           'is_5pUTR_involved': \u001b[38;5;196mFalse\u001b[0m,\n",
       "                                           'is_SV_consequence': \u001b[38;5;196mFalse\u001b[0m,\n",
       "                                           'is_frameshift': \u001b[38;5;196mFalse\u001b[0m,\n",
       "                                           'is_missense': \u001b[38;5;196mFalse\u001b[0m,\n",
       "                                           'is_not_protein_altering': \u001b[38;5;40mTrue\u001b[0m,\n",
       "                                           'is_protein_altering': \u001b[38;5;196mFalse\u001b[0m,\n",
       "                                           'is_splice_acceptor_involved': \u001b[38;5;196mFalse\u001b[0m,\n",
       "                                           'is_splice_donor_involved': \u001b[38;5;196mFalse\u001b[0m,\n",
       "                                           'is_splice_region_involved': \u001b[38;5;196mFalse\u001b[0m,\n",
       "                                           'is_startlost': \u001b[38;5;196mFalse\u001b[0m,\n",
       "                                           'is_stopgain': \u001b[38;5;196mFalse\u001b[0m,\n",
       "                                           'is_stoplost': \u001b[38;5;196mFalse\u001b[0m,\n",
       "                                           'is_synonymous': \u001b[38;5;196mFalse\u001b[0m,\n",
       "                                           'is_unclassified': \u001b[38;5;196mFalse\u001b[0m},\n",
       "                     'consequences': ['intron_variant',\n",
       "                                      'non_coding_transcript_variant'],\n",
       "                     'distance': \u001b[38;5;93mNone\u001b[0m,\n",
       "                     'end0': 8813897,\n",
       "                     'end1': 8813897,\n",
       "                     'feature_type': 'transcript',\n",
       "                     'feature_type_flags': {'is_motif': \u001b[38;5;196mFalse\u001b[0m,\n",
       "                                            'is_regulatory': \u001b[38;5;196mFalse\u001b[0m,\n",
       "                                            'is_repeat': \u001b[38;5;196mFalse\u001b[0m,\n",
       "                                            'is_transcript': \u001b[38;5;40mTrue\u001b[0m},\n",
       "                     'gene_id': 'ENSG00000142599',\n",
       "                     'gene_name': 'RERE',\n",
       "                     'hgvsc': 'ENST00000480342.1:n.1278-5734T>C',\n",
       "                     'hgvsp': \u001b[38;5;93mNone\u001b[0m,\n",
       "                     'id': 'ENST00000480342',\n",
       "                     'involved_exons': \u001b[38;5;93mNone\u001b[0m,\n",
       "                     'involved_introns': [6],\n",
       "                     'is_canonical': \u001b[38;5;196mFalse\u001b[0m,\n",
       "                     'is_exon_involved': \u001b[38;5;196mFalse\u001b[0m,\n",
       "                     'is_forward': \u001b[38;5;196mFalse\u001b[0m,\n",
       "                     'is_intron_involved': \u001b[38;5;40mTrue\u001b[0m,\n",
       "                     'mane_select': \u001b[38;5;93mNone\u001b[0m,\n",
       "                     'polyphen_prediction': \u001b[38;5;93mNone\u001b[0m,\n",
       "                     'polyphen_score': \u001b[38;5;93mNone\u001b[0m,\n",
       "                     'protein_id': \u001b[38;5;93mNone\u001b[0m,\n",
       "                     'refseq_id': \u001b[38;5;93mNone\u001b[0m,\n",
       "                     'sift_prediction': \u001b[38;5;93mNone\u001b[0m,\n",
       "                     'sift_score': \u001b[38;5;93mNone\u001b[0m,\n",
       "                     'start0': 8525029,\n",
       "                     'start1': 8525030,\n",
       "                     'transcript_name': 'RERE-010',\n",
       "                     'transcript_subtype_flags': {'is_IG': \u001b[38;5;196mFalse\u001b[0m,\n",
       "                                                  'is_IG_pseudogene': \u001b[38;5;196mFalse\u001b[0m,\n",
       "                                                  'is_NMD': \u001b[38;5;196mFalse\u001b[0m,\n",
       "                                                  'is_NSD': \u001b[38;5;196mFalse\u001b[0m,\n",
       "                                                  'is_TR': \u001b[38;5;196mFalse\u001b[0m,\n",
       "                                                  'is_TR_pseudogene': \u001b[38;5;196mFalse\u001b[0m,\n",
       "                                                  'is_antisense': \u001b[38;5;196mFalse\u001b[0m,\n",
       "                                                  'is_coding': \u001b[38;5;196mFalse\u001b[0m,\n",
       "                                                  'is_lncRNA': \u001b[38;5;196mFalse\u001b[0m,\n",
       "                                                  'is_miRNA': \u001b[38;5;196mFalse\u001b[0m,\n",
       "                                                  'is_noncoding': \u001b[38;5;40mTrue\u001b[0m,\n",
       "                                                  'is_processed_pseudogene': \u001b[38;5;196mFalse\u001b[0m,\n",
       "                                                  'is_pseudogene': \u001b[38;5;196mFalse\u001b[0m,\n",
       "                                                  'is_rRNA': \u001b[38;5;196mFalse\u001b[0m,\n",
       "                                                  'is_tRNA': \u001b[38;5;196mFalse\u001b[0m,\n",
       "                                                  'is_transcribed_pseudogene': \u001b[38;5;196mFalse\u001b[0m,\n",
       "                                                  'is_translated_pseudogene': \u001b[38;5;196mFalse\u001b[0m,\n",
       "                                                  'is_unitary_pseudogene': \u001b[38;5;196mFalse\u001b[0m,\n",
       "                                                  'is_unknown_type': \u001b[38;5;196mFalse\u001b[0m,\n",
       "                                                  'is_unprocessed_pseudogene': \u001b[38;5;196mFalse\u001b[0m},\n",
       "                     'variant_pos_cds': \u001b[38;5;93mNone\u001b[0m,\n",
       "                     'variant_pos_protein': \u001b[38;5;93mNone\u001b[0m,\n",
       "                     'variant_pos_transcript': \u001b[38;5;93mNone\u001b[0m}}"
      ]
     },
     "execution_count": 17,
     "metadata": {},
     "output_type": "execute_result"
    }
   ],
   "source": [
    "vcfp.vplist[0].annotdb.transcript"
   ]
  },
  {
   "cell_type": "code",
   "execution_count": null,
   "metadata": {},
   "outputs": [],
   "source": []
  },
  {
   "cell_type": "code",
   "execution_count": null,
   "metadata": {},
   "outputs": [],
   "source": []
  },
  {
   "cell_type": "code",
   "execution_count": 50,
   "metadata": {},
   "outputs": [],
   "source": [
    "bnds = Breakends('21', 39824915, False, '21', 42879675, True, FASTA) # prostate cancer ERG-TMPRSS2\n",
    "#bnds = Breakends('2', 29_446_413, False, '2', 42_504_396, False, FASTA) # ALK-EML4\n",
    "vcfspec1 = Vcfspec(bnds.chrom1, bnds.pos1, FASTA.fetch(bnds.chrom1, bnds.pos1-1, bnds.pos1), 'N')\n",
    "vcfspec2 = Vcfspec(bnds.chrom2, bnds.pos2, FASTA.fetch(bnds.chrom2, bnds.pos2-1, bnds.pos2), 'N')"
   ]
  },
  {
   "cell_type": "code",
   "execution_count": null,
   "metadata": {},
   "outputs": [],
   "source": []
  },
  {
   "cell_type": "code",
   "execution_count": 51,
   "metadata": {},
   "outputs": [],
   "source": [
    "vep_vr1 = veplib.run_vep_with_vcfspec(vcfspec1, 'hg19')\n",
    "vep_vr2 = veplib.run_vep_with_vcfspec(vcfspec2, 'hg19')"
   ]
  },
  {
   "cell_type": "code",
   "execution_count": 52,
   "metadata": {},
   "outputs": [],
   "source": [
    "vep_result1 = ensembl_parser.parse_cmdline_vep(vep_vr1)\n",
    "vep_result2 = ensembl_parser.parse_cmdline_vep(vep_vr2)"
   ]
  },
  {
   "cell_type": "code",
   "execution_count": 53,
   "metadata": {},
   "outputs": [],
   "source": [
    "idmap1 = {annotitem['id']: annotitem['refseq_id'] for annotitem in vep_result1['transcript'].values()}\n",
    "idmap2 = {annotitem['id']: annotitem['refseq_id'] for annotitem in vep_result2['transcript'].values()}"
   ]
  },
  {
   "cell_type": "code",
   "execution_count": 54,
   "metadata": {},
   "outputs": [
    {
     "data": {
      "text/plain": [
       "{'ENST00000288319': 'NM_182918.3',\n",
       " 'ENST00000398897': 'NM_001243429.1',\n",
       " 'ENST00000398905': None,\n",
       " 'ENST00000398907': None,\n",
       " 'ENST00000398910': None,\n",
       " 'ENST00000398911': None,\n",
       " 'ENST00000398919': 'NM_001243428.1',\n",
       " 'ENST00000417133': 'NM_001136154.1&NM_001243432.1',\n",
       " 'ENST00000429727': None,\n",
       " 'ENST00000442448': 'NM_004449.4',\n",
       " 'ENST00000453032': 'NM_001136155.1',\n",
       " 'ENST00000468474': None,\n",
       " 'ENST00000473107': None,\n",
       " 'ENST00000481609': None}"
      ]
     },
     "execution_count": 54,
     "metadata": {},
     "output_type": "execute_result"
    }
   ],
   "source": [
    "idmap1"
   ]
  },
  {
   "cell_type": "code",
   "execution_count": 55,
   "metadata": {},
   "outputs": [
    {
     "data": {
      "text/plain": [
       "{'ENST00000332149': 'NM_005656.3',\n",
       " 'ENST00000398585': 'NM_001135099.1',\n",
       " 'ENST00000424093': None,\n",
       " 'ENST00000454499': None,\n",
       " 'ENST00000455813': None,\n",
       " 'ENST00000458356': None,\n",
       " 'ENST00000463138': None,\n",
       " 'ENST00000497881': None}"
      ]
     },
     "execution_count": 55,
     "metadata": {},
     "output_type": "execute_result"
    }
   ],
   "source": [
    "idmap2"
   ]
  },
  {
   "cell_type": "code",
   "execution_count": null,
   "metadata": {},
   "outputs": [],
   "source": []
  },
  {
   "cell_type": "code",
   "execution_count": 56,
   "metadata": {},
   "outputs": [],
   "source": [
    "#annotdb = annotationdb.AnnotDB('plain', 'hg19', FASTA)\n",
    "annotdb1 = annotationdb.AnnotDB('bnd1', 'hg19', FASTA)\n",
    "annotdb2 = annotationdb.AnnotDB('bnd1', 'hg19', FASTA)"
   ]
  },
  {
   "cell_type": "code",
   "execution_count": 57,
   "metadata": {
    "tags": []
   },
   "outputs": [
    {
     "ename": "AttributeError",
     "evalue": "module 'julib.annotation.rnalib' has no attribute 'set_next_codon_frame0'",
     "output_type": "error",
     "traceback": [
      "\u001b[0;31m---------------------------------------------------------------------------\u001b[0m",
      "\u001b[0;31mAttributeError\u001b[0m                            Traceback (most recent call last)",
      "Input \u001b[0;32mIn [57]\u001b[0m, in \u001b[0;36m<cell line: 2>\u001b[0;34m()\u001b[0m\n\u001b[1;32m      1\u001b[0m \u001b[38;5;66;03m#annotdb.update_features_plain(vcfspec, julib.annotation.TABIXFILES_REPEATS['hg19'])\u001b[39;00m\n\u001b[0;32m----> 2\u001b[0m \u001b[43mannotdb1\u001b[49m\u001b[38;5;241;43m.\u001b[39;49m\u001b[43mupdate_features_bnd\u001b[49m\u001b[43m(\u001b[49m\n\u001b[1;32m      3\u001b[0m \u001b[43m    \u001b[49m\u001b[43mbnds\u001b[49m\u001b[38;5;241;43m.\u001b[39;49m\u001b[43mchrom1\u001b[49m\u001b[43m,\u001b[49m\u001b[43m \u001b[49m\u001b[43mbnds\u001b[49m\u001b[38;5;241;43m.\u001b[39;49m\u001b[43mpos1\u001b[49m\u001b[43m,\u001b[49m\u001b[43m \u001b[49m\u001b[43mbnds\u001b[49m\u001b[38;5;241;43m.\u001b[39;49m\u001b[43mpos1_endis5\u001b[49m\u001b[43m,\u001b[49m\u001b[43m \u001b[49m\n\u001b[1;32m      4\u001b[0m \u001b[43m    \u001b[49m\u001b[43mjulib\u001b[49m\u001b[38;5;241;43m.\u001b[39;49m\u001b[43mannotation\u001b[49m\u001b[38;5;241;43m.\u001b[39;49m\u001b[43mTABIXFILES_REPEATS\u001b[49m\u001b[43m[\u001b[49m\u001b[38;5;124;43m'\u001b[39;49m\u001b[38;5;124;43mhg19\u001b[39;49m\u001b[38;5;124;43m'\u001b[39;49m\u001b[43m]\u001b[49m\u001b[43m,\u001b[49m\u001b[43m \u001b[49m\n\u001b[1;32m      5\u001b[0m \u001b[43m    \u001b[49m\u001b[43mjulib\u001b[49m\u001b[38;5;241;43m.\u001b[39;49m\u001b[43mannotation\u001b[49m\u001b[38;5;241;43m.\u001b[39;49m\u001b[43mTABIXFILES_GENESET\u001b[49m\u001b[43m[\u001b[49m\u001b[38;5;124;43m'\u001b[39;49m\u001b[38;5;124;43mhg19\u001b[39;49m\u001b[38;5;124;43m'\u001b[39;49m\u001b[43m]\u001b[49m\u001b[43m,\u001b[49m\n\u001b[1;32m      6\u001b[0m \u001b[43m    \u001b[49m\u001b[43mjulib\u001b[49m\u001b[38;5;241;43m.\u001b[39;49m\u001b[43mannotation\u001b[49m\u001b[38;5;241;43m.\u001b[39;49m\u001b[43mTABIXFILES_REGULATORY\u001b[49m\u001b[43m[\u001b[49m\u001b[38;5;124;43m'\u001b[39;49m\u001b[38;5;124;43mhg19\u001b[39;49m\u001b[38;5;124;43m'\u001b[39;49m\u001b[43m]\u001b[49m\u001b[43m,\u001b[49m\n\u001b[1;32m      7\u001b[0m \u001b[43m)\u001b[49m\n\u001b[1;32m      9\u001b[0m annotdb2\u001b[38;5;241m.\u001b[39mupdate_features_bnd(\n\u001b[1;32m     10\u001b[0m     bnds\u001b[38;5;241m.\u001b[39mchrom2, bnds\u001b[38;5;241m.\u001b[39mpos2, bnds\u001b[38;5;241m.\u001b[39mpos2_endis5, \n\u001b[1;32m     11\u001b[0m     julib\u001b[38;5;241m.\u001b[39mannotation\u001b[38;5;241m.\u001b[39mTABIXFILES_REPEATS[\u001b[38;5;124m'\u001b[39m\u001b[38;5;124mhg19\u001b[39m\u001b[38;5;124m'\u001b[39m], \n\u001b[1;32m     12\u001b[0m     julib\u001b[38;5;241m.\u001b[39mannotation\u001b[38;5;241m.\u001b[39mTABIXFILES_GENESET[\u001b[38;5;124m'\u001b[39m\u001b[38;5;124mhg19\u001b[39m\u001b[38;5;124m'\u001b[39m],\n\u001b[1;32m     13\u001b[0m     julib\u001b[38;5;241m.\u001b[39mannotation\u001b[38;5;241m.\u001b[39mTABIXFILES_REGULATORY[\u001b[38;5;124m'\u001b[39m\u001b[38;5;124mhg19\u001b[39m\u001b[38;5;124m'\u001b[39m],\n\u001b[1;32m     14\u001b[0m )\n",
      "File \u001b[0;32m~/scripts/python_genome_packages/tests/julib/annotation/annotationdb.py:361\u001b[0m, in \u001b[0;36mAnnotDB.update_features_bnd\u001b[0;34m(self, chrom, pos, endis5, tabixfile_repeats, tabixfile_geneset, tabixfile_regulatory, distance, vep, overlap, transcript, regulatory)\u001b[0m\n\u001b[1;32m    355\u001b[0m \u001b[38;5;28mself\u001b[39m\u001b[38;5;241m.\u001b[39mupdate_customfile_repeat(chrom, \n\u001b[1;32m    356\u001b[0m \t\t\t\t\t\t\t  pos \u001b[38;5;241m-\u001b[39m \u001b[38;5;241m1\u001b[39m \u001b[38;5;241m-\u001b[39m distance,\n\u001b[1;32m    357\u001b[0m \t\t\t\t\t\t\t  pos \u001b[38;5;241m+\u001b[39m distance, \n\u001b[1;32m    358\u001b[0m \t\t\t\t\t\t\t  tabixfile_repeats)\n\u001b[1;32m    360\u001b[0m \u001b[38;5;66;03m# modifier\u001b[39;00m\n\u001b[0;32m--> 361\u001b[0m \u001b[38;5;28;43mself\u001b[39;49m\u001b[38;5;241;43m.\u001b[39;49m\u001b[43mmodifier_for_bnd\u001b[49m\u001b[43m(\u001b[49m\u001b[43mchrom\u001b[49m\u001b[43m,\u001b[49m\u001b[43m \u001b[49m\u001b[43mpos\u001b[49m\u001b[43m,\u001b[49m\u001b[43m \u001b[49m\u001b[43mendis5\u001b[49m\u001b[43m,\u001b[49m\u001b[43m \u001b[49m\u001b[43mtabixfile_geneset\u001b[49m\u001b[43m)\u001b[49m\n\u001b[1;32m    362\u001b[0m \u001b[38;5;28mself\u001b[39m\u001b[38;5;241m.\u001b[39mset_transcript_canonical()\n",
      "File \u001b[0;32m~/scripts/python_genome_packages/tests/julib/annotation/annotationdb.py:474\u001b[0m, in \u001b[0;36mAnnotDB.modifier_for_bnd\u001b[0;34m(self, chrom, pos, endis5, tabixfile_geneset)\u001b[0m\n\u001b[1;32m    471\u001b[0m \u001b[38;5;28mself\u001b[39m\u001b[38;5;241m.\u001b[39mset_missing_distances(distance_setter)\n\u001b[1;32m    473\u001b[0m \u001b[38;5;28mself\u001b[39m\u001b[38;5;241m.\u001b[39msettle_border_issues(pos, endis5)\n\u001b[0;32m--> 474\u001b[0m \u001b[43mrnalib\u001b[49m\u001b[38;5;241;43m.\u001b[39;49m\u001b[43mset_next_codon_frame0\u001b[49m(\u001b[38;5;28mself\u001b[39m\u001b[38;5;241m.\u001b[39mtranscript, chrom, pos, endis5, tabixfile_geneset)\n",
      "\u001b[0;31mAttributeError\u001b[0m: module 'julib.annotation.rnalib' has no attribute 'set_next_codon_frame0'"
     ]
    }
   ],
   "source": [
    "#annotdb.update_features_plain(vcfspec, handygenome.annotation.TABIXFILES_REPEATS['hg19'])\n",
    "annotdb1.update_features_bnd(\n",
    "    bnds.chrom1, bnds.pos1, bnds.pos1_endis5, \n",
    "    handygenome.annotation.TABIXFILES_REPEATS['hg19'], \n",
    "    handygenome.annotation.TABIXFILES_GENESET['hg19'],\n",
    "    handygenome.annotation.TABIXFILES_REGULATORY['hg19'],\n",
    ")\n",
    "\n",
    "annotdb2.update_features_bnd(\n",
    "    bnds.chrom2, bnds.pos2, bnds.pos2_endis5, \n",
    "    handygenome.annotation.TABIXFILES_REPEATS['hg19'], \n",
    "    handygenome.annotation.TABIXFILES_GENESET['hg19'],\n",
    "    handygenome.annotation.TABIXFILES_REGULATORY['hg19'],\n",
    ")"
   ]
  },
  {
   "cell_type": "code",
   "execution_count": null,
   "metadata": {},
   "outputs": [],
   "source": [
    "for ID, annotitem in annotdb1.transcript.items():\n",
    "    print(ID, annotitem['transcript_name'], idmap1[ID], annotitem['next_codon_frame0'], sep='\\t')"
   ]
  },
  {
   "cell_type": "code",
   "execution_count": null,
   "metadata": {},
   "outputs": [],
   "source": [
    "for ID, annotitem in annotdb2.transcript.items():\n",
    "    print(ID, annotitem['transcript_name'], idmap2[ID], annotitem['next_codon_frame0'], sep='\\t')"
   ]
  },
  {
   "cell_type": "code",
   "execution_count": null,
   "metadata": {},
   "outputs": [],
   "source": []
  },
  {
   "cell_type": "code",
   "execution_count": null,
   "metadata": {},
   "outputs": [],
   "source": []
  },
  {
   "cell_type": "code",
   "execution_count": 58,
   "metadata": {},
   "outputs": [],
   "source": [
    "next_codon_frame0_pos1 = rnalib.get_next_codon_frame0(\n",
    "    [x for x,y in vep_result1['transcript'].items() if y['distance'] is None], \n",
    "    bnds.chrom1, bnds.pos1, bnds.pos1_endis5, handygenome.annotation.TABIXFILES_GENESET['hg19'])\n",
    "\n",
    "next_codon_frame0_pos2 = rnalib.get_next_codon_frame0(\n",
    "    [x for x,y in vep_result2['transcript'].items() if y['distance'] is None], \n",
    "    bnds.chrom2, bnds.pos2, bnds.pos2_endis5, handygenome.annotation.TABIXFILES_GENESET['hg19'])"
   ]
  },
  {
   "cell_type": "code",
   "execution_count": 59,
   "metadata": {},
   "outputs": [
    {
     "name": "stdout",
     "output_type": "stream",
     "text": [
      "{'ENST00000288319': 0, 'ENST00000398897': None, 'ENST00000398905': 0, 'ENST00000398907': 0, 'ENST00000398910': 0, 'ENST00000398911': 0, 'ENST00000398919': 0, 'ENST00000417133': 0, 'ENST00000429727': 0, 'ENST00000442448': 0, 'ENST00000453032': None, 'ENST00000468474': None, 'ENST00000481609': None}\n",
      "{'ENST00000332149': None, 'ENST00000398585': 0, 'ENST00000424093': None, 'ENST00000454499': None, 'ENST00000458356': None, 'ENST00000463138': None, 'ENST00000497881': None}\n"
     ]
    }
   ],
   "source": [
    "print(next_codon_frame0_pos1)\n",
    "print(next_codon_frame0_pos2)"
   ]
  },
  {
   "cell_type": "code",
   "execution_count": null,
   "metadata": {},
   "outputs": [],
   "source": []
  },
  {
   "cell_type": "code",
   "execution_count": null,
   "metadata": {},
   "outputs": [],
   "source": []
  },
  {
   "cell_type": "code",
   "execution_count": null,
   "metadata": {},
   "outputs": [],
   "source": []
  },
  {
   "cell_type": "code",
   "execution_count": null,
   "metadata": {},
   "outputs": [],
   "source": []
  },
  {
   "cell_type": "code",
   "execution_count": null,
   "metadata": {},
   "outputs": [],
   "source": []
  },
  {
   "cell_type": "code",
   "execution_count": 192,
   "metadata": {},
   "outputs": [],
   "source": [
    "#from handygenome.annotation import ensembl_rest\n",
    "#from handygenome.annotation import ensembl_parser\n",
    "from handygenome import hgvs\n",
    "#from handygenome.annotation import veplib\n",
    "from handygenome.annotation import annotationdb\n",
    "from handygenome.variantplus import breakends"
   ]
  },
  {
   "cell_type": "code",
   "execution_count": 196,
   "metadata": {},
   "outputs": [],
   "source": [
    "hgvsg = 'chr12:g.25245350C>A' # KRAS hotspot\n",
    "vcfspec = hgvs.hgvsg_to_vcfspec(hgvsg, FASTA_38)"
   ]
  },
  {
   "cell_type": "code",
   "execution_count": 203,
   "metadata": {},
   "outputs": [
    {
     "data": {
      "text/plain": [
       "Vcfspec(chrom='chr12', pos=25245350, ref='C', alt='A')"
      ]
     },
     "execution_count": 203,
     "metadata": {},
     "output_type": "execute_result"
    }
   ],
   "source": [
    "vcfspec"
   ]
  },
  {
   "cell_type": "code",
   "execution_count": 194,
   "metadata": {},
   "outputs": [],
   "source": [
    "hgvsg = 'chr12:g.25245350C>A' # KRAS hotspot\n",
    "#hgvsg = 'chr17:g.7514616_7514617del'\n",
    "#hgvsg = 'chr17:g.7514615_7514616insTTT'\n",
    "#hgvsg = 'chr17:g.7514616A>T'\n",
    "\n",
    "vcfspec = hgvs.hgvsg_to_vcfspec(hgvsg, FASTA_38)"
   ]
  },
  {
   "cell_type": "code",
   "execution_count": 26,
   "metadata": {},
   "outputs": [],
   "source": [
    "interval = common.Interval('chr17', 7_511_516, 7_512_481)"
   ]
  },
  {
   "cell_type": "code",
   "execution_count": null,
   "metadata": {},
   "outputs": [],
   "source": []
  },
  {
   "cell_type": "code",
   "execution_count": null,
   "metadata": {},
   "outputs": [],
   "source": []
  },
  {
   "cell_type": "code",
   "execution_count": 284,
   "metadata": {},
   "outputs": [],
   "source": [
    "#bnds = breakends.Breakends('2', 29_446_413, False, '2', 42_504_396, False, FASTA)\n",
    "#bnds = breakends.Breakends('2', 29_446_413, False, '2', 42_504_396, False, FASTA)\n",
    "bnds = breakends.Breakends('2', 29_446_413, False, '2', 42_504_396, False, FASTA)\n",
    "#bnds = breakends.Breakends('21', 39824915, False, '21', 42879675, True, FASTA) # prostate cancer ERG-TMPRSS2"
   ]
  },
  {
   "cell_type": "code",
   "execution_count": null,
   "metadata": {},
   "outputs": [],
   "source": []
  },
  {
   "cell_type": "code",
   "execution_count": 8,
   "metadata": {},
   "outputs": [],
   "source": [
    "from handygenome.annotation import ensembl_rest"
   ]
  },
  {
   "cell_type": "code",
   "execution_count": 10,
   "metadata": {},
   "outputs": [],
   "source": [
    "result = ensembl_rest.vep(\n",
    "    refver = 'hg19', vcfspec = common.Vcfspec('2', 29444010, 'C', 'N'),\n",
    ")"
   ]
  },
  {
   "cell_type": "code",
   "execution_count": 11,
   "metadata": {},
   "outputs": [
    {
     "data": {
      "text/plain": [
       "[{'seq_region_name': '2',\n",
       "  'start': 29444010,\n",
       "  'id': '2:g.29444010C>N',\n",
       "  'allele_string': 'C/N',\n",
       "  'end': 29444010,\n",
       "  'most_severe_consequence': 'coding_sequence_variant',\n",
       "  'transcript_consequences': [{'gene_id': 'ENSG00000171094',\n",
       "    'consequence_terms': ['intron_variant'],\n",
       "    'variant_allele': 'N',\n",
       "    'protein_id': 'ENSP00000373700',\n",
       "    'gene_symbol_source': 'HGNC',\n",
       "    'gene_symbol': 'ALK',\n",
       "    'hgnc_id': 427,\n",
       "    'impact': 'MODIFIER',\n",
       "    'transcript_id': 'ENST00000389048',\n",
       "    'strand': -1,\n",
       "    'biotype': 'protein_coding',\n",
       "    'intron': '22/28',\n",
       "    'canonical': 1,\n",
       "    'ccds': 'CCDS33172.1'},\n",
       "   {'gene_symbol_source': 'HGNC',\n",
       "    'gene_symbol': 'ALK',\n",
       "    'protein_id': 'ENSP00000414027',\n",
       "    'hgnc_id': 427,\n",
       "    'impact': 'MODIFIER',\n",
       "    'variant_allele': 'N',\n",
       "    'consequence_terms': ['intron_variant'],\n",
       "    'gene_id': 'ENSG00000171094',\n",
       "    'intron': '2/3',\n",
       "    'biotype': 'protein_coding',\n",
       "    'strand': -1,\n",
       "    'transcript_id': 'ENST00000431873'},\n",
       "   {'cdna_end': 303,\n",
       "    'transcript_id': 'ENST00000453137',\n",
       "    'strand': -1,\n",
       "    'cds_start': 303,\n",
       "    'flags': ['cds_start_NF'],\n",
       "    'cds_end': 303,\n",
       "    'protein_end': 101,\n",
       "    'variant_allele': 'N',\n",
       "    'exon': '4/4',\n",
       "    'biotype': 'protein_coding',\n",
       "    'gene_id': 'ENSG00000171094',\n",
       "    'protein_start': 101,\n",
       "    'consequence_terms': ['coding_sequence_variant'],\n",
       "    'codons': 'caG/caN',\n",
       "    'cdna_start': 303,\n",
       "    'impact': 'MODIFIER',\n",
       "    'gene_symbol_source': 'HGNC',\n",
       "    'protein_id': 'ENSP00000387488',\n",
       "    'gene_symbol': 'ALK',\n",
       "    'hgnc_id': 427}],\n",
       "  'input': '2:g.29444010C>N',\n",
       "  'strand': 1,\n",
       "  'assembly_name': 'GRCh37'}]"
      ]
     },
     "execution_count": 11,
     "metadata": {},
     "output_type": "execute_result"
    }
   ],
   "source": [
    "result"
   ]
  },
  {
   "cell_type": "code",
   "execution_count": null,
   "metadata": {},
   "outputs": [],
   "source": []
  },
  {
   "cell_type": "code",
   "execution_count": null,
   "metadata": {},
   "outputs": [],
   "source": []
  },
  {
   "cell_type": "code",
   "execution_count": null,
   "metadata": {},
   "outputs": [],
   "source": []
  },
  {
   "cell_type": "code",
   "execution_count": 227,
   "metadata": {},
   "outputs": [
    {
     "data": {
      "text/plain": [
       "<Breakends> ]2:29446413]  ]2:42504396]"
      ]
     },
     "execution_count": 227,
     "metadata": {},
     "output_type": "execute_result"
    }
   ],
   "source": [
    "bnds"
   ]
  },
  {
   "cell_type": "code",
   "execution_count": 228,
   "metadata": {},
   "outputs": [],
   "source": [
    "#annotdb = annotationdb.AnnotDB(annotdb_type = 'plain', refver = 'hg38', fasta = FASTA_38)\n",
    "\n",
    "annotdb_bnd1 = annotationdb.AnnotDB(annotdb_type = 'bnd1', refver = 'hg19', fasta = FASTA)\n",
    "annotdb_bnd2 = annotationdb.AnnotDB(annotdb_type = 'bnd2', refver = 'hg19', fasta = FASTA)"
   ]
  },
  {
   "cell_type": "code",
   "execution_count": 229,
   "metadata": {
    "tags": []
   },
   "outputs": [],
   "source": [
    "annotdb_bnd1.update_features_bnd(bnds.chrom1, bnds.pos1, bnds.pos1_endis5)\n",
    "annotdb_bnd2.update_features_bnd(bnds.chrom2, bnds.pos2, bnds.pos2_endis5)"
   ]
  },
  {
   "cell_type": "code",
   "execution_count": 232,
   "metadata": {
    "collapsed": true,
    "jupyter": {
     "outputs_hidden": true
    },
    "tags": []
   },
   "outputs": [
    {
     "data": {
      "text/plain": [
       "{'ENST00000389048': {'aa_change': \u001b[38;5;93mNone\u001b[0m,\n",
       "                     'biotype': 'protein_coding',\n",
       "                     'cadd_phred': \u001b[38;5;93mNone\u001b[0m,\n",
       "                     'cadd_raw': \u001b[38;5;93mNone\u001b[0m,\n",
       "                     'ccds_id': 'CCDS33172.1',\n",
       "                     'chrom': '2',\n",
       "                     'codon_change': \u001b[38;5;93mNone\u001b[0m,\n",
       "                     'consequence_flags': {'is_3pUTR_involved': \u001b[38;5;196mFalse\u001b[0m,\n",
       "                                           'is_5pUTR_involved': \u001b[38;5;196mFalse\u001b[0m,\n",
       "                                           'is_SV_consequence': \u001b[38;5;196mFalse\u001b[0m,\n",
       "                                           'is_frameshift': \u001b[38;5;196mFalse\u001b[0m,\n",
       "                                           'is_missense': \u001b[38;5;196mFalse\u001b[0m,\n",
       "                                           'is_not_protein_altering': \u001b[38;5;40mTrue\u001b[0m,\n",
       "                                           'is_protein_altering': \u001b[38;5;196mFalse\u001b[0m,\n",
       "                                           'is_splice_acceptor_involved': \u001b[38;5;196mFalse\u001b[0m,\n",
       "                                           'is_splice_donor_involved': \u001b[38;5;196mFalse\u001b[0m,\n",
       "                                           'is_splice_region_involved': \u001b[38;5;196mFalse\u001b[0m,\n",
       "                                           'is_startlost': \u001b[38;5;196mFalse\u001b[0m,\n",
       "                                           'is_stopgain': \u001b[38;5;196mFalse\u001b[0m,\n",
       "                                           'is_stoplost': \u001b[38;5;196mFalse\u001b[0m,\n",
       "                                           'is_synonymous': \u001b[38;5;196mFalse\u001b[0m,\n",
       "                                           'is_unclassified': \u001b[38;5;196mFalse\u001b[0m},\n",
       "                     'consequences': ['intron_variant'],\n",
       "                     'distance': \u001b[38;5;93mNone\u001b[0m,\n",
       "                     'end0': 30144432,\n",
       "                     'end1': 30144432,\n",
       "                     'exons': {'10_start0_end0': '29498267_29498362',\n",
       "                               '11_start0_end0': '29497964_29498093',\n",
       "                               '12_start0_end0': '29473970_29474133',\n",
       "                               '13_start0_end0': '29462545_29462696',\n",
       "                               '14_start0_end0': '29456430_29456562',\n",
       "                               '15_start0_end0': '29455169_29455314',\n",
       "                               '16_start0_end0': '29451749_29451932',\n",
       "                               '17_start0_end0': '29450439_29450538',\n",
       "                               '18_start0_end0': '29449787_29449940',\n",
       "                               '19_start0_end0': '29448326_29448431',\n",
       "                               '1_start0_end0': '30142858_30144432',\n",
       "                               '20_start0_end0': '29446207_29446394',\n",
       "                               '21_start0_end0': '29445382_29445473',\n",
       "                               '22_start0_end0': '29445209_29445274',\n",
       "                               '23_start0_end0': '29443571_29443701',\n",
       "                               '24_start0_end0': '29436849_29436947',\n",
       "                               '25_start0_end0': '29432651_29432744',\n",
       "                               '26_start0_end0': '29430036_29430138',\n",
       "                               '27_start0_end0': '29420407_29420542',\n",
       "                               '28_start0_end0': '29419635_29419726',\n",
       "                               '29_start0_end0': '29415639_29416788',\n",
       "                               '2_start0_end0': '29940443_29940563',\n",
       "                               '3_start0_end0': '29917715_29917880',\n",
       "                               '4_start0_end0': '29754780_29754982',\n",
       "                               '5_start0_end0': '29606597_29606725',\n",
       "                               '6_start0_end0': '29551215_29551347',\n",
       "                               '7_start0_end0': '29543616_29543748',\n",
       "                               '8_start0_end0': '29541169_29541270',\n",
       "                               '9_start0_end0': '29519753_29519923'},\n",
       "                     'feature_type': 'transcript',\n",
       "                     'feature_type_flags': {'is_motif': \u001b[38;5;196mFalse\u001b[0m,\n",
       "                                            'is_regulatory': \u001b[38;5;196mFalse\u001b[0m,\n",
       "                                            'is_repeat': \u001b[38;5;196mFalse\u001b[0m,\n",
       "                                            'is_transcript': \u001b[38;5;40mTrue\u001b[0m},\n",
       "                     'gene_id': 'ENSG00000171094',\n",
       "                     'gene_name': 'ALK',\n",
       "                     'hgvsc': \u001b[38;5;93mNone\u001b[0m,\n",
       "                     'hgvsp': \u001b[38;5;93mNone\u001b[0m,\n",
       "                     'id': 'ENST00000389048',\n",
       "                     'involved_exons': \u001b[38;5;93mNone\u001b[0m,\n",
       "                     'involved_introns': [19],\n",
       "                     'is_broken': \u001b[38;5;40mTrue\u001b[0m,\n",
       "                     'is_canonical': \u001b[38;5;40mTrue\u001b[0m,\n",
       "                     'is_exon_involved': \u001b[38;5;196mFalse\u001b[0m,\n",
       "                     'is_forward': \u001b[38;5;196mFalse\u001b[0m,\n",
       "                     'is_intron_involved': \u001b[38;5;40mTrue\u001b[0m,\n",
       "                     'mane_select': \u001b[38;5;93mNone\u001b[0m,\n",
       "                     'next_exon_codon_frame0': 1,\n",
       "                     'next_exon_genomic_pos': 29446394,\n",
       "                     'polyphen_prediction': \u001b[38;5;93mNone\u001b[0m,\n",
       "                     'polyphen_score': \u001b[38;5;93mNone\u001b[0m,\n",
       "                     'protein_id': 'ENSP00000373700',\n",
       "                     'sift_prediction': \u001b[38;5;93mNone\u001b[0m,\n",
       "                     'sift_score': \u001b[38;5;93mNone\u001b[0m,\n",
       "                     'start0': 29415639,\n",
       "                     'start1': 29415640,\n",
       "                     'transcript_name': 'ALK-001',\n",
       "                     'transcript_subtype_flags': {'is_IG': \u001b[38;5;196mFalse\u001b[0m,\n",
       "                                                  'is_IG_pseudogene': \u001b[38;5;196mFalse\u001b[0m,\n",
       "                                                  'is_NMD': \u001b[38;5;196mFalse\u001b[0m,\n",
       "                                                  'is_NSD': \u001b[38;5;196mFalse\u001b[0m,\n",
       "                                                  'is_TR': \u001b[38;5;196mFalse\u001b[0m,\n",
       "                                                  'is_TR_pseudogene': \u001b[38;5;196mFalse\u001b[0m,\n",
       "                                                  'is_antisense': \u001b[38;5;196mFalse\u001b[0m,\n",
       "                                                  'is_coding': \u001b[38;5;40mTrue\u001b[0m,\n",
       "                                                  'is_lncRNA': \u001b[38;5;196mFalse\u001b[0m,\n",
       "                                                  'is_miRNA': \u001b[38;5;196mFalse\u001b[0m,\n",
       "                                                  'is_noncoding': \u001b[38;5;196mFalse\u001b[0m,\n",
       "                                                  'is_processed_pseudogene': \u001b[38;5;196mFalse\u001b[0m,\n",
       "                                                  'is_pseudogene': \u001b[38;5;196mFalse\u001b[0m,\n",
       "                                                  'is_rRNA': \u001b[38;5;196mFalse\u001b[0m,\n",
       "                                                  'is_tRNA': \u001b[38;5;196mFalse\u001b[0m,\n",
       "                                                  'is_transcribed_pseudogene': \u001b[38;5;196mFalse\u001b[0m,\n",
       "                                                  'is_translated_pseudogene': \u001b[38;5;196mFalse\u001b[0m,\n",
       "                                                  'is_unitary_pseudogene': \u001b[38;5;196mFalse\u001b[0m,\n",
       "                                                  'is_unknown_type': \u001b[38;5;196mFalse\u001b[0m,\n",
       "                                                  'is_unprocessed_pseudogene': \u001b[38;5;196mFalse\u001b[0m},\n",
       "                     'variant_end0_cds': \u001b[38;5;93mNone\u001b[0m,\n",
       "                     'variant_end0_protein': \u001b[38;5;93mNone\u001b[0m,\n",
       "                     'variant_end0_transcript': \u001b[38;5;93mNone\u001b[0m,\n",
       "                     'variant_end1_cds': \u001b[38;5;93mNone\u001b[0m,\n",
       "                     'variant_end1_protein': \u001b[38;5;93mNone\u001b[0m,\n",
       "                     'variant_end1_transcript': \u001b[38;5;93mNone\u001b[0m,\n",
       "                     'variant_start0_cds': \u001b[38;5;93mNone\u001b[0m,\n",
       "                     'variant_start0_protein': \u001b[38;5;93mNone\u001b[0m,\n",
       "                     'variant_start0_transcript': \u001b[38;5;93mNone\u001b[0m,\n",
       "                     'variant_start1_cds': \u001b[38;5;93mNone\u001b[0m,\n",
       "                     'variant_start1_protein': \u001b[38;5;93mNone\u001b[0m,\n",
       "                     'variant_start1_transcript': \u001b[38;5;93mNone\u001b[0m},\n",
       " 'ENST00000431873': {'aa_change': \u001b[38;5;93mNone\u001b[0m,\n",
       "                     'biotype': 'protein_coding',\n",
       "                     'cadd_phred': \u001b[38;5;93mNone\u001b[0m,\n",
       "                     'cadd_raw': \u001b[38;5;93mNone\u001b[0m,\n",
       "                     'ccds_id': \u001b[38;5;93mNone\u001b[0m,\n",
       "                     'chrom': '2',\n",
       "                     'codon_change': \u001b[38;5;93mNone\u001b[0m,\n",
       "                     'consequence_flags': {'is_3pUTR_involved': \u001b[38;5;196mFalse\u001b[0m,\n",
       "                                           'is_5pUTR_involved': \u001b[38;5;196mFalse\u001b[0m,\n",
       "                                           'is_SV_consequence': \u001b[38;5;196mFalse\u001b[0m,\n",
       "                                           'is_frameshift': \u001b[38;5;196mFalse\u001b[0m,\n",
       "                                           'is_missense': \u001b[38;5;196mFalse\u001b[0m,\n",
       "                                           'is_not_protein_altering': \u001b[38;5;40mTrue\u001b[0m,\n",
       "                                           'is_protein_altering': \u001b[38;5;196mFalse\u001b[0m,\n",
       "                                           'is_splice_acceptor_involved': \u001b[38;5;196mFalse\u001b[0m,\n",
       "                                           'is_splice_donor_involved': \u001b[38;5;196mFalse\u001b[0m,\n",
       "                                           'is_splice_region_involved': \u001b[38;5;196mFalse\u001b[0m,\n",
       "                                           'is_startlost': \u001b[38;5;196mFalse\u001b[0m,\n",
       "                                           'is_stopgain': \u001b[38;5;196mFalse\u001b[0m,\n",
       "                                           'is_stoplost': \u001b[38;5;196mFalse\u001b[0m,\n",
       "                                           'is_synonymous': \u001b[38;5;196mFalse\u001b[0m,\n",
       "                                           'is_unclassified': \u001b[38;5;196mFalse\u001b[0m},\n",
       "                     'consequences': ['intron_variant'],\n",
       "                     'distance': \u001b[38;5;93mNone\u001b[0m,\n",
       "                     'end0': 30143525,\n",
       "                     'end1': 30143525,\n",
       "                     'exons': {'1_start0_end0': '30142858_30143525',\n",
       "                               '2_start0_end0': '29940439_29940563',\n",
       "                               '3_start0_end0': '29430910_29430911',\n",
       "                               '4_start0_end0': '29416089_29416650'},\n",
       "                     'feature_type': 'transcript',\n",
       "                     'feature_type_flags': {'is_motif': \u001b[38;5;196mFalse\u001b[0m,\n",
       "                                            'is_regulatory': \u001b[38;5;196mFalse\u001b[0m,\n",
       "                                            'is_repeat': \u001b[38;5;196mFalse\u001b[0m,\n",
       "                                            'is_transcript': \u001b[38;5;40mTrue\u001b[0m},\n",
       "                     'gene_id': 'ENSG00000171094',\n",
       "                     'gene_name': 'ALK',\n",
       "                     'hgvsc': \u001b[38;5;93mNone\u001b[0m,\n",
       "                     'hgvsp': \u001b[38;5;93mNone\u001b[0m,\n",
       "                     'id': 'ENST00000431873',\n",
       "                     'involved_exons': \u001b[38;5;93mNone\u001b[0m,\n",
       "                     'involved_introns': [2],\n",
       "                     'is_broken': \u001b[38;5;40mTrue\u001b[0m,\n",
       "                     'is_canonical': \u001b[38;5;196mFalse\u001b[0m,\n",
       "                     'is_exon_involved': \u001b[38;5;196mFalse\u001b[0m,\n",
       "                     'is_forward': \u001b[38;5;196mFalse\u001b[0m,\n",
       "                     'is_intron_involved': \u001b[38;5;40mTrue\u001b[0m,\n",
       "                     'mane_select': \u001b[38;5;93mNone\u001b[0m,\n",
       "                     'next_exon_codon_frame0': 2,\n",
       "                     'next_exon_genomic_pos': 29430911,\n",
       "                     'polyphen_prediction': \u001b[38;5;93mNone\u001b[0m,\n",
       "                     'polyphen_score': \u001b[38;5;93mNone\u001b[0m,\n",
       "                     'protein_id': 'ENSP00000414027',\n",
       "                     'sift_prediction': \u001b[38;5;93mNone\u001b[0m,\n",
       "                     'sift_score': \u001b[38;5;93mNone\u001b[0m,\n",
       "                     'start0': 29416089,\n",
       "                     'start1': 29416090,\n",
       "                     'transcript_name': 'ALK-201',\n",
       "                     'transcript_subtype_flags': {'is_IG': \u001b[38;5;196mFalse\u001b[0m,\n",
       "                                                  'is_IG_pseudogene': \u001b[38;5;196mFalse\u001b[0m,\n",
       "                                                  'is_NMD': \u001b[38;5;196mFalse\u001b[0m,\n",
       "                                                  'is_NSD': \u001b[38;5;196mFalse\u001b[0m,\n",
       "                                                  'is_TR': \u001b[38;5;196mFalse\u001b[0m,\n",
       "                                                  'is_TR_pseudogene': \u001b[38;5;196mFalse\u001b[0m,\n",
       "                                                  'is_antisense': \u001b[38;5;196mFalse\u001b[0m,\n",
       "                                                  'is_coding': \u001b[38;5;40mTrue\u001b[0m,\n",
       "                                                  'is_lncRNA': \u001b[38;5;196mFalse\u001b[0m,\n",
       "                                                  'is_miRNA': \u001b[38;5;196mFalse\u001b[0m,\n",
       "                                                  'is_noncoding': \u001b[38;5;196mFalse\u001b[0m,\n",
       "                                                  'is_processed_pseudogene': \u001b[38;5;196mFalse\u001b[0m,\n",
       "                                                  'is_pseudogene': \u001b[38;5;196mFalse\u001b[0m,\n",
       "                                                  'is_rRNA': \u001b[38;5;196mFalse\u001b[0m,\n",
       "                                                  'is_tRNA': \u001b[38;5;196mFalse\u001b[0m,\n",
       "                                                  'is_transcribed_pseudogene': \u001b[38;5;196mFalse\u001b[0m,\n",
       "                                                  'is_translated_pseudogene': \u001b[38;5;196mFalse\u001b[0m,\n",
       "                                                  'is_unitary_pseudogene': \u001b[38;5;196mFalse\u001b[0m,\n",
       "                                                  'is_unknown_type': \u001b[38;5;196mFalse\u001b[0m,\n",
       "                                                  'is_unprocessed_pseudogene': \u001b[38;5;196mFalse\u001b[0m},\n",
       "                     'variant_end0_cds': \u001b[38;5;93mNone\u001b[0m,\n",
       "                     'variant_end0_protein': \u001b[38;5;93mNone\u001b[0m,\n",
       "                     'variant_end0_transcript': \u001b[38;5;93mNone\u001b[0m,\n",
       "                     'variant_end1_cds': \u001b[38;5;93mNone\u001b[0m,\n",
       "                     'variant_end1_protein': \u001b[38;5;93mNone\u001b[0m,\n",
       "                     'variant_end1_transcript': \u001b[38;5;93mNone\u001b[0m,\n",
       "                     'variant_start0_cds': \u001b[38;5;93mNone\u001b[0m,\n",
       "                     'variant_start0_protein': \u001b[38;5;93mNone\u001b[0m,\n",
       "                     'variant_start0_transcript': \u001b[38;5;93mNone\u001b[0m,\n",
       "                     'variant_start1_cds': \u001b[38;5;93mNone\u001b[0m,\n",
       "                     'variant_start1_protein': \u001b[38;5;93mNone\u001b[0m,\n",
       "                     'variant_start1_transcript': \u001b[38;5;93mNone\u001b[0m},\n",
       " 'ENST00000453137': {'aa_change': \u001b[38;5;93mNone\u001b[0m,\n",
       "                     'biotype': 'protein_coding',\n",
       "                     'cadd_phred': \u001b[38;5;93mNone\u001b[0m,\n",
       "                     'cadd_raw': \u001b[38;5;93mNone\u001b[0m,\n",
       "                     'ccds_id': \u001b[38;5;93mNone\u001b[0m,\n",
       "                     'chrom': '2',\n",
       "                     'codon_change': \u001b[38;5;93mNone\u001b[0m,\n",
       "                     'consequence_flags': {'is_3pUTR_involved': \u001b[38;5;196mFalse\u001b[0m,\n",
       "                                           'is_5pUTR_involved': \u001b[38;5;196mFalse\u001b[0m,\n",
       "                                           'is_SV_consequence': \u001b[38;5;196mFalse\u001b[0m,\n",
       "                                           'is_frameshift': \u001b[38;5;196mFalse\u001b[0m,\n",
       "                                           'is_missense': \u001b[38;5;196mFalse\u001b[0m,\n",
       "                                           'is_not_protein_altering': \u001b[38;5;40mTrue\u001b[0m,\n",
       "                                           'is_protein_altering': \u001b[38;5;196mFalse\u001b[0m,\n",
       "                                           'is_splice_acceptor_involved': \u001b[38;5;196mFalse\u001b[0m,\n",
       "                                           'is_splice_donor_involved': \u001b[38;5;196mFalse\u001b[0m,\n",
       "                                           'is_splice_region_involved': \u001b[38;5;196mFalse\u001b[0m,\n",
       "                                           'is_startlost': \u001b[38;5;196mFalse\u001b[0m,\n",
       "                                           'is_stopgain': \u001b[38;5;196mFalse\u001b[0m,\n",
       "                                           'is_stoplost': \u001b[38;5;196mFalse\u001b[0m,\n",
       "                                           'is_synonymous': \u001b[38;5;196mFalse\u001b[0m,\n",
       "                                           'is_unclassified': \u001b[38;5;196mFalse\u001b[0m},\n",
       "                     'consequences': ['upstream_gene_variant'],\n",
       "                     'distance': -153,\n",
       "                     'end0': 29446260,\n",
       "                     'end1': 29446260,\n",
       "                     'exons': {'1_start0_end0': '29446207_29446260',\n",
       "                               '2_start0_end0': '29445382_29445473',\n",
       "                               '3_start0_end0': '29445209_29445274',\n",
       "                               '4_start0_end0': '29443735_29444103'},\n",
       "                     'feature_type': 'transcript',\n",
       "                     'feature_type_flags': {'is_motif': \u001b[38;5;196mFalse\u001b[0m,\n",
       "                                            'is_regulatory': \u001b[38;5;196mFalse\u001b[0m,\n",
       "                                            'is_repeat': \u001b[38;5;196mFalse\u001b[0m,\n",
       "                                            'is_transcript': \u001b[38;5;40mTrue\u001b[0m},\n",
       "                     'gene_id': 'ENSG00000171094',\n",
       "                     'gene_name': 'ALK',\n",
       "                     'hgvsc': \u001b[38;5;93mNone\u001b[0m,\n",
       "                     'hgvsp': \u001b[38;5;93mNone\u001b[0m,\n",
       "                     'id': 'ENST00000453137',\n",
       "                     'involved_exons': \u001b[38;5;93mNone\u001b[0m,\n",
       "                     'involved_introns': \u001b[38;5;93mNone\u001b[0m,\n",
       "                     'is_broken': \u001b[38;5;196mFalse\u001b[0m,\n",
       "                     'is_canonical': \u001b[38;5;196mFalse\u001b[0m,\n",
       "                     'is_exon_involved': \u001b[38;5;196mFalse\u001b[0m,\n",
       "                     'is_forward': \u001b[38;5;196mFalse\u001b[0m,\n",
       "                     'is_intron_involved': \u001b[38;5;196mFalse\u001b[0m,\n",
       "                     'mane_select': \u001b[38;5;93mNone\u001b[0m,\n",
       "                     'polyphen_prediction': \u001b[38;5;93mNone\u001b[0m,\n",
       "                     'polyphen_score': \u001b[38;5;93mNone\u001b[0m,\n",
       "                     'protein_id': 'ENSP00000387488',\n",
       "                     'sift_prediction': \u001b[38;5;93mNone\u001b[0m,\n",
       "                     'sift_score': \u001b[38;5;93mNone\u001b[0m,\n",
       "                     'start0': 29443735,\n",
       "                     'start1': 29443736,\n",
       "                     'transcript_name': 'ALK-002',\n",
       "                     'transcript_subtype_flags': {'is_IG': \u001b[38;5;196mFalse\u001b[0m,\n",
       "                                                  'is_IG_pseudogene': \u001b[38;5;196mFalse\u001b[0m,\n",
       "                                                  'is_NMD': \u001b[38;5;196mFalse\u001b[0m,\n",
       "                                                  'is_NSD': \u001b[38;5;196mFalse\u001b[0m,\n",
       "                                                  'is_TR': \u001b[38;5;196mFalse\u001b[0m,\n",
       "                                                  'is_TR_pseudogene': \u001b[38;5;196mFalse\u001b[0m,\n",
       "                                                  'is_antisense': \u001b[38;5;196mFalse\u001b[0m,\n",
       "                                                  'is_coding': \u001b[38;5;40mTrue\u001b[0m,\n",
       "                                                  'is_lncRNA': \u001b[38;5;196mFalse\u001b[0m,\n",
       "                                                  'is_miRNA': \u001b[38;5;196mFalse\u001b[0m,\n",
       "                                                  'is_noncoding': \u001b[38;5;196mFalse\u001b[0m,\n",
       "                                                  'is_processed_pseudogene': \u001b[38;5;196mFalse\u001b[0m,\n",
       "                                                  'is_pseudogene': \u001b[38;5;196mFalse\u001b[0m,\n",
       "                                                  'is_rRNA': \u001b[38;5;196mFalse\u001b[0m,\n",
       "                                                  'is_tRNA': \u001b[38;5;196mFalse\u001b[0m,\n",
       "                                                  'is_transcribed_pseudogene': \u001b[38;5;196mFalse\u001b[0m,\n",
       "                                                  'is_translated_pseudogene': \u001b[38;5;196mFalse\u001b[0m,\n",
       "                                                  'is_unitary_pseudogene': \u001b[38;5;196mFalse\u001b[0m,\n",
       "                                                  'is_unknown_type': \u001b[38;5;196mFalse\u001b[0m,\n",
       "                                                  'is_unprocessed_pseudogene': \u001b[38;5;196mFalse\u001b[0m},\n",
       "                     'variant_end0_cds': \u001b[38;5;93mNone\u001b[0m,\n",
       "                     'variant_end0_protein': \u001b[38;5;93mNone\u001b[0m,\n",
       "                     'variant_end0_transcript': \u001b[38;5;93mNone\u001b[0m,\n",
       "                     'variant_end1_cds': \u001b[38;5;93mNone\u001b[0m,\n",
       "                     'variant_end1_protein': \u001b[38;5;93mNone\u001b[0m,\n",
       "                     'variant_end1_transcript': \u001b[38;5;93mNone\u001b[0m,\n",
       "                     'variant_start0_cds': \u001b[38;5;93mNone\u001b[0m,\n",
       "                     'variant_start0_protein': \u001b[38;5;93mNone\u001b[0m,\n",
       "                     'variant_start0_transcript': \u001b[38;5;93mNone\u001b[0m,\n",
       "                     'variant_start1_cds': \u001b[38;5;93mNone\u001b[0m,\n",
       "                     'variant_start1_protein': \u001b[38;5;93mNone\u001b[0m,\n",
       "                     'variant_start1_transcript': \u001b[38;5;93mNone\u001b[0m}}"
      ]
     },
     "execution_count": 232,
     "metadata": {},
     "output_type": "execute_result"
    }
   ],
   "source": [
    "annotdb_bnd1.transcript"
   ]
  },
  {
   "cell_type": "code",
   "execution_count": null,
   "metadata": {},
   "outputs": [],
   "source": []
  },
  {
   "cell_type": "code",
   "execution_count": 277,
   "metadata": {},
   "outputs": [],
   "source": [
    "bnds = breakends.Breakends('2', 29_446_413, False, '2', 29_447_413, False, FASTA)"
   ]
  },
  {
   "cell_type": "code",
   "execution_count": 278,
   "metadata": {},
   "outputs": [],
   "source": [
    "interval = common.Interval(bnds.chrom1, bnds.pos1, bnds.pos2)"
   ]
  },
  {
   "cell_type": "code",
   "execution_count": 279,
   "metadata": {},
   "outputs": [],
   "source": [
    "annotdb_interval = annotationdb.AnnotDB(annotdb_type = 'plain', refver = 'hg19', fasta = FASTA)"
   ]
  },
  {
   "cell_type": "code",
   "execution_count": 280,
   "metadata": {},
   "outputs": [
    {
     "name": "stdout",
     "output_type": "stream",
     "text": [
      "2:g.29446413_29447413del\n"
     ]
    }
   ],
   "source": [
    "annotdb_interval.update_features_interval(interval)"
   ]
  },
  {
   "cell_type": "code",
   "execution_count": null,
   "metadata": {},
   "outputs": [],
   "source": []
  },
  {
   "cell_type": "code",
   "execution_count": 283,
   "metadata": {},
   "outputs": [
    {
     "data": {
      "text/plain": [
       "[{'chrom': '2',\n",
       "  'distance': \u001b[38;5;93mNone\u001b[0m,\n",
       "  'end0': 29447062,\n",
       "  'end1': 29447062,\n",
       "  'feature_type': 'repeat',\n",
       "  'feature_type_flags': {'is_motif': \u001b[38;5;196mFalse\u001b[0m,\n",
       "                         'is_regulatory': \u001b[38;5;196mFalse\u001b[0m,\n",
       "                         'is_repeat': \u001b[38;5;40mTrue\u001b[0m,\n",
       "                         'is_transcript': \u001b[38;5;196mFalse\u001b[0m},\n",
       "  'id': '2_29446648_29447062_LTR16B2',\n",
       "  'is_enclosed': \u001b[38;5;40mTrue\u001b[0m,\n",
       "  'is_forward': \u001b[38;5;196mFalse\u001b[0m,\n",
       "  'repeat_type': 'LTR16B2',\n",
       "  'start0': 29446648,\n",
       "  'start1': 29446649},\n",
       " {'chrom': '2',\n",
       "  'distance': \u001b[38;5;93mNone\u001b[0m,\n",
       "  'end0': 29447359,\n",
       "  'end1': 29447359,\n",
       "  'feature_type': 'repeat',\n",
       "  'feature_type_flags': {'is_motif': \u001b[38;5;196mFalse\u001b[0m,\n",
       "                         'is_regulatory': \u001b[38;5;196mFalse\u001b[0m,\n",
       "                         'is_repeat': \u001b[38;5;40mTrue\u001b[0m,\n",
       "                         'is_transcript': \u001b[38;5;196mFalse\u001b[0m},\n",
       "  'id': '2_29447094_29447359_MIRc',\n",
       "  'is_enclosed': \u001b[38;5;40mTrue\u001b[0m,\n",
       "  'is_forward': \u001b[38;5;40mTrue\u001b[0m,\n",
       "  'repeat_type': 'MIRc',\n",
       "  'start0': 29447094,\n",
       "  'start1': 29447095}]"
      ]
     },
     "execution_count": 283,
     "metadata": {},
     "output_type": "execute_result"
    }
   ],
   "source": [
    "[feature for feature in annotdb_interval.repeat.values() if feature['is_enclosed']]"
   ]
  },
  {
   "cell_type": "code",
   "execution_count": null,
   "metadata": {},
   "outputs": [],
   "source": []
  },
  {
   "cell_type": "code",
   "execution_count": null,
   "metadata": {},
   "outputs": [],
   "source": []
  },
  {
   "cell_type": "code",
   "execution_count": 269,
   "metadata": {},
   "outputs": [],
   "source": [
    "from handygenome.svlib import structvars\n",
    "sv_del = structvars.Deletion(bnds.chrom1, bnds.pos1, bnds.pos2, fasta = FASTA)"
   ]
  },
  {
   "cell_type": "code",
   "execution_count": 271,
   "metadata": {},
   "outputs": [],
   "source": [
    "result = ensembl_rest.vep('hg19', hgvsg = sv_del.get_hgvsg())"
   ]
  },
  {
   "cell_type": "code",
   "execution_count": null,
   "metadata": {},
   "outputs": [],
   "source": []
  },
  {
   "cell_type": "code",
   "execution_count": 143,
   "metadata": {},
   "outputs": [],
   "source": []
  },
  {
   "cell_type": "code",
   "execution_count": 163,
   "metadata": {},
   "outputs": [],
   "source": [
    "def myfun(pos1_endis5, pos2_endis5, annotdb_bnd1, annotdb_bnd2):\n",
    "    from itertools import product\n",
    "    \n",
    "    if pos1_endis5 != pos2_endis5:\n",
    "        def strand_checker(feature_bnd1, feature_bnd2):\n",
    "            return feature_bnd1['is_forward'] == feature_bnd2['is_forward']\n",
    "    else:\n",
    "        def strand_checker(feature_bnd1, feature_bnd2):\n",
    "            return feature_bnd1['is_forward'] != feature_bnd2['is_forward']\n",
    "        \n",
    "    if pos1_endis5:\n",
    "        def codon_frame_checker(feature_bnd1, feature_bnd2):\n",
    "            bnd1_precedes = not feature_bnd1['is_forward']\n",
    "            codon_frame0_bnd1 = feature_bnd1['codon_frame0']\n",
    "            codon_frame0_bnd2 = feature_bnd2['codon_frame0']\n",
    "            if bnd1_precedes:\n",
    "                return ((codon_frame0_bnd1 + 1)%3) == (codon_frame0_bnd2%3)\n",
    "            else:\n",
    "                return ((codon_frame0_bnd2 + 1)%3) == (codon_frame0_bnd1%3)\n",
    "    else:\n",
    "        def codon_frame_checker(feature_bnd1, feature_bnd2):\n",
    "            bnd1_precedes = feature_bnd1['is_forward']\n",
    "            codon_frame0_bnd1 = feature_bnd1['codon_frame0']\n",
    "            codon_frame0_bnd2 = feature_bnd2['codon_frame0']\n",
    "            if bnd1_precedes:\n",
    "                return ((codon_frame0_bnd1 + 1)%3) == (codon_frame0_bnd2%3)\n",
    "            else:\n",
    "                return ((codon_frame0_bnd2 + 1)%3) == (codon_frame0_bnd1%3) \n",
    "        \n",
    "    for feature_bnd1, feature_bnd2 in product(annotdb_bnd1.transcript.values(), annotdb_bnd2.transcript.values()):\n",
    "        if strand_checker(feature_bnd1, feature_bnd2):\n",
    "            if 'codon_frame0' in feature_bnd1 and 'codon_frame0' in feature_bnd2:\n",
    "                if codon_frame_checker(feature_bnd1, feature_bnd2):\n",
    "                    print(feature_bnd1['id'], feature_bnd2['id'])"
   ]
  },
  {
   "cell_type": "code",
   "execution_count": 164,
   "metadata": {},
   "outputs": [],
   "source": [
    "myfun(bnds.pos1_endis5, bnds.pos2_endis5, annotdb_bnd1, annotdb_bnd2)"
   ]
  },
  {
   "cell_type": "code",
   "execution_count": null,
   "metadata": {},
   "outputs": [],
   "source": []
  },
  {
   "cell_type": "code",
   "execution_count": 139,
   "metadata": {
    "tags": []
   },
   "outputs": [
    {
     "data": {
      "text/plain": [
       "14"
      ]
     },
     "execution_count": 139,
     "metadata": {},
     "output_type": "execute_result"
    }
   ],
   "source": [
    "len(annotdb_bnd1.transcript)"
   ]
  },
  {
   "cell_type": "code",
   "execution_count": 140,
   "metadata": {
    "tags": []
   },
   "outputs": [
    {
     "data": {
      "text/plain": [
       "7"
      ]
     },
     "execution_count": 140,
     "metadata": {},
     "output_type": "execute_result"
    }
   ],
   "source": [
    "len(annotdb_bnd2.transcript)"
   ]
  },
  {
   "cell_type": "code",
   "execution_count": 141,
   "metadata": {},
   "outputs": [
    {
     "data": {
      "text/plain": [
       "{'ENST00000398585': {'aa_change': \u001b[38;5;93mNone\u001b[0m,\n",
       "                     'biotype': 'protein_coding',\n",
       "                     'cadd_phred': \u001b[38;5;93mNone\u001b[0m,\n",
       "                     'cadd_raw': \u001b[38;5;93mNone\u001b[0m,\n",
       "                     'ccds_id': 'CCDS54486.1',\n",
       "                     'chrom': '21',\n",
       "                     'codon_change': \u001b[38;5;93mNone\u001b[0m,\n",
       "                     'consequence_flags': {'is_3pUTR_involved': \u001b[38;5;196mFalse\u001b[0m,\n",
       "                                           'is_5pUTR_involved': \u001b[38;5;196mFalse\u001b[0m,\n",
       "                                           'is_SV_consequence': \u001b[38;5;196mFalse\u001b[0m,\n",
       "                                           'is_frameshift': \u001b[38;5;196mFalse\u001b[0m,\n",
       "                                           'is_missense': \u001b[38;5;196mFalse\u001b[0m,\n",
       "                                           'is_not_protein_altering': \u001b[38;5;40mTrue\u001b[0m,\n",
       "                                           'is_protein_altering': \u001b[38;5;196mFalse\u001b[0m,\n",
       "                                           'is_splice_acceptor_involved': \u001b[38;5;196mFalse\u001b[0m,\n",
       "                                           'is_splice_donor_involved': \u001b[38;5;196mFalse\u001b[0m,\n",
       "                                           'is_splice_region_involved': \u001b[38;5;196mFalse\u001b[0m,\n",
       "                                           'is_startlost': \u001b[38;5;196mFalse\u001b[0m,\n",
       "                                           'is_stopgain': \u001b[38;5;196mFalse\u001b[0m,\n",
       "                                           'is_stoplost': \u001b[38;5;196mFalse\u001b[0m,\n",
       "                                           'is_synonymous': \u001b[38;5;196mFalse\u001b[0m,\n",
       "                                           'is_unclassified': \u001b[38;5;196mFalse\u001b[0m},\n",
       "                     'consequences': ['intron_variant'],\n",
       "                     'distance': \u001b[38;5;93mNone\u001b[0m,\n",
       "                     'end0': 42879992,\n",
       "                     'end1': 42879992,\n",
       "                     'exons': {'10_start0_end0': '42843732_42843908',\n",
       "                               '11_start0_end0': '42842574_42842670',\n",
       "                               '12_start0_end0': '42840322_42840465',\n",
       "                               '13_start0_end0': '42839660_42839813',\n",
       "                               '14_start0_end0': '42836479_42838080',\n",
       "                               '1_start0_end0': '42879876_42879992',\n",
       "                               '2_start0_end0': '42870045_42870116',\n",
       "                               '3_start0_end0': '42866282_42866505',\n",
       "                               '4_start0_end0': '42861433_42861520',\n",
       "                               '5_start0_end0': '42860320_42860440',\n",
       "                               '6_start0_end0': '42852402_42852529',\n",
       "                               '7_start0_end0': '42851098_42851209',\n",
       "                               '8_start0_end0': '42848503_42848547',\n",
       "                               '9_start0_end0': '42845251_42845423'},\n",
       "                     'feature_type': 'transcript',\n",
       "                     'feature_type_flags': {'is_motif': \u001b[38;5;196mFalse\u001b[0m,\n",
       "                                            'is_regulatory': \u001b[38;5;196mFalse\u001b[0m,\n",
       "                                            'is_repeat': \u001b[38;5;196mFalse\u001b[0m,\n",
       "                                            'is_transcript': \u001b[38;5;40mTrue\u001b[0m},\n",
       "                     'gene_id': 'ENSG00000184012',\n",
       "                     'gene_name': 'TMPRSS2',\n",
       "                     'hgvsc': \u001b[38;5;93mNone\u001b[0m,\n",
       "                     'hgvsp': \u001b[38;5;93mNone\u001b[0m,\n",
       "                     'id': 'ENST00000398585',\n",
       "                     'involved_exons': \u001b[38;5;93mNone\u001b[0m,\n",
       "                     'involved_introns': [1],\n",
       "                     'is_broken': \u001b[38;5;40mTrue\u001b[0m,\n",
       "                     'is_canonical': \u001b[38;5;40mTrue\u001b[0m,\n",
       "                     'is_exon_involved': \u001b[38;5;196mFalse\u001b[0m,\n",
       "                     'is_forward': \u001b[38;5;196mFalse\u001b[0m,\n",
       "                     'is_intron_involved': \u001b[38;5;40mTrue\u001b[0m,\n",
       "                     'mane_select': \u001b[38;5;93mNone\u001b[0m,\n",
       "                     'next_exon_codon_frame0': 0,\n",
       "                     'next_exon_genomic_pos': 42879877,\n",
       "                     'polyphen_prediction': \u001b[38;5;93mNone\u001b[0m,\n",
       "                     'polyphen_score': \u001b[38;5;93mNone\u001b[0m,\n",
       "                     'protein_id': 'ENSP00000381588',\n",
       "                     'sift_prediction': \u001b[38;5;93mNone\u001b[0m,\n",
       "                     'sift_score': \u001b[38;5;93mNone\u001b[0m,\n",
       "                     'start0': 42836479,\n",
       "                     'start1': 42836480,\n",
       "                     'transcript_name': 'TMPRSS2-201',\n",
       "                     'transcript_subtype_flags': {'is_IG': \u001b[38;5;196mFalse\u001b[0m,\n",
       "                                                  'is_IG_pseudogene': \u001b[38;5;196mFalse\u001b[0m,\n",
       "                                                  'is_NMD': \u001b[38;5;196mFalse\u001b[0m,\n",
       "                                                  'is_NSD': \u001b[38;5;196mFalse\u001b[0m,\n",
       "                                                  'is_TR': \u001b[38;5;196mFalse\u001b[0m,\n",
       "                                                  'is_TR_pseudogene': \u001b[38;5;196mFalse\u001b[0m,\n",
       "                                                  'is_antisense': \u001b[38;5;196mFalse\u001b[0m,\n",
       "                                                  'is_coding': \u001b[38;5;40mTrue\u001b[0m,\n",
       "                                                  'is_lncRNA': \u001b[38;5;196mFalse\u001b[0m,\n",
       "                                                  'is_miRNA': \u001b[38;5;196mFalse\u001b[0m,\n",
       "                                                  'is_noncoding': \u001b[38;5;196mFalse\u001b[0m,\n",
       "                                                  'is_processed_pseudogene': \u001b[38;5;196mFalse\u001b[0m,\n",
       "                                                  'is_pseudogene': \u001b[38;5;196mFalse\u001b[0m,\n",
       "                                                  'is_rRNA': \u001b[38;5;196mFalse\u001b[0m,\n",
       "                                                  'is_tRNA': \u001b[38;5;196mFalse\u001b[0m,\n",
       "                                                  'is_transcribed_pseudogene': \u001b[38;5;196mFalse\u001b[0m,\n",
       "                                                  'is_translated_pseudogene': \u001b[38;5;196mFalse\u001b[0m,\n",
       "                                                  'is_unitary_pseudogene': \u001b[38;5;196mFalse\u001b[0m,\n",
       "                                                  'is_unknown_type': \u001b[38;5;196mFalse\u001b[0m,\n",
       "                                                  'is_unprocessed_pseudogene': \u001b[38;5;196mFalse\u001b[0m},\n",
       "                     'variant_end0_cds': \u001b[38;5;93mNone\u001b[0m,\n",
       "                     'variant_end0_protein': \u001b[38;5;93mNone\u001b[0m,\n",
       "                     'variant_end0_transcript': \u001b[38;5;93mNone\u001b[0m,\n",
       "                     'variant_end1_cds': \u001b[38;5;93mNone\u001b[0m,\n",
       "                     'variant_end1_protein': \u001b[38;5;93mNone\u001b[0m,\n",
       "                     'variant_end1_transcript': \u001b[38;5;93mNone\u001b[0m,\n",
       "                     'variant_start0_cds': \u001b[38;5;93mNone\u001b[0m,\n",
       "                     'variant_start0_protein': \u001b[38;5;93mNone\u001b[0m,\n",
       "                     'variant_start0_transcript': \u001b[38;5;93mNone\u001b[0m,\n",
       "                     'variant_start1_cds': \u001b[38;5;93mNone\u001b[0m,\n",
       "                     'variant_start1_protein': \u001b[38;5;93mNone\u001b[0m,\n",
       "                     'variant_start1_transcript': \u001b[38;5;93mNone\u001b[0m}}"
      ]
     },
     "execution_count": 141,
     "metadata": {},
     "output_type": "execute_result"
    }
   ],
   "source": [
    "annotdb_bnd2.transcript_canonical"
   ]
  },
  {
   "cell_type": "code",
   "execution_count": null,
   "metadata": {},
   "outputs": [],
   "source": []
  },
  {
   "cell_type": "code",
   "execution_count": 90,
   "metadata": {},
   "outputs": [],
   "source": [
    "from handygenome.annotation import ensembl_rest"
   ]
  },
  {
   "cell_type": "code",
   "execution_count": 106,
   "metadata": {},
   "outputs": [
    {
     "name": "stdout",
     "output_type": "stream",
     "text": [
      "1.03 s ± 326 ms per loop (mean ± std. dev. of 7 runs, 1 loop each)\n"
     ]
    }
   ],
   "source": [
    "%%timeit\n",
    "result = ensembl_rest.vep(\n",
    "    refver = 'hg19', \n",
    "    vcfspec = common.Vcfspec('2', 29_446_394, 'A', 'N'), \n",
    "    distance = 0,\n",
    "    with_CADD = False,\n",
    "    with_Phenotypes = False,\n",
    "    with_canonical = False,\n",
    "    with_mane = False,\n",
    "    with_miRNA = False,\n",
    "    with_numbers = False,\n",
    "    with_protein = True,\n",
    "    with_ccds = False,\n",
    "    with_hgvs = False,\n",
    ")"
   ]
  },
  {
   "cell_type": "code",
   "execution_count": 107,
   "metadata": {},
   "outputs": [
    {
     "name": "stdout",
     "output_type": "stream",
     "text": [
      "897 ms ± 51.4 ms per loop (mean ± std. dev. of 7 runs, 1 loop each)\n"
     ]
    }
   ],
   "source": [
    "%%timeit\n",
    "result = ensembl_rest.vep(\n",
    "    refver = 'hg19', \n",
    "    vcfspec = common.Vcfspec('2', 29_446_394, 'A', 'N'), \n",
    "    distance = 0,\n",
    ")"
   ]
  },
  {
   "cell_type": "code",
   "execution_count": null,
   "metadata": {},
   "outputs": [],
   "source": []
  },
  {
   "cell_type": "code",
   "execution_count": 101,
   "metadata": {},
   "outputs": [
    {
     "data": {
      "text/plain": [
       "[{'start': 29446394,\n",
       "  'assembly_name': 'GRCh37',\n",
       "  'input': '2:g.29446394A>N',\n",
       "  'transcript_consequences': [{'cdna_end': 4080,\n",
       "    'gene_symbol_source': 'HGNC',\n",
       "    'gene_id': 'ENSG00000171094',\n",
       "    'codons': 'gTg/gNg',\n",
       "    'protein_start': 1058,\n",
       "    'cdna_start': 4080,\n",
       "    'hgnc_id': 427,\n",
       "    'consequence_terms': ['splice_region_variant', 'coding_sequence_variant'],\n",
       "    'variant_allele': 'N',\n",
       "    'cds_end': 3173,\n",
       "    'biotype': 'protein_coding',\n",
       "    'impact': 'LOW',\n",
       "    'protein_end': 1058,\n",
       "    'protein_id': 'ENSP00000373700',\n",
       "    'transcript_id': 'ENST00000389048',\n",
       "    'strand': -1,\n",
       "    'gene_symbol': 'ALK',\n",
       "    'cds_start': 3173},\n",
       "   {'gene_id': 'ENSG00000171094',\n",
       "    'gene_symbol_source': 'HGNC',\n",
       "    'protein_id': 'ENSP00000414027',\n",
       "    'strand': -1,\n",
       "    'variant_allele': 'N',\n",
       "    'consequence_terms': ['intron_variant'],\n",
       "    'hgnc_id': 427,\n",
       "    'transcript_id': 'ENST00000431873',\n",
       "    'biotype': 'protein_coding',\n",
       "    'gene_symbol': 'ALK',\n",
       "    'impact': 'MODIFIER'}],\n",
       "  'end': 29446394,\n",
       "  'strand': 1,\n",
       "  'allele_string': 'A/N',\n",
       "  'seq_region_name': '2',\n",
       "  'regulatory_feature_consequences': [{'regulatory_feature_id': 'ENSR00001172221',\n",
       "    'consequence_terms': ['regulatory_region_variant'],\n",
       "    'variant_allele': 'N',\n",
       "    'impact': 'MODIFIER',\n",
       "    'biotype': 'promoter_flanking_region'}],\n",
       "  'id': '2:g.29446394A>N',\n",
       "  'most_severe_consequence': 'splice_region_variant'}]"
      ]
     },
     "execution_count": 101,
     "metadata": {},
     "output_type": "execute_result"
    }
   ],
   "source": [
    "result"
   ]
  },
  {
   "cell_type": "code",
   "execution_count": null,
   "metadata": {},
   "outputs": [],
   "source": []
  },
  {
   "cell_type": "code",
   "execution_count": null,
   "metadata": {},
   "outputs": [],
   "source": []
  },
  {
   "cell_type": "code",
   "execution_count": null,
   "metadata": {},
   "outputs": [],
   "source": []
  },
  {
   "cell_type": "code",
   "execution_count": null,
   "metadata": {},
   "outputs": [],
   "source": []
  },
  {
   "cell_type": "code",
   "execution_count": 155,
   "metadata": {},
   "outputs": [],
   "source": [
    "result1 = ensembl_rest.vep(\n",
    "    vcfspec = vcfspec, \n",
    "    #hgvsg = hgvsg,\n",
    "    refver = 'hg38', \n",
    "    distance = 100,\n",
    ")"
   ]
  },
  {
   "cell_type": "code",
   "execution_count": 156,
   "metadata": {
    "tags": []
   },
   "outputs": [],
   "source": [
    "parsed_result = ensembl_parser.parse_rest_vep(result1)"
   ]
  },
  {
   "cell_type": "code",
   "execution_count": null,
   "metadata": {},
   "outputs": [],
   "source": []
  },
  {
   "cell_type": "code",
   "execution_count": 42,
   "metadata": {},
   "outputs": [],
   "source": [
    "vep_vr = veplib.run_vep_with_vcfspec(vcfspec, 'hg38', 100)"
   ]
  },
  {
   "cell_type": "code",
   "execution_count": 44,
   "metadata": {},
   "outputs": [],
   "source": [
    "parsed_result_cmdvep = ensembl_parser.parse_cmdline_vep(vep_vr)"
   ]
  },
  {
   "cell_type": "code",
   "execution_count": null,
   "metadata": {},
   "outputs": [],
   "source": []
  },
  {
   "cell_type": "code",
   "execution_count": null,
   "metadata": {},
   "outputs": [],
   "source": []
  },
  {
   "cell_type": "code",
   "execution_count": 8,
   "metadata": {},
   "outputs": [],
   "source": [
    "from handygenome.variantplus import vcfplus"
   ]
  },
  {
   "cell_type": "code",
   "execution_count": 88,
   "metadata": {},
   "outputs": [],
   "source": [
    "#vcf_path = '/home/users/pjh/practice/pipeline_test/vep_julib/input.processed.vep.vcf.gz'\n",
    "#vcf_path = '/home/users/pjh/practice/pipeline_test/vep_julib/manta_subsample.processed.vep.vcf.gz'\n",
    "vcf_path = '/home/users/pjh/practice/pipeline_test/vep_julib/sv_testinput.processed.vep.vcf.gz'"
   ]
  },
  {
   "cell_type": "code",
   "execution_count": 89,
   "metadata": {},
   "outputs": [
    {
     "name": "stderr",
     "output_type": "stream",
     "text": [
      "[E::idx_find_and_load] Could not retrieve index file for '/home/users/pjh/practice/pipeline_test/vep_julib/sv_testinput.processed.vep.vcf.gz'\n"
     ]
    }
   ],
   "source": [
    "vcfp = vcfplus.VcfPlus(vcf_path, FASTA_38, CHROMDICT_38)"
   ]
  },
  {
   "cell_type": "code",
   "execution_count": 92,
   "metadata": {},
   "outputs": [],
   "source": [
    "vp = vcfp.vplist[0]\n",
    "vp.annotdb_interval.update_features(hg19 = False)"
   ]
  },
  {
   "cell_type": "code",
   "execution_count": null,
   "metadata": {},
   "outputs": [],
   "source": []
  },
  {
   "cell_type": "code",
   "execution_count": null,
   "metadata": {},
   "outputs": [],
   "source": []
  },
  {
   "cell_type": "code",
   "execution_count": null,
   "metadata": {},
   "outputs": [],
   "source": []
  },
  {
   "cell_type": "code",
   "execution_count": null,
   "metadata": {},
   "outputs": [],
   "source": []
  },
  {
   "cell_type": "code",
   "execution_count": null,
   "metadata": {},
   "outputs": [],
   "source": []
  },
  {
   "cell_type": "code",
   "execution_count": 84,
   "metadata": {},
   "outputs": [],
   "source": [
    "from handygenome.variantplus.variantplus import VariantPlus"
   ]
  },
  {
   "cell_type": "code",
   "execution_count": 85,
   "metadata": {},
   "outputs": [],
   "source": [
    "delly_vcf_path = '/home/users/pjh/practice/pipeline_test/example_SV_vcfs_by_caller/delly_wrapper_test_v1.2_211122.vcf.gz'\n",
    "#delly_vcf_path = '/home/users/team_projects/Lung_Cancer_Panel_data/03_Data_from_YTKim/04_delly/14.tumor/14.tumor.delly.DEL.bcf'\n",
    "standard_vcf_path = '/home/users/pjh/tmp/delly_standard.vcf.gz'"
   ]
  },
  {
   "cell_type": "code",
   "execution_count": 98,
   "metadata": {},
   "outputs": [
    {
     "name": "stderr",
     "output_type": "stream",
     "text": [
      "[E::idx_find_and_load] Could not retrieve index file for '/home/users/pjh/tmp/delly_standard.vcf.gz'\n"
     ]
    }
   ],
   "source": [
    "vcf = pysam.VariantFile(standard_vcf_path)\n",
    "fetcher = vcf.fetch()"
   ]
  },
  {
   "cell_type": "code",
   "execution_count": 100,
   "metadata": {},
   "outputs": [],
   "source": [
    "while True:\n",
    "    vp = VariantPlus(next(fetcher))\n",
    "    if vp.bnds.svtype != 'TRA':\n",
    "        break\n",
    "    "
   ]
  },
  {
   "cell_type": "code",
   "execution_count": 102,
   "metadata": {},
   "outputs": [
    {
     "name": "stdout",
     "output_type": "stream",
     "text": [
      "1\t738610\t1_738610_1_742021_1\tA\tA[1:742021[\t0\tPASS\tPRECISE;SVTYPE=DEL;SVMETHOD=EMBL.DELLYv0.7.3;CHR2=1;INSLEN=0;PE=11;MAPQ=22;CT=3to5;CIPOS=-251,251;CIEND=-251,251;SR=28;SRQ=1;CONSENSUS=GATGGAAAAAATGATTTTACATAAAACATTAGTTGAAAGATACAGGCTGGGCATGGTGGCTCACACCTGTAATCCCAACACTTTGGGAGGCCGAGGCAGGTGGATCACTTGAGGTCAGGAGTTCAGTACTGTAAACACTGCTGCTATTCTCTTAGATGTTTTTCTTCCATGATATACCCTTATCCTGTATTGGTTTGTATAGATTAGCACATTAGGTTTCAGAAGTCATTTTAAAC;CE=1.96531;callerInfo=Delly@LY17_C;MATEID=1_738610_1_742021_2\tGT:GL:GQ:FT:RCL:RC:RCR:CN:DR:DV:RR:RV\t0/1:-19.2679,0,-71.1927:10000:PASS:906:627:568:1:23:11:23:12\t0/1:-9.83583,0,-50.5986:98:PASS:421:393:302:1:21:8:17:7\n",
      "\n"
     ]
    }
   ],
   "source": [
    "print(vp.vr)"
   ]
  },
  {
   "cell_type": "code",
   "execution_count": 103,
   "metadata": {},
   "outputs": [
    {
     "data": {
      "text/plain": [
       "{'chrom1': '1',\n",
       " 'chrom2': '1',\n",
       " 'inserted_seq': [],\n",
       " 'pos1': 738610,\n",
       " 'pos1_endis5': False,\n",
       " 'pos2': 742021,\n",
       " 'pos2_endis5': True,\n",
       " 'svtype': 'DEL'}"
      ]
     },
     "execution_count": 103,
     "metadata": {},
     "output_type": "execute_result"
    }
   ],
   "source": [
    "vp.bnds"
   ]
  },
  {
   "cell_type": "code",
   "execution_count": 104,
   "metadata": {},
   "outputs": [],
   "source": [
    "vp.annotdb_interval.update_features(hg19 = True)"
   ]
  }
 ],
 "metadata": {
  "kernelspec": {
   "display_name": "genome_v5",
   "language": "python",
   "name": "genome_v5"
  },
  "language_info": {
   "codemirror_mode": {
    "name": "ipython",
    "version": 3
   },
   "file_extension": ".py",
   "mimetype": "text/x-python",
   "name": "python",
   "nbconvert_exporter": "python",
   "pygments_lexer": "ipython3",
   "version": "3.9.12"
  }
 },
 "nbformat": 4,
 "nbformat_minor": 5
}
