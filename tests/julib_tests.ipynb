{
 "cells": [
  {
   "cell_type": "code",
   "execution_count": 1,
   "id": "e4f06e3b-4cc0-477a-b601-9801fadd7685",
   "metadata": {},
   "outputs": [],
   "source": [
    "%load_ext autoreload\n",
    "%autoreload 2\n",
    "\n",
    "import os\n",
    "os.chdir('/home/users/pjh/scripts/python_genome_packages/tests/')\n",
    "from pprint import pprint\n",
    "import pysam"
   ]
  },
  {
   "cell_type": "code",
   "execution_count": 2,
   "id": "b468c8d4-f12c-4f6e-b5d4-17f5aae8d890",
   "metadata": {},
   "outputs": [],
   "source": [
    "import pysam\n",
    "from pprint import pprint\n",
    "#from importlib import reload\n",
    "\n",
    "from julib import common\n",
    "from julib.common import ChromDict, Vcfspec, Interval\n",
    "from julib.variantplus.breakends import Breakends\n",
    "from julib.common import cpprint\n",
    "\n",
    "import julib.annotation"
   ]
  },
  {
   "cell_type": "code",
   "execution_count": 3,
   "id": "c036145e-0bb6-4ed0-a3f6-a347010f05c7",
   "metadata": {},
   "outputs": [],
   "source": [
    "FASTA_PATH = \"/home/users/data/01_reference/human_g1k_v37/human_g1k_v37.fasta\"\n",
    "FASTA_PATH_38 = \"/home/users/data/01_reference/human_g1k_v38/Homo_sapiens_assembly38.fasta\"\n",
    "\n",
    "#VCF_PATH = \"/home/users/pjh/scripts/python_genome_packages/tests/vep_split.vcf.gz\"\n",
    "\n",
    "CHROMDICT = ChromDict(fasta_path = FASTA_PATH)\n",
    "CHROMDICT_38 = ChromDict(fasta_path = FASTA_PATH_38)\n",
    "FASTA = pysam.FastaFile(FASTA_PATH)\n",
    "FASTA_38 = pysam.FastaFile(FASTA_PATH_38)"
   ]
  },
  {
   "cell_type": "code",
   "execution_count": 4,
   "id": "9ca36922-9e18-4497-892c-643e945d63a2",
   "metadata": {},
   "outputs": [],
   "source": [
    "import time\n",
    "\n",
    "def timer(func):\n",
    "    def wrapper(*args, **kwargs):\n",
    "        ts1 = time.perf_counter()\n",
    "        result = func(*args, **kwargs)\n",
    "        ts2 = time.perf_counter()\n",
    "        print(f'elapsed time: {ts2 - ts1}')\n",
    "        return result\n",
    "    return wrapper"
   ]
  },
  {
   "cell_type": "code",
   "execution_count": null,
   "id": "a1a61ff6-fab2-43d0-8b55-e9d67e2a5e09",
   "metadata": {},
   "outputs": [],
   "source": []
  },
  {
   "cell_type": "code",
   "execution_count": 16,
   "id": "9970e4d0-ac91-469c-9e2a-daacbe340e98",
   "metadata": {},
   "outputs": [],
   "source": [
    "vcf_path = '/home/users/pjh/practice/pipeline_test/merge/merged_head.annot.vcf.gz'"
   ]
  },
  {
   "cell_type": "code",
   "execution_count": 17,
   "id": "7bd71a4e-b8d5-4778-98a7-491178503189",
   "metadata": {},
   "outputs": [],
   "source": [
    "from julib.variantplus import vcfplus"
   ]
  },
  {
   "cell_type": "code",
   "execution_count": 20,
   "id": "7abd631c-9712-4e16-aa08-8ed7ad28e027",
   "metadata": {},
   "outputs": [
    {
     "name": "stderr",
     "output_type": "stream",
     "text": [
      "[E::idx_find_and_load] Could not retrieve index file for '/home/users/pjh/practice/pipeline_test/merge/merged_head.annot.vcf.gz'\n",
      "[E::idx_find_and_load] Could not retrieve index file for '/home/users/pjh/practice/pipeline_test/merge/merged_head.annot.vcf.gz'\n"
     ]
    }
   ],
   "source": [
    "vcfp = vcfplus.VcfPlus(vcf_path)"
   ]
  },
  {
   "cell_type": "code",
   "execution_count": null,
   "id": "405fbf35-bc43-49c6-b52b-f3fa61e7abc0",
   "metadata": {},
   "outputs": [],
   "source": []
  },
  {
   "cell_type": "code",
   "execution_count": null,
   "id": "a995000c-ef15-4892-a279-42dc745bd8e2",
   "metadata": {},
   "outputs": [],
   "source": []
  },
  {
   "cell_type": "code",
   "execution_count": null,
   "id": "61e30e1c-9e80-4531-a784-398e729ffa90",
   "metadata": {},
   "outputs": [],
   "source": []
  },
  {
   "cell_type": "code",
   "execution_count": null,
   "id": "8643f458-cd66-43c6-8015-905767d02b92",
   "metadata": {},
   "outputs": [],
   "source": []
  },
  {
   "cell_type": "code",
   "execution_count": null,
   "id": "029a89b6-f9f6-47c8-b8c2-0e92867c9eda",
   "metadata": {},
   "outputs": [],
   "source": []
  },
  {
   "cell_type": "code",
   "execution_count": 50,
   "id": "717fd4a0-90f3-4f9a-a6ee-7565068d13cf",
   "metadata": {},
   "outputs": [],
   "source": [
    "bnds = Breakends('21', 39824915, False, '21', 42879675, True, FASTA) # prostate cancer ERG-TMPRSS2\n",
    "#bnds = Breakends('2', 29_446_413, False, '2', 42_504_396, False, FASTA) # ALK-EML4\n",
    "vcfspec1 = Vcfspec(bnds.chrom1, bnds.pos1, FASTA.fetch(bnds.chrom1, bnds.pos1-1, bnds.pos1), 'N')\n",
    "vcfspec2 = Vcfspec(bnds.chrom2, bnds.pos2, FASTA.fetch(bnds.chrom2, bnds.pos2-1, bnds.pos2), 'N')"
   ]
  },
  {
   "cell_type": "code",
   "execution_count": null,
   "id": "7c239bdb-9af6-4c00-a4b1-16b43c6935a1",
   "metadata": {},
   "outputs": [],
   "source": []
  },
  {
   "cell_type": "code",
   "execution_count": 51,
   "id": "e25da460-a658-49bc-b690-6709b67d9851",
   "metadata": {},
   "outputs": [],
   "source": [
    "vep_vr1 = veplib.run_vep_with_vcfspec(vcfspec1, 'hg19')\n",
    "vep_vr2 = veplib.run_vep_with_vcfspec(vcfspec2, 'hg19')"
   ]
  },
  {
   "cell_type": "code",
   "execution_count": 52,
   "id": "9e2b7094-151f-4569-826a-cf52177a0b8a",
   "metadata": {},
   "outputs": [],
   "source": [
    "vep_result1 = ensembl_parser.parse_cmdline_vep(vep_vr1)\n",
    "vep_result2 = ensembl_parser.parse_cmdline_vep(vep_vr2)"
   ]
  },
  {
   "cell_type": "code",
   "execution_count": 53,
   "id": "e2d38dc5-7331-4e5b-9879-f5982fc6437e",
   "metadata": {},
   "outputs": [],
   "source": [
    "idmap1 = {annotitem['id']: annotitem['refseq_id'] for annotitem in vep_result1['transcript'].values()}\n",
    "idmap2 = {annotitem['id']: annotitem['refseq_id'] for annotitem in vep_result2['transcript'].values()}"
   ]
  },
  {
   "cell_type": "code",
   "execution_count": 54,
   "id": "77d0d5a2-ec14-470b-9d4e-6a8bc31e47f8",
   "metadata": {},
   "outputs": [
    {
     "data": {
      "text/plain": [
       "{'ENST00000288319': 'NM_182918.3',\n",
       " 'ENST00000398897': 'NM_001243429.1',\n",
       " 'ENST00000398905': None,\n",
       " 'ENST00000398907': None,\n",
       " 'ENST00000398910': None,\n",
       " 'ENST00000398911': None,\n",
       " 'ENST00000398919': 'NM_001243428.1',\n",
       " 'ENST00000417133': 'NM_001136154.1&NM_001243432.1',\n",
       " 'ENST00000429727': None,\n",
       " 'ENST00000442448': 'NM_004449.4',\n",
       " 'ENST00000453032': 'NM_001136155.1',\n",
       " 'ENST00000468474': None,\n",
       " 'ENST00000473107': None,\n",
       " 'ENST00000481609': None}"
      ]
     },
     "execution_count": 54,
     "metadata": {},
     "output_type": "execute_result"
    }
   ],
   "source": [
    "idmap1"
   ]
  },
  {
   "cell_type": "code",
   "execution_count": 55,
   "id": "3d98d8b0-5f78-48b4-a52c-f335c61310e8",
   "metadata": {},
   "outputs": [
    {
     "data": {
      "text/plain": [
       "{'ENST00000332149': 'NM_005656.3',\n",
       " 'ENST00000398585': 'NM_001135099.1',\n",
       " 'ENST00000424093': None,\n",
       " 'ENST00000454499': None,\n",
       " 'ENST00000455813': None,\n",
       " 'ENST00000458356': None,\n",
       " 'ENST00000463138': None,\n",
       " 'ENST00000497881': None}"
      ]
     },
     "execution_count": 55,
     "metadata": {},
     "output_type": "execute_result"
    }
   ],
   "source": [
    "idmap2"
   ]
  },
  {
   "cell_type": "code",
   "execution_count": null,
   "id": "18a4d501-025d-469b-a8eb-5b2203bf5e7c",
   "metadata": {},
   "outputs": [],
   "source": []
  },
  {
   "cell_type": "code",
   "execution_count": 56,
   "id": "cacd7abc-3247-4d2f-bb2c-797fc167c775",
   "metadata": {},
   "outputs": [],
   "source": [
    "#annotdb = annotationdb.AnnotDB('plain', 'hg19', FASTA)\n",
    "annotdb1 = annotationdb.AnnotDB('bnd1', 'hg19', FASTA)\n",
    "annotdb2 = annotationdb.AnnotDB('bnd1', 'hg19', FASTA)"
   ]
  },
  {
   "cell_type": "code",
   "execution_count": 57,
   "id": "e72201d5-ac0a-4b3a-8edd-60a563607fef",
   "metadata": {
    "tags": []
   },
   "outputs": [
    {
     "ename": "AttributeError",
     "evalue": "module 'julib.annotation.rnalib' has no attribute 'set_next_codon_frame0'",
     "output_type": "error",
     "traceback": [
      "\u001b[0;31m---------------------------------------------------------------------------\u001b[0m",
      "\u001b[0;31mAttributeError\u001b[0m                            Traceback (most recent call last)",
      "Input \u001b[0;32mIn [57]\u001b[0m, in \u001b[0;36m<cell line: 2>\u001b[0;34m()\u001b[0m\n\u001b[1;32m      1\u001b[0m \u001b[38;5;66;03m#annotdb.update_features_plain(vcfspec, julib.annotation.TABIXFILES_REPEATS['hg19'])\u001b[39;00m\n\u001b[0;32m----> 2\u001b[0m \u001b[43mannotdb1\u001b[49m\u001b[38;5;241;43m.\u001b[39;49m\u001b[43mupdate_features_bnd\u001b[49m\u001b[43m(\u001b[49m\n\u001b[1;32m      3\u001b[0m \u001b[43m    \u001b[49m\u001b[43mbnds\u001b[49m\u001b[38;5;241;43m.\u001b[39;49m\u001b[43mchrom1\u001b[49m\u001b[43m,\u001b[49m\u001b[43m \u001b[49m\u001b[43mbnds\u001b[49m\u001b[38;5;241;43m.\u001b[39;49m\u001b[43mpos1\u001b[49m\u001b[43m,\u001b[49m\u001b[43m \u001b[49m\u001b[43mbnds\u001b[49m\u001b[38;5;241;43m.\u001b[39;49m\u001b[43mpos1_endis5\u001b[49m\u001b[43m,\u001b[49m\u001b[43m \u001b[49m\n\u001b[1;32m      4\u001b[0m \u001b[43m    \u001b[49m\u001b[43mjulib\u001b[49m\u001b[38;5;241;43m.\u001b[39;49m\u001b[43mannotation\u001b[49m\u001b[38;5;241;43m.\u001b[39;49m\u001b[43mTABIXFILES_REPEATS\u001b[49m\u001b[43m[\u001b[49m\u001b[38;5;124;43m'\u001b[39;49m\u001b[38;5;124;43mhg19\u001b[39;49m\u001b[38;5;124;43m'\u001b[39;49m\u001b[43m]\u001b[49m\u001b[43m,\u001b[49m\u001b[43m \u001b[49m\n\u001b[1;32m      5\u001b[0m \u001b[43m    \u001b[49m\u001b[43mjulib\u001b[49m\u001b[38;5;241;43m.\u001b[39;49m\u001b[43mannotation\u001b[49m\u001b[38;5;241;43m.\u001b[39;49m\u001b[43mTABIXFILES_GENESET\u001b[49m\u001b[43m[\u001b[49m\u001b[38;5;124;43m'\u001b[39;49m\u001b[38;5;124;43mhg19\u001b[39;49m\u001b[38;5;124;43m'\u001b[39;49m\u001b[43m]\u001b[49m\u001b[43m,\u001b[49m\n\u001b[1;32m      6\u001b[0m \u001b[43m    \u001b[49m\u001b[43mjulib\u001b[49m\u001b[38;5;241;43m.\u001b[39;49m\u001b[43mannotation\u001b[49m\u001b[38;5;241;43m.\u001b[39;49m\u001b[43mTABIXFILES_REGULATORY\u001b[49m\u001b[43m[\u001b[49m\u001b[38;5;124;43m'\u001b[39;49m\u001b[38;5;124;43mhg19\u001b[39;49m\u001b[38;5;124;43m'\u001b[39;49m\u001b[43m]\u001b[49m\u001b[43m,\u001b[49m\n\u001b[1;32m      7\u001b[0m \u001b[43m)\u001b[49m\n\u001b[1;32m      9\u001b[0m annotdb2\u001b[38;5;241m.\u001b[39mupdate_features_bnd(\n\u001b[1;32m     10\u001b[0m     bnds\u001b[38;5;241m.\u001b[39mchrom2, bnds\u001b[38;5;241m.\u001b[39mpos2, bnds\u001b[38;5;241m.\u001b[39mpos2_endis5, \n\u001b[1;32m     11\u001b[0m     julib\u001b[38;5;241m.\u001b[39mannotation\u001b[38;5;241m.\u001b[39mTABIXFILES_REPEATS[\u001b[38;5;124m'\u001b[39m\u001b[38;5;124mhg19\u001b[39m\u001b[38;5;124m'\u001b[39m], \n\u001b[1;32m     12\u001b[0m     julib\u001b[38;5;241m.\u001b[39mannotation\u001b[38;5;241m.\u001b[39mTABIXFILES_GENESET[\u001b[38;5;124m'\u001b[39m\u001b[38;5;124mhg19\u001b[39m\u001b[38;5;124m'\u001b[39m],\n\u001b[1;32m     13\u001b[0m     julib\u001b[38;5;241m.\u001b[39mannotation\u001b[38;5;241m.\u001b[39mTABIXFILES_REGULATORY[\u001b[38;5;124m'\u001b[39m\u001b[38;5;124mhg19\u001b[39m\u001b[38;5;124m'\u001b[39m],\n\u001b[1;32m     14\u001b[0m )\n",
      "File \u001b[0;32m~/scripts/python_genome_packages/tests/julib/annotation/annotationdb.py:361\u001b[0m, in \u001b[0;36mAnnotDB.update_features_bnd\u001b[0;34m(self, chrom, pos, endis5, tabixfile_repeats, tabixfile_geneset, tabixfile_regulatory, distance, vep, overlap, transcript, regulatory)\u001b[0m\n\u001b[1;32m    355\u001b[0m \u001b[38;5;28mself\u001b[39m\u001b[38;5;241m.\u001b[39mupdate_customfile_repeat(chrom, \n\u001b[1;32m    356\u001b[0m \t\t\t\t\t\t\t  pos \u001b[38;5;241m-\u001b[39m \u001b[38;5;241m1\u001b[39m \u001b[38;5;241m-\u001b[39m distance,\n\u001b[1;32m    357\u001b[0m \t\t\t\t\t\t\t  pos \u001b[38;5;241m+\u001b[39m distance, \n\u001b[1;32m    358\u001b[0m \t\t\t\t\t\t\t  tabixfile_repeats)\n\u001b[1;32m    360\u001b[0m \u001b[38;5;66;03m# modifier\u001b[39;00m\n\u001b[0;32m--> 361\u001b[0m \u001b[38;5;28;43mself\u001b[39;49m\u001b[38;5;241;43m.\u001b[39;49m\u001b[43mmodifier_for_bnd\u001b[49m\u001b[43m(\u001b[49m\u001b[43mchrom\u001b[49m\u001b[43m,\u001b[49m\u001b[43m \u001b[49m\u001b[43mpos\u001b[49m\u001b[43m,\u001b[49m\u001b[43m \u001b[49m\u001b[43mendis5\u001b[49m\u001b[43m,\u001b[49m\u001b[43m \u001b[49m\u001b[43mtabixfile_geneset\u001b[49m\u001b[43m)\u001b[49m\n\u001b[1;32m    362\u001b[0m \u001b[38;5;28mself\u001b[39m\u001b[38;5;241m.\u001b[39mset_transcript_canonical()\n",
      "File \u001b[0;32m~/scripts/python_genome_packages/tests/julib/annotation/annotationdb.py:474\u001b[0m, in \u001b[0;36mAnnotDB.modifier_for_bnd\u001b[0;34m(self, chrom, pos, endis5, tabixfile_geneset)\u001b[0m\n\u001b[1;32m    471\u001b[0m \u001b[38;5;28mself\u001b[39m\u001b[38;5;241m.\u001b[39mset_missing_distances(distance_setter)\n\u001b[1;32m    473\u001b[0m \u001b[38;5;28mself\u001b[39m\u001b[38;5;241m.\u001b[39msettle_border_issues(pos, endis5)\n\u001b[0;32m--> 474\u001b[0m \u001b[43mrnalib\u001b[49m\u001b[38;5;241;43m.\u001b[39;49m\u001b[43mset_next_codon_frame0\u001b[49m(\u001b[38;5;28mself\u001b[39m\u001b[38;5;241m.\u001b[39mtranscript, chrom, pos, endis5, tabixfile_geneset)\n",
      "\u001b[0;31mAttributeError\u001b[0m: module 'julib.annotation.rnalib' has no attribute 'set_next_codon_frame0'"
     ]
    }
   ],
   "source": [
    "#annotdb.update_features_plain(vcfspec, julib.annotation.TABIXFILES_REPEATS['hg19'])\n",
    "annotdb1.update_features_bnd(\n",
    "    bnds.chrom1, bnds.pos1, bnds.pos1_endis5, \n",
    "    julib.annotation.TABIXFILES_REPEATS['hg19'], \n",
    "    julib.annotation.TABIXFILES_GENESET['hg19'],\n",
    "    julib.annotation.TABIXFILES_REGULATORY['hg19'],\n",
    ")\n",
    "\n",
    "annotdb2.update_features_bnd(\n",
    "    bnds.chrom2, bnds.pos2, bnds.pos2_endis5, \n",
    "    julib.annotation.TABIXFILES_REPEATS['hg19'], \n",
    "    julib.annotation.TABIXFILES_GENESET['hg19'],\n",
    "    julib.annotation.TABIXFILES_REGULATORY['hg19'],\n",
    ")"
   ]
  },
  {
   "cell_type": "code",
   "execution_count": null,
   "id": "ced1664c-260c-4b95-8254-f3d176554e0e",
   "metadata": {},
   "outputs": [],
   "source": [
    "for ID, annotitem in annotdb1.transcript.items():\n",
    "    print(ID, annotitem['transcript_name'], idmap1[ID], annotitem['next_codon_frame0'], sep='\\t')"
   ]
  },
  {
   "cell_type": "code",
   "execution_count": null,
   "id": "6f8a2a16-d0e6-42d9-9bf8-899e0d74796e",
   "metadata": {},
   "outputs": [],
   "source": [
    "for ID, annotitem in annotdb2.transcript.items():\n",
    "    print(ID, annotitem['transcript_name'], idmap2[ID], annotitem['next_codon_frame0'], sep='\\t')"
   ]
  },
  {
   "cell_type": "code",
   "execution_count": null,
   "id": "4e4bad2a-8572-4f66-9f32-d172d46bc0ab",
   "metadata": {},
   "outputs": [],
   "source": []
  },
  {
   "cell_type": "code",
   "execution_count": null,
   "id": "574159bd-da53-4489-a5c2-abbdff39c4ab",
   "metadata": {},
   "outputs": [],
   "source": []
  },
  {
   "cell_type": "code",
   "execution_count": 58,
   "id": "bbbac1eb-a4ec-4b93-ba93-a1b16ac8efcf",
   "metadata": {},
   "outputs": [],
   "source": [
    "next_codon_frame0_pos1 = rnalib.get_next_codon_frame0(\n",
    "    [x for x,y in vep_result1['transcript'].items() if y['distance'] is None], \n",
    "    bnds.chrom1, bnds.pos1, bnds.pos1_endis5, julib.annotation.TABIXFILES_GENESET['hg19'])\n",
    "\n",
    "next_codon_frame0_pos2 = rnalib.get_next_codon_frame0(\n",
    "    [x for x,y in vep_result2['transcript'].items() if y['distance'] is None], \n",
    "    bnds.chrom2, bnds.pos2, bnds.pos2_endis5, julib.annotation.TABIXFILES_GENESET['hg19'])"
   ]
  },
  {
   "cell_type": "code",
   "execution_count": 59,
   "id": "58dcc66d-236a-4c13-9a44-194b6f531ad1",
   "metadata": {},
   "outputs": [
    {
     "name": "stdout",
     "output_type": "stream",
     "text": [
      "{'ENST00000288319': 0, 'ENST00000398897': None, 'ENST00000398905': 0, 'ENST00000398907': 0, 'ENST00000398910': 0, 'ENST00000398911': 0, 'ENST00000398919': 0, 'ENST00000417133': 0, 'ENST00000429727': 0, 'ENST00000442448': 0, 'ENST00000453032': None, 'ENST00000468474': None, 'ENST00000481609': None}\n",
      "{'ENST00000332149': None, 'ENST00000398585': 0, 'ENST00000424093': None, 'ENST00000454499': None, 'ENST00000458356': None, 'ENST00000463138': None, 'ENST00000497881': None}\n"
     ]
    }
   ],
   "source": [
    "print(next_codon_frame0_pos1)\n",
    "print(next_codon_frame0_pos2)"
   ]
  },
  {
   "cell_type": "code",
   "execution_count": null,
   "id": "b1a21cec-b8fe-4f4a-86f5-4dd3a2a116e4",
   "metadata": {},
   "outputs": [],
   "source": []
  },
  {
   "cell_type": "code",
   "execution_count": null,
   "id": "fc35552e-910a-4b60-a387-f1ab24b7ba78",
   "metadata": {},
   "outputs": [],
   "source": []
  },
  {
   "cell_type": "code",
   "execution_count": null,
   "id": "45f41ec4-f68e-46f5-9a0d-b0036b7248e4",
   "metadata": {},
   "outputs": [],
   "source": []
  },
  {
   "cell_type": "code",
   "execution_count": null,
   "id": "b8754858-fa33-4ced-b5c7-b58d9dfb9977",
   "metadata": {},
   "outputs": [],
   "source": []
  },
  {
   "cell_type": "code",
   "execution_count": null,
   "id": "874896f4-3816-4e29-b80b-148f8cd1fb99",
   "metadata": {},
   "outputs": [],
   "source": []
  },
  {
   "cell_type": "code",
   "execution_count": 192,
   "id": "bb02afd7-b492-4dc5-9031-b17c2730522b",
   "metadata": {},
   "outputs": [],
   "source": [
    "#from julib.annotation import ensembl_rest\n",
    "#from julib.annotation import ensembl_parser\n",
    "from julib import hgvs\n",
    "#from julib.annotation import veplib\n",
    "from julib.annotation import annotationdb\n",
    "from julib.variantplus import breakends"
   ]
  },
  {
   "cell_type": "code",
   "execution_count": 196,
   "id": "ff9dda2c-5b15-49ae-8754-62cf88ba76f3",
   "metadata": {},
   "outputs": [],
   "source": [
    "hgvsg = 'chr12:g.25245350C>A' # KRAS hotspot\n",
    "vcfspec = hgvs.hgvsg_to_vcfspec(hgvsg, FASTA_38)"
   ]
  },
  {
   "cell_type": "code",
   "execution_count": 203,
   "id": "43e04cbc-9619-48ff-bcac-f49a9c16089f",
   "metadata": {},
   "outputs": [
    {
     "data": {
      "text/plain": [
       "Vcfspec(chrom='chr12', pos=25245350, ref='C', alt='A')"
      ]
     },
     "execution_count": 203,
     "metadata": {},
     "output_type": "execute_result"
    }
   ],
   "source": [
    "vcfspec"
   ]
  },
  {
   "cell_type": "code",
   "execution_count": 194,
   "id": "96ed94ad-0628-4af4-a921-c91c17eb7d65",
   "metadata": {},
   "outputs": [],
   "source": [
    "hgvsg = 'chr12:g.25245350C>A' # KRAS hotspot\n",
    "#hgvsg = 'chr17:g.7514616_7514617del'\n",
    "#hgvsg = 'chr17:g.7514615_7514616insTTT'\n",
    "#hgvsg = 'chr17:g.7514616A>T'\n",
    "\n",
    "vcfspec = hgvs.hgvsg_to_vcfspec(hgvsg, FASTA_38)"
   ]
  },
  {
   "cell_type": "code",
   "execution_count": 26,
   "id": "c25a2ee4-1e50-4b99-b8d5-1287ad7e51f3",
   "metadata": {},
   "outputs": [],
   "source": [
    "interval = common.Interval('chr17', 7_511_516, 7_512_481)"
   ]
  },
  {
   "cell_type": "code",
   "execution_count": null,
   "id": "4abc4023-6b81-4897-a3ac-a891ed1971cb",
   "metadata": {},
   "outputs": [],
   "source": []
  },
  {
   "cell_type": "code",
   "execution_count": null,
   "id": "add7673f-7a59-444c-acfa-5b6c80d7ac09",
   "metadata": {},
   "outputs": [],
   "source": []
  },
  {
   "cell_type": "code",
   "execution_count": 284,
   "id": "ce96a029-a753-401e-91a7-68ec54ecae1a",
   "metadata": {},
   "outputs": [],
   "source": [
    "#bnds = breakends.Breakends('2', 29_446_413, False, '2', 42_504_396, False, FASTA)\n",
    "#bnds = breakends.Breakends('2', 29_446_413, False, '2', 42_504_396, False, FASTA)\n",
    "bnds = breakends.Breakends('2', 29_446_413, False, '2', 42_504_396, False, FASTA)\n",
    "#bnds = breakends.Breakends('21', 39824915, False, '21', 42879675, True, FASTA) # prostate cancer ERG-TMPRSS2"
   ]
  },
  {
   "cell_type": "code",
   "execution_count": null,
   "id": "e7d7daaf-2b43-422e-b95f-d266cd0638c8",
   "metadata": {},
   "outputs": [],
   "source": []
  },
  {
   "cell_type": "code",
   "execution_count": 8,
   "id": "24793fef-02db-4cb6-8994-0d5cc635f8f5",
   "metadata": {},
   "outputs": [],
   "source": [
    "from julib.annotation import ensembl_rest"
   ]
  },
  {
   "cell_type": "code",
   "execution_count": 10,
   "id": "3f54d650-e1a4-4ad3-bd1e-fc35bf227572",
   "metadata": {},
   "outputs": [],
   "source": [
    "result = ensembl_rest.vep(\n",
    "    refver = 'hg19', vcfspec = common.Vcfspec('2', 29444010, 'C', 'N'),\n",
    ")"
   ]
  },
  {
   "cell_type": "code",
   "execution_count": 11,
   "id": "5d661178-f4dc-4874-ad4c-7599f8c2b254",
   "metadata": {},
   "outputs": [
    {
     "data": {
      "text/plain": [
       "[{'seq_region_name': '2',\n",
       "  'start': 29444010,\n",
       "  'id': '2:g.29444010C>N',\n",
       "  'allele_string': 'C/N',\n",
       "  'end': 29444010,\n",
       "  'most_severe_consequence': 'coding_sequence_variant',\n",
       "  'transcript_consequences': [{'gene_id': 'ENSG00000171094',\n",
       "    'consequence_terms': ['intron_variant'],\n",
       "    'variant_allele': 'N',\n",
       "    'protein_id': 'ENSP00000373700',\n",
       "    'gene_symbol_source': 'HGNC',\n",
       "    'gene_symbol': 'ALK',\n",
       "    'hgnc_id': 427,\n",
       "    'impact': 'MODIFIER',\n",
       "    'transcript_id': 'ENST00000389048',\n",
       "    'strand': -1,\n",
       "    'biotype': 'protein_coding',\n",
       "    'intron': '22/28',\n",
       "    'canonical': 1,\n",
       "    'ccds': 'CCDS33172.1'},\n",
       "   {'gene_symbol_source': 'HGNC',\n",
       "    'gene_symbol': 'ALK',\n",
       "    'protein_id': 'ENSP00000414027',\n",
       "    'hgnc_id': 427,\n",
       "    'impact': 'MODIFIER',\n",
       "    'variant_allele': 'N',\n",
       "    'consequence_terms': ['intron_variant'],\n",
       "    'gene_id': 'ENSG00000171094',\n",
       "    'intron': '2/3',\n",
       "    'biotype': 'protein_coding',\n",
       "    'strand': -1,\n",
       "    'transcript_id': 'ENST00000431873'},\n",
       "   {'cdna_end': 303,\n",
       "    'transcript_id': 'ENST00000453137',\n",
       "    'strand': -1,\n",
       "    'cds_start': 303,\n",
       "    'flags': ['cds_start_NF'],\n",
       "    'cds_end': 303,\n",
       "    'protein_end': 101,\n",
       "    'variant_allele': 'N',\n",
       "    'exon': '4/4',\n",
       "    'biotype': 'protein_coding',\n",
       "    'gene_id': 'ENSG00000171094',\n",
       "    'protein_start': 101,\n",
       "    'consequence_terms': ['coding_sequence_variant'],\n",
       "    'codons': 'caG/caN',\n",
       "    'cdna_start': 303,\n",
       "    'impact': 'MODIFIER',\n",
       "    'gene_symbol_source': 'HGNC',\n",
       "    'protein_id': 'ENSP00000387488',\n",
       "    'gene_symbol': 'ALK',\n",
       "    'hgnc_id': 427}],\n",
       "  'input': '2:g.29444010C>N',\n",
       "  'strand': 1,\n",
       "  'assembly_name': 'GRCh37'}]"
      ]
     },
     "execution_count": 11,
     "metadata": {},
     "output_type": "execute_result"
    }
   ],
   "source": [
    "result"
   ]
  },
  {
   "cell_type": "code",
   "execution_count": null,
   "id": "5ce63a92-1cb5-4228-bcb8-2731d25c24f1",
   "metadata": {},
   "outputs": [],
   "source": []
  },
  {
   "cell_type": "code",
   "execution_count": null,
   "id": "f21ad0a3-1e10-4b0b-8663-af7e3b29dcbe",
   "metadata": {},
   "outputs": [],
   "source": []
  },
  {
   "cell_type": "code",
   "execution_count": null,
   "id": "1426c215-b4fd-4a59-bfd4-fc6cb32afe3b",
   "metadata": {},
   "outputs": [],
   "source": []
  },
  {
   "cell_type": "code",
   "execution_count": 227,
   "id": "37f13998-b29f-4be3-bf33-1952e937c356",
   "metadata": {},
   "outputs": [
    {
     "data": {
      "text/plain": [
       "<Breakends> ]2:29446413]  ]2:42504396]"
      ]
     },
     "execution_count": 227,
     "metadata": {},
     "output_type": "execute_result"
    }
   ],
   "source": [
    "bnds"
   ]
  },
  {
   "cell_type": "code",
   "execution_count": 228,
   "id": "c4619e1a-cf69-4fca-8cf6-0f320949211c",
   "metadata": {},
   "outputs": [],
   "source": [
    "#annotdb = annotationdb.AnnotDB(annotdb_type = 'plain', refver = 'hg38', fasta = FASTA_38)\n",
    "\n",
    "annotdb_bnd1 = annotationdb.AnnotDB(annotdb_type = 'bnd1', refver = 'hg19', fasta = FASTA)\n",
    "annotdb_bnd2 = annotationdb.AnnotDB(annotdb_type = 'bnd2', refver = 'hg19', fasta = FASTA)"
   ]
  },
  {
   "cell_type": "code",
   "execution_count": 229,
   "id": "295b1839-fb85-42b1-81e1-1698f8fe51bc",
   "metadata": {
    "tags": []
   },
   "outputs": [],
   "source": [
    "annotdb_bnd1.update_features_bnd(bnds.chrom1, bnds.pos1, bnds.pos1_endis5)\n",
    "annotdb_bnd2.update_features_bnd(bnds.chrom2, bnds.pos2, bnds.pos2_endis5)"
   ]
  },
  {
   "cell_type": "code",
   "execution_count": 232,
   "id": "631b354c-df71-4bfb-b71c-f5dce8570f3d",
   "metadata": {
    "collapsed": true,
    "jupyter": {
     "outputs_hidden": true
    },
    "tags": []
   },
   "outputs": [
    {
     "data": {
      "text/plain": [
       "{'ENST00000389048': {'aa_change': \u001b[38;5;93mNone\u001b[0m,\n",
       "                     'biotype': 'protein_coding',\n",
       "                     'cadd_phred': \u001b[38;5;93mNone\u001b[0m,\n",
       "                     'cadd_raw': \u001b[38;5;93mNone\u001b[0m,\n",
       "                     'ccds_id': 'CCDS33172.1',\n",
       "                     'chrom': '2',\n",
       "                     'codon_change': \u001b[38;5;93mNone\u001b[0m,\n",
       "                     'consequence_flags': {'is_3pUTR_involved': \u001b[38;5;196mFalse\u001b[0m,\n",
       "                                           'is_5pUTR_involved': \u001b[38;5;196mFalse\u001b[0m,\n",
       "                                           'is_SV_consequence': \u001b[38;5;196mFalse\u001b[0m,\n",
       "                                           'is_frameshift': \u001b[38;5;196mFalse\u001b[0m,\n",
       "                                           'is_missense': \u001b[38;5;196mFalse\u001b[0m,\n",
       "                                           'is_not_protein_altering': \u001b[38;5;40mTrue\u001b[0m,\n",
       "                                           'is_protein_altering': \u001b[38;5;196mFalse\u001b[0m,\n",
       "                                           'is_splice_acceptor_involved': \u001b[38;5;196mFalse\u001b[0m,\n",
       "                                           'is_splice_donor_involved': \u001b[38;5;196mFalse\u001b[0m,\n",
       "                                           'is_splice_region_involved': \u001b[38;5;196mFalse\u001b[0m,\n",
       "                                           'is_startlost': \u001b[38;5;196mFalse\u001b[0m,\n",
       "                                           'is_stopgain': \u001b[38;5;196mFalse\u001b[0m,\n",
       "                                           'is_stoplost': \u001b[38;5;196mFalse\u001b[0m,\n",
       "                                           'is_synonymous': \u001b[38;5;196mFalse\u001b[0m,\n",
       "                                           'is_unclassified': \u001b[38;5;196mFalse\u001b[0m},\n",
       "                     'consequences': ['intron_variant'],\n",
       "                     'distance': \u001b[38;5;93mNone\u001b[0m,\n",
       "                     'end0': 30144432,\n",
       "                     'end1': 30144432,\n",
       "                     'exons': {'10_start0_end0': '29498267_29498362',\n",
       "                               '11_start0_end0': '29497964_29498093',\n",
       "                               '12_start0_end0': '29473970_29474133',\n",
       "                               '13_start0_end0': '29462545_29462696',\n",
       "                               '14_start0_end0': '29456430_29456562',\n",
       "                               '15_start0_end0': '29455169_29455314',\n",
       "                               '16_start0_end0': '29451749_29451932',\n",
       "                               '17_start0_end0': '29450439_29450538',\n",
       "                               '18_start0_end0': '29449787_29449940',\n",
       "                               '19_start0_end0': '29448326_29448431',\n",
       "                               '1_start0_end0': '30142858_30144432',\n",
       "                               '20_start0_end0': '29446207_29446394',\n",
       "                               '21_start0_end0': '29445382_29445473',\n",
       "                               '22_start0_end0': '29445209_29445274',\n",
       "                               '23_start0_end0': '29443571_29443701',\n",
       "                               '24_start0_end0': '29436849_29436947',\n",
       "                               '25_start0_end0': '29432651_29432744',\n",
       "                               '26_start0_end0': '29430036_29430138',\n",
       "                               '27_start0_end0': '29420407_29420542',\n",
       "                               '28_start0_end0': '29419635_29419726',\n",
       "                               '29_start0_end0': '29415639_29416788',\n",
       "                               '2_start0_end0': '29940443_29940563',\n",
       "                               '3_start0_end0': '29917715_29917880',\n",
       "                               '4_start0_end0': '29754780_29754982',\n",
       "                               '5_start0_end0': '29606597_29606725',\n",
       "                               '6_start0_end0': '29551215_29551347',\n",
       "                               '7_start0_end0': '29543616_29543748',\n",
       "                               '8_start0_end0': '29541169_29541270',\n",
       "                               '9_start0_end0': '29519753_29519923'},\n",
       "                     'feature_type': 'transcript',\n",
       "                     'feature_type_flags': {'is_motif': \u001b[38;5;196mFalse\u001b[0m,\n",
       "                                            'is_regulatory': \u001b[38;5;196mFalse\u001b[0m,\n",
       "                                            'is_repeat': \u001b[38;5;196mFalse\u001b[0m,\n",
       "                                            'is_transcript': \u001b[38;5;40mTrue\u001b[0m},\n",
       "                     'gene_id': 'ENSG00000171094',\n",
       "                     'gene_name': 'ALK',\n",
       "                     'hgvsc': \u001b[38;5;93mNone\u001b[0m,\n",
       "                     'hgvsp': \u001b[38;5;93mNone\u001b[0m,\n",
       "                     'id': 'ENST00000389048',\n",
       "                     'involved_exons': \u001b[38;5;93mNone\u001b[0m,\n",
       "                     'involved_introns': [19],\n",
       "                     'is_broken': \u001b[38;5;40mTrue\u001b[0m,\n",
       "                     'is_canonical': \u001b[38;5;40mTrue\u001b[0m,\n",
       "                     'is_exon_involved': \u001b[38;5;196mFalse\u001b[0m,\n",
       "                     'is_forward': \u001b[38;5;196mFalse\u001b[0m,\n",
       "                     'is_intron_involved': \u001b[38;5;40mTrue\u001b[0m,\n",
       "                     'mane_select': \u001b[38;5;93mNone\u001b[0m,\n",
       "                     'next_exon_codon_frame0': 1,\n",
       "                     'next_exon_genomic_pos': 29446394,\n",
       "                     'polyphen_prediction': \u001b[38;5;93mNone\u001b[0m,\n",
       "                     'polyphen_score': \u001b[38;5;93mNone\u001b[0m,\n",
       "                     'protein_id': 'ENSP00000373700',\n",
       "                     'sift_prediction': \u001b[38;5;93mNone\u001b[0m,\n",
       "                     'sift_score': \u001b[38;5;93mNone\u001b[0m,\n",
       "                     'start0': 29415639,\n",
       "                     'start1': 29415640,\n",
       "                     'transcript_name': 'ALK-001',\n",
       "                     'transcript_subtype_flags': {'is_IG': \u001b[38;5;196mFalse\u001b[0m,\n",
       "                                                  'is_IG_pseudogene': \u001b[38;5;196mFalse\u001b[0m,\n",
       "                                                  'is_NMD': \u001b[38;5;196mFalse\u001b[0m,\n",
       "                                                  'is_NSD': \u001b[38;5;196mFalse\u001b[0m,\n",
       "                                                  'is_TR': \u001b[38;5;196mFalse\u001b[0m,\n",
       "                                                  'is_TR_pseudogene': \u001b[38;5;196mFalse\u001b[0m,\n",
       "                                                  'is_antisense': \u001b[38;5;196mFalse\u001b[0m,\n",
       "                                                  'is_coding': \u001b[38;5;40mTrue\u001b[0m,\n",
       "                                                  'is_lncRNA': \u001b[38;5;196mFalse\u001b[0m,\n",
       "                                                  'is_miRNA': \u001b[38;5;196mFalse\u001b[0m,\n",
       "                                                  'is_noncoding': \u001b[38;5;196mFalse\u001b[0m,\n",
       "                                                  'is_processed_pseudogene': \u001b[38;5;196mFalse\u001b[0m,\n",
       "                                                  'is_pseudogene': \u001b[38;5;196mFalse\u001b[0m,\n",
       "                                                  'is_rRNA': \u001b[38;5;196mFalse\u001b[0m,\n",
       "                                                  'is_tRNA': \u001b[38;5;196mFalse\u001b[0m,\n",
       "                                                  'is_transcribed_pseudogene': \u001b[38;5;196mFalse\u001b[0m,\n",
       "                                                  'is_translated_pseudogene': \u001b[38;5;196mFalse\u001b[0m,\n",
       "                                                  'is_unitary_pseudogene': \u001b[38;5;196mFalse\u001b[0m,\n",
       "                                                  'is_unknown_type': \u001b[38;5;196mFalse\u001b[0m,\n",
       "                                                  'is_unprocessed_pseudogene': \u001b[38;5;196mFalse\u001b[0m},\n",
       "                     'variant_end0_cds': \u001b[38;5;93mNone\u001b[0m,\n",
       "                     'variant_end0_protein': \u001b[38;5;93mNone\u001b[0m,\n",
       "                     'variant_end0_transcript': \u001b[38;5;93mNone\u001b[0m,\n",
       "                     'variant_end1_cds': \u001b[38;5;93mNone\u001b[0m,\n",
       "                     'variant_end1_protein': \u001b[38;5;93mNone\u001b[0m,\n",
       "                     'variant_end1_transcript': \u001b[38;5;93mNone\u001b[0m,\n",
       "                     'variant_start0_cds': \u001b[38;5;93mNone\u001b[0m,\n",
       "                     'variant_start0_protein': \u001b[38;5;93mNone\u001b[0m,\n",
       "                     'variant_start0_transcript': \u001b[38;5;93mNone\u001b[0m,\n",
       "                     'variant_start1_cds': \u001b[38;5;93mNone\u001b[0m,\n",
       "                     'variant_start1_protein': \u001b[38;5;93mNone\u001b[0m,\n",
       "                     'variant_start1_transcript': \u001b[38;5;93mNone\u001b[0m},\n",
       " 'ENST00000431873': {'aa_change': \u001b[38;5;93mNone\u001b[0m,\n",
       "                     'biotype': 'protein_coding',\n",
       "                     'cadd_phred': \u001b[38;5;93mNone\u001b[0m,\n",
       "                     'cadd_raw': \u001b[38;5;93mNone\u001b[0m,\n",
       "                     'ccds_id': \u001b[38;5;93mNone\u001b[0m,\n",
       "                     'chrom': '2',\n",
       "                     'codon_change': \u001b[38;5;93mNone\u001b[0m,\n",
       "                     'consequence_flags': {'is_3pUTR_involved': \u001b[38;5;196mFalse\u001b[0m,\n",
       "                                           'is_5pUTR_involved': \u001b[38;5;196mFalse\u001b[0m,\n",
       "                                           'is_SV_consequence': \u001b[38;5;196mFalse\u001b[0m,\n",
       "                                           'is_frameshift': \u001b[38;5;196mFalse\u001b[0m,\n",
       "                                           'is_missense': \u001b[38;5;196mFalse\u001b[0m,\n",
       "                                           'is_not_protein_altering': \u001b[38;5;40mTrue\u001b[0m,\n",
       "                                           'is_protein_altering': \u001b[38;5;196mFalse\u001b[0m,\n",
       "                                           'is_splice_acceptor_involved': \u001b[38;5;196mFalse\u001b[0m,\n",
       "                                           'is_splice_donor_involved': \u001b[38;5;196mFalse\u001b[0m,\n",
       "                                           'is_splice_region_involved': \u001b[38;5;196mFalse\u001b[0m,\n",
       "                                           'is_startlost': \u001b[38;5;196mFalse\u001b[0m,\n",
       "                                           'is_stopgain': \u001b[38;5;196mFalse\u001b[0m,\n",
       "                                           'is_stoplost': \u001b[38;5;196mFalse\u001b[0m,\n",
       "                                           'is_synonymous': \u001b[38;5;196mFalse\u001b[0m,\n",
       "                                           'is_unclassified': \u001b[38;5;196mFalse\u001b[0m},\n",
       "                     'consequences': ['intron_variant'],\n",
       "                     'distance': \u001b[38;5;93mNone\u001b[0m,\n",
       "                     'end0': 30143525,\n",
       "                     'end1': 30143525,\n",
       "                     'exons': {'1_start0_end0': '30142858_30143525',\n",
       "                               '2_start0_end0': '29940439_29940563',\n",
       "                               '3_start0_end0': '29430910_29430911',\n",
       "                               '4_start0_end0': '29416089_29416650'},\n",
       "                     'feature_type': 'transcript',\n",
       "                     'feature_type_flags': {'is_motif': \u001b[38;5;196mFalse\u001b[0m,\n",
       "                                            'is_regulatory': \u001b[38;5;196mFalse\u001b[0m,\n",
       "                                            'is_repeat': \u001b[38;5;196mFalse\u001b[0m,\n",
       "                                            'is_transcript': \u001b[38;5;40mTrue\u001b[0m},\n",
       "                     'gene_id': 'ENSG00000171094',\n",
       "                     'gene_name': 'ALK',\n",
       "                     'hgvsc': \u001b[38;5;93mNone\u001b[0m,\n",
       "                     'hgvsp': \u001b[38;5;93mNone\u001b[0m,\n",
       "                     'id': 'ENST00000431873',\n",
       "                     'involved_exons': \u001b[38;5;93mNone\u001b[0m,\n",
       "                     'involved_introns': [2],\n",
       "                     'is_broken': \u001b[38;5;40mTrue\u001b[0m,\n",
       "                     'is_canonical': \u001b[38;5;196mFalse\u001b[0m,\n",
       "                     'is_exon_involved': \u001b[38;5;196mFalse\u001b[0m,\n",
       "                     'is_forward': \u001b[38;5;196mFalse\u001b[0m,\n",
       "                     'is_intron_involved': \u001b[38;5;40mTrue\u001b[0m,\n",
       "                     'mane_select': \u001b[38;5;93mNone\u001b[0m,\n",
       "                     'next_exon_codon_frame0': 2,\n",
       "                     'next_exon_genomic_pos': 29430911,\n",
       "                     'polyphen_prediction': \u001b[38;5;93mNone\u001b[0m,\n",
       "                     'polyphen_score': \u001b[38;5;93mNone\u001b[0m,\n",
       "                     'protein_id': 'ENSP00000414027',\n",
       "                     'sift_prediction': \u001b[38;5;93mNone\u001b[0m,\n",
       "                     'sift_score': \u001b[38;5;93mNone\u001b[0m,\n",
       "                     'start0': 29416089,\n",
       "                     'start1': 29416090,\n",
       "                     'transcript_name': 'ALK-201',\n",
       "                     'transcript_subtype_flags': {'is_IG': \u001b[38;5;196mFalse\u001b[0m,\n",
       "                                                  'is_IG_pseudogene': \u001b[38;5;196mFalse\u001b[0m,\n",
       "                                                  'is_NMD': \u001b[38;5;196mFalse\u001b[0m,\n",
       "                                                  'is_NSD': \u001b[38;5;196mFalse\u001b[0m,\n",
       "                                                  'is_TR': \u001b[38;5;196mFalse\u001b[0m,\n",
       "                                                  'is_TR_pseudogene': \u001b[38;5;196mFalse\u001b[0m,\n",
       "                                                  'is_antisense': \u001b[38;5;196mFalse\u001b[0m,\n",
       "                                                  'is_coding': \u001b[38;5;40mTrue\u001b[0m,\n",
       "                                                  'is_lncRNA': \u001b[38;5;196mFalse\u001b[0m,\n",
       "                                                  'is_miRNA': \u001b[38;5;196mFalse\u001b[0m,\n",
       "                                                  'is_noncoding': \u001b[38;5;196mFalse\u001b[0m,\n",
       "                                                  'is_processed_pseudogene': \u001b[38;5;196mFalse\u001b[0m,\n",
       "                                                  'is_pseudogene': \u001b[38;5;196mFalse\u001b[0m,\n",
       "                                                  'is_rRNA': \u001b[38;5;196mFalse\u001b[0m,\n",
       "                                                  'is_tRNA': \u001b[38;5;196mFalse\u001b[0m,\n",
       "                                                  'is_transcribed_pseudogene': \u001b[38;5;196mFalse\u001b[0m,\n",
       "                                                  'is_translated_pseudogene': \u001b[38;5;196mFalse\u001b[0m,\n",
       "                                                  'is_unitary_pseudogene': \u001b[38;5;196mFalse\u001b[0m,\n",
       "                                                  'is_unknown_type': \u001b[38;5;196mFalse\u001b[0m,\n",
       "                                                  'is_unprocessed_pseudogene': \u001b[38;5;196mFalse\u001b[0m},\n",
       "                     'variant_end0_cds': \u001b[38;5;93mNone\u001b[0m,\n",
       "                     'variant_end0_protein': \u001b[38;5;93mNone\u001b[0m,\n",
       "                     'variant_end0_transcript': \u001b[38;5;93mNone\u001b[0m,\n",
       "                     'variant_end1_cds': \u001b[38;5;93mNone\u001b[0m,\n",
       "                     'variant_end1_protein': \u001b[38;5;93mNone\u001b[0m,\n",
       "                     'variant_end1_transcript': \u001b[38;5;93mNone\u001b[0m,\n",
       "                     'variant_start0_cds': \u001b[38;5;93mNone\u001b[0m,\n",
       "                     'variant_start0_protein': \u001b[38;5;93mNone\u001b[0m,\n",
       "                     'variant_start0_transcript': \u001b[38;5;93mNone\u001b[0m,\n",
       "                     'variant_start1_cds': \u001b[38;5;93mNone\u001b[0m,\n",
       "                     'variant_start1_protein': \u001b[38;5;93mNone\u001b[0m,\n",
       "                     'variant_start1_transcript': \u001b[38;5;93mNone\u001b[0m},\n",
       " 'ENST00000453137': {'aa_change': \u001b[38;5;93mNone\u001b[0m,\n",
       "                     'biotype': 'protein_coding',\n",
       "                     'cadd_phred': \u001b[38;5;93mNone\u001b[0m,\n",
       "                     'cadd_raw': \u001b[38;5;93mNone\u001b[0m,\n",
       "                     'ccds_id': \u001b[38;5;93mNone\u001b[0m,\n",
       "                     'chrom': '2',\n",
       "                     'codon_change': \u001b[38;5;93mNone\u001b[0m,\n",
       "                     'consequence_flags': {'is_3pUTR_involved': \u001b[38;5;196mFalse\u001b[0m,\n",
       "                                           'is_5pUTR_involved': \u001b[38;5;196mFalse\u001b[0m,\n",
       "                                           'is_SV_consequence': \u001b[38;5;196mFalse\u001b[0m,\n",
       "                                           'is_frameshift': \u001b[38;5;196mFalse\u001b[0m,\n",
       "                                           'is_missense': \u001b[38;5;196mFalse\u001b[0m,\n",
       "                                           'is_not_protein_altering': \u001b[38;5;40mTrue\u001b[0m,\n",
       "                                           'is_protein_altering': \u001b[38;5;196mFalse\u001b[0m,\n",
       "                                           'is_splice_acceptor_involved': \u001b[38;5;196mFalse\u001b[0m,\n",
       "                                           'is_splice_donor_involved': \u001b[38;5;196mFalse\u001b[0m,\n",
       "                                           'is_splice_region_involved': \u001b[38;5;196mFalse\u001b[0m,\n",
       "                                           'is_startlost': \u001b[38;5;196mFalse\u001b[0m,\n",
       "                                           'is_stopgain': \u001b[38;5;196mFalse\u001b[0m,\n",
       "                                           'is_stoplost': \u001b[38;5;196mFalse\u001b[0m,\n",
       "                                           'is_synonymous': \u001b[38;5;196mFalse\u001b[0m,\n",
       "                                           'is_unclassified': \u001b[38;5;196mFalse\u001b[0m},\n",
       "                     'consequences': ['upstream_gene_variant'],\n",
       "                     'distance': -153,\n",
       "                     'end0': 29446260,\n",
       "                     'end1': 29446260,\n",
       "                     'exons': {'1_start0_end0': '29446207_29446260',\n",
       "                               '2_start0_end0': '29445382_29445473',\n",
       "                               '3_start0_end0': '29445209_29445274',\n",
       "                               '4_start0_end0': '29443735_29444103'},\n",
       "                     'feature_type': 'transcript',\n",
       "                     'feature_type_flags': {'is_motif': \u001b[38;5;196mFalse\u001b[0m,\n",
       "                                            'is_regulatory': \u001b[38;5;196mFalse\u001b[0m,\n",
       "                                            'is_repeat': \u001b[38;5;196mFalse\u001b[0m,\n",
       "                                            'is_transcript': \u001b[38;5;40mTrue\u001b[0m},\n",
       "                     'gene_id': 'ENSG00000171094',\n",
       "                     'gene_name': 'ALK',\n",
       "                     'hgvsc': \u001b[38;5;93mNone\u001b[0m,\n",
       "                     'hgvsp': \u001b[38;5;93mNone\u001b[0m,\n",
       "                     'id': 'ENST00000453137',\n",
       "                     'involved_exons': \u001b[38;5;93mNone\u001b[0m,\n",
       "                     'involved_introns': \u001b[38;5;93mNone\u001b[0m,\n",
       "                     'is_broken': \u001b[38;5;196mFalse\u001b[0m,\n",
       "                     'is_canonical': \u001b[38;5;196mFalse\u001b[0m,\n",
       "                     'is_exon_involved': \u001b[38;5;196mFalse\u001b[0m,\n",
       "                     'is_forward': \u001b[38;5;196mFalse\u001b[0m,\n",
       "                     'is_intron_involved': \u001b[38;5;196mFalse\u001b[0m,\n",
       "                     'mane_select': \u001b[38;5;93mNone\u001b[0m,\n",
       "                     'polyphen_prediction': \u001b[38;5;93mNone\u001b[0m,\n",
       "                     'polyphen_score': \u001b[38;5;93mNone\u001b[0m,\n",
       "                     'protein_id': 'ENSP00000387488',\n",
       "                     'sift_prediction': \u001b[38;5;93mNone\u001b[0m,\n",
       "                     'sift_score': \u001b[38;5;93mNone\u001b[0m,\n",
       "                     'start0': 29443735,\n",
       "                     'start1': 29443736,\n",
       "                     'transcript_name': 'ALK-002',\n",
       "                     'transcript_subtype_flags': {'is_IG': \u001b[38;5;196mFalse\u001b[0m,\n",
       "                                                  'is_IG_pseudogene': \u001b[38;5;196mFalse\u001b[0m,\n",
       "                                                  'is_NMD': \u001b[38;5;196mFalse\u001b[0m,\n",
       "                                                  'is_NSD': \u001b[38;5;196mFalse\u001b[0m,\n",
       "                                                  'is_TR': \u001b[38;5;196mFalse\u001b[0m,\n",
       "                                                  'is_TR_pseudogene': \u001b[38;5;196mFalse\u001b[0m,\n",
       "                                                  'is_antisense': \u001b[38;5;196mFalse\u001b[0m,\n",
       "                                                  'is_coding': \u001b[38;5;40mTrue\u001b[0m,\n",
       "                                                  'is_lncRNA': \u001b[38;5;196mFalse\u001b[0m,\n",
       "                                                  'is_miRNA': \u001b[38;5;196mFalse\u001b[0m,\n",
       "                                                  'is_noncoding': \u001b[38;5;196mFalse\u001b[0m,\n",
       "                                                  'is_processed_pseudogene': \u001b[38;5;196mFalse\u001b[0m,\n",
       "                                                  'is_pseudogene': \u001b[38;5;196mFalse\u001b[0m,\n",
       "                                                  'is_rRNA': \u001b[38;5;196mFalse\u001b[0m,\n",
       "                                                  'is_tRNA': \u001b[38;5;196mFalse\u001b[0m,\n",
       "                                                  'is_transcribed_pseudogene': \u001b[38;5;196mFalse\u001b[0m,\n",
       "                                                  'is_translated_pseudogene': \u001b[38;5;196mFalse\u001b[0m,\n",
       "                                                  'is_unitary_pseudogene': \u001b[38;5;196mFalse\u001b[0m,\n",
       "                                                  'is_unknown_type': \u001b[38;5;196mFalse\u001b[0m,\n",
       "                                                  'is_unprocessed_pseudogene': \u001b[38;5;196mFalse\u001b[0m},\n",
       "                     'variant_end0_cds': \u001b[38;5;93mNone\u001b[0m,\n",
       "                     'variant_end0_protein': \u001b[38;5;93mNone\u001b[0m,\n",
       "                     'variant_end0_transcript': \u001b[38;5;93mNone\u001b[0m,\n",
       "                     'variant_end1_cds': \u001b[38;5;93mNone\u001b[0m,\n",
       "                     'variant_end1_protein': \u001b[38;5;93mNone\u001b[0m,\n",
       "                     'variant_end1_transcript': \u001b[38;5;93mNone\u001b[0m,\n",
       "                     'variant_start0_cds': \u001b[38;5;93mNone\u001b[0m,\n",
       "                     'variant_start0_protein': \u001b[38;5;93mNone\u001b[0m,\n",
       "                     'variant_start0_transcript': \u001b[38;5;93mNone\u001b[0m,\n",
       "                     'variant_start1_cds': \u001b[38;5;93mNone\u001b[0m,\n",
       "                     'variant_start1_protein': \u001b[38;5;93mNone\u001b[0m,\n",
       "                     'variant_start1_transcript': \u001b[38;5;93mNone\u001b[0m}}"
      ]
     },
     "execution_count": 232,
     "metadata": {},
     "output_type": "execute_result"
    }
   ],
   "source": [
    "annotdb_bnd1.transcript"
   ]
  },
  {
   "cell_type": "code",
   "execution_count": null,
   "id": "0c713c99-7991-4bff-91a1-59cb69759c6e",
   "metadata": {},
   "outputs": [],
   "source": []
  },
  {
   "cell_type": "code",
   "execution_count": 277,
   "id": "360a0071-46f1-4096-b935-d430cbff0507",
   "metadata": {},
   "outputs": [],
   "source": [
    "bnds = breakends.Breakends('2', 29_446_413, False, '2', 29_447_413, False, FASTA)"
   ]
  },
  {
   "cell_type": "code",
   "execution_count": 278,
   "id": "eef48e9f-4334-4043-9584-498599b53185",
   "metadata": {},
   "outputs": [],
   "source": [
    "interval = common.Interval(bnds.chrom1, bnds.pos1, bnds.pos2)"
   ]
  },
  {
   "cell_type": "code",
   "execution_count": 279,
   "id": "40ddd7f9-f2b2-4f78-83a2-349b4394b64d",
   "metadata": {},
   "outputs": [],
   "source": [
    "annotdb_interval = annotationdb.AnnotDB(annotdb_type = 'plain', refver = 'hg19', fasta = FASTA)"
   ]
  },
  {
   "cell_type": "code",
   "execution_count": 280,
   "id": "19592853-f48e-4bc1-83c4-ceb60f03986a",
   "metadata": {},
   "outputs": [
    {
     "name": "stdout",
     "output_type": "stream",
     "text": [
      "2:g.29446413_29447413del\n"
     ]
    }
   ],
   "source": [
    "annotdb_interval.update_features_interval(interval)"
   ]
  },
  {
   "cell_type": "code",
   "execution_count": null,
   "id": "91a6d686-f7af-4b83-b1ef-46f464312264",
   "metadata": {},
   "outputs": [],
   "source": []
  },
  {
   "cell_type": "code",
   "execution_count": 283,
   "id": "97308972-2014-4b54-8ec9-3d1b0801d1bc",
   "metadata": {},
   "outputs": [
    {
     "data": {
      "text/plain": [
       "[{'chrom': '2',\n",
       "  'distance': \u001b[38;5;93mNone\u001b[0m,\n",
       "  'end0': 29447062,\n",
       "  'end1': 29447062,\n",
       "  'feature_type': 'repeat',\n",
       "  'feature_type_flags': {'is_motif': \u001b[38;5;196mFalse\u001b[0m,\n",
       "                         'is_regulatory': \u001b[38;5;196mFalse\u001b[0m,\n",
       "                         'is_repeat': \u001b[38;5;40mTrue\u001b[0m,\n",
       "                         'is_transcript': \u001b[38;5;196mFalse\u001b[0m},\n",
       "  'id': '2_29446648_29447062_LTR16B2',\n",
       "  'is_enclosed': \u001b[38;5;40mTrue\u001b[0m,\n",
       "  'is_forward': \u001b[38;5;196mFalse\u001b[0m,\n",
       "  'repeat_type': 'LTR16B2',\n",
       "  'start0': 29446648,\n",
       "  'start1': 29446649},\n",
       " {'chrom': '2',\n",
       "  'distance': \u001b[38;5;93mNone\u001b[0m,\n",
       "  'end0': 29447359,\n",
       "  'end1': 29447359,\n",
       "  'feature_type': 'repeat',\n",
       "  'feature_type_flags': {'is_motif': \u001b[38;5;196mFalse\u001b[0m,\n",
       "                         'is_regulatory': \u001b[38;5;196mFalse\u001b[0m,\n",
       "                         'is_repeat': \u001b[38;5;40mTrue\u001b[0m,\n",
       "                         'is_transcript': \u001b[38;5;196mFalse\u001b[0m},\n",
       "  'id': '2_29447094_29447359_MIRc',\n",
       "  'is_enclosed': \u001b[38;5;40mTrue\u001b[0m,\n",
       "  'is_forward': \u001b[38;5;40mTrue\u001b[0m,\n",
       "  'repeat_type': 'MIRc',\n",
       "  'start0': 29447094,\n",
       "  'start1': 29447095}]"
      ]
     },
     "execution_count": 283,
     "metadata": {},
     "output_type": "execute_result"
    }
   ],
   "source": [
    "[feature for feature in annotdb_interval.repeat.values() if feature['is_enclosed']]"
   ]
  },
  {
   "cell_type": "code",
   "execution_count": null,
   "id": "aa999357-6fd6-4b0f-a9b6-b37128367e16",
   "metadata": {},
   "outputs": [],
   "source": []
  },
  {
   "cell_type": "code",
   "execution_count": null,
   "id": "ffe751ec-50f7-436f-86ba-c51fc2ee66c7",
   "metadata": {},
   "outputs": [],
   "source": []
  },
  {
   "cell_type": "code",
   "execution_count": 269,
   "id": "4115cfab-03f4-4f60-ae5d-65073d9d5a92",
   "metadata": {},
   "outputs": [],
   "source": [
    "from julib.svlib import structvars\n",
    "sv_del = structvars.Deletion(bnds.chrom1, bnds.pos1, bnds.pos2, fasta = FASTA)"
   ]
  },
  {
   "cell_type": "code",
   "execution_count": 271,
   "id": "fa0a1e8c-b300-4c87-8729-b28ed0b3cabc",
   "metadata": {},
   "outputs": [],
   "source": [
    "result = ensembl_rest.vep('hg19', hgvsg = sv_del.get_hgvsg())"
   ]
  },
  {
   "cell_type": "code",
   "execution_count": null,
   "id": "19edbcc3-aa34-4eb5-8007-5278b74c3057",
   "metadata": {},
   "outputs": [],
   "source": []
  },
  {
   "cell_type": "code",
   "execution_count": 143,
   "id": "1679dd49-683e-479d-93f1-e10c13ba0780",
   "metadata": {},
   "outputs": [],
   "source": []
  },
  {
   "cell_type": "code",
   "execution_count": 163,
   "id": "5bef6aa8-4ed7-4ca6-a9bd-f768ea9e8e76",
   "metadata": {},
   "outputs": [],
   "source": [
    "def myfun(pos1_endis5, pos2_endis5, annotdb_bnd1, annotdb_bnd2):\n",
    "    from itertools import product\n",
    "    \n",
    "    if pos1_endis5 != pos2_endis5:\n",
    "        def strand_checker(feature_bnd1, feature_bnd2):\n",
    "            return feature_bnd1['is_forward'] == feature_bnd2['is_forward']\n",
    "    else:\n",
    "        def strand_checker(feature_bnd1, feature_bnd2):\n",
    "            return feature_bnd1['is_forward'] != feature_bnd2['is_forward']\n",
    "        \n",
    "    if pos1_endis5:\n",
    "        def codon_frame_checker(feature_bnd1, feature_bnd2):\n",
    "            bnd1_precedes = not feature_bnd1['is_forward']\n",
    "            codon_frame0_bnd1 = feature_bnd1['codon_frame0']\n",
    "            codon_frame0_bnd2 = feature_bnd2['codon_frame0']\n",
    "            if bnd1_precedes:\n",
    "                return ((codon_frame0_bnd1 + 1)%3) == (codon_frame0_bnd2%3)\n",
    "            else:\n",
    "                return ((codon_frame0_bnd2 + 1)%3) == (codon_frame0_bnd1%3)\n",
    "    else:\n",
    "        def codon_frame_checker(feature_bnd1, feature_bnd2):\n",
    "            bnd1_precedes = feature_bnd1['is_forward']\n",
    "            codon_frame0_bnd1 = feature_bnd1['codon_frame0']\n",
    "            codon_frame0_bnd2 = feature_bnd2['codon_frame0']\n",
    "            if bnd1_precedes:\n",
    "                return ((codon_frame0_bnd1 + 1)%3) == (codon_frame0_bnd2%3)\n",
    "            else:\n",
    "                return ((codon_frame0_bnd2 + 1)%3) == (codon_frame0_bnd1%3) \n",
    "        \n",
    "    for feature_bnd1, feature_bnd2 in product(annotdb_bnd1.transcript.values(), annotdb_bnd2.transcript.values()):\n",
    "        if strand_checker(feature_bnd1, feature_bnd2):\n",
    "            if 'codon_frame0' in feature_bnd1 and 'codon_frame0' in feature_bnd2:\n",
    "                if codon_frame_checker(feature_bnd1, feature_bnd2):\n",
    "                    print(feature_bnd1['id'], feature_bnd2['id'])"
   ]
  },
  {
   "cell_type": "code",
   "execution_count": 164,
   "id": "dd944da8-d52e-41a2-a57c-fb3fd56aa674",
   "metadata": {},
   "outputs": [],
   "source": [
    "myfun(bnds.pos1_endis5, bnds.pos2_endis5, annotdb_bnd1, annotdb_bnd2)"
   ]
  },
  {
   "cell_type": "code",
   "execution_count": null,
   "id": "cd8d948c-47e4-46fb-a068-dfe6da907f68",
   "metadata": {},
   "outputs": [],
   "source": []
  },
  {
   "cell_type": "code",
   "execution_count": 139,
   "id": "ccf95caa-b4b9-4615-91a6-cb52efb90119",
   "metadata": {
    "tags": []
   },
   "outputs": [
    {
     "data": {
      "text/plain": [
       "14"
      ]
     },
     "execution_count": 139,
     "metadata": {},
     "output_type": "execute_result"
    }
   ],
   "source": [
    "len(annotdb_bnd1.transcript)"
   ]
  },
  {
   "cell_type": "code",
   "execution_count": 140,
   "id": "b5ab3741-48dc-402e-9b62-a0873551960a",
   "metadata": {
    "tags": []
   },
   "outputs": [
    {
     "data": {
      "text/plain": [
       "7"
      ]
     },
     "execution_count": 140,
     "metadata": {},
     "output_type": "execute_result"
    }
   ],
   "source": [
    "len(annotdb_bnd2.transcript)"
   ]
  },
  {
   "cell_type": "code",
   "execution_count": 141,
   "id": "9446c0b2-394e-46a9-8ac5-2d02f531e5fd",
   "metadata": {},
   "outputs": [
    {
     "data": {
      "text/plain": [
       "{'ENST00000398585': {'aa_change': \u001b[38;5;93mNone\u001b[0m,\n",
       "                     'biotype': 'protein_coding',\n",
       "                     'cadd_phred': \u001b[38;5;93mNone\u001b[0m,\n",
       "                     'cadd_raw': \u001b[38;5;93mNone\u001b[0m,\n",
       "                     'ccds_id': 'CCDS54486.1',\n",
       "                     'chrom': '21',\n",
       "                     'codon_change': \u001b[38;5;93mNone\u001b[0m,\n",
       "                     'consequence_flags': {'is_3pUTR_involved': \u001b[38;5;196mFalse\u001b[0m,\n",
       "                                           'is_5pUTR_involved': \u001b[38;5;196mFalse\u001b[0m,\n",
       "                                           'is_SV_consequence': \u001b[38;5;196mFalse\u001b[0m,\n",
       "                                           'is_frameshift': \u001b[38;5;196mFalse\u001b[0m,\n",
       "                                           'is_missense': \u001b[38;5;196mFalse\u001b[0m,\n",
       "                                           'is_not_protein_altering': \u001b[38;5;40mTrue\u001b[0m,\n",
       "                                           'is_protein_altering': \u001b[38;5;196mFalse\u001b[0m,\n",
       "                                           'is_splice_acceptor_involved': \u001b[38;5;196mFalse\u001b[0m,\n",
       "                                           'is_splice_donor_involved': \u001b[38;5;196mFalse\u001b[0m,\n",
       "                                           'is_splice_region_involved': \u001b[38;5;196mFalse\u001b[0m,\n",
       "                                           'is_startlost': \u001b[38;5;196mFalse\u001b[0m,\n",
       "                                           'is_stopgain': \u001b[38;5;196mFalse\u001b[0m,\n",
       "                                           'is_stoplost': \u001b[38;5;196mFalse\u001b[0m,\n",
       "                                           'is_synonymous': \u001b[38;5;196mFalse\u001b[0m,\n",
       "                                           'is_unclassified': \u001b[38;5;196mFalse\u001b[0m},\n",
       "                     'consequences': ['intron_variant'],\n",
       "                     'distance': \u001b[38;5;93mNone\u001b[0m,\n",
       "                     'end0': 42879992,\n",
       "                     'end1': 42879992,\n",
       "                     'exons': {'10_start0_end0': '42843732_42843908',\n",
       "                               '11_start0_end0': '42842574_42842670',\n",
       "                               '12_start0_end0': '42840322_42840465',\n",
       "                               '13_start0_end0': '42839660_42839813',\n",
       "                               '14_start0_end0': '42836479_42838080',\n",
       "                               '1_start0_end0': '42879876_42879992',\n",
       "                               '2_start0_end0': '42870045_42870116',\n",
       "                               '3_start0_end0': '42866282_42866505',\n",
       "                               '4_start0_end0': '42861433_42861520',\n",
       "                               '5_start0_end0': '42860320_42860440',\n",
       "                               '6_start0_end0': '42852402_42852529',\n",
       "                               '7_start0_end0': '42851098_42851209',\n",
       "                               '8_start0_end0': '42848503_42848547',\n",
       "                               '9_start0_end0': '42845251_42845423'},\n",
       "                     'feature_type': 'transcript',\n",
       "                     'feature_type_flags': {'is_motif': \u001b[38;5;196mFalse\u001b[0m,\n",
       "                                            'is_regulatory': \u001b[38;5;196mFalse\u001b[0m,\n",
       "                                            'is_repeat': \u001b[38;5;196mFalse\u001b[0m,\n",
       "                                            'is_transcript': \u001b[38;5;40mTrue\u001b[0m},\n",
       "                     'gene_id': 'ENSG00000184012',\n",
       "                     'gene_name': 'TMPRSS2',\n",
       "                     'hgvsc': \u001b[38;5;93mNone\u001b[0m,\n",
       "                     'hgvsp': \u001b[38;5;93mNone\u001b[0m,\n",
       "                     'id': 'ENST00000398585',\n",
       "                     'involved_exons': \u001b[38;5;93mNone\u001b[0m,\n",
       "                     'involved_introns': [1],\n",
       "                     'is_broken': \u001b[38;5;40mTrue\u001b[0m,\n",
       "                     'is_canonical': \u001b[38;5;40mTrue\u001b[0m,\n",
       "                     'is_exon_involved': \u001b[38;5;196mFalse\u001b[0m,\n",
       "                     'is_forward': \u001b[38;5;196mFalse\u001b[0m,\n",
       "                     'is_intron_involved': \u001b[38;5;40mTrue\u001b[0m,\n",
       "                     'mane_select': \u001b[38;5;93mNone\u001b[0m,\n",
       "                     'next_exon_codon_frame0': 0,\n",
       "                     'next_exon_genomic_pos': 42879877,\n",
       "                     'polyphen_prediction': \u001b[38;5;93mNone\u001b[0m,\n",
       "                     'polyphen_score': \u001b[38;5;93mNone\u001b[0m,\n",
       "                     'protein_id': 'ENSP00000381588',\n",
       "                     'sift_prediction': \u001b[38;5;93mNone\u001b[0m,\n",
       "                     'sift_score': \u001b[38;5;93mNone\u001b[0m,\n",
       "                     'start0': 42836479,\n",
       "                     'start1': 42836480,\n",
       "                     'transcript_name': 'TMPRSS2-201',\n",
       "                     'transcript_subtype_flags': {'is_IG': \u001b[38;5;196mFalse\u001b[0m,\n",
       "                                                  'is_IG_pseudogene': \u001b[38;5;196mFalse\u001b[0m,\n",
       "                                                  'is_NMD': \u001b[38;5;196mFalse\u001b[0m,\n",
       "                                                  'is_NSD': \u001b[38;5;196mFalse\u001b[0m,\n",
       "                                                  'is_TR': \u001b[38;5;196mFalse\u001b[0m,\n",
       "                                                  'is_TR_pseudogene': \u001b[38;5;196mFalse\u001b[0m,\n",
       "                                                  'is_antisense': \u001b[38;5;196mFalse\u001b[0m,\n",
       "                                                  'is_coding': \u001b[38;5;40mTrue\u001b[0m,\n",
       "                                                  'is_lncRNA': \u001b[38;5;196mFalse\u001b[0m,\n",
       "                                                  'is_miRNA': \u001b[38;5;196mFalse\u001b[0m,\n",
       "                                                  'is_noncoding': \u001b[38;5;196mFalse\u001b[0m,\n",
       "                                                  'is_processed_pseudogene': \u001b[38;5;196mFalse\u001b[0m,\n",
       "                                                  'is_pseudogene': \u001b[38;5;196mFalse\u001b[0m,\n",
       "                                                  'is_rRNA': \u001b[38;5;196mFalse\u001b[0m,\n",
       "                                                  'is_tRNA': \u001b[38;5;196mFalse\u001b[0m,\n",
       "                                                  'is_transcribed_pseudogene': \u001b[38;5;196mFalse\u001b[0m,\n",
       "                                                  'is_translated_pseudogene': \u001b[38;5;196mFalse\u001b[0m,\n",
       "                                                  'is_unitary_pseudogene': \u001b[38;5;196mFalse\u001b[0m,\n",
       "                                                  'is_unknown_type': \u001b[38;5;196mFalse\u001b[0m,\n",
       "                                                  'is_unprocessed_pseudogene': \u001b[38;5;196mFalse\u001b[0m},\n",
       "                     'variant_end0_cds': \u001b[38;5;93mNone\u001b[0m,\n",
       "                     'variant_end0_protein': \u001b[38;5;93mNone\u001b[0m,\n",
       "                     'variant_end0_transcript': \u001b[38;5;93mNone\u001b[0m,\n",
       "                     'variant_end1_cds': \u001b[38;5;93mNone\u001b[0m,\n",
       "                     'variant_end1_protein': \u001b[38;5;93mNone\u001b[0m,\n",
       "                     'variant_end1_transcript': \u001b[38;5;93mNone\u001b[0m,\n",
       "                     'variant_start0_cds': \u001b[38;5;93mNone\u001b[0m,\n",
       "                     'variant_start0_protein': \u001b[38;5;93mNone\u001b[0m,\n",
       "                     'variant_start0_transcript': \u001b[38;5;93mNone\u001b[0m,\n",
       "                     'variant_start1_cds': \u001b[38;5;93mNone\u001b[0m,\n",
       "                     'variant_start1_protein': \u001b[38;5;93mNone\u001b[0m,\n",
       "                     'variant_start1_transcript': \u001b[38;5;93mNone\u001b[0m}}"
      ]
     },
     "execution_count": 141,
     "metadata": {},
     "output_type": "execute_result"
    }
   ],
   "source": [
    "annotdb_bnd2.transcript_canonical"
   ]
  },
  {
   "cell_type": "code",
   "execution_count": null,
   "id": "14356fa0-11f6-4436-a6e7-fd620ff78517",
   "metadata": {},
   "outputs": [],
   "source": []
  },
  {
   "cell_type": "code",
   "execution_count": 90,
   "id": "d591103b-b805-484e-b448-933806887ff1",
   "metadata": {},
   "outputs": [],
   "source": [
    "from julib.annotation import ensembl_rest"
   ]
  },
  {
   "cell_type": "code",
   "execution_count": 106,
   "id": "d33caa97-992f-4eb8-81d4-f9d5840b5ebf",
   "metadata": {},
   "outputs": [
    {
     "name": "stdout",
     "output_type": "stream",
     "text": [
      "1.03 s ± 326 ms per loop (mean ± std. dev. of 7 runs, 1 loop each)\n"
     ]
    }
   ],
   "source": [
    "%%timeit\n",
    "result = ensembl_rest.vep(\n",
    "    refver = 'hg19', \n",
    "    vcfspec = common.Vcfspec('2', 29_446_394, 'A', 'N'), \n",
    "    distance = 0,\n",
    "    with_CADD = False,\n",
    "    with_Phenotypes = False,\n",
    "    with_canonical = False,\n",
    "    with_mane = False,\n",
    "    with_miRNA = False,\n",
    "    with_numbers = False,\n",
    "    with_protein = True,\n",
    "    with_ccds = False,\n",
    "    with_hgvs = False,\n",
    ")"
   ]
  },
  {
   "cell_type": "code",
   "execution_count": 107,
   "id": "e9bf0446-07ce-4ed5-bbd0-c5f618776551",
   "metadata": {},
   "outputs": [
    {
     "name": "stdout",
     "output_type": "stream",
     "text": [
      "897 ms ± 51.4 ms per loop (mean ± std. dev. of 7 runs, 1 loop each)\n"
     ]
    }
   ],
   "source": [
    "%%timeit\n",
    "result = ensembl_rest.vep(\n",
    "    refver = 'hg19', \n",
    "    vcfspec = common.Vcfspec('2', 29_446_394, 'A', 'N'), \n",
    "    distance = 0,\n",
    ")"
   ]
  },
  {
   "cell_type": "code",
   "execution_count": null,
   "id": "23211333-38ff-4f49-a068-3b34b0c64c4a",
   "metadata": {},
   "outputs": [],
   "source": []
  },
  {
   "cell_type": "code",
   "execution_count": 101,
   "id": "a2431fcf-0d39-4da8-9496-4f71f9930912",
   "metadata": {},
   "outputs": [
    {
     "data": {
      "text/plain": [
       "[{'start': 29446394,\n",
       "  'assembly_name': 'GRCh37',\n",
       "  'input': '2:g.29446394A>N',\n",
       "  'transcript_consequences': [{'cdna_end': 4080,\n",
       "    'gene_symbol_source': 'HGNC',\n",
       "    'gene_id': 'ENSG00000171094',\n",
       "    'codons': 'gTg/gNg',\n",
       "    'protein_start': 1058,\n",
       "    'cdna_start': 4080,\n",
       "    'hgnc_id': 427,\n",
       "    'consequence_terms': ['splice_region_variant', 'coding_sequence_variant'],\n",
       "    'variant_allele': 'N',\n",
       "    'cds_end': 3173,\n",
       "    'biotype': 'protein_coding',\n",
       "    'impact': 'LOW',\n",
       "    'protein_end': 1058,\n",
       "    'protein_id': 'ENSP00000373700',\n",
       "    'transcript_id': 'ENST00000389048',\n",
       "    'strand': -1,\n",
       "    'gene_symbol': 'ALK',\n",
       "    'cds_start': 3173},\n",
       "   {'gene_id': 'ENSG00000171094',\n",
       "    'gene_symbol_source': 'HGNC',\n",
       "    'protein_id': 'ENSP00000414027',\n",
       "    'strand': -1,\n",
       "    'variant_allele': 'N',\n",
       "    'consequence_terms': ['intron_variant'],\n",
       "    'hgnc_id': 427,\n",
       "    'transcript_id': 'ENST00000431873',\n",
       "    'biotype': 'protein_coding',\n",
       "    'gene_symbol': 'ALK',\n",
       "    'impact': 'MODIFIER'}],\n",
       "  'end': 29446394,\n",
       "  'strand': 1,\n",
       "  'allele_string': 'A/N',\n",
       "  'seq_region_name': '2',\n",
       "  'regulatory_feature_consequences': [{'regulatory_feature_id': 'ENSR00001172221',\n",
       "    'consequence_terms': ['regulatory_region_variant'],\n",
       "    'variant_allele': 'N',\n",
       "    'impact': 'MODIFIER',\n",
       "    'biotype': 'promoter_flanking_region'}],\n",
       "  'id': '2:g.29446394A>N',\n",
       "  'most_severe_consequence': 'splice_region_variant'}]"
      ]
     },
     "execution_count": 101,
     "metadata": {},
     "output_type": "execute_result"
    }
   ],
   "source": [
    "result"
   ]
  },
  {
   "cell_type": "code",
   "execution_count": null,
   "id": "d58fb1e1-d63b-4923-9c77-8b8bcf272d8d",
   "metadata": {},
   "outputs": [],
   "source": []
  },
  {
   "cell_type": "code",
   "execution_count": null,
   "id": "f227784c-2ae1-40b3-abf5-5ef3e90ac509",
   "metadata": {},
   "outputs": [],
   "source": []
  },
  {
   "cell_type": "code",
   "execution_count": null,
   "id": "d4781402-a431-4df0-8167-da97cb17756f",
   "metadata": {},
   "outputs": [],
   "source": []
  },
  {
   "cell_type": "code",
   "execution_count": null,
   "id": "a12ec246-742b-41a5-9892-2b284b477ee8",
   "metadata": {},
   "outputs": [],
   "source": []
  },
  {
   "cell_type": "code",
   "execution_count": 155,
   "id": "eafb389a-9291-484f-bd26-09fd56c09cd5",
   "metadata": {},
   "outputs": [],
   "source": [
    "result1 = ensembl_rest.vep(\n",
    "    vcfspec = vcfspec, \n",
    "    #hgvsg = hgvsg,\n",
    "    refver = 'hg38', \n",
    "    distance = 100,\n",
    ")"
   ]
  },
  {
   "cell_type": "code",
   "execution_count": 156,
   "id": "2ff5a5a7-b36a-401f-b843-a0a1a70c42a5",
   "metadata": {
    "tags": []
   },
   "outputs": [],
   "source": [
    "parsed_result = ensembl_parser.parse_rest_vep(result1)"
   ]
  },
  {
   "cell_type": "code",
   "execution_count": null,
   "id": "5550272f-ab85-4069-bf7b-1873ca860706",
   "metadata": {},
   "outputs": [],
   "source": []
  },
  {
   "cell_type": "code",
   "execution_count": 42,
   "id": "9446a02b-23a4-4cbc-9856-49f4bdb1cee2",
   "metadata": {},
   "outputs": [],
   "source": [
    "vep_vr = veplib.run_vep_with_vcfspec(vcfspec, 'hg38', 100)"
   ]
  },
  {
   "cell_type": "code",
   "execution_count": 44,
   "id": "2c8c254e-c7e9-4022-8bee-5b3aa0627950",
   "metadata": {},
   "outputs": [],
   "source": [
    "parsed_result_cmdvep = ensembl_parser.parse_cmdline_vep(vep_vr)"
   ]
  },
  {
   "cell_type": "code",
   "execution_count": null,
   "id": "f2152b34-8526-4a44-b464-6f5cbd20063c",
   "metadata": {},
   "outputs": [],
   "source": []
  },
  {
   "cell_type": "code",
   "execution_count": null,
   "id": "fd97e16e-3b67-47b9-bcfb-6924f835241c",
   "metadata": {},
   "outputs": [],
   "source": []
  },
  {
   "cell_type": "code",
   "execution_count": 8,
   "id": "b5c8f5e1-8713-48b3-8823-00de336ab789",
   "metadata": {},
   "outputs": [],
   "source": [
    "from julib.variantplus import vcfplus"
   ]
  },
  {
   "cell_type": "code",
   "execution_count": 88,
   "id": "dcd08fe9-d12c-4092-b512-c15455d6c4d8",
   "metadata": {},
   "outputs": [],
   "source": [
    "#vcf_path = '/home/users/pjh/practice/pipeline_test/vep_julib/input.processed.vep.vcf.gz'\n",
    "#vcf_path = '/home/users/pjh/practice/pipeline_test/vep_julib/manta_subsample.processed.vep.vcf.gz'\n",
    "vcf_path = '/home/users/pjh/practice/pipeline_test/vep_julib/sv_testinput.processed.vep.vcf.gz'"
   ]
  },
  {
   "cell_type": "code",
   "execution_count": 89,
   "id": "fb672368-aac9-448c-979f-eb85de69cfcd",
   "metadata": {},
   "outputs": [
    {
     "name": "stderr",
     "output_type": "stream",
     "text": [
      "[E::idx_find_and_load] Could not retrieve index file for '/home/users/pjh/practice/pipeline_test/vep_julib/sv_testinput.processed.vep.vcf.gz'\n"
     ]
    }
   ],
   "source": [
    "vcfp = vcfplus.VcfPlus(vcf_path, FASTA_38, CHROMDICT_38)"
   ]
  },
  {
   "cell_type": "code",
   "execution_count": 92,
   "id": "8868002d-bc6c-4708-8d13-80dfaf7437d7",
   "metadata": {},
   "outputs": [],
   "source": [
    "vp = vcfp.vplist[0]\n",
    "vp.annotdb_interval.update_features(hg19 = False)"
   ]
  },
  {
   "cell_type": "code",
   "execution_count": null,
   "id": "f7e02c37-7c9f-4a64-a122-6147ee9a1947",
   "metadata": {},
   "outputs": [],
   "source": []
  },
  {
   "cell_type": "code",
   "execution_count": null,
   "id": "bc7f632d-6c88-4533-a5bb-2c8bba610c9c",
   "metadata": {},
   "outputs": [],
   "source": []
  },
  {
   "cell_type": "code",
   "execution_count": null,
   "id": "bc96ae3f-334c-460c-a46b-6c98fb2ddb12",
   "metadata": {},
   "outputs": [],
   "source": []
  },
  {
   "cell_type": "code",
   "execution_count": null,
   "id": "a5cb6492-05ff-4b74-b62e-259b993ebccb",
   "metadata": {},
   "outputs": [],
   "source": []
  },
  {
   "cell_type": "code",
   "execution_count": null,
   "id": "2743e7e3-5e7a-489e-8958-aec4804f980d",
   "metadata": {},
   "outputs": [],
   "source": []
  },
  {
   "cell_type": "code",
   "execution_count": 84,
   "id": "552183b4-4d9d-4a7e-9fca-7ef23382e5b2",
   "metadata": {},
   "outputs": [],
   "source": [
    "from julib.variantplus.variantplus import VariantPlus"
   ]
  },
  {
   "cell_type": "code",
   "execution_count": 85,
   "id": "0b721bee-a34a-49e6-be01-947083232931",
   "metadata": {},
   "outputs": [],
   "source": [
    "delly_vcf_path = '/home/users/pjh/practice/pipeline_test/example_SV_vcfs_by_caller/delly_wrapper_test_v1.2_211122.vcf.gz'\n",
    "#delly_vcf_path = '/home/users/team_projects/Lung_Cancer_Panel_data/03_Data_from_YTKim/04_delly/14.tumor/14.tumor.delly.DEL.bcf'\n",
    "standard_vcf_path = '/home/users/pjh/tmp/delly_standard.vcf.gz'"
   ]
  },
  {
   "cell_type": "code",
   "execution_count": 98,
   "id": "8377f9de-423d-4aaa-9163-0180f93c92b0",
   "metadata": {},
   "outputs": [
    {
     "name": "stderr",
     "output_type": "stream",
     "text": [
      "[E::idx_find_and_load] Could not retrieve index file for '/home/users/pjh/tmp/delly_standard.vcf.gz'\n"
     ]
    }
   ],
   "source": [
    "vcf = pysam.VariantFile(standard_vcf_path)\n",
    "fetcher = vcf.fetch()"
   ]
  },
  {
   "cell_type": "code",
   "execution_count": 100,
   "id": "ad9c268b-a9da-4592-b5fb-b39a83532dd5",
   "metadata": {},
   "outputs": [],
   "source": [
    "while True:\n",
    "    vp = VariantPlus(next(fetcher))\n",
    "    if vp.bnds.svtype != 'TRA':\n",
    "        break\n",
    "    "
   ]
  },
  {
   "cell_type": "code",
   "execution_count": 102,
   "id": "69d602c4-9b2a-4307-b399-b67cc9a69adb",
   "metadata": {},
   "outputs": [
    {
     "name": "stdout",
     "output_type": "stream",
     "text": [
      "1\t738610\t1_738610_1_742021_1\tA\tA[1:742021[\t0\tPASS\tPRECISE;SVTYPE=DEL;SVMETHOD=EMBL.DELLYv0.7.3;CHR2=1;INSLEN=0;PE=11;MAPQ=22;CT=3to5;CIPOS=-251,251;CIEND=-251,251;SR=28;SRQ=1;CONSENSUS=GATGGAAAAAATGATTTTACATAAAACATTAGTTGAAAGATACAGGCTGGGCATGGTGGCTCACACCTGTAATCCCAACACTTTGGGAGGCCGAGGCAGGTGGATCACTTGAGGTCAGGAGTTCAGTACTGTAAACACTGCTGCTATTCTCTTAGATGTTTTTCTTCCATGATATACCCTTATCCTGTATTGGTTTGTATAGATTAGCACATTAGGTTTCAGAAGTCATTTTAAAC;CE=1.96531;callerInfo=Delly@LY17_C;MATEID=1_738610_1_742021_2\tGT:GL:GQ:FT:RCL:RC:RCR:CN:DR:DV:RR:RV\t0/1:-19.2679,0,-71.1927:10000:PASS:906:627:568:1:23:11:23:12\t0/1:-9.83583,0,-50.5986:98:PASS:421:393:302:1:21:8:17:7\n",
      "\n"
     ]
    }
   ],
   "source": [
    "print(vp.vr)"
   ]
  },
  {
   "cell_type": "code",
   "execution_count": 103,
   "id": "2ea32cac-ea96-4d27-8d7f-e9093b9466fa",
   "metadata": {},
   "outputs": [
    {
     "data": {
      "text/plain": [
       "{'chrom1': '1',\n",
       " 'chrom2': '1',\n",
       " 'inserted_seq': [],\n",
       " 'pos1': 738610,\n",
       " 'pos1_endis5': False,\n",
       " 'pos2': 742021,\n",
       " 'pos2_endis5': True,\n",
       " 'svtype': 'DEL'}"
      ]
     },
     "execution_count": 103,
     "metadata": {},
     "output_type": "execute_result"
    }
   ],
   "source": [
    "vp.bnds"
   ]
  },
  {
   "cell_type": "code",
   "execution_count": 104,
   "id": "f3eb5a45-b27b-46f0-94b5-93b0b788b3c7",
   "metadata": {},
   "outputs": [],
   "source": [
    "vp.annotdb_interval.update_features(hg19 = True)"
   ]
  }
 ],
 "metadata": {
  "kernelspec": {
   "display_name": "genome_v5",
   "language": "python",
   "name": "genome_v5"
  },
  "language_info": {
   "codemirror_mode": {
    "name": "ipython",
    "version": 3
   },
   "file_extension": ".py",
   "mimetype": "text/x-python",
   "name": "python",
   "nbconvert_exporter": "python",
   "pygments_lexer": "ipython3",
   "version": "3.9.12"
  }
 },
 "nbformat": 4,
 "nbformat_minor": 5
}
