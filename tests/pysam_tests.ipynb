{
 "cells": [
  {
   "cell_type": "code",
   "execution_count": 1,
   "id": "c5c36f47-6b72-482d-b853-620fe53445c3",
   "metadata": {},
   "outputs": [],
   "source": [
    "%load_ext autoreload\n",
    "%autoreload 2\n",
    "\n",
    "import pysam\n",
    "\n",
    "import re\n",
    "import os\n",
    "os.chdir('/home/users/pjh/scripts/python_genome_packages/tests/')\n",
    "from julib.common import ChromDict\n",
    "\n",
    "FASTA_PATH = \"/home/users/data/01_reference/human_g1k_v37/human_g1k_v37.fasta\"\n",
    "FASTA_PATH_38 = \"/home/users/data/01_reference/human_g1k_v38/Homo_sapiens_assembly38.fasta\"\n",
    "\n",
    "VCF_PATH = \"/home/users/pjh/scripts/python_genome_packages/tests/vep_split.vcf.gz\"\n",
    "\n",
    "chromdict = ChromDict(fasta_path = FASTA_PATH)\n",
    "chromdict_38 = ChromDict(fasta_path = FASTA_PATH_38)\n",
    "fasta = pysam.FastaFile(FASTA_PATH)\n",
    "fasta_38 = pysam.FastaFile(FASTA_PATH_38)"
   ]
  },
  {
   "cell_type": "code",
   "execution_count": null,
   "id": "618a84a2-1494-4708-bc8d-b1974086eb78",
   "metadata": {},
   "outputs": [],
   "source": []
  },
  {
   "cell_type": "code",
   "execution_count": 20,
   "id": "e5d620a8-50a3-4b2a-b0f3-25acb97c196c",
   "metadata": {},
   "outputs": [],
   "source": [
    "for rec in hdr.records:\n",
    "    if rec.key != 'fileformat':\n",
    "        hdr2.add_record(rec)"
   ]
  },
  {
   "cell_type": "code",
   "execution_count": null,
   "id": "49186c68-0f68-45d7-be6f-288eff4cf55b",
   "metadata": {},
   "outputs": [],
   "source": []
  },
  {
   "cell_type": "code",
   "execution_count": null,
   "id": "5f048c0b-d20f-4a1e-bdad-152c42d08032",
   "metadata": {},
   "outputs": [],
   "source": []
  },
  {
   "cell_type": "code",
   "execution_count": null,
   "id": "778eb040-afb2-4186-b73d-17fd5d74cf30",
   "metadata": {},
   "outputs": [],
   "source": []
  },
  {
   "cell_type": "code",
   "execution_count": 2,
   "id": "e253f09e-2883-4900-bc71-6a0b1126f5cc",
   "metadata": {},
   "outputs": [],
   "source": [
    "#vcf_path = '/home/users/pjh/References/dbSNP38/modified_files/dbSNP_b155_GRCh38.p13.vcf.gz'\n",
    "vcf_path = '/home/users/pjh/scripts/python_genome_packages/tests/input.vcf.gz'\n",
    "vcf_path2 = '/home/users/pjh/scripts/python_genome_packages/tests/vep_split.vcf.gz'"
   ]
  },
  {
   "cell_type": "code",
   "execution_count": 3,
   "id": "1c87a2fd-cf37-436c-9959-b664431375c4",
   "metadata": {},
   "outputs": [
    {
     "name": "stderr",
     "output_type": "stream",
     "text": [
      "[E::idx_find_and_load] Could not retrieve index file for '/home/users/pjh/scripts/python_genome_packages/tests/input.vcf.gz'\n"
     ]
    }
   ],
   "source": [
    "vcf = pysam.VariantFile(vcf_path)\n",
    "vcf2 = pysam.VariantFile(vcf_path2)"
   ]
  },
  {
   "cell_type": "code",
   "execution_count": null,
   "id": "9fd4eb9d-9327-4f11-9098-924152f47e9d",
   "metadata": {},
   "outputs": [],
   "source": []
  },
  {
   "cell_type": "code",
   "execution_count": 26,
   "id": "7f2de3b6-e504-4500-b8b7-903c0b69e03f",
   "metadata": {},
   "outputs": [],
   "source": [
    "v = next(vcf.fetch())"
   ]
  },
  {
   "cell_type": "code",
   "execution_count": 34,
   "id": "6c35c070-85b9-49de-aed7-da782abda161",
   "metadata": {},
   "outputs": [
    {
     "data": {
      "text/plain": [
       "True"
      ]
     },
     "execution_count": 34,
     "metadata": {},
     "output_type": "execute_result"
    }
   ],
   "source": [
    "{'LY12_C.Mutect2'}.issubset(v.header.samples)"
   ]
  },
  {
   "cell_type": "code",
   "execution_count": 28,
   "id": "67a1c120-7a44-452f-ad11-143b91abaa2e",
   "metadata": {},
   "outputs": [
    {
     "name": "stdout",
     "output_type": "stream",
     "text": [
      "['LY12_C.Mutect2', 'LY12_N.Mutect2', 'LY12_N.Strelka2', 'LY12_C.Strelka2', 'LY12_C', 'LY12_N']\n"
     ]
    }
   ],
   "source": [
    "print(v.samples.keys())"
   ]
  },
  {
   "cell_type": "code",
   "execution_count": 27,
   "id": "6f7522f0-643d-45c5-bfc6-279be3c58abb",
   "metadata": {
    "tags": []
   },
   "outputs": [
    {
     "name": "stdout",
     "output_type": "stream",
     "text": [
      "['GT', 'AD', 'AF', 'DP', 'F1R2', 'F2R1', 'SB', 'ref_read', 'var_read', 'other_read', 'ref_read_lowqual', 'var_read_lowqual', 'other_read_lowqual', 'vaf', 'ref_minMQ', 'ref_medMQ', 'ref_meanMQ', 'ref_maxMQ', 'var_minMQ', 'var_medMQ', 'var_meanMQ', 'var_maxMQ', 'ref_minBQ', 'ref_medBQ', 'ref_meanBQ', 'ref_maxBQ', 'var_minBQ', 'var_medBQ', 'var_meanBQ', 'var_maxBQ', 'minLocaLt', 'medLocaLt', 'meanLocaLt', 'maxLocaLt', 'minLocaRt', 'medLocaRt', 'meanLocaRt', 'maxLocaRt', 'ref_minMM', 'ref_medMM', 'ref_meanMM', 'ref_maxMM', 'var_minMM', 'var_medMM', 'var_meanMM', 'var_maxMM', 'ref_ClipCnt', 'ref_ClipFrac', 'var_ClipCnt', 'var_ClipFrac', 'ref_InsCnt', 'ref_InsFrac', 'var_InsCnt', 'var_InsFrac', 'ref_DelCnt', 'ref_DelFrac', 'var_DelCnt', 'var_DelFrac', 'N_Loca', 'snv_withinRepeat', 'RdInfoAnnot']\n"
     ]
    }
   ],
   "source": [
    "print(v.samples['LY12_C.Mutect2'].keys())"
   ]
  },
  {
   "cell_type": "code",
   "execution_count": 41,
   "id": "0e143808-607e-4aba-8f2d-887a8132819d",
   "metadata": {},
   "outputs": [
    {
     "name": "stdout",
     "output_type": "stream",
     "text": [
      "1\t69496\t.\tG\tA\t.\tPASS\tAS_SB_TABLE=20,14|4,4;ECNT=1;GERMQ=16;DP=43;AS_FilterStatus=SITE;MBQ=37,37;MFRL=364,322;MMQ=25,42;MPOS=50;NALOD=1.18;NLOD=4.21;POPAF=2.69;TLOD=20.33;context=CCG>T;repeatRegion=0;satellite=0;dbSNP_FREQ=1000Genomes:0.0009984|ExAC:0.0007382|GnomAD_exomes:0.0007058|GoESP:0.002364;dbSNP_MAX_FREQ=0.002364;dbSNP_MAX_FREQ_POP=GoESP;ponSNU_tDP=874;ponSNU_tN=30;ponSNU_vDP=0;ponSNU_vN=0;ponSNU_vafPct=0;ponPCAWG_tDP=684;ponPCAWG_tN=32;ponPCAWG_vDP=1;ponPCAWG_vN=1;ponPCAWG_vafPct=0.15;ponBGI_tDP=468;ponBGI_tN=24;ponBGI_vDP=1;ponBGI_vN=1;ponBGI_vafPct=0.21;ponPCNSL_tDP=199;ponPCNSL_tN=11;ponPCNSL_vDP=1;ponPCNSL_vN=1;ponPCNSL_vafPct=0.5\tGT:AD:AF:DP:F1R2:F2R1:SB:ref_read:var_read:other_read:ref_read_lowqual:var_read_lowqual:other_read_lowqual:vaf:ref_minMQ:ref_medMQ:ref_meanMQ:ref_maxMQ:var_minMQ:var_medMQ:var_meanMQ:var_maxMQ:ref_minBQ:ref_medBQ:ref_meanBQ:ref_maxBQ:var_minBQ:var_medBQ:var_meanBQ:var_maxBQ:minLocaLt:medLocaLt:meanLocaLt:maxLocaLt:minLocaRt:medLocaRt:meanLocaRt:maxLocaRt:ref_minMM:ref_medMM:ref_meanMM:ref_maxMM:var_minMM:var_medMM:var_meanMM:var_maxMM:ref_ClipCnt:ref_ClipFrac:var_ClipCnt:var_ClipFrac:ref_InsCnt:ref_InsFrac:var_InsCnt:var_InsFrac:ref_DelCnt:ref_DelFrac:var_DelCnt:var_DelFrac:N_Loca:snv_withinRepeat:RdInfoAnnot\t0/1:20,8:0.285:28:7,4:13,4:12,8,4,4:.:.:.:.:.:.:.:.:.:.:.:.:.:.:.:.:.:.:.:.:.:.:.:.:.:.:.:.:.:.:.:.:.:.:.:.:.:.:.:.:.:.:.:.:.:.:.:.:.:.:.:.:.:.\t0/0:14,0:0.063:14:8,0:6,0:8,6,0,0:.:.:.:.:.:.:.:.:.:.:.:.:.:.:.:.:.:.:.:.:.:.:.:.:.:.:.:.:.:.:.:.:.:.:.:.:.:.:.:.:.:.:.:.:.:.:.:.:.:.:.:.:.:.\t./.:.:.:.:.:.:.:.:.:.:.:.:.:.:.:.:.:.:.:.:.:.:.:.:.:.:.:.:.:.:.:.:.:.:.:.:.:.:.:.:.:.:.:.:.:.:.:.:.:.:.:.:.:.:.:.:.:.:.:.:.\t./.:.:.:.:.:.:.:.:.:.:.:.:.:.:.:.:.:.:.:.:.:.:.:.:.:.:.:.:.:.:.:.:.:.:.:.:.:.:.:.:.:.:.:.:.:.:.:.:.:.:.:.:.:.:.:.:.:.:.:.:.\t./.:.:.:.:.:.:.:19:7:0:2:1:0:0.269231:25:25:34.6842:55:25:40:39.8571:60:37:37:37:37:37:37:37:37:60:92:100.714:144:8:60:51.2857:92:0:1:0.842105:1:0:1:2.57143:13:0:0:0:0:0:0:0:0:0:0:0:0:7:0:2\t./.:.:.:.:.:.:.:13:0:0:0:0:0:0:25:25:36:55:.:.:.:.:37:37:37:37:.:.:.:.:.:.:.:.:.:.:.:.:0:1:1.07692:2:.:.:.:.:0:0:0:.:0:0:0:.:0:0:0:.:0:0:2\n",
      "\n"
     ]
    }
   ],
   "source": [
    "v.filter.add(\"FAIL\")\n",
    "v.filter.add(\"base_qual\")\n",
    "v.filter.add(\"PASS\")\n",
    "print(v)"
   ]
  },
  {
   "cell_type": "code",
   "execution_count": null,
   "id": "575156f4-5482-4d87-8d98-3bdd95e960e9",
   "metadata": {},
   "outputs": [],
   "source": []
  },
  {
   "cell_type": "code",
   "execution_count": 110,
   "id": "4ca80355-4217-4844-bf9b-2ac70609b8d9",
   "metadata": {},
   "outputs": [],
   "source": [
    "from julib.vcfeditor import initvcf\n",
    "from julib.variantplus import varianthandler"
   ]
  },
  {
   "cell_type": "code",
   "execution_count": 115,
   "id": "30c025b2-089a-4d68-baae-3eea00359505",
   "metadata": {},
   "outputs": [],
   "source": [
    "hdr = initvcf.create_header(chromdict)\n",
    "hdr.add_meta(key='INFO', items=[('Type', 'Integer'), ('Number', 1), ('ID', 'foo1'), ('Description', 'rockman')])\n",
    "hdr.add_meta(key='INFO', items=[('Type', 'Integer'), ('Number', 1), ('ID', 'foo2'), ('Description', 'rockman')])\n",
    "hdr.add_meta(key='FORMAT', items=[('Type', 'Integer'), ('Number', 1), ('ID', 'bar'), ('Description', 'rockman')])\n",
    "hdr.add_meta(key='FORMAT', items=[('Type', 'String'), ('Number', 1), ('ID', 'GT'), ('Description', 'rockman')])\n",
    "hdr.add_sample('s1')\n",
    "hdr.add_sample('s2')"
   ]
  },
  {
   "cell_type": "code",
   "execution_count": 119,
   "id": "64754339-d35d-4181-bb0c-52a10ae625eb",
   "metadata": {},
   "outputs": [],
   "source": [
    "vr = hdr.new_record()\n",
    "vr.contig = '1'\n",
    "vr.pos = 234567\n",
    "vr.ref = 'C'\n",
    "vr.alts = ('T',)\n",
    "vr.info['foo1'] = 123\n",
    "vr.samples['s1']['bar'] = 20\n",
    "vr.samples['s2']['bar'] = 40\n",
    "vr.samples['s1'].allele_indices = (0,1)\n",
    "vr.samples['s1'].phased = True"
   ]
  },
  {
   "cell_type": "code",
   "execution_count": 120,
   "id": "0a51d425-ab6d-445a-991a-e54ec3127dfd",
   "metadata": {},
   "outputs": [
    {
     "name": "stdout",
     "output_type": "stream",
     "text": [
      "(0, 1)\n"
     ]
    }
   ],
   "source": [
    "print(vr.samples['s1']['GT'])"
   ]
  },
  {
   "cell_type": "code",
   "execution_count": 121,
   "id": "8c171f69-ee2d-4e43-8cb7-fc119b75ef28",
   "metadata": {},
   "outputs": [],
   "source": [
    "vr.samples['s2']['GT'] = (1,0)"
   ]
  },
  {
   "cell_type": "code",
   "execution_count": 122,
   "id": "03c2c02a-febb-4991-9325-d934c4080752",
   "metadata": {},
   "outputs": [
    {
     "name": "stdout",
     "output_type": "stream",
     "text": [
      "1\t234567\t.\tC\tT\t.\t.\tfoo1=123\tGT:bar\t0|1:20\t1/0:40\n",
      "\n"
     ]
    }
   ],
   "source": [
    "print(vr)"
   ]
  },
  {
   "cell_type": "code",
   "execution_count": null,
   "id": "800100a5-cc40-4ffd-816e-9a2cc34337be",
   "metadata": {},
   "outputs": [],
   "source": []
  },
  {
   "cell_type": "code",
   "execution_count": 98,
   "id": "b58fe49a-951b-4e5f-b333-4a194765ade6",
   "metadata": {},
   "outputs": [],
   "source": [
    "hdr2 = initvcf.create_header(chromdict)\n",
    "#hdr2.add_meta(key='INFO', items=[('Type', 'Integer'), ('Number', 1), ('ID', 'foo'), ('Description', 'rockman')])\n",
    "hdr2.add_meta(key='FORMAT', items=[('Type', 'Integer'), ('Number', 1), ('ID', 'bar'), ('Description', 'rockman')])\n",
    "hdr2.add_sample('s1')\n",
    "hdr2.add_sample('s3')"
   ]
  },
  {
   "cell_type": "code",
   "execution_count": 99,
   "id": "9e9a6f14-233c-447f-bb7a-b9cf8c28b6bb",
   "metadata": {},
   "outputs": [],
   "source": [
    "new_vr = varianthandler.reheader(vr, hdr2)"
   ]
  },
  {
   "cell_type": "code",
   "execution_count": 101,
   "id": "bb28ca96-39a4-4a90-8a46-64eb9269ed33",
   "metadata": {},
   "outputs": [
    {
     "name": "stdout",
     "output_type": "stream",
     "text": [
      "1\t1\t.\t.\t.\t.\t.\tfoo=123\tbar\t20\t40\n",
      "\n",
      "1\t1\t.\t.\t.\t.\t.\t.\tbar\t20\t.\n",
      "\n"
     ]
    }
   ],
   "source": [
    "print(vr)\n",
    "print(new_vr)"
   ]
  },
  {
   "cell_type": "code",
   "execution_count": null,
   "id": "028d80c8-9c26-46b7-ba89-a065eb66f9fb",
   "metadata": {},
   "outputs": [],
   "source": []
  },
  {
   "cell_type": "code",
   "execution_count": 49,
   "id": "48e67ac2-b83a-4724-bc85-a5eb546cb013",
   "metadata": {},
   "outputs": [
    {
     "ename": "IndexError",
     "evalue": "invalid sample index",
     "output_type": "error",
     "traceback": [
      "\u001b[0;31m---------------------------------------------------------------------------\u001b[0m",
      "\u001b[0;31mIndexError\u001b[0m                                Traceback (most recent call last)",
      "Input \u001b[0;32mIn [49]\u001b[0m, in \u001b[0;36m<cell line: 1>\u001b[0;34m()\u001b[0m\n\u001b[0;32m----> 1\u001b[0m vr \u001b[38;5;241m=\u001b[39m \u001b[43mhdr\u001b[49m\u001b[38;5;241;43m.\u001b[39;49m\u001b[43mnew_record\u001b[49m\u001b[43m(\u001b[49m\u001b[43mcontig\u001b[49m\u001b[38;5;241;43m=\u001b[39;49m\u001b[38;5;124;43m'\u001b[39;49m\u001b[38;5;124;43m1\u001b[39;49m\u001b[38;5;124;43m'\u001b[39;49m\u001b[43m,\u001b[49m\u001b[43m \u001b[49m\u001b[43mpos\u001b[49m\u001b[38;5;241;43m=\u001b[39;49m\u001b[38;5;241;43m12345678\u001b[39;49m\u001b[43m,\u001b[49m\u001b[43m \u001b[49m\u001b[43mref\u001b[49m\u001b[38;5;241;43m=\u001b[39;49m\u001b[38;5;124;43m'\u001b[39;49m\u001b[38;5;124;43mC\u001b[39;49m\u001b[38;5;124;43m'\u001b[39;49m\u001b[43m,\u001b[49m\u001b[43m \u001b[49m\u001b[43malts\u001b[49m\u001b[38;5;241;43m=\u001b[39;49m\u001b[43m(\u001b[49m\u001b[38;5;124;43m'\u001b[39;49m\u001b[38;5;124;43mT\u001b[39;49m\u001b[38;5;124;43m'\u001b[39;49m\u001b[43m,\u001b[49m\u001b[43m)\u001b[49m\u001b[43m)\u001b[49m\n",
      "File \u001b[0;32mpysam/libcbcf.pyx:2118\u001b[0m, in \u001b[0;36mpysam.libcbcf.VariantHeader.new_record\u001b[0;34m()\u001b[0m\n",
      "File \u001b[0;32mpysam/libcbcf.pyx:2882\u001b[0m, in \u001b[0;36mpysam.libcbcf.VariantRecordSamples.__getitem__\u001b[0;34m()\u001b[0m\n",
      "\u001b[0;31mIndexError\u001b[0m: invalid sample index"
     ]
    }
   ],
   "source": [
    "vr = hdr.new_record(contig='1', pos=12345678, ref='C', alts=('T',))"
   ]
  },
  {
   "cell_type": "code",
   "execution_count": null,
   "id": "18f1ddae-d6bf-40ca-bb42-482b84fdc9b1",
   "metadata": {},
   "outputs": [],
   "source": []
  },
  {
   "cell_type": "code",
   "execution_count": 11,
   "id": "a5cf6017-3a80-4568-890b-703f7f31ea27",
   "metadata": {},
   "outputs": [],
   "source": [
    "hdr2 = pysam.VariantHeader()\n",
    "hdr2.add_meta(key='INFO', items=[('Type', 'Integer'), ('Number', 3), ('ID', 'foo'), ('Description', 'rockman')])\n",
    "hdr2.add_sample('s2')"
   ]
  },
  {
   "cell_type": "code",
   "execution_count": 12,
   "id": "3deb87ad-54d1-4230-800c-bb81b5205bcc",
   "metadata": {},
   "outputs": [
    {
     "name": "stdout",
     "output_type": "stream",
     "text": [
      "##fileformat=VCFv4.2\n",
      "##FILTER=<ID=PASS,Description=\"All filters passed\">\n",
      "##INFO=<Type=String,Number=1,ID=foo,Description=\"hihi\">\n",
      "#CHROM\tPOS\tID\tREF\tALT\tQUAL\tFILTER\tINFO\tFORMAT\ts1\n",
      "\n"
     ]
    }
   ],
   "source": [
    "print(hdr1)"
   ]
  },
  {
   "cell_type": "code",
   "execution_count": 13,
   "id": "456ae78d-c76c-4bd6-abee-e9d8214a6caf",
   "metadata": {},
   "outputs": [
    {
     "name": "stdout",
     "output_type": "stream",
     "text": [
      "##fileformat=VCFv4.2\n",
      "##FILTER=<ID=PASS,Description=\"All filters passed\">\n",
      "##INFO=<Type=Integer,Number=3,ID=foo,Description=\"rockman\">\n",
      "#CHROM\tPOS\tID\tREF\tALT\tQUAL\tFILTER\tINFO\tFORMAT\ts2\n",
      "\n"
     ]
    }
   ],
   "source": [
    "print(hdr2)"
   ]
  },
  {
   "cell_type": "code",
   "execution_count": 24,
   "id": "d9400bdd-187d-4de0-bb11-2ee183a267fa",
   "metadata": {},
   "outputs": [
    {
     "data": {
      "text/plain": [
       "True"
      ]
     },
     "execution_count": 24,
     "metadata": {},
     "output_type": "execute_result"
    }
   ],
   "source": [
    "{'PASS'}.issubset(hdr1.filters)"
   ]
  },
  {
   "cell_type": "code",
   "execution_count": 16,
   "id": "6e54acd8-2ac1-4e31-9dff-14d50e1afd9a",
   "metadata": {},
   "outputs": [],
   "source": [
    "merged = headerhandler.merge_vcfheaders([hdr1, hdr2])"
   ]
  },
  {
   "cell_type": "code",
   "execution_count": 69,
   "id": "cfab38fd-a7e2-423b-87ad-01424e47eb89",
   "metadata": {},
   "outputs": [],
   "source": [
    "hdr1.info.remove_header('foo')"
   ]
  },
  {
   "cell_type": "code",
   "execution_count": null,
   "id": "7a39c32a-ddf5-4017-84ae-6b543d4fceae",
   "metadata": {},
   "outputs": [],
   "source": []
  }
 ],
 "metadata": {
  "kernelspec": {
   "display_name": "genome_v5",
   "language": "python",
   "name": "genome_v5"
  },
  "language_info": {
   "codemirror_mode": {
    "name": "ipython",
    "version": 3
   },
   "file_extension": ".py",
   "mimetype": "text/x-python",
   "name": "python",
   "nbconvert_exporter": "python",
   "pygments_lexer": "ipython3",
   "version": "3.9.12"
  }
 },
 "nbformat": 4,
 "nbformat_minor": 5
}
