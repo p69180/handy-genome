{
 "cells": [
  {
   "cell_type": "code",
   "execution_count": 1,
   "id": "a439e4be-a5df-4cb0-9de0-5b307f8158b7",
   "metadata": {},
   "outputs": [
    {
     "name": "stdout",
     "output_type": "stream",
     "text": [
      "[KST 2022-02-23 18:42:39] BEGINNING DATA LOADING\n",
      "[KST 2022-02-23 18:42:55] processing 1000000th line\n",
      "[KST 2022-02-23 18:43:12] processing 2000000th line\n",
      "[KST 2022-02-23 18:43:29] processing 3000000th line\n",
      "[KST 2022-02-23 18:43:44] processing 4000000th line\n",
      "[KST 2022-02-23 18:44:00] processing 5000000th line\n",
      "[KST 2022-02-23 18:44:17] processing 6000000th line\n",
      "[KST 2022-02-23 18:44:37] processing 7000000th line\n",
      "[KST 2022-02-23 18:44:48] processing 8000000th line\n",
      "[KST 2022-02-23 18:45:09] processing 9000000th line\n",
      "[KST 2022-02-23 18:45:20] processing 10000000th line\n",
      "[KST 2022-02-23 18:45:31] processing 11000000th line\n",
      "[KST 2022-02-23 18:45:54] processing 12000000th line\n",
      "[KST 2022-02-23 18:46:06] processing 13000000th line\n",
      "[KST 2022-02-23 18:46:18] processing 14000000th line\n",
      "[KST 2022-02-23 18:46:44] processing 15000000th line\n",
      "[KST 2022-02-23 18:46:55] processing 16000000th line\n",
      "[KST 2022-02-23 18:47:07] processing 17000000th line\n",
      "[KST 2022-02-23 18:47:18] processing 18000000th line\n",
      "Length of \"summary\" : 15984979\n",
      "Length of \"summary_filtered\" : 14863320\n",
      "[KST 2022-02-23 18:47:45] FINISHED\n"
     ]
    }
   ],
   "source": [
    "import sys\n",
    "sys.path.append('/home/users/pjh/References/COSMIC/editing_scripts')\n",
    "import importlib\n",
    "import make_cosmic_vcf \n",
    "make_cosmic_vcf = importlib.reload(make_cosmic_vcf)\n",
    "\n",
    "infile_path = '/home/users/pjh/References/COSMIC/hg19/original_files/v95/CosmicNCV.tsv.gz'\n",
    "refver = 'hg19'\n",
    "mode = 'CosmicNCV'\n",
    "\n",
    "infile_header = make_cosmic_vcf.get_infile_header(infile_path)\n",
    "looper = make_cosmic_vcf.get_infile_looper(infile_path, infile_header)\n",
    "line_handlers = make_cosmic_vcf.set_line_handlers(mode)\n",
    "\n",
    "summary, summary_filtered = make_cosmic_vcf.get_data_summary(looper, line_handlers)\n"
   ]
  },
  {
   "cell_type": "code",
   "execution_count": 2,
   "id": "8b73b8c7-c341-439c-ac15-d2d14629ffa2",
   "metadata": {},
   "outputs": [
    {
     "name": "stdout",
     "output_type": "stream",
     "text": [
      "[KST 2022-02-23 20:05:27] BEGINNING REMOVING COSV WITH MULTIPLE HGVS\n",
      "[KST 2022-02-23 20:05:32] FINISHED\n",
      "[KST 2022-02-23 20:05:32] BEGINNING GETTING VCFSPEC FROM HGVS\n",
      "[KST 2022-02-23 20:05:59] processing 100000th cosv entry\n",
      "[KST 2022-02-23 20:06:25] processing 200000th cosv entry\n",
      "[KST 2022-02-23 20:06:50] processing 300000th cosv entry\n",
      "[KST 2022-02-23 20:07:15] processing 400000th cosv entry\n",
      "[KST 2022-02-23 20:07:39] processing 500000th cosv entry\n",
      "[KST 2022-02-23 20:08:02] processing 600000th cosv entry\n",
      "[KST 2022-02-23 20:08:26] processing 700000th cosv entry\n",
      "[KST 2022-02-23 20:08:49] processing 800000th cosv entry\n",
      "[KST 2022-02-23 20:09:13] processing 900000th cosv entry\n",
      "[KST 2022-02-23 20:09:36] processing 1000000th cosv entry\n",
      "[KST 2022-02-23 20:09:58] processing 1100000th cosv entry\n",
      "[KST 2022-02-23 20:10:21] processing 1200000th cosv entry\n",
      "[KST 2022-02-23 20:10:43] processing 1300000th cosv entry\n",
      "[KST 2022-02-23 20:11:05] processing 1400000th cosv entry\n",
      "[KST 2022-02-23 20:11:27] processing 1500000th cosv entry\n",
      "[KST 2022-02-23 20:11:49] processing 1600000th cosv entry\n",
      "[KST 2022-02-23 20:12:11] processing 1700000th cosv entry\n",
      "[KST 2022-02-23 20:12:33] processing 1800000th cosv entry\n",
      "[KST 2022-02-23 20:12:54] processing 1900000th cosv entry\n",
      "[KST 2022-02-23 20:13:17] processing 2000000th cosv entry\n",
      "[KST 2022-02-23 20:13:38] processing 2100000th cosv entry\n",
      "[KST 2022-02-23 20:14:00] processing 2200000th cosv entry\n",
      "[KST 2022-02-23 20:14:22] processing 2300000th cosv entry\n",
      "[KST 2022-02-23 20:14:43] processing 2400000th cosv entry\n",
      "[KST 2022-02-23 20:15:04] processing 2500000th cosv entry\n",
      "[KST 2022-02-23 20:15:26] processing 2600000th cosv entry\n",
      "[KST 2022-02-23 20:15:47] processing 2700000th cosv entry\n"
     ]
    },
    {
     "ename": "Exception",
     "evalue": "hgvs string with an unknown pattern: Y:g.59336197N>A",
     "output_type": "error",
     "traceback": [
      "\u001b[0;31m---------------------------------------------------------------------------\u001b[0m",
      "\u001b[0;31mException\u001b[0m                                 Traceback (most recent call last)",
      "\u001b[0;32m/tmp/ipykernel_69439/3231053850.py\u001b[0m in \u001b[0;36m<module>\u001b[0;34m\u001b[0m\n\u001b[1;32m      1\u001b[0m \u001b[0mmake_cosmic_vcf\u001b[0m\u001b[0;34m.\u001b[0m\u001b[0mexclude_cosv_with_multiple_hgvs\u001b[0m\u001b[0;34m(\u001b[0m\u001b[0msummary\u001b[0m\u001b[0;34m,\u001b[0m \u001b[0msummary_filtered\u001b[0m\u001b[0;34m)\u001b[0m\u001b[0;34m\u001b[0m\u001b[0;34m\u001b[0m\u001b[0m\n\u001b[0;32m----> 2\u001b[0;31m \u001b[0mcosv_to_vcfspec\u001b[0m \u001b[0;34m=\u001b[0m \u001b[0mmake_cosmic_vcf\u001b[0m\u001b[0;34m.\u001b[0m\u001b[0mget_cosv_vcfspec_map\u001b[0m\u001b[0;34m(\u001b[0m\u001b[0msummary\u001b[0m\u001b[0;34m,\u001b[0m \u001b[0mrefver\u001b[0m\u001b[0;34m)\u001b[0m\u001b[0;34m\u001b[0m\u001b[0;34m\u001b[0m\u001b[0m\n\u001b[0m",
      "\u001b[0;32m~/References/COSMIC/editing_scripts/make_cosmic_vcf.py\u001b[0m in \u001b[0;36mwrapper\u001b[0;34m(*args, **kwargs)\u001b[0m\n\u001b[1;32m     37\u001b[0m                 \u001b[0;32mdef\u001b[0m \u001b[0mwrapper\u001b[0m\u001b[0;34m(\u001b[0m\u001b[0;34m*\u001b[0m\u001b[0margs\u001b[0m\u001b[0;34m,\u001b[0m \u001b[0;34m**\u001b[0m\u001b[0mkwargs\u001b[0m\u001b[0;34m)\u001b[0m\u001b[0;34m:\u001b[0m\u001b[0;34m\u001b[0m\u001b[0;34m\u001b[0m\u001b[0m\n\u001b[1;32m     38\u001b[0m                         \u001b[0mprint_timestamp\u001b[0m\u001b[0;34m(\u001b[0m\u001b[0;34mf'BEGINNING {title}'\u001b[0m\u001b[0;34m)\u001b[0m\u001b[0;34m\u001b[0m\u001b[0;34m\u001b[0m\u001b[0m\n\u001b[0;32m---> 39\u001b[0;31m                         \u001b[0mresult\u001b[0m \u001b[0;34m=\u001b[0m \u001b[0mfunc\u001b[0m\u001b[0;34m(\u001b[0m\u001b[0;34m*\u001b[0m\u001b[0margs\u001b[0m\u001b[0;34m,\u001b[0m \u001b[0;34m**\u001b[0m\u001b[0mkwargs\u001b[0m\u001b[0;34m)\u001b[0m\u001b[0;34m\u001b[0m\u001b[0;34m\u001b[0m\u001b[0m\n\u001b[0m\u001b[1;32m     40\u001b[0m                         \u001b[0mprint_timestamp\u001b[0m\u001b[0;34m(\u001b[0m\u001b[0;34m'FINISHED'\u001b[0m\u001b[0;34m)\u001b[0m\u001b[0;34m\u001b[0m\u001b[0;34m\u001b[0m\u001b[0m\n\u001b[1;32m     41\u001b[0m                         \u001b[0;32mreturn\u001b[0m \u001b[0mresult\u001b[0m\u001b[0;34m\u001b[0m\u001b[0;34m\u001b[0m\u001b[0m\n",
      "\u001b[0;32m~/References/COSMIC/editing_scripts/make_cosmic_vcf.py\u001b[0m in \u001b[0;36mget_cosv_vcfspec_map\u001b[0;34m(summary, refver)\u001b[0m\n\u001b[1;32m    193\u001b[0m \u001b[0;34m\u001b[0m\u001b[0m\n\u001b[1;32m    194\u001b[0m                 \u001b[0;32mif\u001b[0m \u001b[0mcosv\u001b[0m \u001b[0;32mnot\u001b[0m \u001b[0;32min\u001b[0m \u001b[0mcosv_to_vcfspec\u001b[0m\u001b[0;34m:\u001b[0m\u001b[0;34m\u001b[0m\u001b[0;34m\u001b[0m\u001b[0m\n\u001b[0;32m--> 195\u001b[0;31m                         \u001b[0mcosv_to_vcfspec\u001b[0m\u001b[0;34m[\u001b[0m\u001b[0mcosv\u001b[0m\u001b[0;34m]\u001b[0m \u001b[0;34m=\u001b[0m \u001b[0mhgvs_to_vcf\u001b[0m\u001b[0;34m(\u001b[0m\u001b[0mlist\u001b[0m\u001b[0;34m(\u001b[0m\u001b[0mdic\u001b[0m\u001b[0;34m[\u001b[0m\u001b[0;34m'hgvs'\u001b[0m\u001b[0;34m]\u001b[0m\u001b[0;34m)\u001b[0m\u001b[0;34m[\u001b[0m\u001b[0;36m0\u001b[0m\u001b[0;34m]\u001b[0m\u001b[0;34m,\u001b[0m \u001b[0mrefver\u001b[0m\u001b[0;34m)\u001b[0m\u001b[0;34m\u001b[0m\u001b[0;34m\u001b[0m\u001b[0m\n\u001b[0m\u001b[1;32m    196\u001b[0m \u001b[0;34m\u001b[0m\u001b[0m\n\u001b[1;32m    197\u001b[0m         \u001b[0mprint_timestamp\u001b[0m\u001b[0;34m(\u001b[0m\u001b[0;34mf'pickling dict to {pickle_path}'\u001b[0m\u001b[0;34m)\u001b[0m\u001b[0;34m\u001b[0m\u001b[0;34m\u001b[0m\u001b[0m\n",
      "\u001b[0;32m~/scripts/python_genome_packages/tests/julib/common.py\u001b[0m in \u001b[0;36mhgvs_to_vcf\u001b[0;34m(hgvs, refver)\u001b[0m\n\u001b[1;32m    613\u001b[0m \u001b[0;34m\u001b[0m\u001b[0m\n\u001b[1;32m    614\u001b[0m         \u001b[0mfasta\u001b[0m \u001b[0;34m=\u001b[0m \u001b[0mpysam\u001b[0m\u001b[0;34m.\u001b[0m\u001b[0mFastaFile\u001b[0m\u001b[0;34m(\u001b[0m\u001b[0mDEFAULT_FASTA_PATH_DICT\u001b[0m\u001b[0;34m[\u001b[0m\u001b[0mrefver\u001b[0m\u001b[0;34m]\u001b[0m\u001b[0;34m)\u001b[0m\u001b[0;34m\u001b[0m\u001b[0;34m\u001b[0m\u001b[0m\n\u001b[0;32m--> 615\u001b[0;31m         \u001b[0mmttype\u001b[0m\u001b[0;34m,\u001b[0m \u001b[0mmat\u001b[0m \u001b[0;34m=\u001b[0m \u001b[0mhgvs_pattern_matcher\u001b[0m\u001b[0;34m(\u001b[0m\u001b[0mhgvs\u001b[0m\u001b[0;34m)\u001b[0m\u001b[0;34m\u001b[0m\u001b[0;34m\u001b[0m\u001b[0m\n\u001b[0m\u001b[1;32m    616\u001b[0m \u001b[0;34m\u001b[0m\u001b[0m\n\u001b[1;32m    617\u001b[0m         \u001b[0mchrom\u001b[0m \u001b[0;34m=\u001b[0m \u001b[0mmat\u001b[0m\u001b[0;34m.\u001b[0m\u001b[0mgroup\u001b[0m\u001b[0;34m(\u001b[0m\u001b[0;36m1\u001b[0m\u001b[0;34m)\u001b[0m\u001b[0;34m\u001b[0m\u001b[0;34m\u001b[0m\u001b[0m\n",
      "\u001b[0;32m~/scripts/python_genome_packages/tests/julib/common.py\u001b[0m in \u001b[0;36mhgvs_pattern_matcher\u001b[0;34m(hgvs)\u001b[0m\n\u001b[1;32m    604\u001b[0m                 \u001b[0;32mreturn\u001b[0m \u001b[0mmatched_patterns\u001b[0m\u001b[0;34m[\u001b[0m\u001b[0;36m0\u001b[0m\u001b[0;34m]\u001b[0m\u001b[0;34m\u001b[0m\u001b[0;34m\u001b[0m\u001b[0m\n\u001b[1;32m    605\u001b[0m         \u001b[0;32melif\u001b[0m \u001b[0mlen\u001b[0m\u001b[0;34m(\u001b[0m\u001b[0mmatched_patterns\u001b[0m\u001b[0;34m)\u001b[0m \u001b[0;34m==\u001b[0m \u001b[0;36m0\u001b[0m\u001b[0;34m:\u001b[0m\u001b[0;34m\u001b[0m\u001b[0;34m\u001b[0m\u001b[0m\n\u001b[0;32m--> 606\u001b[0;31m                 \u001b[0;32mraise\u001b[0m \u001b[0mException\u001b[0m\u001b[0;34m(\u001b[0m\u001b[0;34mf'hgvs string with an unknown pattern: {hgvs}'\u001b[0m\u001b[0;34m)\u001b[0m\u001b[0;34m\u001b[0m\u001b[0;34m\u001b[0m\u001b[0m\n\u001b[0m\u001b[1;32m    607\u001b[0m         \u001b[0;32melif\u001b[0m \u001b[0mlen\u001b[0m\u001b[0;34m(\u001b[0m\u001b[0mmatched_patterns\u001b[0m\u001b[0;34m)\u001b[0m \u001b[0;34m>\u001b[0m \u001b[0;36m1\u001b[0m\u001b[0;34m:\u001b[0m\u001b[0;34m\u001b[0m\u001b[0;34m\u001b[0m\u001b[0m\n\u001b[1;32m    608\u001b[0m                 \u001b[0;32mraise\u001b[0m \u001b[0mException\u001b[0m\u001b[0;34m(\u001b[0m\u001b[0;34mf'More than one pattern match for this hgvs string: {hgvs}'\u001b[0m\u001b[0;34m)\u001b[0m\u001b[0;34m\u001b[0m\u001b[0;34m\u001b[0m\u001b[0m\n",
      "\u001b[0;31mException\u001b[0m: hgvs string with an unknown pattern: Y:g.59336197N>A"
     ]
    }
   ],
   "source": [
    "make_cosmic_vcf.exclude_cosv_with_multiple_hgvs(summary, summary_filtered)\n",
    "cosv_to_vcfspec = make_cosmic_vcf.get_cosv_vcfspec_map(summary, refver)"
   ]
  },
  {
   "cell_type": "code",
   "execution_count": null,
   "id": "608153b2-67ff-4551-bda6-50763c6db390",
   "metadata": {},
   "outputs": [],
   "source": []
  },
  {
   "cell_type": "code",
   "execution_count": null,
   "id": "4e24b3a0-7378-4b09-b26c-cbdd8869c0fe",
   "metadata": {},
   "outputs": [],
   "source": []
  },
  {
   "cell_type": "code",
   "execution_count": 6,
   "id": "36c887bf-efec-4b05-8328-43a03c860f01",
   "metadata": {},
   "outputs": [],
   "source": [
    "import pysam\n",
    "fasta = pysam.FastaFile('/home/users/data/01_reference/human_g1k_v37/human_g1k_v37.fa')\n",
    "fasta_full = pysam.FastaFile('/home/users/pjh/References/reference_genome/GRCh37/refseq/GCF_000001405.25_GRCh37.p13_genomic.fna')"
   ]
  },
  {
   "cell_type": "code",
   "execution_count": 15,
   "id": "43ec4db5-a297-477d-9427-002e1b3ab662",
   "metadata": {},
   "outputs": [],
   "source": [
    "seq1 = fasta.fetch('1', 31872759 - 1, 32017063)\n",
    "seq2 = fasta_full.fetch('NW_003571030.1')"
   ]
  },
  {
   "cell_type": "code",
   "execution_count": 16,
   "id": "f7413c73-5bbe-4662-8396-ff57f5de2a54",
   "metadata": {},
   "outputs": [
    {
     "name": "stdout",
     "output_type": "stream",
     "text": [
      "TTGTGTGTTAGGGTGCTCTAAGCAATATGGTAGACATGGTGCACATTCAAAGGGGGTTGGTTTTACTTGATAGCGACTAATTTAGAACAAAAACTTTATA\n",
      "TTGTGTGTTAGGGTGCTCTAAGCAATATGGTAGACATGGTGCACATTCAAAGGGGGTTGGTTTTACTTGATAGCGACTAATTTAGAACAAAAACTTTATA\n"
     ]
    }
   ],
   "source": [
    "print(seq1[:100])\n",
    "print(seq2[:100])"
   ]
  },
  {
   "cell_type": "code",
   "execution_count": 17,
   "id": "63563819-814d-4022-ac83-bf42ed7bdbb8",
   "metadata": {},
   "outputs": [
    {
     "name": "stdout",
     "output_type": "stream",
     "text": [
      "TCACTATTTGTTTTTATGGTCAGTTCTTATCTTTTCAAAACACATAAGCTGTTAGGAAAAATACAGAATAGTGTGTCATTTTTAGGAATTCTTGGAATTC\n",
      "TCACTATTTGTTTTTATGGTCAGTtcttatcttttcaaaacacataAGCTGTTAGGAAAAATACAGAATAGTGTGTCATTTTTAGGAATTCTTGGAATTC\n"
     ]
    }
   ],
   "source": [
    "print(seq1[-100:])\n",
    "print(seq2[-100:])"
   ]
  },
  {
   "cell_type": "code",
   "execution_count": 13,
   "id": "9da5c4af-9756-462c-8ea1-6301292c47f1",
   "metadata": {},
   "outputs": [
    {
     "name": "stdout",
     "output_type": "stream",
     "text": [
      "21685\n",
      "22982\n"
     ]
    }
   ],
   "source": [
    "print(len(seq1))\n",
    "print(len(seq2))"
   ]
  }
 ],
 "metadata": {
  "kernelspec": {
   "display_name": "genome_v4",
   "language": "python",
   "name": "genome_v4"
  },
  "language_info": {
   "codemirror_mode": {
    "name": "ipython",
    "version": 3
   },
   "file_extension": ".py",
   "mimetype": "text/x-python",
   "name": "python",
   "nbconvert_exporter": "python",
   "pygments_lexer": "ipython3",
   "version": "3.7.10"
  }
 },
 "nbformat": 4,
 "nbformat_minor": 5
}
