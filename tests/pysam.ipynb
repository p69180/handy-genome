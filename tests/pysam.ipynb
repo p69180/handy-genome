{
 "cells": [
  {
   "cell_type": "code",
   "execution_count": 1,
   "metadata": {},
   "outputs": [],
   "source": [
    "%load_ext autoreload\n",
    "%autoreload 2\n",
    "\n",
    "import pysam\n",
    "\n",
    "import re\n",
    "import os\n",
    "import sys\n",
    "sys.path.append('/home/users/pjh/scripts/python_genome_packages/')\n",
    "from handygenome import common\n",
    "from handygenome.common import ChromDict\n",
    "\n",
    "FASTA_PATH = \"/home/users/data/01_reference/human_g1k_v37/human_g1k_v37.fasta\"\n",
    "FASTA_PATH_38 = \"/home/users/data/01_reference/human_g1k_v38/Homo_sapiens_assembly38.fasta\"\n",
    "\n",
    "VCF_PATH = \"/home/users/pjh/scripts/python_genome_packages/tests/vep_split.vcf.gz\"\n",
    "\n",
    "chromdict = ChromDict(fasta_path = FASTA_PATH)\n",
    "chromdict_38 = ChromDict(fasta_path = FASTA_PATH_38)\n",
    "fasta = pysam.FastaFile(FASTA_PATH)\n",
    "fasta_38 = pysam.FastaFile(FASTA_PATH_38)"
   ]
  },
  {
   "cell_type": "code",
   "execution_count": null,
   "metadata": {},
   "outputs": [],
   "source": []
  },
  {
   "cell_type": "code",
   "execution_count": 20,
   "metadata": {},
   "outputs": [],
   "source": [
    "for rec in hdr.records:\n",
    "    if rec.key != 'fileformat':\n",
    "        hdr2.add_record(rec)"
   ]
  },
  {
   "cell_type": "code",
   "execution_count": null,
   "metadata": {},
   "outputs": [],
   "source": []
  },
  {
   "cell_type": "code",
   "execution_count": null,
   "metadata": {},
   "outputs": [],
   "source": []
  },
  {
   "cell_type": "code",
   "execution_count": null,
   "metadata": {},
   "outputs": [],
   "source": []
  },
  {
   "cell_type": "code",
   "execution_count": 30,
   "metadata": {},
   "outputs": [],
   "source": [
    "#vcf_path = '/home/users/pjh/References/dbSNP38/modified_files/dbSNP_b155_GRCh38.p13.vcf.gz'\n",
    "vcf_path = '/home/users/pjh/scripts/python_genome_packages/tests/input.vcf.gz'\n",
    "vcf_path2 = '/home/users/pjh/scripts/python_genome_packages/tests/vep_split.vcf.gz'"
   ]
  },
  {
   "cell_type": "code",
   "execution_count": 31,
   "metadata": {},
   "outputs": [
    {
     "name": "stderr",
     "output_type": "stream",
     "text": [
      "[E::idx_find_and_load] Could not retrieve index file for '/home/users/pjh/scripts/python_genome_packages/tests/input.vcf.gz'\n"
     ]
    }
   ],
   "source": [
    "vcf = pysam.VariantFile(vcf_path)\n",
    "vcf2 = pysam.VariantFile(vcf_path2)"
   ]
  },
  {
   "cell_type": "code",
   "execution_count": null,
   "metadata": {},
   "outputs": [],
   "source": []
  },
  {
   "cell_type": "code",
   "execution_count": 37,
   "metadata": {},
   "outputs": [
    {
     "data": {
      "text/plain": [
       "False"
      ]
     },
     "execution_count": 37,
     "metadata": {},
     "output_type": "execute_result"
    }
   ],
   "source": [
    "'111' in vcf.header.contigs"
   ]
  },
  {
   "cell_type": "code",
   "execution_count": null,
   "metadata": {},
   "outputs": [],
   "source": []
  },
  {
   "cell_type": "code",
   "execution_count": 6,
   "metadata": {},
   "outputs": [
    {
     "name": "stdout",
     "output_type": "stream",
     "text": [
      "LY12_C.Mutect2\n"
     ]
    }
   ],
   "source": [
    "print(vcf.header.samples[0])"
   ]
  },
  {
   "cell_type": "code",
   "execution_count": null,
   "metadata": {},
   "outputs": [],
   "source": []
  },
  {
   "cell_type": "code",
   "execution_count": 27,
   "metadata": {},
   "outputs": [
    {
     "name": "stderr",
     "output_type": "stream",
     "text": [
      "[W::bcf_update_info] INFO/END=999999 is smaller than POS at 1:1000000\n"
     ]
    }
   ],
   "source": [
    "vr = vcf.header.new_record()\n",
    "vr.contig = '1'\n",
    "vr.pos = 1000000\n",
    "vr.ref = 'C'"
   ]
  },
  {
   "cell_type": "code",
   "execution_count": 28,
   "metadata": {},
   "outputs": [
    {
     "name": "stdout",
     "output_type": "stream",
     "text": [
      "1\t1000000\t.\tC\t<NON_REF>\t.\t.\tEND=1000000\t.\t.\t.\t.\t.\t.\t.\n",
      "\n"
     ]
    }
   ],
   "source": [
    "print(vr)"
   ]
  },
  {
   "cell_type": "code",
   "execution_count": null,
   "metadata": {},
   "outputs": [],
   "source": []
  },
  {
   "cell_type": "code",
   "execution_count": null,
   "metadata": {},
   "outputs": [],
   "source": []
  },
  {
   "cell_type": "code",
   "execution_count": 4,
   "metadata": {},
   "outputs": [],
   "source": [
    "from handygenome.readplus import readhandler"
   ]
  },
  {
   "cell_type": "code",
   "execution_count": 2,
   "metadata": {},
   "outputs": [],
   "source": [
    "bam = pysam.AlignmentFile('/home/users/pjh/tmp/testbam.bam')\n",
    "bam2 = pysam.AlignmentFile('/home/users/pjh/tmp/testbam_withMD.bam')"
   ]
  },
  {
   "cell_type": "code",
   "execution_count": 3,
   "metadata": {},
   "outputs": [],
   "source": [
    "read = next(bam.fetch())"
   ]
  },
  {
   "cell_type": "code",
   "execution_count": 4,
   "metadata": {},
   "outputs": [
    {
     "name": "stdout",
     "output_type": "stream",
     "text": [
      "ST-E00130:582:HC7KJALXX:6:2108:26524:54612\t81\t#0\t9998\t0\t95S56M\t#1\t182140535\t0\tCCTCACCCTAACCCTACCCCTAACCCTAACCCTAACCAGCACACGACCGCATACGATATCGAGTAACGTGACCCGAGTCCTAACGTGTGCTCTTACGATAACCCTAACCCTAACCCTAACCCTAACCCTAACCCTAACCCTAACCCTAACC\tarray('B', [27, 15, 15, 6, 22, 27, 27, 15, 15, 15, 33, 22, 15, 15, 15, 15, 6, 15, 15, 15, 15, 22, 15, 22, 15, 6, 15, 27, 22, 6, 15, 6, 22, 15, 15, 15, 6, 15, 6, 6, 27, 6, 22, 6, 6, 22, 15, 6, 6, 22, 15, 22, 33, 15, 6, 15, 22, 27, 22, 15, 6, 15, 15, 15, 22, 15, 6, 6, 27, 27, 27, 15, 6, 6, 6, 33, 22, 15, 6, 15, 15, 15, 27, 6, 6, 15, 6, 22, 27, 27, 15, 27, 27, 15, 15, 22, 22, 15, 33, 22, 15, 27, 27, 27, 33, 27, 27, 27, 27, 27, 33, 27, 27, 27, 27, 27, 33, 27, 27, 27, 27, 27, 33, 27, 27, 27, 27, 27, 33, 27, 27, 27, 27, 27, 33, 27, 27, 27, 27, 27, 33, 27, 27, 27, 27, 33, 33, 33, 27, 27, 33])\t[('SA', '12,95440,+,114S37M,0,1;'), ('MC', '52M99S'), ('NM', 0), ('MQ', 0), ('AS', 56), ('XS', 53), ('RG', 'JKL-LU-14-blood-wgs-ILLUMINA')]\n"
     ]
    }
   ],
   "source": [
    "print(read)"
   ]
  },
  {
   "cell_type": "code",
   "execution_count": 18,
   "metadata": {},
   "outputs": [],
   "source": [
    "refver = common.infer_refver(bamheader=read.header)"
   ]
  },
  {
   "cell_type": "code",
   "execution_count": 19,
   "metadata": {},
   "outputs": [
    {
     "name": "stdout",
     "output_type": "stream",
     "text": [
      "hg19\n"
     ]
    }
   ],
   "source": [
    "print(refver)"
   ]
  },
  {
   "cell_type": "code",
   "execution_count": 19,
   "metadata": {},
   "outputs": [],
   "source": [
    "read2 = next(bam2.fetch())"
   ]
  },
  {
   "cell_type": "code",
   "execution_count": 37,
   "metadata": {},
   "outputs": [],
   "source": [
    "pairs_dict = readhandler.get_pairs_dict(read2, fasta)"
   ]
  }
 ],
 "metadata": {
  "kernelspec": {
   "display_name": "genome_v5",
   "language": "python",
   "name": "genome_v5"
  },
  "language_info": {
   "codemirror_mode": {
    "name": "ipython",
    "version": 3
   },
   "file_extension": ".py",
   "mimetype": "text/x-python",
   "name": "python",
   "nbconvert_exporter": "python",
   "pygments_lexer": "ipython3",
   "version": "3.9.12"
  }
 },
 "nbformat": 4,
 "nbformat_minor": 5
}
