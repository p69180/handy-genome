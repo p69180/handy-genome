{
 "cells": [
  {
   "cell_type": "code",
   "execution_count": 1,
   "metadata": {},
   "outputs": [],
   "source": [
    "%load_ext autoreload\n",
    "%autoreload 2\n",
    "\n",
    "import sys\n",
    "sys.path.append('/home/users/pjh/scripts/python_genome_packages')\n",
    "import pprint\n",
    "\n",
    "import pysam\n",
    "\n",
    "from handygenome.common import ChromDict, Vcfspec\n",
    "\n",
    "FASTA_PATH_HG19 = \"/home/users/data/01_reference/human_g1k_v37/human_g1k_v37.fasta\"\n",
    "FASTA_PATH_HG38 = \"/home/users/data/01_reference/human_g1k_v38/Homo_sapiens_assembly38.fasta\"\n",
    "\n",
    "FASTA_HG19 = pysam.FastaFile(FASTA_PATH_HG19)\n",
    "FASTA_HG38 = pysam.FastaFile(FASTA_PATH_HG38)\n",
    "CHROMDICT_HG19 = ChromDict(fasta_path=FASTA_PATH_HG19)\n",
    "CHROMDICT_HG38 = ChromDict(fasta_path=FASTA_PATH_HG38)"
   ]
  },
  {
   "cell_type": "code",
   "execution_count": 3,
   "metadata": {},
   "outputs": [],
   "source": [
    "from handygenome.readplus import readplus\n",
    "import handygenome.igv\n",
    "from handygenome.variantplus import breakends\n",
    "from handygenome.readplus import readhandler\n",
    "from handygenome.readplus import alleleinfosetup_sv\n",
    "from handygenome.readplus import alleleinfosetup"
   ]
  },
  {
   "cell_type": "code",
   "execution_count": 4,
   "metadata": {},
   "outputs": [],
   "source": [
    "nbam_path = '/home/users/hspark/Projects/11_fusion_samples/tmp/LU-ALK49-N.s.md.ir.bam'\n",
    "tbam_path = '/home/users/hspark/Projects/11_fusion_samples/tmp/LU-ALK49-T.s.md.ir.bam'\n",
    "\n",
    "#nbam_path = '/home/users/hspark/Projects/11_fusion_samples/bam/wgs_smc2/LU-ALK49-N.s.md.ir.bam'\n",
    "#tbam_path = '/home/users/hspark/Projects/11_fusion_samples/bam/wgs_smc2/LU-ALK49-T.s.md.ir.bam'\n",
    "\n",
    "nbam = pysam.AlignmentFile(nbam_path)\n",
    "tbam = pysam.AlignmentFile(tbam_path)"
   ]
  },
  {
   "cell_type": "code",
   "execution_count": null,
   "metadata": {},
   "outputs": [],
   "source": []
  },
  {
   "cell_type": "code",
   "execution_count": 5,
   "metadata": {},
   "outputs": [],
   "source": [
    "igv = handygenome.igv.IGV(60387)"
   ]
  },
  {
   "cell_type": "code",
   "execution_count": 6,
   "metadata": {},
   "outputs": [
    {
     "name": "stdout",
     "output_type": "stream",
     "text": [
      "OK\n",
      "OK\n",
      "OK\n"
     ]
    }
   ],
   "source": [
    "igv.cmd('new')\n",
    "igv.load([tbam_path, nbam_path])"
   ]
  },
  {
   "cell_type": "code",
   "execution_count": null,
   "metadata": {},
   "outputs": [],
   "source": []
  },
  {
   "cell_type": "code",
   "execution_count": 7,
   "metadata": {},
   "outputs": [],
   "source": [
    "#vcfspec = Vcfspec('7', 55_176_696, 'G', ['C'])\n",
    "#vcfspec = Vcfspec('7', 55_182_730, 'G', ['A'])\n",
    "vcfspec = Vcfspec('7', 55_182_730, 'GCGCC', ['G'])"
   ]
  },
  {
   "cell_type": "code",
   "execution_count": 8,
   "metadata": {},
   "outputs": [],
   "source": [
    "bnds_dup = breakends.Breakends('1', 59_000_242, True, '1', 78_401_807, False, FASTA_HG19)\n",
    "bnds_dup.set_pos_range0s()\n",
    "#bnds_dup_new = breakends.Breakends('1', 59_000_240, True, '1', 78_401_806, False, FASTA_HG19)\n",
    "bnds_inv = breakends.Breakends('1', 78_147_272, True, '1', 83_140_336, False, FASTA_HG19)\n",
    "bnds_inv.set_pos_range0s()"
   ]
  },
  {
   "cell_type": "code",
   "execution_count": 46,
   "metadata": {},
   "outputs": [
    {
     "data": {
      "text/plain": [
       "[<Breakends [1:59000239[  ]1:78401804] (1-based coords)>,\n",
       " <Breakends [1:59000240[  ]1:78401805] (1-based coords)>,\n",
       " <Breakends [1:59000241[  ]1:78401806] (1-based coords)>,\n",
       " <Breakends [1:59000242[  ]1:78401807] (1-based coords)>]"
      ]
     },
     "execution_count": 46,
     "metadata": {},
     "output_type": "execute_result"
    }
   ],
   "source": [
    "bnds_dup.get_equivs()"
   ]
  },
  {
   "cell_type": "code",
   "execution_count": null,
   "metadata": {},
   "outputs": [],
   "source": []
  },
  {
   "cell_type": "code",
   "execution_count": 9,
   "metadata": {},
   "outputs": [
    {
     "name": "stdout",
     "output_type": "stream",
     "text": [
      "OK\n"
     ]
    }
   ],
   "source": [
    "igv.goto([bnds_dup], width=20)"
   ]
  },
  {
   "cell_type": "code",
   "execution_count": 8,
   "metadata": {},
   "outputs": [
    {
     "name": "stdout",
     "output_type": "stream",
     "text": [
      "OK\n"
     ]
    }
   ],
   "source": [
    "igv.goto([vcfspec])"
   ]
  },
  {
   "cell_type": "code",
   "execution_count": 11,
   "metadata": {},
   "outputs": [
    {
     "name": "stdout",
     "output_type": "stream",
     "text": [
      "OK\n"
     ]
    }
   ],
   "source": [
    "#igv.cmd('group PAIR_ORIENTATION')\n",
    "igv.cmd('group')"
   ]
  },
  {
   "cell_type": "code",
   "execution_count": null,
   "metadata": {},
   "outputs": [],
   "source": []
  },
  {
   "cell_type": "code",
   "execution_count": 47,
   "metadata": {},
   "outputs": [],
   "source": [
    "rpplist = readplus.get_rpplist_sv(tbam, FASTA_HG19, CHROMDICT_HG19, bnds_dup, view=True)"
   ]
  },
  {
   "cell_type": "code",
   "execution_count": 76,
   "metadata": {},
   "outputs": [],
   "source": [
    "rpplist.update_alleleinfo_sv(bnds_dup)"
   ]
  },
  {
   "cell_type": "code",
   "execution_count": 77,
   "metadata": {},
   "outputs": [],
   "source": [
    "rpplist.set_alleleinfo_tag_sv(bnds_dup)\n",
    "rpplist.set_alleleinfo_tag_rp_sv(bnds_dup)"
   ]
  },
  {
   "cell_type": "code",
   "execution_count": 78,
   "metadata": {},
   "outputs": [],
   "source": [
    "rpplist_bampath = rpplist.write_bam()"
   ]
  },
  {
   "cell_type": "code",
   "execution_count": 79,
   "metadata": {},
   "outputs": [
    {
     "name": "stdout",
     "output_type": "stream",
     "text": [
      "OK\n"
     ]
    }
   ],
   "source": [
    "igv.load([rpplist_bampath])"
   ]
  },
  {
   "cell_type": "code",
   "execution_count": null,
   "metadata": {},
   "outputs": [],
   "source": []
  },
  {
   "cell_type": "code",
   "execution_count": null,
   "metadata": {},
   "outputs": [],
   "source": []
  },
  {
   "cell_type": "code",
   "execution_count": 56,
   "metadata": {},
   "outputs": [],
   "source": [
    "qname = 'A01146:132:H277LDSX3:1:2635:12156:7952'\n",
    "rpp = [rpp for rpp in rpplist if rpp.query_name == qname][0]"
   ]
  },
  {
   "cell_type": "code",
   "execution_count": 58,
   "metadata": {},
   "outputs": [
    {
     "data": {
      "text/plain": [
       "<ReadPlus object (qname: A01146:132:H277LDSX3:1:2635:12156:7952, chrom: 1, pos: 59,000,093, alleleinfo: {<Breakends [1:59000242[  ]1:78401807] (1-based coords)>: {'bnd1': {'noninformative': False, 'ref_support': True, 'alt_support': False, 'other_support': False, 'facing_frombnd': False, 'facing_frompar': False}, 'bnd2': {'noninformative': False, 'ref_support': False, 'alt_support': False, 'other_support': False, 'facing_frombnd': True, 'facing_frompar': False}}})>"
      ]
     },
     "execution_count": 58,
     "metadata": {},
     "output_type": "execute_result"
    }
   ],
   "source": [
    "rpp.rp1"
   ]
  },
  {
   "cell_type": "code",
   "execution_count": null,
   "metadata": {},
   "outputs": [],
   "source": []
  },
  {
   "cell_type": "code",
   "execution_count": null,
   "metadata": {},
   "outputs": [],
   "source": []
  },
  {
   "cell_type": "code",
   "execution_count": null,
   "metadata": {},
   "outputs": [],
   "source": []
  },
  {
   "cell_type": "code",
   "execution_count": 24,
   "metadata": {},
   "outputs": [],
   "source": [
    "rpplist = readplus.get_rpplist_nonsv(nbam, FASTA_HG19, CHROMDICT_HG19, vcfspec.chrom, vcfspec.pos - 1,\n",
    "                                     vcfspec.pos)"
   ]
  },
  {
   "cell_type": "code",
   "execution_count": 32,
   "metadata": {},
   "outputs": [],
   "source": [
    "rpplist.update_alleleinfo(vcfspec, flanklen=2)"
   ]
  },
  {
   "cell_type": "code",
   "execution_count": 33,
   "metadata": {},
   "outputs": [
    {
     "data": {
      "text/plain": [
       "[<ReadPlusPair object (qname: A01146:131:H273MDSX3:2:2560:17472:35352; rp1_pos: 7:55,182,576; rp2_pos: 12:30,403,324; alleleinfo: {<Vcfspec (7:55182661 G>GC)>: {'alleleclass': -1}})>,\n",
       " <ReadPlusPair object (qname: A01146:131:H273MDSX3:2:2102:8666:1814; rp1_pos: 7:55,182,590; rp2_pos: 12:30,403,325; alleleinfo: {<Vcfspec (7:55182661 G>GC)>: {'alleleclass': -1}})>,\n",
       " <ReadPlusPair object (qname: A01146:131:H273MDSX3:2:2565:30861:31015; rp1_pos: 7:55,182,279; rp2_pos: 7:55,182,622; alleleinfo: {<Vcfspec (7:55182661 G>GC)>: {'alleleclass': 0}})>,\n",
       " <ReadPlusPair object (qname: A01146:131:H273MDSX3:2:2171:23701:25817; rp1_pos: 7:55,182,314; rp2_pos: 7:55,182,569; alleleinfo: {<Vcfspec (7:55182661 G>GC)>: {'alleleclass': 0}})>,\n",
       " <ReadPlusPair object (qname: A01146:131:H273MDSX3:2:1242:28266:36417; rp1_pos: 7:55,182,330; rp2_pos: 7:55,182,574; alleleinfo: {<Vcfspec (7:55182661 G>GC)>: {'alleleclass': 0}})>,\n",
       " <ReadPlusPair object (qname: A01146:131:H273MDSX3:2:2427:17137:10379; rp1_pos: 7:55,182,345; rp2_pos: 7:55,182,607; alleleinfo: {<Vcfspec (7:55182661 G>GC)>: {'alleleclass': 0}})>,\n",
       " <ReadPlusPair object (qname: A01146:131:H273MDSX3:2:1373:13503:19147; rp1_pos: 7:55,182,361; rp2_pos: 7:55,182,659; alleleinfo: {<Vcfspec (7:55182661 G>GC)>: {'alleleclass': 0}})>,\n",
       " <ReadPlusPair object (qname: A01146:131:H273MDSX3:2:2331:18954:21825; rp1_pos: 7:55,182,380; rp2_pos: 7:55,182,525; alleleinfo: {<Vcfspec (7:55182661 G>GC)>: {'alleleclass': 0}})>,\n",
       " <ReadPlusPair object (qname: A01146:131:H273MDSX3:2:2234:11876:5556; rp1_pos: 7:55,182,401; rp2_pos: 7:55,182,612; alleleinfo: {<Vcfspec (7:55182661 G>GC)>: {'alleleclass': 0}})>,\n",
       " <ReadPlusPair object (qname: A01146:131:H273MDSX3:2:2565:31159:2503; rp1_pos: 7:55,182,429; rp2_pos: 7:55,182,564; alleleinfo: {<Vcfspec (7:55182661 G>GC)>: {'alleleclass': 0}})>,\n",
       " <ReadPlusPair object (qname: A01146:131:H273MDSX3:2:2649:20546:34851; rp1_pos: 7:55,182,467; rp2_pos: 7:55,182,648; alleleinfo: {<Vcfspec (7:55182661 G>GC)>: {'alleleclass': 0}})>,\n",
       " <ReadPlusPair object (qname: A01146:131:H273MDSX3:2:2539:24795:28776; rp1_pos: 7:55,182,490; rp2_pos: 7:55,182,649; alleleinfo: {<Vcfspec (7:55182661 G>GC)>: {'alleleclass': 0}})>,\n",
       " <ReadPlusPair object (qname: A01146:131:H273MDSX3:2:2447:11532:5494; rp1_pos: 7:55,182,511; rp2_pos: 7:55,182,694; alleleinfo: {<Vcfspec (7:55182661 G>GC)>: {'alleleclass': None}})>,\n",
       " <ReadPlusPair object (qname: A01146:131:H273MDSX3:2:1354:7943:17221; rp1_pos: 7:55,182,564; rp2_pos: 7:55,182,820; alleleinfo: {<Vcfspec (7:55182661 G>GC)>: {'alleleclass': 0}})>,\n",
       " <ReadPlusPair object (qname: A01146:131:H273MDSX3:2:1239:17852:31219; rp1_pos: 7:55,182,571; rp2_pos: 7:55,182,742; alleleinfo: {<Vcfspec (7:55182661 G>GC)>: {'alleleclass': 0}})>,\n",
       " <ReadPlusPair object (qname: A01146:131:H273MDSX3:2:1216:19217:22498; rp1_pos: 7:55,182,585; rp2_pos: 7:55,182,956; alleleinfo: {<Vcfspec (7:55182661 G>GC)>: {'alleleclass': 0}})>,\n",
       " <ReadPlusPair object (qname: A01146:131:H273MDSX3:2:1272:16875:4351; rp1_pos: 7:55,182,585; rp2_pos: 7:55,182,940; alleleinfo: {<Vcfspec (7:55182661 G>GC)>: {'alleleclass': 0}})>,\n",
       " <ReadPlusPair object (qname: A01146:131:H273MDSX3:2:2539:5439:4648; rp1_pos: 7:55,182,599; rp2_pos: 7:55,182,802; alleleinfo: {<Vcfspec (7:55182661 G>GC)>: {'alleleclass': 0}})>,\n",
       " <ReadPlusPair object (qname: A01146:131:H273MDSX3:2:1470:12274:11381; rp1_pos: 7:55,182,606; rp2_pos: 7:55,182,878; alleleinfo: {<Vcfspec (7:55182661 G>GC)>: {'alleleclass': 0}})>,\n",
       " <ReadPlusPair object (qname: A01146:131:H273MDSX3:2:2360:31060:15264; rp1_pos: 7:55,182,607; rp2_pos: 7:55,182,789; alleleinfo: {<Vcfspec (7:55182661 G>GC)>: {'alleleclass': 0}})>,\n",
       " <ReadPlusPair object (qname: A01146:131:H273MDSX3:2:1370:28546:36401; rp1_pos: 7:55,182,611; rp2_pos: 7:55,182,699; alleleinfo: {<Vcfspec (7:55182661 G>GC)>: {'alleleclass': 0}})>,\n",
       " <ReadPlusPair object (qname: A01146:131:H273MDSX3:2:1616:16604:7357; rp1_pos: 7:55,182,628; rp2_pos: 7:55,182,873; alleleinfo: {<Vcfspec (7:55182661 G>GC)>: {'alleleclass': 0}})>,\n",
       " <ReadPlusPair object (qname: A01146:131:H273MDSX3:2:1608:20193:34522; rp1_pos: 7:55,182,652; rp2_pos: 7:55,182,938; alleleinfo: {<Vcfspec (7:55182661 G>GC)>: {'alleleclass': 0}})>,\n",
       " <ReadPlusPair object (qname: A01146:131:H273MDSX3:2:1244:28935:2503; rp1_pos: 7:55,182,654; rp2_pos: 7:55,182,861; alleleinfo: {<Vcfspec (7:55182661 G>GC)>: {'alleleclass': 0}})>]"
      ]
     },
     "execution_count": 33,
     "metadata": {},
     "output_type": "execute_result"
    }
   ],
   "source": [
    "rpplist"
   ]
  },
  {
   "cell_type": "code",
   "execution_count": null,
   "metadata": {},
   "outputs": [],
   "source": []
  },
  {
   "cell_type": "code",
   "execution_count": 23,
   "metadata": {},
   "outputs": [
    {
     "name": "stdout",
     "output_type": "stream",
     "text": [
      "range(71, 73)\n"
     ]
    }
   ],
   "source": [
    "print( alleleinfosetup.get_pairs_indexes(rp, vcfspec.get_REF_range0()) )\n",
    "#print( alleleinfosetup.get_pairs_indexes(rp, vcfspec.get_preflank_range0(flanklen=3)) )\n",
    "#print( alleleinfosetup.get_pairs_indexes(rp, vcfspec.get_postflank_range0(flanklen=3)) )"
   ]
  },
  {
   "cell_type": "code",
   "execution_count": 21,
   "metadata": {},
   "outputs": [
    {
     "data": {
      "text/plain": [
       "'A'"
      ]
     },
     "execution_count": 21,
     "metadata": {},
     "output_type": "execute_result"
    }
   ],
   "source": [
    "rp.read.query_sequence[80]"
   ]
  },
  {
   "cell_type": "code",
   "execution_count": null,
   "metadata": {},
   "outputs": [],
   "source": []
  },
  {
   "cell_type": "code",
   "execution_count": null,
   "metadata": {},
   "outputs": [],
   "source": []
  },
  {
   "cell_type": "code",
   "execution_count": 54,
   "metadata": {},
   "outputs": [
    {
     "name": "stdout",
     "output_type": "stream",
     "text": [
      "623 ms ± 6.29 ms per loop (mean ± std. dev. of 7 runs, 1 loop each)\n"
     ]
    }
   ],
   "source": [
    "%%timeit\n",
    "\n",
    "rpplist_bnd1 = readplus.ReadPlusPairList_old(bam=tbam, chrom=bnds_dup.chrom_bnd1, start0=bnds_dup.pos_range0_bnd1.start, \n",
    "                                             end0=bnds_dup.pos_range0_bnd1.stop, \n",
    "                                             fasta=FASTA_HG19, chromdict=CHROMDICT_HG19, mode='sv',\n",
    "                                             endis5=bnds_dup.endis5_bnd1)\n",
    "rpplist_bnd2 = readplus.ReadPlusPairList_old(bam=tbam, chrom=bnds_dup.chrom_bnd2, start0=bnds_dup.pos_range0_bnd2.start, \n",
    "                                             end0=bnds_dup.pos_range0_bnd2.stop, \n",
    "                                             fasta=FASTA_HG19, chromdict=CHROMDICT_HG19, mode='sv',\n",
    "                                             endis5=bnds_dup.endis5_bnd2)"
   ]
  },
  {
   "cell_type": "code",
   "execution_count": 55,
   "metadata": {},
   "outputs": [
    {
     "name": "stdout",
     "output_type": "stream",
     "text": [
      "253 ms ± 1.74 ms per loop (mean ± std. dev. of 7 runs, 1 loop each)\n"
     ]
    }
   ],
   "source": [
    "%%timeit\n",
    "rpplist_bnd1, rpplist_bnd2 = readplus.get_rpplist_sv(tbam, FASTA_HG19, CHROMDICT_HG19, bnds_dup)"
   ]
  },
  {
   "cell_type": "code",
   "execution_count": 25,
   "metadata": {},
   "outputs": [
    {
     "data": {
      "text/plain": [
       "643"
      ]
     },
     "execution_count": 25,
     "metadata": {},
     "output_type": "execute_result"
    }
   ],
   "source": [
    "len(rpplist_bnd1)"
   ]
  },
  {
   "cell_type": "code",
   "execution_count": 26,
   "metadata": {},
   "outputs": [
    {
     "data": {
      "text/plain": [
       "595"
      ]
     },
     "execution_count": 26,
     "metadata": {},
     "output_type": "execute_result"
    }
   ],
   "source": [
    "len(rpplist_bnd2)"
   ]
  },
  {
   "cell_type": "code",
   "execution_count": null,
   "metadata": {},
   "outputs": [],
   "source": []
  },
  {
   "cell_type": "code",
   "execution_count": null,
   "metadata": {},
   "outputs": [],
   "source": []
  },
  {
   "cell_type": "code",
   "execution_count": 37,
   "metadata": {},
   "outputs": [],
   "source": [
    "rpp = [rpp for rpp in rpplist_bnd2 if rpp.query_name.endswith(':30796')][0]"
   ]
  },
  {
   "cell_type": "code",
   "execution_count": 38,
   "metadata": {},
   "outputs": [
    {
     "data": {
      "text/plain": [
       "<ReadPlusPair object (qname: A01146:132:H277LDSX3:1:1448:20916:30796; rp1_pos: 1:78,401,482; rp2_pos: 1:78,401,718; alleleinfo: {})>"
      ]
     },
     "execution_count": 38,
     "metadata": {},
     "output_type": "execute_result"
    }
   ],
   "source": [
    "rpp"
   ]
  },
  {
   "cell_type": "code",
   "execution_count": null,
   "metadata": {},
   "outputs": [],
   "source": []
  },
  {
   "cell_type": "code",
   "execution_count": null,
   "metadata": {},
   "outputs": [],
   "source": []
  },
  {
   "cell_type": "code",
   "execution_count": 76,
   "metadata": {},
   "outputs": [],
   "source": [
    "rpp = [rpp for rpp in rpplist_bnd2 if rpp.query_name.endswith(':15772:29309')][0]"
   ]
  },
  {
   "cell_type": "code",
   "execution_count": 77,
   "metadata": {},
   "outputs": [
    {
     "data": {
      "text/plain": [
       "<ReadPlusPair object (qname: A01146:132:H277LDSX3:1:1642:15772:29309; rp1_pos: 1:78,401,651; rp2_pos: 1:78,401,954; alleleinfo: {})>"
      ]
     },
     "execution_count": 77,
     "metadata": {},
     "output_type": "execute_result"
    }
   ],
   "source": [
    "rpp"
   ]
  },
  {
   "cell_type": "code",
   "execution_count": null,
   "metadata": {},
   "outputs": [],
   "source": []
  },
  {
   "cell_type": "code",
   "execution_count": null,
   "metadata": {},
   "outputs": [],
   "source": []
  },
  {
   "cell_type": "code",
   "execution_count": null,
   "metadata": {},
   "outputs": [],
   "source": []
  }
 ],
 "metadata": {
  "kernelspec": {
   "display_name": "genome_v5",
   "language": "python",
   "name": "genome_v5"
  },
  "language_info": {
   "codemirror_mode": {
    "name": "ipython",
    "version": 3
   },
   "file_extension": ".py",
   "mimetype": "text/x-python",
   "name": "python",
   "nbconvert_exporter": "python",
   "pygments_lexer": "ipython3",
   "version": "3.9.12"
  }
 },
 "nbformat": 4,
 "nbformat_minor": 4
}
