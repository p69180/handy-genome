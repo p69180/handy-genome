{
 "cells": [
  {
   "cell_type": "code",
   "execution_count": 1,
   "metadata": {},
   "outputs": [],
   "source": [
    "%load_ext autoreload\n",
    "%autoreload 2\n",
    "\n",
    "import sys\n",
    "sys.path.append('/home/users/pjh/scripts/python_genome_packages')\n",
    "import pprint\n",
    "\n",
    "import pysam\n",
    "\n",
    "from handygenome.common import ChromDict, Vcfspec\n",
    "\n",
    "FASTA_PATH_HG19 = \"/home/users/data/01_reference/human_g1k_v37/human_g1k_v37.fasta\"\n",
    "FASTA_PATH_HG38 = \"/home/users/data/01_reference/human_g1k_v38/Homo_sapiens_assembly38.fasta\"\n",
    "\n",
    "FASTA_HG19 = pysam.FastaFile(FASTA_PATH_HG19)\n",
    "FASTA_HG38 = pysam.FastaFile(FASTA_PATH_HG38)\n",
    "CHROMDICT_HG19 = ChromDict(fasta_path=FASTA_PATH_HG19)\n",
    "CHROMDICT_HG38 = ChromDict(fasta_path=FASTA_PATH_HG38)"
   ]
  },
  {
   "cell_type": "code",
   "execution_count": 2,
   "metadata": {},
   "outputs": [],
   "source": [
    "from handygenome.readplus import readplus\n",
    "import handygenome.igv\n",
    "from handygenome.variantplus import breakends\n",
    "from handygenome.readplus import readhandler\n",
    "from handygenome.readplus import alleleinfosetup_sv"
   ]
  },
  {
   "cell_type": "code",
   "execution_count": 3,
   "metadata": {},
   "outputs": [],
   "source": [
    "nbam_path = '/home/users/hspark/Projects/11_fusion_samples/tmp/LU-ALK49-N.s.md.ir.bam'\n",
    "tbam_path = '/home/users/hspark/Projects/11_fusion_samples/tmp/LU-ALK49-T.s.md.ir.bam'\n",
    "\n",
    "#nbam_path = '/home/users/hspark/Projects/11_fusion_samples/bam/wgs_smc2/LU-ALK49-N.s.md.ir.bam'\n",
    "#tbam_path = '/home/users/hspark/Projects/11_fusion_samples/bam/wgs_smc2/LU-ALK49-T.s.md.ir.bam'\n",
    "\n",
    "nbam = pysam.AlignmentFile(nbam_path)\n",
    "tbam = pysam.AlignmentFile(tbam_path)"
   ]
  },
  {
   "cell_type": "code",
   "execution_count": null,
   "metadata": {},
   "outputs": [],
   "source": []
  },
  {
   "cell_type": "code",
   "execution_count": 4,
   "metadata": {},
   "outputs": [],
   "source": [
    "igv = handygenome.igv.IGV(60387)"
   ]
  },
  {
   "cell_type": "code",
   "execution_count": 5,
   "metadata": {},
   "outputs": [
    {
     "name": "stdout",
     "output_type": "stream",
     "text": [
      "OK\n",
      "OK\n",
      "OK\n"
     ]
    }
   ],
   "source": [
    "igv.cmd('new')\n",
    "igv.load([tbam_path, nbam_path])"
   ]
  },
  {
   "cell_type": "code",
   "execution_count": null,
   "metadata": {},
   "outputs": [],
   "source": []
  },
  {
   "cell_type": "code",
   "execution_count": 9,
   "metadata": {},
   "outputs": [],
   "source": [
    "#vcfspec = Vcfspec('7', 55_176_696, 'G', ['C'])\n",
    "vcfspec = Vcfspec('7', 55_182_730, 'G', ['A'])"
   ]
  },
  {
   "cell_type": "code",
   "execution_count": 7,
   "metadata": {},
   "outputs": [],
   "source": [
    "bnds_dup = breakends.Breakends('1', 59_000_242, True, '1', 78_401_807, False, FASTA_HG19)\n",
    "bnds_dup.set_pos_range0s()\n",
    "#bnds_dup_new = breakends.Breakends('1', 59_000_240, True, '1', 78_401_806, False, FASTA_HG19)\n",
    "bnds_inv = breakends.Breakends('1', 78_147_272, True, '1', 83_140_336, False, FASTA_HG19)\n",
    "bnds_inv.set_pos_range0s()"
   ]
  },
  {
   "cell_type": "code",
   "execution_count": null,
   "metadata": {},
   "outputs": [],
   "source": []
  },
  {
   "cell_type": "code",
   "execution_count": 10,
   "metadata": {},
   "outputs": [
    {
     "name": "stdout",
     "output_type": "stream",
     "text": [
      "OK\n"
     ]
    }
   ],
   "source": [
    "#igv.goto([bnds_dup], width=50)\n",
    "igv.goto([vcfspec])"
   ]
  },
  {
   "cell_type": "code",
   "execution_count": 11,
   "metadata": {},
   "outputs": [
    {
     "name": "stdout",
     "output_type": "stream",
     "text": [
      "OK\n",
      "OK\n"
     ]
    }
   ],
   "source": [
    "igv.cmd('group PAIR_ORIENTATION')\n",
    "igv.cmd('group')"
   ]
  },
  {
   "cell_type": "code",
   "execution_count": null,
   "metadata": {},
   "outputs": [],
   "source": []
  },
  {
   "cell_type": "code",
   "execution_count": 16,
   "metadata": {},
   "outputs": [
    {
     "name": "stderr",
     "output_type": "stream",
     "text": [
      "[KST 2022-05-06 17:08:16 INFO] ReadPlusPairList: Beginning initial fetch\n",
      "[KST 2022-05-06 17:08:16 INFO] ReadPlusPairList: Beginning refined fetch\n",
      "[KST 2022-05-06 17:08:16 INFO] ReadPlusPairList: Beginning assembly into readpluspair\n"
     ]
    }
   ],
   "source": [
    "rpplist = readplus.get_rpplist_nonsv(tbam, FASTA_HG19, CHROMDICT_HG19, vcfspec.chrom, vcfspec.pos - 1,\n",
    "                                     vcfspec.pos)"
   ]
  },
  {
   "cell_type": "code",
   "execution_count": 23,
   "metadata": {},
   "outputs": [],
   "source": [
    "rpplist.update_alleleinfo(vcfspec)"
   ]
  },
  {
   "cell_type": "code",
   "execution_count": 24,
   "metadata": {},
   "outputs": [
    {
     "data": {
      "text/plain": [
       "[<ReadPlusPair object (qname: A01146:132:H277LDSX3:1:2340:31385:7279; rp1_pos: 5:26,220,778; rp2_pos: 7:55,182,646; alleleinfo: {<Vcfspec (7:55182730 G>A)>: {'alleleclass': 1}})>,\n",
       " <ReadPlusPair object (qname: A01146:132:H277LDSX3:1:1251:18855:36683; rp1_pos: 2:33,141,313; rp2_pos: 7:55,182,599; alleleinfo: {<Vcfspec (7:55182730 G>A)>: {'alleleclass': 1}})>,\n",
       " <ReadPlusPair object (qname: A01146:132:H277LDSX3:1:1251:18846:36699; rp1_pos: 2:33,141,320; rp2_pos: 7:55,182,599; alleleinfo: {<Vcfspec (7:55182730 G>A)>: {'alleleclass': 1}})>,\n",
       " <ReadPlusPair object (qname: A01146:132:H277LDSX3:1:2547:30698:34929; rp1_pos: 7:55,182,278; rp2_pos: 7:55,182,581; alleleinfo: {<Vcfspec (7:55182730 G>A)>: {'alleleclass': 1}})>,\n",
       " <ReadPlusPair object (qname: A01146:132:H277LDSX3:1:2165:7780:20509; rp1_pos: 7:55,182,302; rp2_pos: 7:55,182,594; alleleinfo: {<Vcfspec (7:55182730 G>A)>: {'alleleclass': 1}})>,\n",
       " <ReadPlusPair object (qname: A01146:132:H277LDSX3:1:2414:19334:16501; rp1_pos: 7:55,182,302; rp2_pos: 7:55,182,664; alleleinfo: {<Vcfspec (7:55182730 G>A)>: {'alleleclass': 1}})>,\n",
       " <ReadPlusPair object (qname: A01146:132:H277LDSX3:1:1572:18087:19288; rp1_pos: 7:55,182,302; rp2_pos: 7:55,182,595; alleleinfo: {<Vcfspec (7:55182730 G>A)>: {'alleleclass': 1}})>,\n",
       " <ReadPlusPair object (qname: A01146:132:H277LDSX3:1:1456:8802:26882; rp1_pos: 7:55,182,305; rp2_pos: 7:55,182,682; alleleinfo: {<Vcfspec (7:55182730 G>A)>: {'alleleclass': 1}})>,\n",
       " <ReadPlusPair object (qname: A01146:132:H277LDSX3:1:1210:11487:34413; rp1_pos: 7:55,182,305; rp2_pos: 7:55,182,584; alleleinfo: {<Vcfspec (7:55182730 G>A)>: {'alleleclass': 1}})>,\n",
       " <ReadPlusPair object (qname: A01146:132:H277LDSX3:1:1430:31132:8750; rp1_pos: 7:55,182,308; rp2_pos: 7:55,182,696; alleleinfo: {<Vcfspec (7:55182730 G>A)>: {'alleleclass': 1}})>,\n",
       " <ReadPlusPair object (qname: A01146:132:H277LDSX3:1:2445:25717:23046; rp1_pos: 7:55,182,325; rp2_pos: 7:55,182,603; alleleinfo: {<Vcfspec (7:55182730 G>A)>: {'alleleclass': 1}})>,\n",
       " <ReadPlusPair object (qname: A01146:132:H277LDSX3:1:2521:19045:11459; rp1_pos: 7:55,182,326; rp2_pos: 7:55,182,590; alleleinfo: {<Vcfspec (7:55182730 G>A)>: {'alleleclass': 1}})>,\n",
       " <ReadPlusPair object (qname: A01146:132:H277LDSX3:1:1164:2980:19241; rp1_pos: 7:55,182,332; rp2_pos: 7:55,182,584; alleleinfo: {<Vcfspec (7:55182730 G>A)>: {'alleleclass': 1}})>,\n",
       " <ReadPlusPair object (qname: A01146:132:H277LDSX3:1:2221:27887:18787; rp1_pos: 7:55,182,345; rp2_pos: 7:55,182,657; alleleinfo: {<Vcfspec (7:55182730 G>A)>: {'alleleclass': 1}})>,\n",
       " <ReadPlusPair object (qname: A01146:132:H277LDSX3:1:2205:4779:3223; rp1_pos: 7:55,182,353; rp2_pos: 7:55,182,706; alleleinfo: {<Vcfspec (7:55182730 G>A)>: {'alleleclass': 1}})>,\n",
       " <ReadPlusPair object (qname: A01146:132:H277LDSX3:1:2641:1904:6950; rp1_pos: 7:55,182,356; rp2_pos: 7:55,182,581; alleleinfo: {<Vcfspec (7:55182730 G>A)>: {'alleleclass': 1}})>,\n",
       " <ReadPlusPair object (qname: A01146:132:H277LDSX3:1:1671:13684:2644; rp1_pos: 7:55,182,357; rp2_pos: 7:55,182,626; alleleinfo: {<Vcfspec (7:55182730 G>A)>: {'alleleclass': 1}})>,\n",
       " <ReadPlusPair object (qname: A01146:132:H277LDSX3:1:1106:10863:35305; rp1_pos: 7:55,182,358; rp2_pos: 7:55,182,624; alleleinfo: {<Vcfspec (7:55182730 G>A)>: {'alleleclass': 1}})>,\n",
       " <ReadPlusPair object (qname: A01146:132:H277LDSX3:1:2355:28230:24674; rp1_pos: 7:55,182,367; rp2_pos: 7:55,182,701; alleleinfo: {<Vcfspec (7:55182730 G>A)>: {'alleleclass': 1}})>,\n",
       " <ReadPlusPair object (qname: A01146:132:H277LDSX3:1:1331:1958:26021; rp1_pos: 7:55,182,371; rp2_pos: 7:55,182,669; alleleinfo: {<Vcfspec (7:55182730 G>A)>: {'alleleclass': 1}})>,\n",
       " <ReadPlusPair object (qname: A01146:132:H277LDSX3:1:2641:21097:5494; rp1_pos: 7:55,182,388; rp2_pos: 7:55,182,658; alleleinfo: {<Vcfspec (7:55182730 G>A)>: {'alleleclass': 1}})>,\n",
       " <ReadPlusPair object (qname: A01146:132:H277LDSX3:1:1238:21549:26757; rp1_pos: 7:55,182,388; rp2_pos: 7:55,182,688; alleleinfo: {<Vcfspec (7:55182730 G>A)>: {'alleleclass': 1}})>,\n",
       " <ReadPlusPair object (qname: A01146:132:H277LDSX3:1:2332:23384:33317; rp1_pos: 7:55,182,405; rp2_pos: 7:55,182,696; alleleinfo: {<Vcfspec (7:55182730 G>A)>: {'alleleclass': 1}})>,\n",
       " <ReadPlusPair object (qname: A01146:132:H277LDSX3:1:1439:13241:19194; rp1_pos: 7:55,182,420; rp2_pos: 7:55,182,641; alleleinfo: {<Vcfspec (7:55182730 G>A)>: {'alleleclass': 1}})>,\n",
       " <ReadPlusPair object (qname: A01146:132:H277LDSX3:1:2561:8892:23312; rp1_pos: 7:55,182,421; rp2_pos: 7:55,182,686; alleleinfo: {<Vcfspec (7:55182730 G>A)>: {'alleleclass': 1}})>,\n",
       " <ReadPlusPair object (qname: A01146:132:H277LDSX3:1:2656:12915:11397; rp1_pos: 7:55,182,422; rp2_pos: 7:55,182,633; alleleinfo: {<Vcfspec (7:55182730 G>A)>: {'alleleclass': 1}})>,\n",
       " <ReadPlusPair object (qname: A01146:132:H277LDSX3:1:1661:8043:36996; rp1_pos: 7:55,182,429; rp2_pos: 7:55,182,709; alleleinfo: {<Vcfspec (7:55182730 G>A)>: {'alleleclass': 1}})>,\n",
       " <ReadPlusPair object (qname: A01146:132:H277LDSX3:1:2414:8115:5087; rp1_pos: 7:55,182,432; rp2_pos: 7:55,182,623; alleleinfo: {<Vcfspec (7:55182730 G>A)>: {'alleleclass': 1}})>,\n",
       " <ReadPlusPair object (qname: A01146:132:H277LDSX3:1:2435:10285:28541; rp1_pos: 7:55,182,436; rp2_pos: 7:55,182,698; alleleinfo: {<Vcfspec (7:55182730 G>A)>: {'alleleclass': 1}})>,\n",
       " <ReadPlusPair object (qname: A01146:132:H277LDSX3:1:1326:24822:37027; rp1_pos: 7:55,182,439; rp2_pos: 7:55,182,726; alleleinfo: {<Vcfspec (7:55182730 G>A)>: {'alleleclass': 1}})>,\n",
       " <ReadPlusPair object (qname: A01146:132:H277LDSX3:1:1154:31087:9706; rp1_pos: 7:55,182,440; rp2_pos: 7:55,182,611; alleleinfo: {<Vcfspec (7:55182730 G>A)>: {'alleleclass': 1}})>,\n",
       " <ReadPlusPair object (qname: A01146:132:H277LDSX3:1:2353:13847:28948; rp1_pos: 7:55,182,441; rp2_pos: 7:55,182,621; alleleinfo: {<Vcfspec (7:55182730 G>A)>: {'alleleclass': 1}})>,\n",
       " <ReadPlusPair object (qname: A01146:132:H277LDSX3:1:2219:21052:20979; rp1_pos: 7:55,182,445; rp2_pos: 7:55,182,609; alleleinfo: {<Vcfspec (7:55182730 G>A)>: {'alleleclass': 1}})>,\n",
       " <ReadPlusPair object (qname: A01146:132:H277LDSX3:1:2503:24532:22874; rp1_pos: 7:55,182,446; rp2_pos: 7:55,182,605; alleleinfo: {<Vcfspec (7:55182730 G>A)>: {'alleleclass': 1}})>,\n",
       " <ReadPlusPair object (qname: A01146:132:H277LDSX3:1:2351:20401:12931; rp1_pos: 7:55,182,448; rp2_pos: 7:55,182,689; alleleinfo: {<Vcfspec (7:55182730 G>A)>: {'alleleclass': 1}})>,\n",
       " <ReadPlusPair object (qname: A01146:132:H277LDSX3:1:1675:16369:18505; rp1_pos: 7:55,182,454; rp2_pos: 7:55,182,581; alleleinfo: {<Vcfspec (7:55182730 G>A)>: {'alleleclass': 1}})>,\n",
       " <ReadPlusPair object (qname: A01146:132:H277LDSX3:1:2534:13684:14418; rp1_pos: 7:55,182,458; rp2_pos: 7:55,182,636; alleleinfo: {<Vcfspec (7:55182730 G>A)>: {'alleleclass': 1}})>,\n",
       " <ReadPlusPair object (qname: A01146:132:H277LDSX3:1:1178:30653:30029; rp1_pos: 7:55,182,471; rp2_pos: 7:55,182,700; alleleinfo: {<Vcfspec (7:55182730 G>A)>: {'alleleclass': 1}})>,\n",
       " <ReadPlusPair object (qname: A01146:132:H277LDSX3:1:1566:6759:5087; rp1_pos: 7:55,182,478; rp2_pos: 7:55,182,711; alleleinfo: {<Vcfspec (7:55182730 G>A)>: {'alleleclass': 1}})>,\n",
       " <ReadPlusPair object (qname: A01146:132:H277LDSX3:1:1529:19822:2785; rp1_pos: 7:55,182,482; rp2_pos: 7:55,182,713; alleleinfo: {<Vcfspec (7:55182730 G>A)>: {'alleleclass': 1}})>,\n",
       " <ReadPlusPair object (qname: A01146:132:H277LDSX3:1:2129:18295:20212; rp1_pos: 7:55,182,485; rp2_pos: 7:55,182,676; alleleinfo: {<Vcfspec (7:55182730 G>A)>: {'alleleclass': 1}})>,\n",
       " <ReadPlusPair object (qname: A01146:132:H277LDSX3:1:1648:7202:24173; rp1_pos: 7:55,182,487; rp2_pos: 7:55,182,629; alleleinfo: {<Vcfspec (7:55182730 G>A)>: {'alleleclass': 1}})>,\n",
       " <ReadPlusPair object (qname: A01146:132:H277LDSX3:1:1509:17842:36652; rp1_pos: 7:55,182,502; rp2_pos: 7:55,182,723; alleleinfo: {<Vcfspec (7:55182730 G>A)>: {'alleleclass': 1}})>,\n",
       " <ReadPlusPair object (qname: A01146:132:H277LDSX3:1:1373:26006:15280; rp1_pos: 7:55,182,513; rp2_pos: 7:55,182,702; alleleinfo: {<Vcfspec (7:55182730 G>A)>: {'alleleclass': 1}})>,\n",
       " <ReadPlusPair object (qname: A01146:132:H277LDSX3:1:1215:1127:7764; rp1_pos: 7:55,182,513; rp2_pos: 7:55,182,713; alleleinfo: {<Vcfspec (7:55182730 G>A)>: {'alleleclass': 1}})>,\n",
       " <ReadPlusPair object (qname: A01146:132:H277LDSX3:1:2651:18593:12680; rp1_pos: 7:55,182,517; rp2_pos: 7:55,182,724; alleleinfo: {<Vcfspec (7:55182730 G>A)>: {'alleleclass': 1}})>,\n",
       " <ReadPlusPair object (qname: A01146:132:H277LDSX3:1:1223:14769:16892; rp1_pos: 7:55,182,518; rp2_pos: 7:55,182,658; alleleinfo: {<Vcfspec (7:55182730 G>A)>: {'alleleclass': 1}})>,\n",
       " <ReadPlusPair object (qname: A01146:132:H277LDSX3:1:2328:17354:28479; rp1_pos: 7:55,182,536; rp2_pos: 7:55,182,707; alleleinfo: {<Vcfspec (7:55182730 G>A)>: {'alleleclass': 1}})>,\n",
       " <ReadPlusPair object (qname: A01146:132:H277LDSX3:1:2327:30563:26177; rp1_pos: 7:55,182,537; rp2_pos: 7:55,182,697; alleleinfo: {<Vcfspec (7:55182730 G>A)>: {'alleleclass': 1}})>,\n",
       " <ReadPlusPair object (qname: A01146:132:H277LDSX3:1:1220:13476:2284; rp1_pos: 7:55,182,538; rp2_pos: 7:55,182,634; alleleinfo: {<Vcfspec (7:55182730 G>A)>: {'alleleclass': 1}})>,\n",
       " <ReadPlusPair object (qname: A01146:132:H277LDSX3:1:2106:24587:21433; rp1_pos: 7:55,182,548; rp2_pos: 7:55,182,713; alleleinfo: {<Vcfspec (7:55182730 G>A)>: {'alleleclass': 1}})>,\n",
       " <ReadPlusPair object (qname: A01146:132:H277LDSX3:1:1146:26133:8390; rp1_pos: 7:55,182,557; rp2_pos: 7:55,182,708; alleleinfo: {<Vcfspec (7:55182730 G>A)>: {'alleleclass': 1}})>,\n",
       " <ReadPlusPair object (qname: A01146:132:H277LDSX3:1:1205:30888:16157; rp1_pos: 7:55,182,585; rp2_pos: 7:55,182,784; alleleinfo: {<Vcfspec (7:55182730 G>A)>: {'alleleclass': 1}})>,\n",
       " <ReadPlusPair object (qname: A01146:132:H277LDSX3:1:1264:14181:24330; rp1_pos: 7:55,182,585; rp2_pos: 7:55,182,674; alleleinfo: {<Vcfspec (7:55182730 G>A)>: {'alleleclass': 1}})>,\n",
       " <ReadPlusPair object (qname: A01146:132:H277LDSX3:1:1536:31792:18505; rp1_pos: 7:55,182,589; rp2_pos: 7:55,182,774; alleleinfo: {<Vcfspec (7:55182730 G>A)>: {'alleleclass': 1}})>,\n",
       " <ReadPlusPair object (qname: A01146:132:H277LDSX3:1:2229:15628:24862; rp1_pos: 7:55,182,590; rp2_pos: 7:55,182,794; alleleinfo: {<Vcfspec (7:55182730 G>A)>: {'alleleclass': 1}})>,\n",
       " <ReadPlusPair object (qname: A01146:132:H277LDSX3:1:2507:2519:13620; rp1_pos: 7:55,182,591; rp2_pos: 7:55,182,757; alleleinfo: {<Vcfspec (7:55182730 G>A)>: {'alleleclass': 1}})>,\n",
       " <ReadPlusPair object (qname: A01146:132:H277LDSX3:1:2156:14705:22200; rp1_pos: 7:55,182,592; rp2_pos: 7:55,182,873; alleleinfo: {<Vcfspec (7:55182730 G>A)>: {'alleleclass': 1}})>,\n",
       " <ReadPlusPair object (qname: A01146:132:H277LDSX3:1:2537:16613:16391; rp1_pos: 7:55,182,595; rp2_pos: 7:55,182,815; alleleinfo: {<Vcfspec (7:55182730 G>A)>: {'alleleclass': 1}})>,\n",
       " <ReadPlusPair object (qname: A01146:132:H277LDSX3:1:1312:25012:25019; rp1_pos: 7:55,182,603; rp2_pos: 7:55,182,750; alleleinfo: {<Vcfspec (7:55182730 G>A)>: {'alleleclass': 1}})>,\n",
       " <ReadPlusPair object (qname: A01146:132:H277LDSX3:1:2539:17924:12962; rp1_pos: 7:55,182,603; rp2_pos: 7:55,182,819; alleleinfo: {<Vcfspec (7:55182730 G>A)>: {'alleleclass': 1}})>,\n",
       " <ReadPlusPair object (qname: A01146:132:H277LDSX3:1:1274:5059:3552; rp1_pos: 7:55,182,606; rp2_pos: 7:55,182,870; alleleinfo: {<Vcfspec (7:55182730 G>A)>: {'alleleclass': 1}})>,\n",
       " <ReadPlusPair object (qname: A01146:132:H277LDSX3:1:2611:14461:13448; rp1_pos: 7:55,182,610; rp2_pos: 7:55,182,831; alleleinfo: {<Vcfspec (7:55182730 G>A)>: {'alleleclass': 1}})>,\n",
       " <ReadPlusPair object (qname: A01146:132:H277LDSX3:1:1265:22770:10770; rp1_pos: 7:55,182,618; rp2_pos: 7:55,182,799; alleleinfo: {<Vcfspec (7:55182730 G>A)>: {'alleleclass': 1}})>,\n",
       " <ReadPlusPair object (qname: A01146:132:H277LDSX3:1:2216:28682:33004; rp1_pos: 7:55,182,618; rp2_pos: 7:55,183,228; alleleinfo: {<Vcfspec (7:55182730 G>A)>: {'alleleclass': 1}})>,\n",
       " <ReadPlusPair object (qname: A01146:132:H277LDSX3:1:2225:5294:26349; rp1_pos: 7:55,182,621; rp2_pos: 7:55,182,731; alleleinfo: {<Vcfspec (7:55182730 G>A)>: {'alleleclass': 1}})>,\n",
       " <ReadPlusPair object (qname: A01146:132:H277LDSX3:1:2333:26684:3145; rp1_pos: 7:55,182,627; rp2_pos: 7:55,182,978; alleleinfo: {<Vcfspec (7:55182730 G>A)>: {'alleleclass': 1}})>,\n",
       " <ReadPlusPair object (qname: A01146:132:H277LDSX3:1:1324:13078:10582; rp1_pos: 7:55,182,627; rp2_pos: 7:55,182,914; alleleinfo: {<Vcfspec (7:55182730 G>A)>: {'alleleclass': 1}})>,\n",
       " <ReadPlusPair object (qname: A01146:132:H277LDSX3:1:2522:30834:26177; rp1_pos: 7:55,182,632; rp2_pos: 7:55,182,907; alleleinfo: {<Vcfspec (7:55182730 G>A)>: {'alleleclass': 1}})>,\n",
       " <ReadPlusPair object (qname: A01146:132:H277LDSX3:1:1620:19009:24111; rp1_pos: 7:55,182,635; rp2_pos: 7:55,183,013; alleleinfo: {<Vcfspec (7:55182730 G>A)>: {'alleleclass': -1}})>,\n",
       " <ReadPlusPair object (qname: A01146:132:H277LDSX3:1:2157:25789:17942; rp1_pos: 7:55,182,638; rp2_pos: 7:55,182,892; alleleinfo: {<Vcfspec (7:55182730 G>A)>: {'alleleclass': 1}})>,\n",
       " <ReadPlusPair object (qname: A01146:132:H277LDSX3:1:1341:12879:7858; rp1_pos: 7:55,182,645; rp2_pos: 7:55,182,866; alleleinfo: {<Vcfspec (7:55182730 G>A)>: {'alleleclass': 1}})>,\n",
       " <ReadPlusPair object (qname: A01146:132:H277LDSX3:1:1202:11071:28213; rp1_pos: 7:55,182,652; rp2_pos: 7:55,182,887; alleleinfo: {<Vcfspec (7:55182730 G>A)>: {'alleleclass': 1}})>,\n",
       " <ReadPlusPair object (qname: A01146:132:H277LDSX3:1:2671:32271:14544; rp1_pos: 7:55,182,654; rp2_pos: 7:55,182,858; alleleinfo: {<Vcfspec (7:55182730 G>A)>: {'alleleclass': 1}})>,\n",
       " <ReadPlusPair object (qname: A01146:132:H277LDSX3:1:2403:25301:31093; rp1_pos: 7:55,182,656; rp2_pos: 7:106,487,722; alleleinfo: {<Vcfspec (7:55182730 G>A)>: {'alleleclass': 1}})>,\n",
       " <ReadPlusPair object (qname: A01146:132:H277LDSX3:1:2273:12735:19257; rp1_pos: 7:55,182,662; rp2_pos: 7:55,182,971; alleleinfo: {<Vcfspec (7:55182730 G>A)>: {'alleleclass': 1}})>,\n",
       " <ReadPlusPair object (qname: A01146:132:H277LDSX3:1:1616:27398:3662; rp1_pos: 7:55,182,663; rp2_pos: 7:55,182,825; alleleinfo: {<Vcfspec (7:55182730 G>A)>: {'alleleclass': 1}})>,\n",
       " <ReadPlusPair object (qname: A01146:132:H277LDSX3:1:2146:31476:29450; rp1_pos: 7:55,182,664; rp2_pos: 7:55,182,883; alleleinfo: {<Vcfspec (7:55182730 G>A)>: {'alleleclass': 1}})>,\n",
       " <ReadPlusPair object (qname: A01146:132:H277LDSX3:1:1373:9842:8140; rp1_pos: 7:55,182,667; rp2_pos: 7:55,182,991; alleleinfo: {<Vcfspec (7:55182730 G>A)>: {'alleleclass': 1}})>,\n",
       " <ReadPlusPair object (qname: A01146:132:H277LDSX3:1:2629:19434:1705; rp1_pos: 7:55,182,670; rp2_pos: 7:55,182,861; alleleinfo: {<Vcfspec (7:55182730 G>A)>: {'alleleclass': 1}})>,\n",
       " <ReadPlusPair object (qname: A01146:132:H277LDSX3:1:1507:18096:9690; rp1_pos: 7:55,182,683; rp2_pos: 7:55,182,834; alleleinfo: {<Vcfspec (7:55182730 G>A)>: {'alleleclass': 1}})>,\n",
       " <ReadPlusPair object (qname: A01146:132:H277LDSX3:1:2442:5846:33505; rp1_pos: 7:55,182,701; rp2_pos: 7:55,182,915; alleleinfo: {<Vcfspec (7:55182730 G>A)>: {'alleleclass': 1}})>,\n",
       " <ReadPlusPair object (qname: A01146:132:H277LDSX3:1:2255:26124:34648; rp1_pos: 7:55,182,705; rp2_pos: 7:55,182,836; alleleinfo: {<Vcfspec (7:55182730 G>A)>: {'alleleclass': 1}})>,\n",
       " <ReadPlusPair object (qname: A01146:132:H277LDSX3:1:1329:17011:5118; rp1_pos: 7:55,182,715; rp2_pos: 7:55,182,905; alleleinfo: {<Vcfspec (7:55182730 G>A)>: {'alleleclass': 1}})>,\n",
       " <ReadPlusPair object (qname: A01146:132:H277LDSX3:1:1631:16984:8829; rp1_pos: 7:55,182,715; rp2_pos: 7:55,182,848; alleleinfo: {<Vcfspec (7:55182730 G>A)>: {'alleleclass': 1}})>,\n",
       " <ReadPlusPair object (qname: A01146:132:H277LDSX3:1:2616:17137:29982; rp1_pos: 7:55,182,717; rp2_pos: 7:55,182,966; alleleinfo: {<Vcfspec (7:55182730 G>A)>: {'alleleclass': 1}})>,\n",
       " <ReadPlusPair object (qname: A01146:132:H277LDSX3:1:2451:18864:31501; rp1_pos: 7:55,182,721; rp2_pos: 7:55,182,936; alleleinfo: {<Vcfspec (7:55182730 G>A)>: {'alleleclass': 1}})>,\n",
       " <ReadPlusPair object (qname: A01146:132:H277LDSX3:1:2620:29423:2754; rp1_pos: 7:55,182,725; rp2_pos: 7:55,182,947; alleleinfo: {<Vcfspec (7:55182730 G>A)>: {'alleleclass': 1}})>]"
      ]
     },
     "execution_count": 24,
     "metadata": {},
     "output_type": "execute_result"
    }
   ],
   "source": [
    "rpplist"
   ]
  },
  {
   "cell_type": "code",
   "execution_count": null,
   "metadata": {},
   "outputs": [],
   "source": []
  },
  {
   "cell_type": "code",
   "execution_count": null,
   "metadata": {},
   "outputs": [],
   "source": []
  },
  {
   "cell_type": "code",
   "execution_count": 39,
   "metadata": {},
   "outputs": [],
   "source": [
    "readlist = list(\n",
    "    tbam.fetch(bnds_dup.chrom_bnd2, bnds_dup.pos_range0_bnd2.start - 10, bnds_dup.pos_range0_bnd2.stop + 10))"
   ]
  },
  {
   "cell_type": "code",
   "execution_count": 59,
   "metadata": {},
   "outputs": [],
   "source": [
    "reads_filtered = [x for x in readlist if x.query_name.endswith(':23703')]\n",
    "if len(reads_filtered) != 1:\n",
    "    print('no')\n",
    "read = reads_filtered[0]"
   ]
  },
  {
   "cell_type": "code",
   "execution_count": 60,
   "metadata": {},
   "outputs": [
    {
     "data": {
      "text/plain": [
       "'A01146:132:H277LDSX3:1:2266:31919:23703'"
      ]
     },
     "execution_count": 60,
     "metadata": {},
     "output_type": "execute_result"
    }
   ],
   "source": [
    "read.query_name"
   ]
  },
  {
   "cell_type": "code",
   "execution_count": 61,
   "metadata": {},
   "outputs": [
    {
     "name": "stdout",
     "output_type": "stream",
     "text": [
      "False True\n"
     ]
    }
   ],
   "source": [
    "clippedat, traverses = alleleinfosetup_sv.check_read_spans_bnd(read, \n",
    "                                                               bnds_dup.chrom_bnd2, \n",
    "                                                               bnds_dup.pos_range0_bnd2, \n",
    "                                                               bnds_dup.endis5_bnd2)\n",
    "print(clippedat, traverses)"
   ]
  },
  {
   "cell_type": "code",
   "execution_count": null,
   "metadata": {},
   "outputs": [],
   "source": []
  },
  {
   "cell_type": "code",
   "execution_count": null,
   "metadata": {},
   "outputs": [],
   "source": []
  },
  {
   "cell_type": "code",
   "execution_count": null,
   "metadata": {},
   "outputs": [],
   "source": []
  },
  {
   "cell_type": "code",
   "execution_count": null,
   "metadata": {},
   "outputs": [],
   "source": []
  },
  {
   "cell_type": "code",
   "execution_count": null,
   "metadata": {},
   "outputs": [],
   "source": []
  },
  {
   "cell_type": "code",
   "execution_count": 54,
   "metadata": {},
   "outputs": [
    {
     "name": "stdout",
     "output_type": "stream",
     "text": [
      "623 ms ± 6.29 ms per loop (mean ± std. dev. of 7 runs, 1 loop each)\n"
     ]
    }
   ],
   "source": [
    "%%timeit\n",
    "\n",
    "rpplist_bnd1 = readplus.ReadPlusPairList_old(bam=tbam, chrom=bnds_dup.chrom_bnd1, start0=bnds_dup.pos_range0_bnd1.start, \n",
    "                                             end0=bnds_dup.pos_range0_bnd1.stop, \n",
    "                                             fasta=FASTA_HG19, chromdict=CHROMDICT_HG19, mode='sv',\n",
    "                                             endis5=bnds_dup.endis5_bnd1)\n",
    "rpplist_bnd2 = readplus.ReadPlusPairList_old(bam=tbam, chrom=bnds_dup.chrom_bnd2, start0=bnds_dup.pos_range0_bnd2.start, \n",
    "                                             end0=bnds_dup.pos_range0_bnd2.stop, \n",
    "                                             fasta=FASTA_HG19, chromdict=CHROMDICT_HG19, mode='sv',\n",
    "                                             endis5=bnds_dup.endis5_bnd2)"
   ]
  },
  {
   "cell_type": "code",
   "execution_count": 55,
   "metadata": {},
   "outputs": [
    {
     "name": "stdout",
     "output_type": "stream",
     "text": [
      "253 ms ± 1.74 ms per loop (mean ± std. dev. of 7 runs, 1 loop each)\n"
     ]
    }
   ],
   "source": [
    "%%timeit\n",
    "rpplist_bnd1, rpplist_bnd2 = readplus.get_rpplist_sv(tbam, FASTA_HG19, CHROMDICT_HG19, bnds_dup)"
   ]
  },
  {
   "cell_type": "code",
   "execution_count": 25,
   "metadata": {},
   "outputs": [
    {
     "data": {
      "text/plain": [
       "643"
      ]
     },
     "execution_count": 25,
     "metadata": {},
     "output_type": "execute_result"
    }
   ],
   "source": [
    "len(rpplist_bnd1)"
   ]
  },
  {
   "cell_type": "code",
   "execution_count": 26,
   "metadata": {},
   "outputs": [
    {
     "data": {
      "text/plain": [
       "595"
      ]
     },
     "execution_count": 26,
     "metadata": {},
     "output_type": "execute_result"
    }
   ],
   "source": [
    "len(rpplist_bnd2)"
   ]
  },
  {
   "cell_type": "code",
   "execution_count": null,
   "metadata": {},
   "outputs": [],
   "source": []
  },
  {
   "cell_type": "code",
   "execution_count": null,
   "metadata": {},
   "outputs": [],
   "source": []
  },
  {
   "cell_type": "code",
   "execution_count": 37,
   "metadata": {},
   "outputs": [],
   "source": [
    "rpp = [rpp for rpp in rpplist_bnd2 if rpp.query_name.endswith(':30796')][0]"
   ]
  },
  {
   "cell_type": "code",
   "execution_count": 38,
   "metadata": {},
   "outputs": [
    {
     "data": {
      "text/plain": [
       "<ReadPlusPair object (qname: A01146:132:H277LDSX3:1:1448:20916:30796; rp1_pos: 1:78,401,482; rp2_pos: 1:78,401,718; alleleinfo: {})>"
      ]
     },
     "execution_count": 38,
     "metadata": {},
     "output_type": "execute_result"
    }
   ],
   "source": [
    "rpp"
   ]
  },
  {
   "cell_type": "code",
   "execution_count": null,
   "metadata": {},
   "outputs": [],
   "source": []
  },
  {
   "cell_type": "code",
   "execution_count": null,
   "metadata": {},
   "outputs": [],
   "source": []
  },
  {
   "cell_type": "code",
   "execution_count": 76,
   "metadata": {},
   "outputs": [],
   "source": [
    "rpp = [rpp for rpp in rpplist_bnd2 if rpp.query_name.endswith(':15772:29309')][0]"
   ]
  },
  {
   "cell_type": "code",
   "execution_count": 77,
   "metadata": {},
   "outputs": [
    {
     "data": {
      "text/plain": [
       "<ReadPlusPair object (qname: A01146:132:H277LDSX3:1:1642:15772:29309; rp1_pos: 1:78,401,651; rp2_pos: 1:78,401,954; alleleinfo: {})>"
      ]
     },
     "execution_count": 77,
     "metadata": {},
     "output_type": "execute_result"
    }
   ],
   "source": [
    "rpp"
   ]
  },
  {
   "cell_type": "code",
   "execution_count": null,
   "metadata": {},
   "outputs": [],
   "source": []
  },
  {
   "cell_type": "code",
   "execution_count": null,
   "metadata": {},
   "outputs": [],
   "source": []
  },
  {
   "cell_type": "code",
   "execution_count": null,
   "metadata": {},
   "outputs": [],
   "source": []
  }
 ],
 "metadata": {
  "kernelspec": {
   "display_name": "genome_v5",
   "language": "python",
   "name": "genome_v5"
  },
  "language_info": {
   "codemirror_mode": {
    "name": "ipython",
    "version": 3
   },
   "file_extension": ".py",
   "mimetype": "text/x-python",
   "name": "python",
   "nbconvert_exporter": "python",
   "pygments_lexer": "ipython3",
   "version": "3.9.12"
  }
 },
 "nbformat": 4,
 "nbformat_minor": 4
}
